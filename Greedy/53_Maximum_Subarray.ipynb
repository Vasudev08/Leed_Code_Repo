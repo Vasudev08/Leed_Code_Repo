{
 "cells": [
  {
   "cell_type": "markdown",
   "metadata": {},
   "source": [
    "### 53. Maximum Subarray - 3/18/2024"
   ]
  },
  {
   "cell_type": "code",
   "execution_count": null,
   "metadata": {},
   "outputs": [],
   "source": [
    "\"\"\"\n",
    "UMPIRE\n",
    "U: we are given a nums arrays, return the largest sum of an subarray\n",
    "M: DP + traversing from behind\n",
    "P: \n",
    "1. create a dp hashmap having values 0\n",
    "2. traverse through nums from behind and at step get the max of ith or i + 1th values\n",
    "3. return max(dp)\n",
    "\"\"\"\n",
    "\n",
    "\n",
    "class Solution:\n",
    "    def maxSubArray(self, nums: List[int]) -> int:\n",
    "        # len(nums) = 7,  then dp = [0, 1, 2, 3, 4, 5, 6]\n",
    "        dp = [0] * len(nums)\n",
    "        dp[-1] = nums[-1]\n",
    "\n",
    "        for i in range(len(nums) - 2, -1, -1):\n",
    "            dp[i] = max(i, dp[i + 1] + i)\n",
    "\n",
    "        return max(dp)\n"
   ]
  }
 ],
 "metadata": {
  "language_info": {
   "name": "python"
  }
 },
 "nbformat": 4,
 "nbformat_minor": 2
}
