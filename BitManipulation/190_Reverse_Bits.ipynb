{
 "cells": [
  {
   "cell_type": "markdown",
   "metadata": {},
   "source": [
    "### 190. Reverse Bits - 3/28/2025"
   ]
  },
  {
   "cell_type": "code",
   "execution_count": null,
   "metadata": {},
   "outputs": [],
   "source": [
    "\"\"\"\n",
    "UMPIRE\n",
    "\n",
    "U: reverse a binary bits of strings using bit manipulatoin\n",
    "M:\n",
    "\n",
    "for i in range(32):\n",
    "    bits = (n >> i) & 1 # Here using AND\n",
    "    res = res | (bit << (32 - 1)) # Here using OR\n",
    "\n",
    "return res\n",
    "\"\"\""
   ]
  }
 ],
 "metadata": {
  "language_info": {
   "name": "python"
  }
 },
 "nbformat": 4,
 "nbformat_minor": 2
}
