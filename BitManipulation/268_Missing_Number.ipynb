{
 "cells": [
  {
   "cell_type": "markdown",
   "metadata": {},
   "source": [
    "### 268. Missing Number - 3/28/2024"
   ]
  },
  {
   "cell_type": "code",
   "execution_count": null,
   "metadata": {},
   "outputs": [],
   "source": [
    "\"\"\"\n",
    "UMPIRE:\n",
    "U: return the missing number in the range\n",
    "M: \n",
    "logic behind:\n",
    "1. we sum up all the elements in nums\n",
    "2. we sum up all the values in range 0 to len(nums)\n",
    "3. we subtract both above sums to get the missing number\n",
    "\n",
    "\n",
    "\n",
    "\"\"\"\n",
    "\n",
    "class Solution:\n",
    "    def missingNumber(self, nums: List[int]) -> int:\n",
    "        res = len(nums)\n",
    "        for i in range(len(nums)):\n",
    "            res += (i - nums[i]) # all STEP 1, STEP 2 and STEP 3 Done in one line\n",
    "\n",
    "        return res"
   ]
  },
  {
   "cell_type": "code",
   "execution_count": null,
   "metadata": {},
   "outputs": [],
   "source": []
  }
 ],
 "metadata": {
  "language_info": {
   "name": "python"
  }
 },
 "nbformat": 4,
 "nbformat_minor": 2
}
