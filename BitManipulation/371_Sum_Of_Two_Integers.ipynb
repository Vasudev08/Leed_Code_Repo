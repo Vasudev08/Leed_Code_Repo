{
 "cells": [
  {
   "cell_type": "markdown",
   "metadata": {},
   "source": [
    "### 371. Sum of Two Integers - 3/29/2024"
   ]
  },
  {
   "cell_type": "code",
   "execution_count": null,
   "metadata": {
    "vscode": {
     "languageId": "javascript"
    }
   },
   "outputs": [],
   "source": [
    "\"\"\"\n",
    "UMPIRE:\n",
    "here we will be using XOR and AND\n",
    "XOR to add to binary numbers (XOR doesn't take care of carry i.e. 1 + 1)\n",
    "AND to add binary numbers which takes care of carry but we have to \n",
    "    shift left once\n",
    "\n",
    "so, we are given a and b\n",
    "1. a XOR b\n",
    "2. a AND b\n",
    "\n",
    "3. -> 1. XOR 2.\n",
    "4. -> 1. AND 2.\n",
    "\n",
    "until the carry becomes zero\n",
    "\n",
    "\"\"\"\n",
    "class Solution:\n",
    "    def getSum(self, a: int, b: int) -> int:\n",
    "\n",
    "        while (b != 0) {\n",
    "            tmp = (a & b) << 1;\n",
    "            a = a ^ b;\n",
    "            b = tmp # making sure to new original value of 'a';\n",
    "        }\n",
    "\n",
    "        return a;\n"
   ]
  },
  {
   "cell_type": "code",
   "execution_count": null,
   "metadata": {},
   "outputs": [],
   "source": []
  }
 ],
 "metadata": {
  "language_info": {
   "name": "python"
  }
 },
 "nbformat": 4,
 "nbformat_minor": 2
}
