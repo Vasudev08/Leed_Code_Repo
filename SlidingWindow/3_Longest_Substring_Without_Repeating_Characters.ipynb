{
 "cells": [
  {
   "cell_type": "markdown",
   "metadata": {},
   "source": [
    "### 3. Longest SubString Without Repeating Characters - 2/9/2024"
   ]
  },
  {
   "cell_type": "code",
   "execution_count": null,
   "metadata": {},
   "outputs": [],
   "source": [
    "\"\"\"\n",
    "Watch the video to make the below algorithm faster by using sliding window\n",
    "and removing repated code/ reduant code\n",
    "\"\"\""
   ]
  },
  {
   "cell_type": "code",
   "execution_count": null,
   "metadata": {},
   "outputs": [],
   "source": [
    "\"\"\"\n",
    "UMPIRE:\n",
    "U: given a string, return an len longest sub-string without having any duplicates\n",
    "M: sliding window using two pointers and visited_set\n",
    "P:\n",
    "1. intialize two pointers l, r as 0, 0 resp. also an empty res string\n",
    "2. Using while loop start the traveral until r < len(s)\n",
    "3. check if r element is in visited_set:\n",
    "    - if not, add it to the temp_res string, and add to visited_set\n",
    "    - if so, l = r and r += 1 and temp_string = \"\"\n",
    "4. compare the lengths of temp_res and res and choose the maximum one \n",
    "\n",
    "\"\"\"\n",
    "\n",
    "class Solution:\n",
    "    def lengthOfLongestSubstring(self, s: str) -> int:\n",
    "        l = 0\n",
    "        res = 0\n",
    "        \n",
    "\n",
    "        while (l < len(s)):\n",
    "            temp_res = \"\"\n",
    "            visited = set()\n",
    "            r = l\n",
    "            while s[r] not in visited and r < len(s):\n",
    "                temp_res = temp_res + s[r]\n",
    "                visited.add(s[r])\n",
    "\n",
    "\n",
    "                r += 1\n",
    "            res = max(res, len(temp_res))\n",
    "            \n",
    "            \n",
    "\n",
    "            l += 1\n",
    "\n",
    "        return res\n"
   ]
  },
  {
   "cell_type": "code",
   "execution_count": null,
   "metadata": {},
   "outputs": [],
   "source": []
  }
 ],
 "metadata": {
  "language_info": {
   "name": "python"
  }
 },
 "nbformat": 4,
 "nbformat_minor": 2
}
