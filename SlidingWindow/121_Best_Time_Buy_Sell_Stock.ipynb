{
 "cells": [
  {
   "cell_type": "markdown",
   "metadata": {},
   "source": [
    "### 121. Best Time to Buy and Sell Stock - 2/9/2024"
   ]
  },
  {
   "cell_type": "code",
   "execution_count": null,
   "metadata": {},
   "outputs": [],
   "source": [
    "\"\"\"\n",
    "2nd Try:\n",
    "You have got the core concept but need modifation \n",
    "1. sell should start with buy + 1\n",
    "    here the logic of sliding window is we are finding min of sell \n",
    "    and if buy > sell then we keep moving the buy pointer\n",
    "    if buy < sell, in this we basically found a new minimum for buy so we buy = sell and move the sell pointer once\n",
    "\"\"\"\n",
    "\n",
    "class Solution:\n",
    "    def maxProfit(self, prices: List[int]) -> int:\n",
    "        b, s = 0, 1\n",
    "        maxProfit = 0\n",
    "\n",
    "        while (b < s):\n",
    "            if prices[s] > prices[b]:\n",
    "                maxProfit = max(maxProfit, prices[s] - prices[b])\n",
    "            else:\n",
    "                # found new minimum\n",
    "                b = s\n",
    "            \n",
    "            s += 1\n",
    "\n",
    "        return maxProfit"
   ]
  },
  {
   "cell_type": "code",
   "execution_count": null,
   "metadata": {},
   "outputs": [],
   "source": [
    "\"\"\"\n",
    "UMPIRE\n",
    "\n",
    "U: given a array of share prices on ith days, return the maximum profit\n",
    "M: two pointers: buy and sell where buy pointer has to be less than sell pointer\n",
    "P:\n",
    "1. buy firsts from the first day and sell starts from the last day\n",
    "2. every time we record the profit as prices[buy] - prices[sell]\n",
    "3. we slid the pointer having maximum value when comparing both left and right pointer\n",
    "\n",
    "\n",
    "\"\"\"\n",
    "\n",
    "class Solution:\n",
    "    def maxProfit(self, prices: List[int]) -> int:\n",
    "        buy, sell = 0, len(prices) - 1\n",
    "        max_profit = 0\n",
    "\n",
    "        while buy < sell:\n",
    "            temp_profit = prices[sell] - prices[buy]\n",
    "            if prices[sell] >= prices[buy]:\n",
    "                sell += 1\n",
    "            else:\n",
    "                buy -= 1\n",
    "\n",
    "            max_profit = max(max_profit, temp_profit)\n",
    "\n",
    "        return max_profit\n",
    "\n"
   ]
  }
 ],
 "metadata": {
  "language_info": {
   "name": "python"
  }
 },
 "nbformat": 4,
 "nbformat_minor": 2
}
