{
 "cells": [
  {
   "cell_type": "code",
   "execution_count": null,
   "metadata": {},
   "outputs": [],
   "source": [
    "# Sliding Window Technique: A Comprehensive Guide\n",
    "\n",
    "# Sliding Window is used to convert two nested loops into a single loop\n",
    "# which reduces the time complexity from O(n^3) or O(n^2) to O(n)\n",
    "# Hashing or two pointers are used to create and track a window\n",
    "\n",
    "\n",
    "# the problem boils down to when to increase the \"Window Length\"\n",
    "    # and when to decrease the \"Window Length\"\n",
    "\n",
    "# https://leetcode.com/discuss/interview-question/3722472/mastering-sliding-window-technique-a-comprehensive-guide\n"
   ]
  },
  {
   "cell_type": "markdown",
   "metadata": {},
   "source": [
    "[https://leetcode.com/discuss/interview-question/3722472/mastering-sliding-window-technique-a-comprehensive-guide]"
   ]
  }
 ],
 "metadata": {
  "language_info": {
   "name": "python"
  }
 },
 "nbformat": 4,
 "nbformat_minor": 2
}
