{
 "cells": [
  {
   "cell_type": "markdown",
   "metadata": {},
   "source": [
    "### 20. Valid Parenthese - 2/13/2024"
   ]
  },
  {
   "cell_type": "code",
   "execution_count": null,
   "metadata": {},
   "outputs": [],
   "source": [
    "\"\"\"\n",
    "self-explantory\n",
    "\"\"\""
   ]
  },
  {
   "cell_type": "code",
   "execution_count": null,
   "metadata": {},
   "outputs": [],
   "source": [
    "class Solution:\n",
    "    def isValid(self, s: str) -> bool:\n",
    "        res = []\n",
    "        \n",
    "\n",
    "        for c in s:\n",
    "            if c == '(' or c == '{' or c == \"[\":\n",
    "                res.append(c)\n",
    "\n",
    "            if c == \"]\":\n",
    "                if len(res) == 0 or res.pop() != \"[\":\n",
    "                    return False\n",
    "            elif c == \"}\":\n",
    "                if len(res) == 0 or res.pop() != \"{\" :\n",
    "                    return False\n",
    "            elif c == \")\":\n",
    "                if len(res) == 0 or res.pop() != \"(\":\n",
    "                    return False\n",
    "\n",
    "        if len(res) == 0:\n",
    "            return True\n",
    "\n",
    "        "
   ]
  }
 ],
 "metadata": {
  "language_info": {
   "name": "python"
  }
 },
 "nbformat": 4,
 "nbformat_minor": 2
}
