{
 "cells": [
  {
   "cell_type": "markdown",
   "metadata": {},
   "source": [
    "### 39. Combination Sum - 2/24/2024"
   ]
  },
  {
   "cell_type": "code",
   "execution_count": null,
   "metadata": {},
   "outputs": [],
   "source": [
    "\"\"\"\n",
    "My Logic an Idea were great for the try #1\n",
    "but we need to refine it\n",
    "    TRY #2\n",
    "\n",
    "all the checking or validation should happen before the function call\n",
    "then the function call happens\n",
    "\n",
    "there' shouldn't be a checking for calling the fuction\n",
    "\"\"\"\n",
    "\n",
    "class Solution:\n",
    "    def combinationSum(self, candidates: List[int], target: int) -> List[List[int]]:\n",
    "        res = []\n",
    "\n",
    "        def dfs(i, cur, total):\n",
    "            if total == target:\n",
    "                res.append(cur.copy())\n",
    "                return\n",
    "            if i >= len(candidates) or total > target:\n",
    "                return\n",
    "            \n",
    "            cur.append(candidates[i])\n",
    "            dfs(i, cur, total + candidates[i])\n",
    "            cur.pop()\n",
    "            dfs(i + 1, cur, total)\n",
    "\n",
    "        dfs(0, [], 0)\n",
    "        return res"
   ]
  },
  {
   "cell_type": "code",
   "execution_count": null,
   "metadata": {},
   "outputs": [],
   "source": [
    "\"\"\"\n",
    "UMPIRE:\n",
    "U: we are given array of distinct nums and a candidate\n",
    "    - return the unique combination of num from nums that add up to candidate\n",
    "M: Recursion Tree - Dynamic Prorgramming - Memoization - hashMap\n",
    "    - HashMap - key: 'remindar', value: 'num'\n",
    "P:\n",
    "    - create a hashmap with remindar and value (we don't need visited set as we're account for dupcliates)\n",
    "    - build a recursion function, that checks for the remindar in the hashmap\n",
    "    - if it's present append to temp list and return the list which appends to main res list\n",
    "    - else create a new recursion with selecting itself and or next element\n",
    "\n",
    "\"\"\"\n",
    "\n",
    "class Solution:\n",
    "    def combinationSum(self, candidates: List[int], target: int) -> List[List[int]]:\n",
    "        remMap = {} # key: remindar value: num\n",
    "        res = []\n",
    "\n",
    "        for i in candidates:\n",
    "            remMap[target - i] = i\n",
    "\n",
    "        def findCom(num, tmpList, i):\n",
    "            if target - num in remMap:\n",
    "                tmpList.append(remMap[target - num])\n",
    "                res.append(tmpList)\n",
    "\n",
    "            if num == target:\n",
    "                res.append(tmpList)\n",
    "            \n",
    "            findCom(num + candidates[i], tmpList, i)\n",
    "            if (i + 1) < len(candidates):\n",
    "                findCom(num + candidates[i + 1], tmpList, i + 1)\n",
    "\n",
    "        findCom(candidates[0], [], 0)\n",
    "\n",
    "        return res\n"
   ]
  }
 ],
 "metadata": {
  "language_info": {
   "name": "python"
  }
 },
 "nbformat": 4,
 "nbformat_minor": 2
}
