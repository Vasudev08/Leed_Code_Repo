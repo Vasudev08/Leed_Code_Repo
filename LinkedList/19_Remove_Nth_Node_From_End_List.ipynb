{
 "cells": [
  {
   "cell_type": "markdown",
   "metadata": {},
   "source": [
    "### 19. Remove Nth Node From End of List - 2/16/2024"
   ]
  },
  {
   "cell_type": "code",
   "execution_count": null,
   "metadata": {},
   "outputs": [],
   "source": [
    "\"\"\"\n",
    "2nd Try\n",
    "\n",
    "Below implementation isn't the best solution to the question.\n",
    "another approach using two pointers is the best,\n",
    "- where we have two pointers l and r. The gap between them is n\n",
    "- once r reaches the end of the list, 'l' pointer is pointing to the n-1th node from the end\n",
    "- from there we just reset the link\n",
    "\"\"\"\n",
    "\n",
    "class Solution:\n",
    "    def removeNthFromEnd(self, head: Optional[ListNode], n: int) -> Optional[ListNode]:\n",
    "        dummy = ListNode(None, head)\n",
    "\n",
    "        l, r = dummy, head\n",
    "\n",
    "        while (r and n > 0):\n",
    "            r = r.next\n",
    "            n -= 1\n",
    "\n",
    "        while (r):\n",
    "            r = r.next\n",
    "            l = l.next\n",
    "\n",
    "        l.next = l.next.next\n",
    "\n",
    "        return dummy.next\n"
   ]
  },
  {
   "cell_type": "code",
   "execution_count": null,
   "metadata": {},
   "outputs": [],
   "source": [
    "\"\"\"\n",
    "UMPIRE:\n",
    "U: Given a linked list remove the nth node from the end of the list\n",
    "M: pointers maybe dummyNode \n",
    "P:\n",
    "PLAN 1\n",
    "- Reverse the linked list and remove the nth from the beginning\n",
    "- little complex, as we have to unrevese again\n",
    "\n",
    "PLAN 2\n",
    "- Get the length of the linked list, get nth node complement and remove that node\n",
    "- less complex, easy to understand and implement\n",
    "\n",
    "Running Time - O(n)\n",
    "\"\"\"\n",
    "\n",
    "class Solution:\n",
    "    def removeNthFromEnd(self, head: Optional[ListNode], n: int) -> Optional[ListNode]:\n",
    "        l = head\n",
    "        llen = 0\n",
    "\n",
    "        while (l):\n",
    "            llen += 1\n",
    "            l = l.next\n",
    "\n",
    "        if llen == 1 and n == 1:\n",
    "            return None\n",
    "\n",
    "        ncomp = llen - n\n",
    "\n",
    "        i = 0\n",
    "        r = head\n",
    "        while (i < ncomp):\n",
    "            if i == ncomp - 1:\n",
    "                tmp = r.next.next\n",
    "                r.next = tmp\n",
    "                \n",
    "\n",
    "            r = r.next\n",
    "            i += 1\n",
    "\n",
    "        return head\n",
    "\n",
    "\n",
    "\n",
    "\n"
   ]
  },
  {
   "cell_type": "code",
   "execution_count": null,
   "metadata": {},
   "outputs": [],
   "source": []
  }
 ],
 "metadata": {
  "language_info": {
   "name": "python"
  }
 },
 "nbformat": 4,
 "nbformat_minor": 2
}
