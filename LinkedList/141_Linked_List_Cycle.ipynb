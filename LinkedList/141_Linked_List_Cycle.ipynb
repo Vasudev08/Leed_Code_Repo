{
 "cells": [
  {
   "cell_type": "markdown",
   "metadata": {},
   "source": [
    "### 141. Linked List Cycle - 2/16/2024"
   ]
  },
  {
   "cell_type": "code",
   "execution_count": null,
   "metadata": {},
   "outputs": [],
   "source": [
    "\"\"\"\n",
    "UMPIRE:\n",
    "U: given an linked list, return if it contains a cycle or not by return true or false\n",
    "M: slow and fast pointer\n",
    "P: \n",
    "- use s and f pointer, where s moves 1 node and f moves 2 node\n",
    "- while both pointers are not null and there node.val match then there's a cycle and return true else return false\n",
    "\"\"\"\n",
    "\n",
    "class Solution:\n",
    "    def hasCycle(self, head: Optional[ListNode]) -> bool:\n",
    "        dummy = ListNode(0, head)\n",
    "\n",
    "        s, f = dummy, head\n",
    "\n",
    "        while (f and f.next):\n",
    "            if (s == f):\n",
    "                return True\n",
    "            f = f.next.next\n",
    "            s = s.next\n",
    "\n",
    "        return False"
   ]
  },
  {
   "cell_type": "code",
   "execution_count": null,
   "metadata": {},
   "outputs": [],
   "source": []
  }
 ],
 "metadata": {
  "language_info": {
   "name": "python"
  }
 },
 "nbformat": 4,
 "nbformat_minor": 2
}
