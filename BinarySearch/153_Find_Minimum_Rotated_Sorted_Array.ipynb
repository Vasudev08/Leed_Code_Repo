{
 "cells": [
  {
   "cell_type": "markdown",
   "metadata": {},
   "source": [
    "### 153. Find Minimum in Rotated Sorted Array\n"
   ]
  },
  {
   "cell_type": "code",
   "execution_count": null,
   "metadata": {},
   "outputs": [],
   "source": [
    "\"\"\"\n",
    "UMPIRE:\n",
    "U:We are given a rotated unique array, output the minimum element\n",
    "M: Binary Search, start with middle element, three points left, middle and right\n",
    "\n",
    "PATTERNS TO NOTICE:\n",
    "- if middle > leftmost and leftmost > rightmost:\n",
    "    - move to the right half of the interval\n",
    "- if middle > leftmost and leftmost < rightmost: \n",
    "    - move to the left half of the interval\n",
    "- if middle < leftmost and leftmost > rightmost:\n",
    "    - return middle\n",
    "\n",
    "NOTE: we don't have to worry about duplicate as all values are unique\n",
    "\"\"\"\n",
    "\n",
    "class Solution:\n",
    "    def findMin(self, nums: List[int]) -> int:\n",
    "        l, r = 0, len(nums) - 1\n",
    "        res = nums[0]\n",
    "        \n",
    "        # [0, 1, 2, 3, 4, 5]\n",
    "        # [1, 2, 3, 4, 5, 0]\n",
    "        # [2, 3, 4, 5, 0, 1]\n",
    "        # [3, 4, 5, 0, 1, 2]\n",
    "\n",
    "        # [5, 1, 0]\n",
    "        \n",
    "\n",
    "        while (l <= r):\n",
    "            # Using this we get to know that the nums is in asceding order\n",
    "            # which means we don't have to use binary seach approach\n",
    "            # and return the leftmost element\n",
    "            if nums[l] < nums[r]:\n",
    "                res = min(res, nums[l])\n",
    "                break\n",
    "\n",
    "\n",
    "\n",
    "\n",
    "\n",
    "            # After this point, we can say that our array is rotated\n",
    "            # which means most of the time intially middle > left.\n",
    "                # so we move to the right interval\n",
    "                # but sometimes after doing the binary serach and shifting\n",
    "                # to subarray we might encounter either an asceding array\n",
    "                # or even an subarray where middle < left in which case we move the\n",
    "                # left interval\n",
    "\n",
    "            m = (r + l) // 2 \n",
    "            res = min(res, nums[m])\n",
    "\n",
    "\n",
    "            if nums[m] > nums[l]:\n",
    "                l = m + 1\n",
    "            else:\n",
    "                r = m - 1\n",
    "\n",
    "            \n",
    "            \n",
    "            \n",
    "        return nums[m]\n",
    "\n"
   ]
  },
  {
   "cell_type": "code",
   "execution_count": null,
   "metadata": {},
   "outputs": [],
   "source": []
  }
 ],
 "metadata": {
  "language_info": {
   "name": "python"
  }
 },
 "nbformat": 4,
 "nbformat_minor": 2
}
