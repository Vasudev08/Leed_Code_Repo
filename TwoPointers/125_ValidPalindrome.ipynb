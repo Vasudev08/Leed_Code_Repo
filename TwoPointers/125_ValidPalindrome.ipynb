{
 "cells": [
  {
   "cell_type": "markdown",
   "metadata": {},
   "source": [
    "### Valid Palindrome - 2/8/2024"
   ]
  },
  {
   "cell_type": "code",
   "execution_count": 1,
   "metadata": {},
   "outputs": [
    {
     "data": {
      "text/plain": [
       "'\\n'"
      ]
     },
     "execution_count": 1,
     "metadata": {},
     "output_type": "execute_result"
    }
   ],
   "source": [
    "\"\"\"\n",
    "Issue with the below implementation is when two non-alphabets elements \n",
    "come back to back. if you notice we are only using if condition \n",
    "which will only check once,\n",
    "So, to retify the issue we are introducting while loop\n",
    "and adding an additional condition of checking l < r\n",
    "\"\"\"\n",
    "\n",
    "class Solution:\n",
    "    def isPalindrome(self, s: str) -> bool:\n",
    "        s = s.lower()\n",
    "        l, r = 0, len(s) - 1\n",
    "\n",
    "        while (l < r):\n",
    "            # checking if it's characters don't match\n",
    "\n",
    "            #Skipping the character if isn't an alphabet\n",
    "            while l < r and not s[l].isalnum():\n",
    "                l += 1\n",
    "\n",
    "            while l < r and not s[r].isalnum():\n",
    "                r -= 1\n",
    "\n",
    "            if s[l] != s[r] or l > r:\n",
    "                return False\n",
    "            \n",
    "            l += 1\n",
    "            r -= 1\n",
    "\n",
    "        \n",
    "\n",
    "        return True\n",
    "        "
   ]
  },
  {
   "cell_type": "code",
   "execution_count": null,
   "metadata": {},
   "outputs": [],
   "source": [
    "\"\"\"\n",
    "UMPIRE:\n",
    "U: we are given a string, return if it's an palindrome or not\n",
    "M: two pointers appraoch one from the beginning and other from the end\n",
    "\n",
    "Q1. I don't how to convert every uppercase letter to lower case\n",
    "and remove non-alphanumeric characters \n",
    "A1. To lower the upper case letter we can use .lower()\n",
    "    - to check if it's an character we can use isalnum()\n",
    "\n",
    "P: \n",
    "1. two pointers l and r\n",
    "2. skip an element/character if it is not alphabet using isalnum()\n",
    "    - The isalnum() method returns True if all the characters are alphanumeric\n",
    "3. if characters pointed by l and r aren't the same then return false or\n",
    "4. of whenever l > r\n",
    "\n",
    "\"\"\"\n",
    "\n",
    "class Solution:\n",
    "    def isPalindrome(self, s:str) -> bool:\n",
    "        s = s.lower()\n",
    "        l, r = 0, len(s) - 1\n",
    "\n",
    "        while (l < r):\n",
    "            # checking if it's characters don't match\n",
    "\n",
    "            #Skipping the character if isn't an alphabet\n",
    "            if not s[l]:\n",
    "                l += 1\n",
    "\n",
    "            if not s[r]:\n",
    "                r -= 1\n",
    "\n",
    "            if s[l] != s[r] or l > r:\n",
    "                return False\n",
    "            \n",
    "            l += 1\n",
    "            r -= 1\n",
    "\n",
    "        \n",
    "\n",
    "        return True\n",
    "    \n",
    "    \n",
    "\n",
    "\n"
   ]
  }
 ],
 "metadata": {
  "kernelspec": {
   "display_name": "Python 3",
   "language": "python",
   "name": "python3"
  },
  "language_info": {
   "codemirror_mode": {
    "name": "ipython",
    "version": 3
   },
   "file_extension": ".py",
   "mimetype": "text/x-python",
   "name": "python",
   "nbconvert_exporter": "python",
   "pygments_lexer": "ipython3",
   "version": "3.11.8"
  }
 },
 "nbformat": 4,
 "nbformat_minor": 2
}
