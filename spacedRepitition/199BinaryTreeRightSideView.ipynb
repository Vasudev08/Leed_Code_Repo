{
 "cells": [
  {
   "cell_type": "markdown",
   "metadata": {},
   "source": [
    "### 199. Binary Tree Right Side View - 10/13/2024"
   ]
  },
  {
   "cell_type": "code",
   "execution_count": null,
   "metadata": {},
   "outputs": [],
   "source": [
    "############################### Improvement Table ###########################################\n",
    "\"\"\"\n",
    "Repitition # -  Time Taken   \n",
    "1st Reptition - \n",
    "\n",
    "\n",
    "\"\"\""
   ]
  },
  {
   "cell_type": "markdown",
   "metadata": {},
   "source": [
    "### Model Answer"
   ]
  },
  {
   "cell_type": "markdown",
   "metadata": {},
   "source": [
    "### 1st Repitition"
   ]
  },
  {
   "cell_type": "code",
   "execution_count": null,
   "metadata": {},
   "outputs": [],
   "source": [
    "# Definition for a binary tree node.\n",
    "# class TreeNode:\n",
    "#     def __init__(self, val=0, left=None, right=None):\n",
    "#         self.val = val\n",
    "#         self.left = left\n",
    "#         self.right = right\n",
    "class Solution:\n",
    "    def rightSideView(self, root: Optional[TreeNode]) -> List[int]:\n",
    "       # In my first attempt I just printed the right side of the binary tree\n",
    "       # but the question says, we have to print the values of nodes\n",
    "       # we are able to see when we are looking at from the right hand side\n",
    "       # to retive the right-hand side view of the binary tree\n",
    "       # to have to keep record the level we are at, which \n",
    "       # will also act as a index for our res list\n",
    "       # in our dfs function we will give piority to node.right\n",
    "       # Here, level == len(res) helps us in append right viewing nodes\n",
    "       # if we can't reach level = 4 through traversing right node\n",
    "       # we have to use the left node as it could be viewed from right-hand\n",
    "       # side \n",
    "\n",
    "\n",
    "        res = []\n",
    "        level = 0\n",
    "\n",
    "        def dfs(curNode, level):\n",
    "            if not curNode:\n",
    "                return\n",
    "\n",
    "            if level == len(res):\n",
    "                res.append(curNode.val)\n",
    "\n",
    "            dfs(curNode.right, level +1)\n",
    "            dfs(curNode.left, level +1)\n",
    "\n",
    "        dfs(root,0)\n",
    "\n",
    "        return res\n",
    "\n",
    "        "
   ]
  },
  {
   "cell_type": "markdown",
   "metadata": {},
   "source": [
    "### 2nd Repetition - BFS"
   ]
  },
  {
   "cell_type": "code",
   "execution_count": null,
   "metadata": {},
   "outputs": [],
   "source": [
    "\"\"\"most important code:\n",
    " if level == len(res):\n",
    "    res.append(node.val)\n",
    "\"\"\"\n",
    "\n",
    "# Definition for a binary tree node.\n",
    "# class TreeNode:\n",
    "#     def __init__(self, val=0, left=None, right=None):\n",
    "#         self.val = val\n",
    "#         self.left = left\n",
    "#         self.right = right\n",
    "class Solution:\n",
    "    def rightSideView(self, root: Optional[TreeNode]) -> List[int]:\n",
    "        if not root:\n",
    "            return []\n",
    "       \n",
    "        que = deque([root])\n",
    "        res = []\n",
    "        level = 0\n",
    "\n",
    "        while (que):\n",
    "            levelSize = len(que)\n",
    "            # levelNode = deque()\n",
    "\n",
    "            for _ in range(levelSize):\n",
    "                node = que.popleft()\n",
    "                if level == len(res):\n",
    "                    res.append(node.val)\n",
    "\n",
    "                if node.right:\n",
    "                    que.append(node.right)\n",
    "                if node.left:\n",
    "                    que.append(node.left)\n",
    "            \n",
    "            level += 1\n",
    "\n",
    "        return res\n",
    "\n",
    "\n",
    "\n"
   ]
  },
  {
   "cell_type": "code",
   "execution_count": null,
   "metadata": {},
   "outputs": [],
   "source": []
  }
 ],
 "metadata": {
  "language_info": {
   "name": "python"
  }
 },
 "nbformat": 4,
 "nbformat_minor": 2
}
