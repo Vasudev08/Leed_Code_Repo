{
 "cells": [
  {
   "cell_type": "markdown",
   "metadata": {},
   "source": [
    "### 162. Find Peak Element"
   ]
  },
  {
   "cell_type": "code",
   "execution_count": null,
   "metadata": {},
   "outputs": [],
   "source": [
    "############################### Improvement Table ###########################################\n",
    "\"\"\"\n",
    "Repitition # -  Time Taken\n",
    "1st Repitition - 22 mins - with help for sure   \n",
    "\n",
    "\n",
    "\"\"\""
   ]
  },
  {
   "cell_type": "markdown",
   "metadata": {},
   "source": [
    "### Model Answer"
   ]
  },
  {
   "cell_type": "markdown",
   "metadata": {},
   "source": [
    "### 1st Repitition - 1st Attempt - without Binary Search"
   ]
  },
  {
   "cell_type": "code",
   "execution_count": null,
   "metadata": {},
   "outputs": [],
   "source": [
    "class Solution:\n",
    "    def findPeakElement(self, nums: List[int]) -> int:\n",
    "        \"\"\"\n",
    "        UMPIRE\n",
    "\n",
    "        U: we are given nums, where we have to return the index of the peak elements\n",
    "        M: binary Serach because of the required time complexity that is O(log n) time\n",
    "        P: \n",
    "\n",
    "        - \n",
    "        Q1. can the first and the last element be the peak, as they don't have both left and right negibhor ?\n",
    "        A1.\n",
    "\n",
    "        Q2. what to do when we don't have a peak element or what to return when that's the case\n",
    "\n",
    "\n",
    "        \"\"\"\n",
    "\n",
    "        if len(nums) == 1:\n",
    "            return 0\n",
    "        l = 1\n",
    "        res = 0\n",
    "        while l < len(nums):\n",
    "            if l == 0:\n",
    "                if nums[l] > nums[l + 1]:\n",
    "                    res = l\n",
    "                break\n",
    "\n",
    "            if l == len(nums) - 1:\n",
    "                if nums[l] > nums[l - 1]:\n",
    "                    res = l\n",
    "                break\n",
    "\n",
    "            if  nums[l - 1] < nums[l] > nums[l + 1]:\n",
    "                res= l\n",
    "                l += 2\n",
    "            \n",
    "            l += 1\n",
    "\n",
    "        return res\n",
    "\n",
    "\n",
    "        "
   ]
  },
  {
   "cell_type": "markdown",
   "metadata": {},
   "source": [
    "### 1st Repitition - 2nd Attempt - with Binary Search"
   ]
  },
  {
   "cell_type": "code",
   "execution_count": null,
   "metadata": {},
   "outputs": [],
   "source": [
    "class Solution:\n",
    "    def findPeakElement(self, nums: List[int]) -> int:\n",
    "        left, right = 0, len(nums) - 1\n",
    "\n",
    "        while left < right:\n",
    "            mid = (left + right) // 2\n",
    "\n",
    "            if nums[mid] < nums[mid + 1]:\n",
    "                left = mid + 1\n",
    "            else:\n",
    "                right = mid\n",
    "\n",
    "        return left\n",
    "        \n",
    "\n",
    "\"\"\"\n",
    "Here, we are using binary serach the property of a peak (imagine a mountina)\n",
    "\n",
    "if nums[mid] < nums[mid + 1] \n",
    "    -> which means its increase slope right now,\n",
    "        so either mid + 1 is the peak or peak is further right\n",
    "\n",
    "if nums[mid] > nums[mid + 1]\n",
    "    -> which means the slope is decreaseing right now,\n",
    "        so either mid is the peak or peak is further left\n",
    "\n",
    "\"\"\""
   ]
  }
 ],
 "metadata": {
  "language_info": {
   "name": "python"
  }
 },
 "nbformat": 4,
 "nbformat_minor": 2
}
