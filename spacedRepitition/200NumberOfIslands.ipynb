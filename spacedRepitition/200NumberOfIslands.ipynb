{
 "cells": [
  {
   "cell_type": "markdown",
   "metadata": {},
   "source": [
    "### 200. Number of Islands - 6/24/2024"
   ]
  },
  {
   "cell_type": "code",
   "execution_count": null,
   "metadata": {},
   "outputs": [],
   "source": [
    "############################### Improvement Table ###########################################\n",
    "\"\"\"\n",
    "Repitition # -  Time Taken   \n",
    "\n",
    "\n",
    "\"\"\""
   ]
  },
  {
   "cell_type": "markdown",
   "metadata": {},
   "source": [
    "### Model Answer"
   ]
  },
  {
   "cell_type": "markdown",
   "metadata": {},
   "source": [
    "### 1st Repitition"
   ]
  },
  {
   "cell_type": "code",
   "execution_count": null,
   "metadata": {},
   "outputs": [],
   "source": [
    "class Solution:\n",
    "    def numIslands(self, grid: List[List[str]]) -> int:\n",
    "        # Running time O(m * n)\n",
    "        ROWS = len(grid)\n",
    "        res = 0\n",
    "        COLS = len(grid[0])\n",
    "        visitedNode = set()\n",
    "\n",
    "        def customDfs(row, col):\n",
    "            if row >= ROWS or col >= COLS or row < 0 or col < 0 or (row, col) in visitedNode or grid[row][col] == '0':\n",
    "                return\n",
    "\n",
    "            grid[row][col] = \"0\"\n",
    "            visitedNode.add((row, col))\n",
    "\n",
    "            customDfs(row + 1, col)\n",
    "            customDfs(row , col + 1)\n",
    "            customDfs(row - 1, col)\n",
    "            customDfs(row, col - 1)\n",
    "\n",
    "\n",
    "        for r in range(len(grid)):\n",
    "            for c in range(len(grid[0])):\n",
    "                if grid[r][c] == '1':\n",
    "                    customDfs(r ,c)\n",
    "                    res += 1\n",
    "\n",
    "\n",
    "        return res\n",
    "\n",
    "        "
   ]
  }
 ],
 "metadata": {
  "language_info": {
   "name": "python"
  }
 },
 "nbformat": 4,
 "nbformat_minor": 2
}
