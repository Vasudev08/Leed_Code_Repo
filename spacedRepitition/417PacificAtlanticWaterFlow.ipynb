{
 "cells": [
  {
   "cell_type": "markdown",
   "metadata": {},
   "source": [
    "### 417. Pacific Atlantic Water Flow - 4/27/2024"
   ]
  },
  {
   "cell_type": "code",
   "execution_count": null,
   "metadata": {},
   "outputs": [],
   "source": [
    "############################### Improvement Table ###########################################\n",
    "\"\"\"\n",
    "Repitition # -  Time Taken   \n",
    "1st repetition - 55 mins - a lot of debugging but got the logic for sure\n",
    "\"\"\""
   ]
  },
  {
   "cell_type": "markdown",
   "metadata": {},
   "source": [
    "### Model Answer"
   ]
  },
  {
   "cell_type": "markdown",
   "metadata": {},
   "source": [
    "### 1st Repitition"
   ]
  },
  {
   "cell_type": "code",
   "execution_count": null,
   "metadata": {},
   "outputs": [],
   "source": [
    "\"\"\"\n",
    "UMPIRE:\n",
    "U: we are given a 2D array, where\n",
    "    North:West -> Pacific Ocean\n",
    "    South:East -> Atlantic Ocean\n",
    "\n",
    "    Our Job is to return the list of cells from which rain water\n",
    "    can go to both oceans\n",
    "    And water can flow from cells to another cells\n",
    "    only when height of neibhoring cells is equal or less than\n",
    "\n",
    "M: DFS traversal + two list \n",
    "    pacOcean and atlOcean\n",
    "\n",
    "    helper function which takes cells and a list\n",
    "\n",
    "- we only have to do dfs traversal on corners cells only\n",
    "- As we are sure that from top row and left colu we can go to pacific ocean\n",
    "- similary from left column and bottom row we can go to atlantic ocean\n",
    "- to get cells which can reach these rows and column we have to \n",
    "- find cells which have cell height less than these rows and columns \n",
    "    values\n",
    "- So, essentially we are doing the opposite \n",
    "find cells with height less than or equal to starting from\n",
    "the border cells using helper dfs function\n",
    "\n",
    "P: \n",
    "1. create a dfs traversal function\n",
    "2. call the helper function from the corner cells\n",
    "3. return the common cells among the pacOcean and atlOcean\n",
    "\n",
    "\n",
    "\"\"\"\n",
    "\n",
    "class Solution:\n",
    "    def pacificAtlantic(self, heights: List[List[int]]) -> List[List[int]]:\n",
    "\n",
    "        rows = len(heights)\n",
    "        cols = len(heights[0])\n",
    "        pac = []\n",
    "        atl = []\n",
    "        res = []\n",
    "\n",
    "        def dfs(r, c, prevHeight, cellList):\n",
    "            if r >= rows or cols >= cols or cols < 0 or rows < 0 or [r, c] in cellList or heights[r][c] < prevHeight:\n",
    "                return\n",
    "            \n",
    "            \n",
    "\n",
    "            dfs(r + 1, c, heights[r][c],cellList)\n",
    "            dfs(r, c + 1, heights[r][c],cellList)\n",
    "            dfs(r - 1, c, heights[r][c],cellList)\n",
    "            dfs(r, c - 1, heights[r][c],cellList)\n",
    "\n",
    "        for i in range(cols):\n",
    "            dfs(0, i, heights[0][i],pac)\n",
    "            dfs(rows - 1, i, heights[rows - 1][i],atl)\n",
    "\n",
    "        for j in range(atl):\n",
    "            dfs(j, 0, heights[j][0], pac)\n",
    "            dfs(j, cols - 1, heights[j][cols - 1], atl)\n",
    "\n",
    "        for k in pac:\n",
    "            if k in atl:\n",
    "                res.append(k)\n",
    "\n",
    "\n",
    "        return res\n",
    "\n",
    "\n",
    "        \n",
    "\n"
   ]
  },
  {
   "cell_type": "markdown",
   "metadata": {},
   "source": [
    "### 1st Repetition -> Correct Answer"
   ]
  },
  {
   "cell_type": "code",
   "execution_count": null,
   "metadata": {},
   "outputs": [],
   "source": [
    "class Solution:\n",
    "    def pacificAtlantic(self, heights: List[List[int]]) -> List[List[int]]:\n",
    "        rows = len(heights)\n",
    "        cols = len(heights[0])\n",
    "        pac = set()\n",
    "        atl = set()\n",
    "        res = []\n",
    "\n",
    "        def dfs(r, c, prevHeight, cellList):\n",
    "            # print(\"Inside DFS Function\")\n",
    "            if r >= rows or c >= cols or c < 0 or r < 0 or (r, c) in cellList or heights[r][c] < prevHeight:\n",
    "                # print(\"Returning\")\n",
    "                return\n",
    "            \n",
    "                # print(\"Appending\")\n",
    "            cellList.add((r, c))\n",
    "\n",
    "            dfs(r + 1, c, heights[r][c],cellList)\n",
    "            dfs(r, c + 1, heights[r][c],cellList)\n",
    "            dfs(r - 1, c, heights[r][c],cellList)\n",
    "            dfs(r, c - 1, heights[r][c],cellList)\n",
    "\n",
    "        for c in range(cols):\n",
    "            # print(\"hello\")\n",
    "            dfs(0, c, heights[0][c],pac)\n",
    "            dfs(rows - 1, c, heights[rows - 1][c],atl)\n",
    "\n",
    "        for r in range(rows):\n",
    "            dfs(r, 0, heights[r][0], pac)\n",
    "            dfs(r, cols - 1, heights[r][cols - 1], atl)\n",
    "\n",
    "        for r in range(rows):\n",
    "            for c in range(cols):\n",
    "                if (r, c) in pac and (r, c) in atl:\n",
    "                    res.append([r, c])\n",
    "        print(atl)\n",
    "        print(\"hello\")\n",
    "        print(pac)\n",
    "        return res\n",
    "\n",
    "        \n",
    "\n",
    "\n",
    "        "
   ]
  }
 ],
 "metadata": {
  "language_info": {
   "name": "python"
  }
 },
 "nbformat": 4,
 "nbformat_minor": 2
}
