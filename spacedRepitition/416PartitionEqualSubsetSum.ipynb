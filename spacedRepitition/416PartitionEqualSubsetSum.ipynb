{
 "cells": [
  {
   "cell_type": "markdown",
   "metadata": {},
   "source": [
    "### 416. Partition Equal Subset Sum - 11/4/2024"
   ]
  },
  {
   "cell_type": "code",
   "execution_count": null,
   "metadata": {},
   "outputs": [],
   "source": [
    "############################### Improvement Table ###########################################\n",
    "\"\"\"\n",
    "Repitition # -  Time Taken   \n",
    "\n",
    "\n",
    "\"\"\""
   ]
  },
  {
   "cell_type": "markdown",
   "metadata": {},
   "source": [
    "### Model Answer"
   ]
  },
  {
   "cell_type": "markdown",
   "metadata": {},
   "source": [
    "### 1st Repitition - 1st Attempt"
   ]
  },
  {
   "cell_type": "code",
   "execution_count": null,
   "metadata": {},
   "outputs": [],
   "source": [
    "class Solution:\n",
    "    def canPartition(self, nums: List[int]) -> bool:\n",
    "\n",
    "        #Q1. Does the two subsets have to be of the same length\n",
    "        #A1. Nope\n",
    "\n",
    "        #Q2. is our nums already sorted ? if not, can I sort it\n",
    "        #A2. nums aren't sorted already but you can use sort to sort them\n",
    "        # so O(n log n)\n",
    "\n",
    "        \"\"\"\n",
    "        after sorting we know that it's in increasing order\n",
    "        an idea, we have two dp\n",
    "        dp1. which stores the right Sum (going backwards) at each index\n",
    "        dp2. which stores the left sum (going fowards) at each index\n",
    "            Here, our curIndex is where I want to partition the nums\n",
    "\n",
    "        \"\"\"\n",
    "        nums = sorted(nums)\n",
    "\n",
    "        dpForw = [0] * len(nums)\n",
    "        dpForw[0] = nums[0]\n",
    "\n",
    "        dpBack = [0] * len(nums)\n",
    "        dpBack[-1] = nums[-1]\n",
    "\n",
    "\n",
    "        for i in range(len(nums) - 2, -1, -1):\n",
    "            dpBack[i] = dpBack[i + 1] + nums[i]\n",
    "\n",
    "        for j in range(1, len(nums)):\n",
    "            dpForw[j] = dpForw[j - 1] + nums[j]\n",
    "\n",
    "        print(\"Forward: \", dpForw)\n",
    "        print(\"Backward: \", dpBack)\n",
    "        print(\"Nums: \", nums)\n",
    "\n",
    "        for i in range(len(nums) - 1):\n",
    "            if dpForw[i] == dpBack[i + 1]:\n",
    "                return True\n",
    "\n",
    "\n",
    "        return False\n",
    "\n",
    "\n",
    "\n",
    "\n",
    "        "
   ]
  },
  {
   "cell_type": "markdown",
   "metadata": {},
   "source": [
    "### 1st Repitition - 2nd Attempt"
   ]
  },
  {
   "cell_type": "code",
   "execution_count": null,
   "metadata": {},
   "outputs": [],
   "source": [
    "\"\"\"\n",
    "UMPIRE\n",
    "\n",
    "1. an odd sum can't be reached when divded by 2\n",
    "target = even Sum // 2\n",
    "Here, if we can add up to our target, then we can partition the given list in subsets as well\n",
    "The approach here is that, our collect all possible sums we can make\n",
    "and check if our target is in-it, that's why we also use our dp \n",
    "in our loop\n",
    "\"\"\"\n",
    "class Solution:\n",
    "    def canPartition(self, nums: List[int]) -> bool:\n",
    "        if sum(nums) % 2:\n",
    "            return False\n",
    "\n",
    "        dp = set()\n",
    "        dp.add(0)\n",
    "        tar = sum(nums) // 2\n",
    "\n",
    "        for i in range(len(nums) -1, -1, -1):\n",
    "            temdp = set()\n",
    "            for t in dp:\n",
    "                temdp.add(t + nums[i])\n",
    "                temdp.add(t)\n",
    "            dp = temdp\n",
    "\n",
    "        return True if tar in dp else False\n",
    "        "
   ]
  }
 ],
 "metadata": {
  "language_info": {
   "name": "python"
  }
 },
 "nbformat": 4,
 "nbformat_minor": 2
}
