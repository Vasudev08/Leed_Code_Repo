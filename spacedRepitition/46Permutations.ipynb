{
 "cells": [
  {
   "cell_type": "markdown",
   "metadata": {},
   "source": [
    "### 46. Permutations - 10/25/2024"
   ]
  },
  {
   "cell_type": "code",
   "execution_count": null,
   "metadata": {},
   "outputs": [],
   "source": [
    "############################### Improvement Table ###########################################\n",
    "\"\"\"\n",
    "Repitition # -  Time Taken   \n",
    "1st Repeititn - 28 mins with little help\n",
    "\n",
    "\"\"\""
   ]
  },
  {
   "cell_type": "markdown",
   "metadata": {},
   "source": [
    "### Model Answer"
   ]
  },
  {
   "cell_type": "markdown",
   "metadata": {},
   "source": [
    "### 1st Repitition"
   ]
  },
  {
   "cell_type": "code",
   "execution_count": null,
   "metadata": {},
   "outputs": [],
   "source": [
    "\"\"\"\n",
    "UMPIRE\n",
    "\n",
    "U: we are given an list of nums, our job is to return all possible permutations \n",
    "using the given numbers\n",
    "\n",
    "Q1. are values going to be incremented by '1' everytime\n",
    "\n",
    "M: backtracking to get all the possible permutations\n",
    "\n",
    "P: \n",
    "NOTE: spend 8 - 10 mins in the UMP starge\n",
    "0. make use of set to avoid duplication - which we wouldn't be getting\n",
    "1. create a backTracking function\n",
    "    with baseCase which checks the length which when len(nums). append the tempList into res list\n",
    "    if len(tempList) > len(nums) return\n",
    "    - we will also two calls inside the backTrackign function\n",
    "        - using for loop we choose the next num\n",
    "        - without the for loop we pop the the first element and then call the backtracking function\n",
    "\n",
    "    \n",
    "- we need to avoid using the same elemnt again\n",
    "Q2. are we going to have a duplicate num ?\n",
    "A1. all intergesr gonna be unique\n",
    "\"\"\"\n",
    "\n",
    "class Solution:\n",
    "    def permute(self, nums: List[int]):\n",
    "        res = set()\n",
    "\n",
    "        def backTracking(tempList):\n",
    "            if len(tempList) == len(nums):\n",
    "                res.add(tempList)\n",
    "            if len(tempList) > len(nums):\n",
    "                return \n",
    "            curList = tempList\n",
    "            for i in range(len(nums)):\n",
    "                if nums[i] not in curList:\n",
    "                    curList.append(nums[i])\n",
    "                    backTracking(curList)\n",
    "            if len(tempList) > 1:\n",
    "                tempList.pop(0)\n",
    "            backTracking(tempList)\n",
    "\n",
    "        backTracking([])\n",
    "        return res"
   ]
  },
  {
   "cell_type": "markdown",
   "metadata": {},
   "source": [
    "### Correct Implementation - 10/25/2024"
   ]
  },
  {
   "cell_type": "code",
   "execution_count": null,
   "metadata": {},
   "outputs": [],
   "source": [
    "class Solution:\n",
    "    def permute(self, nums: List[int]) -> List[List[int]]:\n",
    "        res = set()\n",
    "\n",
    "        def backTracking(tempList):\n",
    "            if len(tempList) == len(nums):\n",
    "                res.add(tuple(tempList))\n",
    "                return\n",
    "         \n",
    "\n",
    "            for i in range(len(nums)):\n",
    "                if nums[i] not in tempList:\n",
    "                    tempList.append(nums[i])\n",
    "                    backTracking(tempList)\n",
    "                    tempList.pop()\n",
    "\n",
    "           \n",
    "\n",
    "        backTracking([])\n",
    "        return list(res)\n",
    "        "
   ]
  },
  {
   "cell_type": "markdown",
   "metadata": {},
   "source": [
    "### 2nd Repetition - 11/16/2024"
   ]
  },
  {
   "cell_type": "code",
   "execution_count": null,
   "metadata": {},
   "outputs": [],
   "source": [
    "class Solution:\n",
    "    def permute(self, nums: List[int]) -> List[List[int]]:\n",
    "        \"\"\"\n",
    "        UMPIRE\n",
    "\n",
    "        U: \n",
    "        NOTE: we can't reuse another element, an elemnet can only be used once\n",
    "        M: either dfs or backtracking\n",
    "\n",
    "        Running Time : O(2^n)\n",
    "        P: \n",
    "        1. create a backtracking function \n",
    "        which has a for loop inside it\n",
    "            after ever iteration we remove the last element\n",
    "            to explore every possible permutation\n",
    "        \"\"\"\n",
    "        res = []\n",
    "        numLen = len(nums)\n",
    "\n",
    "        def backTracking(curEle, curList):\n",
    "            print(\"backTracking\")\n",
    "           \n",
    "\n",
    "            if len(curList) > numLen:\n",
    "                return\n",
    "\n",
    "            curList.append(curEle)\n",
    "\n",
    "            if len(curList) == numLen:\n",
    "                print(\"found Match\")\n",
    "                res.append(curList[:])\n",
    "\n",
    "            print(\"Appending curElement:\", curEle)\n",
    "            print(\"CurList after appending:\", curList)\n",
    "\n",
    "            for i in nums:\n",
    "                if i not in curList:\n",
    "                    backTracking(i, curList)\n",
    "                    curList.pop()\n",
    "\n",
    "\n",
    "\n",
    "\n",
    "\n",
    "        for i in nums:\n",
    "            backTracking(i, [])\n",
    "\n",
    "        return res\n",
    "        "
   ]
  },
  {
   "cell_type": "markdown",
   "metadata": {},
   "source": [
    "### 2nd Reptition - simpler solution same logic"
   ]
  },
  {
   "cell_type": "code",
   "execution_count": null,
   "metadata": {},
   "outputs": [],
   "source": [
    "class Solution:\n",
    "    def permute(self, nums: List[int]) -> List[List[int]]:\n",
    "        \"\"\"\n",
    "        UMPIRE\n",
    "\n",
    "        U: \n",
    "        NOTE: we can't reuse another element, an elemnet can only be used once\n",
    "        M: either dfs or backtracking\n",
    "\n",
    "        Running Time : O(2^n)\n",
    "        P: \n",
    "        1. create a backtracking function \n",
    "        which has a for loop inside it\n",
    "            after ever iteration we remove the last element\n",
    "            to explore every possible permutation\n",
    "        \"\"\"\n",
    "        res = []\n",
    "        numLen = len(nums)\n",
    "\n",
    "        def backTracking(curList):\n",
    "            print(\"backTracking\")\n",
    "           \n",
    "\n",
    "            if len(curList) > numLen:\n",
    "                return\n",
    "\n",
    "\n",
    "            if len(curList) == numLen:\n",
    "                print(\"found Match\")\n",
    "                res.append(curList[:])\n",
    "\n",
    "            print(\"CurList after appending:\", curList)\n",
    "\n",
    "            for i in nums:\n",
    "                if i not in curList:\n",
    "                    curList.append(i)\n",
    "\n",
    "                    backTracking(curList)\n",
    "                    curList.pop()\n",
    "\n",
    "\n",
    "\n",
    "\n",
    "\n",
    "        backTracking([])\n",
    "\n",
    "        return res\n",
    "        "
   ]
  }
 ],
 "metadata": {
  "language_info": {
   "name": "python"
  }
 },
 "nbformat": 4,
 "nbformat_minor": 2
}
