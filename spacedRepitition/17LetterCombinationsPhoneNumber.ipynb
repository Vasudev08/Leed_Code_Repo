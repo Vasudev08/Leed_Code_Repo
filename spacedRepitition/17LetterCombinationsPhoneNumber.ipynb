{
 "cells": [
  {
   "cell_type": "markdown",
   "metadata": {},
   "source": [
    "### 17. Letter Combinations of a Phone number"
   ]
  },
  {
   "cell_type": "code",
   "execution_count": null,
   "metadata": {},
   "outputs": [],
   "source": [
    "############################### Improvement Table ###########################################\n",
    "\"\"\"\n",
    "Repitition # -  Time Taken   \n",
    "1st Repitition - 42 mins with a lot of help\n",
    "2nd Repeititon - backTracking is easier to do - 10 mins - without any help\n",
    "\n",
    "\n",
    "\"\"\""
   ]
  },
  {
   "cell_type": "markdown",
   "metadata": {},
   "source": [
    "### Model Answer"
   ]
  },
  {
   "cell_type": "markdown",
   "metadata": {},
   "source": [
    "### 1st Repitition - 8/4/2024"
   ]
  },
  {
   "cell_type": "code",
   "execution_count": null,
   "metadata": {},
   "outputs": [],
   "source": [
    "\"\"\"\n",
    "UMPIRE:\n",
    "\n",
    "U: we are given a string of digits contains 2 to 9 inclusive,\n",
    "and each digit is related to an alphabet according to the old nokia phones\n",
    "\n",
    "M:\n",
    "\n",
    "Possible Solution: dfs, where we create a adajency list according to the\n",
    "given phone, using for loops with dfs traversal will lead to \n",
    "infinite for loops, as in for loops inside for loops\n",
    "\n",
    "Imma try something\n",
    "\"\"\"\n",
    "\n",
    "class Solution:\n",
    "    def letterCombinations(self, digits) -> List[str]:\n",
    "        hMap = { 2: ['a', 'b', 'c'],\n",
    "                 3: ['d', 'e', 'f'],\n",
    "                 4: ['g', 'h', 'i'],\n",
    "                 5: ['j', 'k', 'l'],\n",
    "                 6: ['m', 'n', 'o'],\n",
    "                 7: ['p', 'q', 'r', 's'],\n",
    "                 8: ['t', 'u', 'v'],\n",
    "                 9: ['w', 'x', 'y', 'z']}\n",
    "        \n",
    "        res = set() # this we can avoid adding \n",
    "        # repead string and it's faster as well\n",
    "\n",
    "        def dfs(index, string):\n",
    "            if string in res:\n",
    "                return \n",
    "            \n",
    "            if index == len(digits) - 1:\n",
    "                res.add(string)\n",
    "\n",
    "            if (index + 1) < len(digits) - 1:\n",
    "                for digit in hMap[int(digits[index + 1])]:\n",
    "                    dfs(index + 1, string + digit )\n",
    "\n",
    "\n",
    "\n",
    "\n",
    "            \n",
    "\n",
    "\n",
    "        for index in range(len(digits)):\n",
    "            for digit in hMap[int(digits[index])]:\n",
    "                dfs(index, \"\")\n",
    "\n",
    "        return res"
   ]
  },
  {
   "cell_type": "markdown",
   "metadata": {},
   "source": [
    "### 1st Repitition - 2nd Try - 8/4/2024"
   ]
  },
  {
   "cell_type": "code",
   "execution_count": null,
   "metadata": {},
   "outputs": [],
   "source": [
    "\"\"\"\n",
    "Approach was right, use of dfs and hMap was correct as well\n",
    "but during implmentation few changes are needed to be made\n",
    "\n",
    "for example:\n",
    "- there is no need for two 'for' loops, only one is suffieient\n",
    " enough\n",
    "- if using set, no need to check for repetition\n",
    "\n",
    "\"\"\"\n",
    "\n",
    "class Solution:\n",
    "    def letterCombinations(self, digits) -> List[str]:\n",
    "        hMap = { '2': ['a', 'b', 'c'],\n",
    "                 '3': ['d', 'e', 'f'],\n",
    "                 '4': ['g', 'h', 'i'],\n",
    "                 '5': ['j', 'k', 'l'],\n",
    "                 '6': ['m', 'n', 'o'],\n",
    "                 '7': ['p', 'q', 'r', 's'],\n",
    "                 '8': ['t', 'u', 'v'],\n",
    "                 '9': ['w', 'x', 'y', 'z']}\n",
    "        \n",
    "        res = [] # this we can avoid adding \n",
    "        # repead string and it's faster as well\n",
    "\n",
    "        if not digits:\n",
    "            return res\n",
    "        \n",
    "        def dfs(index, path):\n",
    "            if index == len(digits):\n",
    "                res.append(path)\n",
    "                return \n",
    "            \n",
    "            for letter in hMap[digits[index]]:\n",
    "                dfs(index + 1, path + letter)\n",
    "\n",
    "        dfs(0, \"\")\n",
    "        return res"
   ]
  },
  {
   "cell_type": "markdown",
   "metadata": {},
   "source": [
    "### 2nd Repeition - 10/27/2024"
   ]
  },
  {
   "cell_type": "code",
   "execution_count": null,
   "metadata": {},
   "outputs": [],
   "source": [
    "class Solution:\n",
    "    def letterCombinations(self, digits: str) -> List[str]:\n",
    "        if not digits:\n",
    "            return []\n",
    "        hMap = { '2': ['a', 'b', 'c'],\n",
    "                 '3': ['d', 'e', 'f'],\n",
    "                 '4': ['g', 'h', 'i'],\n",
    "                 '5': ['j', 'k', 'l'],\n",
    "                 '6': ['m', 'n', 'o'],\n",
    "                 '7': ['p', 'q', 'r', 's'],\n",
    "                 '8': ['t', 'u', 'v'],\n",
    "                 '9': ['w', 'x', 'y', 'z']}\n",
    "\n",
    "        res = []\n",
    "        \n",
    "        def backTracking(index, curStr):\n",
    "            if len(curStr) == len(digits):\n",
    "                res.append(curStr)\n",
    "                return\n",
    "\n",
    "            curDig = digits[index]\n",
    "            vals = hMap[curDig]\n",
    "            for i in vals:\n",
    "                curStr += i\n",
    "                backTracking(index + 1, curStr)\n",
    "                curStr = curStr[:-1]\n",
    "\n",
    "        backTracking(0, \"\")\n",
    "        return res\n",
    "        "
   ]
  },
  {
   "cell_type": "code",
   "execution_count": null,
   "metadata": {},
   "outputs": [],
   "source": []
  }
 ],
 "metadata": {
  "language_info": {
   "name": "python"
  }
 },
 "nbformat": 4,
 "nbformat_minor": 2
}
