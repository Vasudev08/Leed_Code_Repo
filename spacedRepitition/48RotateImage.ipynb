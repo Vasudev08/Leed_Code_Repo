{
 "cells": [
  {
   "cell_type": "markdown",
   "metadata": {},
   "source": [
    "### 48. Rotate Image - 6/9/2024"
   ]
  },
  {
   "cell_type": "code",
   "execution_count": null,
   "metadata": {},
   "outputs": [],
   "source": [
    "############################### Improvement Table ###########################################\n",
    "\"\"\"\n",
    "Repitition # -  Time Taken   \n",
    "1st Repetition - 30 mins\n",
    "\n",
    "clock - 5:00 PM\n",
    "\n",
    "\"\"\""
   ]
  },
  {
   "cell_type": "markdown",
   "metadata": {},
   "source": [
    "### Model Answer"
   ]
  },
  {
   "cell_type": "markdown",
   "metadata": {},
   "source": [
    "### 1st Repitition"
   ]
  },
  {
   "cell_type": "code",
   "execution_count": null,
   "metadata": {},
   "outputs": [],
   "source": [
    "\"\"\"UMPIRE\n",
    "U: we are given an 2nd Array and we have rotate 90 degress\n",
    "    (clockwise) and in-place (i.e. without creating an additional\n",
    "    2d array)\n",
    "\n",
    "M: custom 2d traversal\n",
    "\n",
    "P:\n",
    "1. save an tmpValue starting from the top-left corner\n",
    "    and replace the top-left corner with the bottom-left corner\n",
    "    replace bottom-left corner with the bottom-right corner\n",
    "    replace bottom-right corner with top-left corner\n",
    "    replace top-left corner with the tmpValue\n",
    "2. we will have four variables left (l), right (r),\n",
    "    bottom (b), top (t) and we're going to use them\n",
    "    to solve this question\n",
    "\n",
    "    just an manipulation question\n",
    "\n",
    "\"\"\"\n",
    "\n",
    "class Solution:\n",
    "    def rotate(self, matrix: List[List[int]]) -> None:\n",
    "        l, r = 0, len(matrix)\n",
    "\n",
    "        while (l < r):\n",
    "            for i in range(r - l):\n",
    "                t, b = l, r\n",
    "                tmpVal = matrix[t][l + i]\n",
    "\n",
    "                matrix[t][l + i] = matrix[b - i][l]\n",
    "\n",
    "                matrix[b - i][l] = matrix[b][r - i]\n",
    "\n",
    "                matrix[b][r - i] = matrix[t + i][r]\n",
    "\n",
    "                matrix[t + i][r] = tmpVal\n",
    "\n",
    "\n",
    "\n",
    "            \n",
    "\n",
    "            l += 1\n",
    "            r -= 1\n"
   ]
  }
 ],
 "metadata": {
  "language_info": {
   "name": "python"
  }
 },
 "nbformat": 4,
 "nbformat_minor": 2
}
