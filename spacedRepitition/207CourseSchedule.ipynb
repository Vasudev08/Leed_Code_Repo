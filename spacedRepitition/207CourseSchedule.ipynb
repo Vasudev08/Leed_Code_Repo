{
 "cells": [
  {
   "cell_type": "markdown",
   "metadata": {},
   "source": [
    "### 207. Course Schedule - 4/28/2024"
   ]
  },
  {
   "cell_type": "code",
   "execution_count": null,
   "metadata": {},
   "outputs": [],
   "source": [
    "############################### Improvement Table ###########################################\n",
    "\"\"\"\n",
    "Repitition # -  Time Taken   \n",
    "1st Repetetion - 30 mins with lots of help but understood the logic behind it\n",
    "2nd Repetetion - 20 mins with less than compared to the 1st repetition\n",
    "3rd Repetetion - 20 mins with a lot of help, back after 20 to 20 days\n",
    "\n",
    "\n",
    "clock - 58 mins\n",
    "\n",
    "Here we convert a list of list to a graph problem where each course\n",
    "represents a node in the graph and the directed edges between them\n",
    "say that we need the other to take the current course/node/vertex\n",
    "\"\"\""
   ]
  },
  {
   "cell_type": "markdown",
   "metadata": {},
   "source": [
    "### Model Answer"
   ]
  },
  {
   "cell_type": "markdown",
   "metadata": {},
   "source": [
    "### 1st Repitition"
   ]
  },
  {
   "cell_type": "code",
   "execution_count": 1,
   "metadata": {},
   "outputs": [
    {
     "data": {
      "text/plain": [
       "'\\nUMPIRE: \\n\\nU: \\n'"
      ]
     },
     "execution_count": 1,
     "metadata": {},
     "output_type": "execute_result"
    }
   ],
   "source": [
    "\"\"\"\n",
    "UMPIRE: \n",
    "\n",
    "U: we have a list of numCourses where an element [ai, bi] \n",
    "indicates that to take course ai we must take bi\n",
    "\n",
    "Q1. How to figure out a cycle in the list ?\n",
    "A1. for better understanding we are going to imagine    \n",
    "    a directed graph in which we are trying to find a \n",
    "    cycle using dfs and visited set \n",
    "\n",
    "M: Backtracking -> where after each iteration, we remove starting node\n",
    "    from the visitedSet, hashMap, visitedSet and dfs\n",
    "\n",
    "P:\n",
    "1. using hashMap, we are going to create a adjacentyList\n",
    "    which tells us which vertices/nodes have edges\n",
    "    and if we have a cycle in this directed graph\n",
    "    then we can't complete all the courses\n",
    "    otherwise we can coplete all the courses\n",
    "\n",
    "2. We are going to use visitedSet as the backtracking mechasim\n",
    "    to traverse for every course in the given array.\n",
    "    this way we are going to verify whether this course \n",
    "    can be completed or not\n",
    "\n",
    "3. Also, in the hashmap an 'key' have 'value' = [] would\n",
    "    mean that the course can be completely without any issues\n",
    "\n",
    "NOTE: it may be called adjacney list but we are going to use dictionary\n",
    "\n",
    "\"\"\"\n",
    "\n",
    "class Solution:\n",
    "    def canFinish(self, numCourses: int, prerequisites: List[List[int]]) -> bool:\n",
    "        adjList = {i: [] for i in range(numCourses)}\n",
    "        visitSet = set()\n",
    "\n",
    "        for crs, pre in prerequisites:\n",
    "            adjList[crs].append(pre)\n",
    "\n",
    "        def dfs(crs):\n",
    "            if crs in visitSet:\n",
    "                return False\n",
    "            \n",
    "            if adjList[crs] == []:\n",
    "                return True\n",
    "            \n",
    "            visitSet.add(crs)\n",
    "            \n",
    "            for pre in adjList[crs]:\n",
    "                if not dfs(pre):\n",
    "                    return False\n",
    "                \n",
    "            visitSet.remove(crs)\n",
    "            adjList[crs] = []\n",
    "\n",
    "            return True\n",
    "        \n",
    "\n",
    "        for crs in range(numCourses):\n",
    "            if not dfs(crs):\n",
    "                return False\n",
    "            \n",
    "        return True\n"
   ]
  },
  {
   "cell_type": "markdown",
   "metadata": {},
   "source": [
    "### 2nd Repetition - 5/9/2024"
   ]
  },
  {
   "cell_type": "code",
   "execution_count": 1,
   "metadata": {},
   "outputs": [
    {
     "ename": "NameError",
     "evalue": "name 'List' is not defined",
     "output_type": "error",
     "traceback": [
      "\u001b[1;31m---------------------------------------------------------------------------\u001b[0m",
      "\u001b[1;31mNameError\u001b[0m                                 Traceback (most recent call last)",
      "Cell \u001b[1;32mIn[1], line 24\u001b[0m\n\u001b[0;32m      1\u001b[0m \u001b[38;5;124;03m\"\"\"\u001b[39;00m\n\u001b[0;32m      2\u001b[0m \u001b[38;5;124;03mUMPIRE:\u001b[39;00m\n\u001b[0;32m      3\u001b[0m \n\u001b[1;32m   (...)\u001b[0m\n\u001b[0;32m     22\u001b[0m \u001b[38;5;124;03m4. throughout the algo we are trying to prove it false\u001b[39;00m\n\u001b[0;32m     23\u001b[0m \u001b[38;5;124;03m\"\"\"\u001b[39;00m\n\u001b[1;32m---> 24\u001b[0m \u001b[38;5;28;43;01mclass\u001b[39;49;00m\u001b[43m \u001b[49m\u001b[38;5;21;43;01mSolution\u001b[39;49;00m\u001b[43m:\u001b[49m\n\u001b[0;32m     25\u001b[0m \u001b[43m    \u001b[49m\u001b[38;5;28;43;01mdef\u001b[39;49;00m\u001b[43m \u001b[49m\u001b[38;5;21;43mcanFinish\u001b[39;49m\u001b[43m(\u001b[49m\u001b[38;5;28;43mself\u001b[39;49m\u001b[43m,\u001b[49m\u001b[43m \u001b[49m\u001b[43mnumCourses\u001b[49m\u001b[43m:\u001b[49m\u001b[43m \u001b[49m\u001b[38;5;28;43mint\u001b[39;49m\u001b[43m,\u001b[49m\u001b[43m \u001b[49m\u001b[43mprerequisites\u001b[49m\u001b[43m:\u001b[49m\u001b[43m \u001b[49m\u001b[43mList\u001b[49m\u001b[43m[\u001b[49m\u001b[43mList\u001b[49m\u001b[43m[\u001b[49m\u001b[38;5;28;43mint\u001b[39;49m\u001b[43m]\u001b[49m\u001b[43m]\u001b[49m\u001b[43m)\u001b[49m\u001b[43m \u001b[49m\u001b[38;5;241;43m-\u001b[39;49m\u001b[38;5;241;43m>\u001b[39;49m\u001b[43m \u001b[49m\u001b[38;5;28;43mbool\u001b[39;49m\u001b[43m:\u001b[49m\n\u001b[0;32m     27\u001b[0m \u001b[43m        \u001b[49m\u001b[43mhashMap\u001b[49m\u001b[43m \u001b[49m\u001b[38;5;241;43m=\u001b[39;49m\u001b[43m \u001b[49m\u001b[43m{\u001b[49m\u001b[43mi\u001b[49m\u001b[43m:\u001b[49m\u001b[43m \u001b[49m\u001b[43m[\u001b[49m\u001b[43m]\u001b[49m\u001b[43m \u001b[49m\u001b[38;5;28;43;01mfor\u001b[39;49;00m\u001b[43m \u001b[49m\u001b[43mi\u001b[49m\u001b[43m \u001b[49m\u001b[38;5;129;43;01min\u001b[39;49;00m\u001b[43m \u001b[49m\u001b[38;5;28;43mrange\u001b[39;49m\u001b[43m(\u001b[49m\u001b[43mnumCourses\u001b[49m\u001b[43m)\u001b[49m\u001b[43m}\u001b[49m\n",
      "Cell \u001b[1;32mIn[1], line 25\u001b[0m, in \u001b[0;36mSolution\u001b[1;34m()\u001b[0m\n\u001b[0;32m     24\u001b[0m \u001b[38;5;28;01mclass\u001b[39;00m \u001b[38;5;21;01mSolution\u001b[39;00m:\n\u001b[1;32m---> 25\u001b[0m     \u001b[38;5;28;01mdef\u001b[39;00m \u001b[38;5;21mcanFinish\u001b[39m(\u001b[38;5;28mself\u001b[39m, numCourses: \u001b[38;5;28mint\u001b[39m, prerequisites: \u001b[43mList\u001b[49m[List[\u001b[38;5;28mint\u001b[39m]]) \u001b[38;5;241m-\u001b[39m\u001b[38;5;241m>\u001b[39m \u001b[38;5;28mbool\u001b[39m:\n\u001b[0;32m     27\u001b[0m         hashMap \u001b[38;5;241m=\u001b[39m {i: [] \u001b[38;5;28;01mfor\u001b[39;00m i \u001b[38;5;129;01min\u001b[39;00m \u001b[38;5;28mrange\u001b[39m(numCourses)}\n\u001b[0;32m     28\u001b[0m         visitedSet \u001b[38;5;241m=\u001b[39m \u001b[38;5;28mset\u001b[39m()\n",
      "\u001b[1;31mNameError\u001b[0m: name 'List' is not defined"
     ]
    }
   ],
   "source": [
    "\"\"\"\n",
    "UMPIRE:\n",
    "\n",
    "U: we are given a list of list of form [ai, bi] where to take couse   \n",
    "    ai we have to take course bi, our job is to verify if we can take all\n",
    "    the courses or not. \n",
    "\n",
    "    not being able to take all courses mean:\n",
    "    we have two couses like [ai, bi], [bi, ai], where to take ai we have to \n",
    "    take bi but to take bi we have to take ai, creating a cycle \n",
    "\n",
    "M: dfs traveral to detect a cycle in the graph contructed from the\n",
    "    given list of list and using visitedSet\n",
    "\n",
    "P:\n",
    "1. create a adj_list from the given list of lists and visistedSet\n",
    "    where visistedSet keeps record of the crs we have visited\n",
    "2. using dfs traversal detect a cycle in the graph\n",
    "3. after verifying a course can be taken we will update the adj_list\n",
    "    having an empty list\n",
    "\n",
    "4. throughout the algo we are trying to prove it false\n",
    "\"\"\"\n",
    "class Solution:\n",
    "    def canFinish(self, numCourses: int, prerequisites: List[List[int]]) -> bool:\n",
    "        \n",
    "        hashMap = {i: [] for i in range(numCourses)}\n",
    "        visitedSet = set()\n",
    "\n",
    "        for crs, pre in prerequisites:\n",
    "            hashMap[crs].append(pre)\n",
    "\n",
    "\n",
    "        def dfs(node):\n",
    "            if node in visitedSet:\n",
    "                return False\n",
    "            \n",
    "            if hashMap[node] == []:\n",
    "                return True\n",
    "            \n",
    "            visitedSet.add(node)\n",
    "\n",
    "            for pre in hashMap[node]:\n",
    "                if not dfs(pre):\n",
    "                    return False\n",
    "                \n",
    "            hashMap[node] = []\n",
    "            visitedSet.remove(node)\n",
    "            # we are removing the current crs\n",
    "            # from the visisted set because \n",
    "            # we are checing the validailty of \n",
    "            # each crs one by one\n",
    "            # Hence, there is a case where we might \n",
    "            # travseral a crs twice due to it being a\n",
    "            # prereq\n",
    "\n",
    "            return True\n",
    "\n",
    "\n",
    "\n",
    "        for crs in range(numCourses):\n",
    "            # Here we are checking for each course\n",
    "            if not dfs(crs):\n",
    "                return False\n",
    "        return True\n",
    "\n",
    "\n",
    "\n"
   ]
  },
  {
   "cell_type": "markdown",
   "metadata": {},
   "source": [
    "### 3rd Repition "
   ]
  },
  {
   "cell_type": "code",
   "execution_count": 2,
   "metadata": {},
   "outputs": [
    {
     "data": {
      "text/plain": [
       "'\\nUMPIRE:\\nWe are given list of prerequisists in the [ai, bi] format which indicates that \\nwe must take course bi first if we want to take course ai\\n\\nNOTE:\\n\\n'"
      ]
     },
     "execution_count": 2,
     "metadata": {},
     "output_type": "execute_result"
    }
   ],
   "source": [
    "\"\"\"\n",
    "UMPIRE:\n",
    "U: We are given list of prerequisists in the [ai, bi] format which indicates that \n",
    "we must take course bi first if we want to take course ai\n",
    "\n",
    "NOTE: One way to detect an cycle is doing dfs search and store visitedCourse\n",
    "        and remove from the visitedCourse once we are confirm that \n",
    "        we can take that course\n",
    "\n",
    "    : Here we are also creating an graph adjaceny list to detect an cycle\n",
    "\n",
    "M: DFS + VisitedCourse\n",
    "\n",
    "\n",
    "P: \n",
    "\n",
    "\"\"\"\n",
    "class Solution:\n",
    "    def canFinish(self, numCourses: int, prerequisites: List[List[int]]):\n",
    "        visitedSet = set()\n",
    "        hashMap = {i: [] for i in range(len(prerequisites))}\n",
    "\n",
    "        for crs, pre in numCourses:\n",
    "            hashMap[crs].append(pre)\n",
    "\n",
    "\n",
    "        def dfs(node):\n",
    "            if node in visitedSet:\n",
    "                return False\n",
    "\n",
    "            if hashMap[node] == []:\n",
    "                return True\n",
    "            \n",
    "            visitedSet.add(node)\n",
    "\n",
    "            for pre in hashMap[node]:\n",
    "                if not dfs(pre):\n",
    "                    return False\n",
    "                \n",
    "            hashMap[node] = []\n",
    "            visitedSet.remove(node)\n",
    "\n",
    "            return True\n",
    "  \n",
    "\n",
    "\n",
    "        for crs in range(numCourses):\n",
    "            if not dfs(crs):\n",
    "                return False\n",
    "            \n",
    "        return True\n",
    "\n",
    "\n"
   ]
  },
  {
   "cell_type": "code",
   "execution_count": null,
   "metadata": {},
   "outputs": [],
   "source": []
  }
 ],
 "metadata": {
  "kernelspec": {
   "display_name": "Python 3",
   "language": "python",
   "name": "python3"
  },
  "language_info": {
   "codemirror_mode": {
    "name": "ipython",
    "version": 3
   },
   "file_extension": ".py",
   "mimetype": "text/x-python",
   "name": "python",
   "nbconvert_exporter": "python",
   "pygments_lexer": "ipython3",
   "version": "3.11.9"
  }
 },
 "nbformat": 4,
 "nbformat_minor": 2
}
