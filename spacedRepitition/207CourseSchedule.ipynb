{
 "cells": [
  {
   "cell_type": "markdown",
   "metadata": {},
   "source": [
    "### 207. Course Schedule - 4/28/2024"
   ]
  },
  {
   "cell_type": "code",
   "execution_count": null,
   "metadata": {},
   "outputs": [],
   "source": [
    "############################### Improvement Table ###########################################\n",
    "\"\"\"\n",
    "Repitition # -  Time Taken   \n",
    "1st Repetetion - 30 mins with lots of help but understood the logic behind it\n",
    "\n",
    "\n",
    "\n",
    "\"\"\""
   ]
  },
  {
   "cell_type": "markdown",
   "metadata": {},
   "source": [
    "### Model Answer"
   ]
  },
  {
   "cell_type": "markdown",
   "metadata": {},
   "source": [
    "### 1st Repitition"
   ]
  },
  {
   "cell_type": "code",
   "execution_count": 1,
   "metadata": {},
   "outputs": [
    {
     "data": {
      "text/plain": [
       "'\\nUMPIRE: \\n\\nU: \\n'"
      ]
     },
     "execution_count": 1,
     "metadata": {},
     "output_type": "execute_result"
    }
   ],
   "source": [
    "\"\"\"\n",
    "UMPIRE: \n",
    "\n",
    "U: we have a list of numCourses where an element [ai, bi] \n",
    "indicates that to take course ai we must take bi\n",
    "\n",
    "Q1. How to figure out a cycle in the list ?\n",
    "A1. for better understanding we are going to imagine    \n",
    "    a directed graph in which we are trying to find a \n",
    "    cycle using dfs and visited set \n",
    "\n",
    "M: Backtracking -> where after each iteration, we remove starting node\n",
    "    from the visitedSet, hashMap, visitedSet and dfs\n",
    "\n",
    "P:\n",
    "1. using hashMap, we are going to create a adjacentyList\n",
    "    which tells us which vertices/nodes have edges\n",
    "    and if we have a cycle in this directed graph\n",
    "    then we can't complete all the courses\n",
    "    otherwise we can coplete all the courses\n",
    "\n",
    "2. We are going to use visitedSet as the backtracking mechasim\n",
    "    to traverse for every course in the given array.\n",
    "    this way we are going to verify whether this course \n",
    "    can be completed or not\n",
    "\n",
    "3. Also, in the hashmap an 'key' have 'value' = [] would\n",
    "    mean that the course can be completely without any issues\n",
    "\n",
    "NOTE: it may be called adjacney list but we are going to use dictionary\n",
    "\n",
    "\"\"\"\n",
    "\n",
    "class Solution:\n",
    "    def canFinish(self, numCourses: int, prerequisites: List[List[int]]) -> bool:\n",
    "        adjList = {i: [] for i in range(numCourses)}\n",
    "        visitSet = set()\n",
    "\n",
    "        for crs, pre in prerequisites:\n",
    "            adjList[crs].append(pre)\n",
    "\n",
    "        def dfs(crs):\n",
    "            if crs in visitSet:\n",
    "                return False\n",
    "            \n",
    "            if adjList[crs] == []:\n",
    "                return True\n",
    "            \n",
    "            visitSet.add(crs)\n",
    "            \n",
    "            for pre in adjList[crs]:\n",
    "                if not dfs(pre):\n",
    "                    return False\n",
    "                \n",
    "            visitSet.remove(crs)\n",
    "            adjList[crs] = []\n",
    "\n",
    "            return True\n",
    "        \n",
    "\n",
    "        for crs in range(numCourses):\n",
    "            if not dfs(crs):\n",
    "                return False\n",
    "            \n",
    "        return True\n"
   ]
  },
  {
   "cell_type": "code",
   "execution_count": null,
   "metadata": {},
   "outputs": [],
   "source": []
  }
 ],
 "metadata": {
  "kernelspec": {
   "display_name": "Python 3",
   "language": "python",
   "name": "python3"
  },
  "language_info": {
   "codemirror_mode": {
    "name": "ipython",
    "version": 3
   },
   "file_extension": ".py",
   "mimetype": "text/x-python",
   "name": "python",
   "nbconvert_exporter": "python",
   "pygments_lexer": "ipython3",
   "version": "3.11.9"
  }
 },
 "nbformat": 4,
 "nbformat_minor": 2
}
