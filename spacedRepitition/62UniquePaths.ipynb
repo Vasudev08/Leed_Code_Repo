{
 "cells": [
  {
   "cell_type": "markdown",
   "metadata": {},
   "source": [
    "###  62. Unique Paths - 8/27/2024"
   ]
  },
  {
   "cell_type": "code",
   "execution_count": null,
   "metadata": {},
   "outputs": [],
   "source": [
    "############################### Improvement Table ###########################################\n",
    "\"\"\"\n",
    "Repitition # -  Time Taken   \n",
    "1st repeition - 27 mins - without any help\n",
    "\n",
    "\"\"\""
   ]
  },
  {
   "cell_type": "markdown",
   "metadata": {},
   "source": [
    "### Model Answer"
   ]
  },
  {
   "cell_type": "markdown",
   "metadata": {},
   "source": [
    "### 1st Repitition"
   ]
  },
  {
   "cell_type": "code",
   "execution_count": null,
   "metadata": {},
   "outputs": [],
   "source": [
    "\"\"\"\n",
    "UMPIRE:\n",
    "\n",
    "U: we are given a 2d matrix, where the robot is placed at the 0,0 position\n",
    "our job is to return total no. of unique paths present to each m-1,n-1 position\n",
    "\n",
    "\n",
    "M: Dynamic Programming, current solution O(n^2) as we are traversing every element\n",
    "\n",
    "P:\n",
    "- create a empty dp for size m x n, where dp[0][0] = 1\n",
    "- And every element in the matrix will get the values through the following ways:\n",
    "    - dp[i][j] = dp[i-1][j] + dp[i][j-1], if both left and upper element exists\n",
    "    - OR dp[i][j] = dp[i-1][j], if only left element exists\n",
    "    - OR dp[i][j] = dp[i][j-1], if only upper element exists\n",
    "\n",
    "\n",
    "M: Rows, N: Columns\n",
    "\"\"\"\n",
    "\n",
    "class Solution:\n",
    "    def uniquePaths(self, m: int, n: int) -> int:\n",
    "        dp = [[0] * n] * m\n",
    "        dp[0][0] = 1\n",
    "\n",
    "\n",
    "        for i in range(m):\n",
    "            for j in range(n):\n",
    "                if (i - 1) >= 0 and (j - 1) >= 0:\n",
    "                    dp[i][j] = dp[i][j - 1] + dp[i - 1][j]\n",
    "                elif i > 0:\n",
    "                    dp[i][j] = dp[i - 1][j]\n",
    "                elif j > 0:\n",
    "                    dp[i][j] = dp[i][j - 1]\n",
    "\n",
    "        return dp[m-1][n-1]\n",
    "\n",
    "\n"
   ]
  },
  {
   "cell_type": "markdown",
   "metadata": {},
   "source": [
    "### 2nd Attempt - 11/2/2024"
   ]
  },
  {
   "cell_type": "code",
   "execution_count": null,
   "metadata": {},
   "outputs": [],
   "source": [
    "class Solution:\n",
    "    def uniquePaths(self, m: int, n: int) -> int:\n",
    "        # UMPIRE\n",
    "        \"\"\"\n",
    "        U: Here we have 2D matrix and a robot at the left-top corner\n",
    "        our job is to find total no. of way to reach the right-bottom\n",
    "        corner. And the roobt can only move either right or bottom\n",
    "        at every move\n",
    "        M: Dynamic Programming\n",
    "        P:\n",
    "        1. create a 2D dp Matrix, and make leftest columns all 1's\n",
    "        2. also make the bottom row all 1's\n",
    "        3. now traverse through all the cells in matrix and\n",
    "            for current index => add their right and bottom cell\n",
    "            value\n",
    "        \"\"\"\n",
    "\n",
    "        # rows = \n",
    "\n",
    "        dp = [[0] * n for _ in range(m)]\n",
    "        \n",
    "        for r in range(m):\n",
    "            dp[r][n - 1] = 1\n",
    "        \n",
    "        for c in range(n):\n",
    "            dp[m - 1][c] = 1\n",
    "\n",
    "        for r in range(m - 2, -1, -1):\n",
    "            for c in range(n - 2, -1, -1):\n",
    "                dp[r][c] = dp[r + 1][c] + dp[r][c + 1]\n",
    "\n",
    "        return dp[0][0]"
   ]
  }
 ],
 "metadata": {
  "language_info": {
   "name": "python"
  }
 },
 "nbformat": 4,
 "nbformat_minor": 2
}
