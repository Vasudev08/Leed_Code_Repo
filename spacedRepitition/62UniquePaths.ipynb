{
 "cells": [
  {
   "cell_type": "markdown",
   "metadata": {},
   "source": [
    "###  62. Unique Paths - 8/27/2024"
   ]
  },
  {
   "cell_type": "code",
   "execution_count": null,
   "metadata": {},
   "outputs": [],
   "source": [
    "############################### Improvement Table ###########################################\n",
    "\"\"\"\n",
    "Repitition # -  Time Taken   \n",
    "1st repeition - 27 mins - without any help\n",
    "\n",
    "\"\"\""
   ]
  },
  {
   "cell_type": "markdown",
   "metadata": {},
   "source": [
    "### Model Answer"
   ]
  },
  {
   "cell_type": "markdown",
   "metadata": {},
   "source": [
    "### 1st Repitition"
   ]
  },
  {
   "cell_type": "code",
   "execution_count": null,
   "metadata": {},
   "outputs": [],
   "source": [
    "\"\"\"\n",
    "UMPIRE:\n",
    "\n",
    "U: we are given a 2d matrix, where the robot is placed at the 0,0 position\n",
    "our job is to return total no. of unique paths present to each m-1,n-1 position\n",
    "\n",
    "\n",
    "M: Dynamic Programming, current solution O(n^2) as we are traversing every element\n",
    "\n",
    "P:\n",
    "- create a empty dp for size m x n, where dp[0][0] = 1\n",
    "- And every element in the matrix will get the values through the following ways:\n",
    "    - dp[i][j] = dp[i-1][j] + dp[i][j-1], if both left and upper element exists\n",
    "    - OR dp[i][j] = dp[i-1][j], if only left element exists\n",
    "    - OR dp[i][j] = dp[i][j-1], if only upper element exists\n",
    "\n",
    "\n",
    "M: Rows, N: Columns\n",
    "\"\"\"\n",
    "\n",
    "class Solution:\n",
    "    def uniquePaths(self, m: int, n: int) -> int:\n",
    "        dp = [[0] * n] * m\n",
    "        dp[0][0] = 1\n",
    "\n",
    "\n",
    "        for i in range(m):\n",
    "            for j in range(n):\n",
    "                if (i - 1) >= 0 and (j - 1) >= 0:\n",
    "                    dp[i][j] = dp[i][j - 1] + dp[i - 1][j]\n",
    "                elif i > 0:\n",
    "                    dp[i][j] = dp[i - 1][j]\n",
    "                elif j > 0:\n",
    "                    dp[i][j] = dp[i][j - 1]\n",
    "\n",
    "        return dp[m-1][n-1]\n",
    "\n",
    "\n"
   ]
  }
 ],
 "metadata": {
  "language_info": {
   "name": "python"
  }
 },
 "nbformat": 4,
 "nbformat_minor": 2
}
