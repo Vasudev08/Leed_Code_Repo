{
 "cells": [
  {
   "cell_type": "markdown",
   "metadata": {},
   "source": [
    "### 1. Two Sum - 4/3/2024"
   ]
  },
  {
   "cell_type": "code",
   "execution_count": null,
   "metadata": {},
   "outputs": [],
   "source": [
    "############################### Improvement Table ###########################################\n",
    "\"\"\"\n",
    "Repitition # -  Time Taken \n",
    "1st - 17 mins\n",
    "    \n",
    "\n",
    "\"\"\""
   ]
  },
  {
   "cell_type": "markdown",
   "metadata": {},
   "source": [
    "### Model Answer"
   ]
  },
  {
   "cell_type": "code",
   "execution_count": null,
   "metadata": {},
   "outputs": [],
   "source": [
    "class Solution:\n",
    "    def twoSum(self, nums: List[int], target: int) -> List[int]:\n",
    "        res = defaultdict()\n",
    "        ret = []\n",
    "\n",
    "        for i in range(len(nums)):\n",
    "            comp = target - nums[i]\n",
    "            res[comp] = i\n",
    "\n",
    "        for j in range(len(nums)):\n",
    "            \n",
    "            if nums[j] in res:\n",
    "                ret.append(j)\n",
    "                ret.append(res[nums[j]])\n",
    "\n",
    "        return ret"
   ]
  },
  {
   "cell_type": "markdown",
   "metadata": {},
   "source": [
    "### 1st Repitition"
   ]
  },
  {
   "cell_type": "code",
   "execution_count": null,
   "metadata": {},
   "outputs": [],
   "source": [
    "\"\"\"\n",
    "UMPIRE\n",
    "\n",
    "U: we are given an array and a target, return the index of numbers you used\n",
    "to get to the target\n",
    "NOTE: it's going to be two numbers only\n",
    "\n",
    "M: two 'for' loop\n",
    "Runing time - O(n^2)\n",
    "\n",
    "one 'for' loop with hashmap\n",
    "Running time - O(n)\n",
    "\n",
    "P:\n",
    "1. Create a hashmap which map current element complements (i.e. target - current elemet)\n",
    "    to the index of the current element\n",
    "    key - target's complement\n",
    "    value - index of that element\n",
    "    {4: 0, 3: 2}\n",
    "\n",
    "2. Traverse through the array and check in hashmap if (target - current elemnt) exists\n",
    "    if so, append the current element index and index from the hashmap\n",
    "\n",
    "I:\n",
    "\n",
    "\"\"\"\n",
    "\n",
    "class Solution:\n",
    "    def twoSum(self, nums: List[int], target: int) -> List[int]:\n",
    "        res = defaultdict()\n",
    "        ret = []\n",
    "\n",
    "        for i in range(len(nums)):\n",
    "            comp = target - nums[i]\n",
    "            res[comp] = i\n",
    "\n",
    "        for j in range(len(nums)):\n",
    "            \n",
    "            if nums[j] in res:\n",
    "                ret.append(j)\n",
    "                ret.append(res[nums[j]])\n",
    "\n",
    "        return ret\n"
   ]
  },
  {
   "cell_type": "code",
   "execution_count": null,
   "metadata": {},
   "outputs": [],
   "source": []
  }
 ],
 "metadata": {
  "language_info": {
   "name": "python"
  }
 },
 "nbformat": 4,
 "nbformat_minor": 2
}
