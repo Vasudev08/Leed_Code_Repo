{
 "cells": [
  {
   "cell_type": "markdown",
   "metadata": {},
   "source": [
    "### 424. Longest Repeating Character Replacement - 4/6/2024"
   ]
  },
  {
   "cell_type": "code",
   "execution_count": null,
   "metadata": {},
   "outputs": [],
   "source": [
    "############################### Improvement Table ###########################################\n",
    "\"\"\"\n",
    "Repitition # -  Time Taken   \n",
    "\n",
    "1st Repitition - 42 mins - with looking at the solution\n",
    "2nd Repeitino - 20 mins - minor looking but got the logic of implementation\n",
    "3rd Repetition - 12 mins - 2 lines of debug\n",
    "\n",
    "clock - 38 mins - 26 mins\n",
    "\"\"\""
   ]
  },
  {
   "cell_type": "markdown",
   "metadata": {},
   "source": [
    "### Model Answer"
   ]
  },
  {
   "cell_type": "markdown",
   "metadata": {},
   "source": [
    "### 1st Repitition"
   ]
  },
  {
   "cell_type": "code",
   "execution_count": null,
   "metadata": {},
   "outputs": [],
   "source": [
    "\"\"\"\n",
    "UMPIRE:\n",
    "\n",
    "U: Given a string, return longest repeating character replacement\n",
    "esseintally, we can replace k times any alphabet to any other alphabet\n",
    "to make the longest Repeating string\n",
    "\n",
    "M: two pointers With Hashmap, (Sliding Window)\n",
    "\n",
    "P:\n",
    "\n",
    "1. traverse the string, while recording the current window\n",
    "    character occurence, choose the minCharacter to replace\n",
    "\n",
    "Q1. How we can know that an unique/new character is added to the window.\n",
    "A1. check if the character is in the hashmap (O(1) running time), if not\n",
    "    reduce the 'k' variable\n",
    "\n",
    "NOTE: Not work for s = \"ABAB\" and k = 2\n",
    "\n",
    "NOTE: the problem with the above is we can't choose which character to replace\n",
    "ideally we have to replace the minimum occuring character from the window's hashmap\n",
    "\n",
    "And to make a choice I need to know the minimum and maximum \n",
    "from the hashmap. min(dict) is an O(n) operation which isnt' the best to \n",
    "proceed\n",
    "Q2. How to take the minimum and maximum from the window's hashmap\n",
    "A1. To store the maximum without looking for maximum in the hashmap\n",
    "    we will store and check for maximum while we are recording the \n",
    "    occurence of the current window's hashmap\n",
    "\n",
    "\n",
    "while (r - l + 1) - maxf > k:\n",
    "                count[s[l]] -= 1                \n",
    "                l += 1\n",
    "\n",
    "if the length of current's Window - current's window maximum occuring character\n",
    "is more than 'k' replacement variable. we need to decrease the length of the \n",
    "window and remove/reduce it from the hashmap\n",
    "\n",
    "Also we need to keep track of the max length of windows throughtout the \n",
    "traversing of the array\n",
    "\"\"\"\n",
    "\n",
    "class Solution:\n",
    "    def characterReplacement(self, s: str, k: int) -> int:\n",
    "\n",
    "        curWin = {} # for recordnig the character occurence in a window\n",
    "        curMax = 0\n",
    "        res = 0 # for recording the max length of a window\n",
    "\n",
    "        l = 0 # left pointer of our sliding window \n",
    "\n",
    "        # our right pointer is controlled by the for loop\n",
    "\n",
    "        # IMPORTANT ASSUMPTION:\n",
    "        #NOTE for us to get a max replace string, in that string we have to\n",
    "        # have the maximum occuring character among the string 's'\n",
    "\n",
    "        for r in range(len(s)):\n",
    "            curWin[s[r]] = 1 + curWin.get(s[r], 0)\n",
    "            curWinMax = max(curWinMax, curWin[s[r]])\n",
    "\n",
    "            while (r - l + 1) - curMax > k:\n",
    "                curWin[s[l]] -= 1\n",
    "                l += 1\n",
    "\n",
    "            res = max(res, r - l + 1)\n",
    "\n",
    "\n",
    "        return res\n",
    "            \n",
    "\n",
    "            \n",
    "\n",
    "\n",
    "\n",
    "\n",
    "\n"
   ]
  },
  {
   "cell_type": "markdown",
   "metadata": {},
   "source": [
    "### 2nd Repetition"
   ]
  },
  {
   "cell_type": "code",
   "execution_count": null,
   "metadata": {},
   "outputs": [],
   "source": [
    "\"\"\"\n",
    "UMPIRE:\n",
    "U: given a string s and interger k, return the longerst repeating character\n",
    " where we can replace other character to our chosen character k times\n",
    " our main job is to return the max length\n",
    "\n",
    "M: hashmap + pointers + for loop\n",
    "    hashmap recording the occurence of each character\n",
    "\n",
    "P:\n",
    "1. we will record the occurence of each character and also create a hashmap\n",
    "2. we will use the right pointers to traverse the array\n",
    "3. our while inside the 'for' loop will take care of the left pointers\n",
    "4. we will increasing the left pointer (i.e. decrease the window size) when \n",
    "    (r - l + 1) - maxCharacter > K and also remove the occurence from the\n",
    "    hashmap\n",
    "5. Here we only care about the length of the max repeating string,\n",
    "    we will not worry about taking into consideration the maxcharacter of an \n",
    "    currentWindow. \n",
    "\"\"\"\n",
    "\n",
    "class Solution:\n",
    "    def characterReplacement(self, s: str, k: int) -> int:\n",
    "        res = 0\n",
    "        count = {}\n",
    "        curMax = 0\n",
    "\n",
    "        l = 0\n",
    "\n",
    "        for r in range(len(s)):\n",
    "            count[s[r]] = 1 + count.get(s[r], 0)\n",
    "            curMax = max(curMax, count[s[r]])\n",
    "\n",
    "\n",
    "            while (r - l + 1) - curMax > k:\n",
    "                count[s[l]] -= 1\n",
    "                l += 1\n",
    "\n",
    "            res = max(res, r - l + 1)\n",
    "\n",
    "        return res"
   ]
  },
  {
   "cell_type": "markdown",
   "metadata": {},
   "source": [
    "### 3rd Repetition"
   ]
  },
  {
   "cell_type": "code",
   "execution_count": 2,
   "metadata": {},
   "outputs": [
    {
     "data": {
      "text/plain": [
       "'\\nUMPIRE:\\n'"
      ]
     },
     "execution_count": 2,
     "metadata": {},
     "output_type": "execute_result"
    }
   ],
   "source": [
    "\"\"\"\n",
    "UMPIRE:\n",
    "\n",
    "U: we are given a string 's' and integer 'k',\n",
    "return longest repeating character in 's' as we are allowed to \n",
    "replace 'k' character or 'k' times\n",
    "\n",
    "M: two pointers, maxCharacter recorder + hashmap to get max count of a character\n",
    "\n",
    "\n",
    "P: \n",
    "1. we will have two pointers l and r, where 'r' is going to be controlled by \n",
    "    for loop. i.e. which increases the size of the window.\n",
    "2. we will keep on increase the length of the sliding window until \n",
    "    our cur window length - maxCharacter is more than that we could replace\n",
    "    in which case we will incremmenet the count of 'l' pointers\n",
    "    and record the length as well\n",
    "\n",
    "\"\"\"\n",
    "\n",
    "# controlling the r pointers using for loop i.e. this increases the \n",
    "# size of the sliding window \n",
    "# (r - l + 1) - maxCharacter > k:\n",
    "    # remove the l pointers element\n",
    "    # also record the maxlength\n",
    "\n",
    "\n",
    "class Solution:\n",
    "    def characterReplacement(self, s: str, k: int) -> int:\n",
    "        l = 0\n",
    "        char = {}\n",
    "        resLen = 0\n",
    "\n",
    "        maxCount = 0\n",
    "\n",
    "        for r in range(len(s)):\n",
    "            char[s[r]] = 1 + char.get(s[r], 0)\n",
    "            maxCount = max(maxCount, char[s[r]])\n",
    "\n",
    "            while (r - l + 1) - maxCount > k:\n",
    "                char[s[l]] -= 1\n",
    "                l += 1\n",
    "            resLen = max(resLen, (r - l + 1))\n",
    "\n",
    "\n",
    "        return resLen"
   ]
  }
 ],
 "metadata": {
  "kernelspec": {
   "display_name": "Python 3",
   "language": "python",
   "name": "python3"
  },
  "language_info": {
   "codemirror_mode": {
    "name": "ipython",
    "version": 3
   },
   "file_extension": ".py",
   "mimetype": "text/x-python",
   "name": "python",
   "nbconvert_exporter": "python",
   "pygments_lexer": "ipython3",
   "version": "3.11.9"
  }
 },
 "nbformat": 4,
 "nbformat_minor": 2
}
