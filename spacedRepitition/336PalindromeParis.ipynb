{
 "cells": [
  {
   "cell_type": "markdown",
   "metadata": {},
   "source": [
    "### Leet Code - Template <- Here goes the question no. and name"
   ]
  },
  {
   "cell_type": "code",
   "execution_count": null,
   "metadata": {},
   "outputs": [],
   "source": [
    "############################### Improvement Table ###########################################\n",
    "\"\"\"\n",
    "Repitition # -  Time Taken   \n",
    "1st Repetition - 2 hr +++\n",
    "\n",
    "\"\"\""
   ]
  },
  {
   "cell_type": "markdown",
   "metadata": {},
   "source": [
    "### Time Complexity"
   ]
  },
  {
   "cell_type": "markdown",
   "metadata": {},
   "source": [
    "### Model Answer"
   ]
  },
  {
   "cell_type": "markdown",
   "metadata": {},
   "source": [
    "### 1st Repitition"
   ]
  },
  {
   "cell_type": "code",
   "execution_count": null,
   "metadata": {},
   "outputs": [],
   "source": [
    "# Pseduo Run \n",
    "## Words = ['bat', 'tab'] for next session\n",
    "class TrieNode:\n",
    "    def __init__(self):\n",
    "        self.children = {}\n",
    "        self.index = -1  # Store the index of the word ending at this node\n",
    "        self.palindrome_suffix_indices = []  # Store indices of words with palindromic suffixes\n",
    "\n",
    "class Solution:\n",
    "    def palindromePairs(self, words):\n",
    "        root = TrieNode()\n",
    "        res = []\n",
    "\n",
    "        # Step 1: Build Trie with reversed words\n",
    "        for i, word in enumerate(words):\n",
    "            self.addWord(root, word, i)\n",
    "\n",
    "        # Step 2: Search for palindrome pairs\n",
    "        for i, word in enumerate(words):\n",
    "            self.searchWord(root, word, i, res)\n",
    "\n",
    "        return res\n",
    "\n",
    "    def addWord(self, root, word, index):\n",
    "        # Add the reversed word into the Trie\n",
    "        for i, char in enumerate(reversed(word)):\n",
    "            # Check if the prefix of the word is a palindrome\n",
    "            if self.isPalindrome(word, 0, len(word) - i - 1):\n",
    "                root.palindrome_suffix_indices.append(index)\n",
    "            \n",
    "            if char not in root.children:\n",
    "                root.children[char] = TrieNode()\n",
    "            root = root.children[char]\n",
    "\n",
    "        root.index = index\n",
    "        root.palindrome_suffix_indices.append(index)\n",
    "\n",
    "    def searchWord(self, root, word, index, res):\n",
    "        for i, char in enumerate(word):\n",
    "            # Case 1: A complete word is found in the Trie, and the rest of the word is a palindrome\n",
    "            if root.index >= 0 and root.index != index and self.isPalindrome(word, i, len(word) - 1):\n",
    "                res.append([index, root.index])\n",
    "\n",
    "            # Move to the next Trie node\n",
    "            if char not in root.children:\n",
    "                return\n",
    "            root = root.children[char]\n",
    "\n",
    "        # Case 2: Check remaining words in palindrome_suffix_indices\n",
    "        for palindrome_index in root.palindrome_suffix_indices:\n",
    "            if palindrome_index != index:\n",
    "                res.append([index, palindrome_index])\n",
    "\n",
    "    def isPalindrome(self, word, left, right):\n",
    "        while left < right:\n",
    "            if word[left] != word[right]:\n",
    "                return False\n",
    "            left += 1\n",
    "            right -= 1\n",
    "        return True\n"
   ]
  }
 ],
 "metadata": {
  "language_info": {
   "name": "python"
  }
 },
 "nbformat": 4,
 "nbformat_minor": 2
}
