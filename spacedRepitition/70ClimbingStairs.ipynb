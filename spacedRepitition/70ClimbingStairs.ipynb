{
 "cells": [
  {
   "cell_type": "markdown",
   "metadata": {},
   "source": [
    "### 70. Climbing Stairs - 7/20/2024\n",
    "1st Try - 13 mins -> with no help\n",
    "\n",
    "clock - 6:55 PM -> 7:08 PM"
   ]
  },
  {
   "cell_type": "code",
   "execution_count": null,
   "metadata": {},
   "outputs": [],
   "source": [
    "############################### Improvement Table ###########################################\n",
    "\"\"\"\n",
    "Repitition # -  Time Taken   \n",
    "\n",
    "\n",
    "\"\"\""
   ]
  },
  {
   "cell_type": "markdown",
   "metadata": {},
   "source": [
    "### Model Answer"
   ]
  },
  {
   "cell_type": "markdown",
   "metadata": {},
   "source": [
    "### 1st Repitition"
   ]
  },
  {
   "cell_type": "code",
   "execution_count": null,
   "metadata": {},
   "outputs": [],
   "source": [
    "\"\"\"\n",
    "UMPIRE\n",
    "\n",
    "U: We are given a 'n' interger which represents how many stairs\n",
    "we have to climb to reach the top of the staircase\n",
    "our job is to return total no. of way to reach the top of the staircase\n",
    "\n",
    "\n",
    "M: Dynamic Programming, using list where each index item\n",
    "contains no. of ways to get there or we can just use two variables as well\n",
    "\n",
    "P:\n",
    "1. using 'for' loop we count the no. of reaching the top of staircase\n",
    "\n",
    "\"\"\"\n",
    "\n",
    "class Solution:\n",
    "    def climbStairs(self, n: int) -> int:\n",
    "        first = 1\n",
    "        second = 2\n",
    "\n",
    "        if n == 1:\n",
    "            return first\n",
    "        elif n == 2:\n",
    "            return second\n",
    "        else:\n",
    "            for i in range(n - 2):\n",
    "                tmp = second + first\n",
    "                first = second\n",
    "                second = tmp\n",
    "\n",
    "        return second\n",
    "                "
   ]
  }
 ],
 "metadata": {
  "language_info": {
   "name": "python"
  }
 },
 "nbformat": 4,
 "nbformat_minor": 2
}
