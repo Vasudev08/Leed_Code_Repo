{
 "cells": [
  {
   "cell_type": "markdown",
   "metadata": {},
   "source": [
    "### 103. Binary Tree Zigzag Level Order Traversal - 10/15/2024"
   ]
  },
  {
   "cell_type": "code",
   "execution_count": null,
   "metadata": {},
   "outputs": [],
   "source": [
    "############################### Improvement Table ###########################################\n",
    "\"\"\"\n",
    "Repitition # -  Time Taken   \n",
    "1st Repetition - \n",
    "\n",
    "\"\"\""
   ]
  },
  {
   "cell_type": "markdown",
   "metadata": {},
   "source": [
    "### Model Answer"
   ]
  },
  {
   "cell_type": "markdown",
   "metadata": {},
   "source": [
    "### 1st Repitition"
   ]
  },
  {
   "cell_type": "code",
   "execution_count": null,
   "metadata": {},
   "outputs": [],
   "source": [
    "\"\"\"\n",
    "UMPIRE: \n",
    "\n",
    "U: we are given a binary tree, return the traversal order\n",
    "from left-to-right, right-to-left then alternative between them\n",
    "\n",
    "M: bfs + bool variable\n",
    "\n",
    "P:\n",
    "\n",
    "\"\"\"\n",
    "\n",
    "# Definition for a binary tree node.\n",
    "# class TreeNode:\n",
    "#     def __init__(self, val=0, left=None, right=None):\n",
    "#         self.val = val\n",
    "#         self.left = left\n",
    "#         self.right = right\n",
    "class Solution:\n",
    "    def zigzagLevelOrder(self, root: Optional[TreeNode]) -> List[List[int]]:\n",
    "        # level #1 = left to right\n",
    "        # level #2 = right to left\n",
    "        # level #3 = left to right\n",
    "\n",
    "        if not root:\n",
    "            return []\n",
    "\n",
    "        que = deque([root])\n",
    "        res = []\n",
    "        left_to_right = True\n",
    "\n",
    "        while que:\n",
    "            levelSize = len(que)\n",
    "            levelNodes = deque()\n",
    "\n",
    "            for i in range(levelSize):\n",
    "                node = que.popleft()\n",
    "                \n",
    "                if left_to_right:\n",
    "                    levelNodes.append(node.val)\n",
    "                else:\n",
    "                    levelNodes.appendleft(node.val)\n",
    "\n",
    "                if node.left:\n",
    "                    que.append(node.left)\n",
    "                if node.right:\n",
    "                    que.append(node.right)\n",
    "\n",
    "            res.append(list(levelNodes))\n",
    "            left_to_right = not left_to_right\n",
    "\n",
    "        return res     \n",
    "        "
   ]
  }
 ],
 "metadata": {
  "language_info": {
   "name": "python"
  }
 },
 "nbformat": 4,
 "nbformat_minor": 2
}
