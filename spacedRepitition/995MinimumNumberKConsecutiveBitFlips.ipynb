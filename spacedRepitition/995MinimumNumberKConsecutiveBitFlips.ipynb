{
 "cells": [
  {
   "cell_type": "markdown",
   "metadata": {},
   "source": [
    "### 995. Minimum Number of K Consecutive Bit Flips - 11/10/2024"
   ]
  },
  {
   "cell_type": "code",
   "execution_count": null,
   "metadata": {},
   "outputs": [],
   "source": [
    "############################### Improvement Table ###########################################\n",
    "\"\"\"\n",
    "Repitition # -  Time Taken   \n",
    "1st Repetition\n",
    "\n",
    "\"\"\""
   ]
  },
  {
   "cell_type": "markdown",
   "metadata": {},
   "source": [
    "### Model Answer"
   ]
  },
  {
   "cell_type": "markdown",
   "metadata": {},
   "source": [
    "### 1st Repitition"
   ]
  },
  {
   "cell_type": "code",
   "execution_count": null,
   "metadata": {},
   "outputs": [],
   "source": [
    "\"\"\"\n",
    "- We are going to choose to flip when we see an '0' (greedy solution)\n",
    "- Another trick, to know whether our current num is '0' or '1' we check to how many times\n",
    "    it has been flipped, when flipped 1 times\n",
    "    Oringal num\n",
    "    0 -> current status 0 + 1 % 2 => 1\n",
    "    1 -> current status 1 + 1 % 2 => 0\n",
    "\n",
    "    the above is the way to know the current status of the num according to the flip\n",
    "    which will be stored in a Que\n",
    "- Que will store the flipped indices which are within the k window length\n",
    "\n",
    "M: sliding window + que\n",
    "\n",
    "Running Time - O(n)\n",
    "\n",
    "\n",
    "\"\"\"\n",
    "\n",
    "class Solution:\n",
    "    def minKBitFlips(self, nums: List[int], k: int) -> int:\n",
    "        q = deque()\n",
    "\n",
    "        res = 0\n",
    "\n",
    "        for i in range(len(nums)):\n",
    "\n",
    "            while q and i > q[0] + k - 1:\n",
    "                q.popleft()\n",
    "\n",
    "\n",
    "            if (nums[i] + len(q)) % 2 == 0:\n",
    "                \n",
    "                # if 0's exist's but we can't flip them due to the len of 'k'\n",
    "                if i + k > len(nums):\n",
    "                    return -1\n",
    "\n",
    "                q.append(i)\n",
    "                res += 1\n",
    "\n",
    "        return res"
   ]
  },
  {
   "cell_type": "markdown",
   "metadata": {},
   "source": [
    "### 2nd Repetition - 11/12/2024"
   ]
  },
  {
   "cell_type": "code",
   "execution_count": null,
   "metadata": {},
   "outputs": [],
   "source": [
    "class Solution:\n",
    "    def minKBitFlips(self, nums: List[int], k: int) -> int:\n",
    "        # first trick, we always flip when we see a '0'\n",
    "        # second trick, to know the state of num we are going to use\n",
    "        # deque and len of the deque\n",
    "        # basically deque will hold the index where the flip happned\n",
    "        # which will help us tell the current state of a bit\n",
    "        # '0' bit + len(que) => 0 + 1 % 2 = '1' current state\n",
    "        # '0' bit + len(que) => 0 + 2 % 2 = '0' current state\n",
    "        # que will contain the flipped index of the current window\n",
    "\n",
    "        res = 0\n",
    "        q = deque()\n",
    "\n",
    "        for i in range(len(nums)):\n",
    "            # remove index which are out of the window\n",
    "            while q and i > q[0] + k - 1:\n",
    "                q.popleft()\n",
    "            \n",
    "            # flipping the current num state\n",
    "            if (nums[i] + len(q)) % 2 == 0:\n",
    "                if i + k > len(nums):\n",
    "                    return -1\n",
    "\n",
    "                res += 1\n",
    "                q.append(i)\n",
    "        return res"
   ]
  }
 ],
 "metadata": {
  "language_info": {
   "name": "python"
  }
 },
 "nbformat": 4,
 "nbformat_minor": 2
}
