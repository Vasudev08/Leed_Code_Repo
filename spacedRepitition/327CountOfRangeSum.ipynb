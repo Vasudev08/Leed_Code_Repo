{
 "cells": [
  {
   "cell_type": "markdown",
   "metadata": {},
   "source": [
    "### 327. Count of Range Sum - 1/18/2025 - Very Confusing Problem"
   ]
  },
  {
   "cell_type": "code",
   "execution_count": null,
   "metadata": {},
   "outputs": [],
   "source": [
    "############################### Improvement Table ###########################################\n",
    "\"\"\"\n",
    "Repitition # -  Time Taken   \n",
    "\n",
    "\n",
    "\"\"\""
   ]
  },
  {
   "cell_type": "markdown",
   "metadata": {},
   "source": [
    "### Time Complexity"
   ]
  },
  {
   "cell_type": "markdown",
   "metadata": {},
   "source": [
    "### Model Answer\n",
    "- https://chatgpt.com/share/678c58c8-1dc8-8012-b257-1a8ac8cb0388"
   ]
  },
  {
   "cell_type": "markdown",
   "metadata": {},
   "source": [
    "### 1st Repetition"
   ]
  },
  {
   "cell_type": "code",
   "execution_count": null,
   "metadata": {},
   "outputs": [],
   "source": [
    "class Solution:\n",
    "    def countRangeSum(self, nums: List[int], lower: int, upper: int) -> int:\n",
    "        prefix = [0]\n",
    "\n",
    "        for num in nums:\n",
    "            prefix.append(prefix[-1] + num)\n",
    "\n",
    "        print(prefix)\n",
    "\n",
    "        res = 0\n",
    "        n = len(prefix)\n",
    "\n",
    "        for i in range(n):\n",
    "            for j in range(i + 1, n):\n",
    "                range_sum = prefix[j] - prefix[i]\n",
    "                if lower <= range_sum <= upper:\n",
    "                    res += 1\n",
    "\n",
    "        return res\n",
    "        "
   ]
  },
  {
   "cell_type": "markdown",
   "metadata": {},
   "source": [
    "### 2nd Repetition - 1/19/2025"
   ]
  },
  {
   "cell_type": "code",
   "execution_count": null,
   "metadata": {},
   "outputs": [],
   "source": [
    "class Solution:\n",
    "    def countRangeSum(self, nums: List[int], lower: int, upper: int) -> int:\n",
    "        def countAndMergeSort(prefix, left, right):\n",
    "            if left >= right:\n",
    "                return 0\n",
    "\n",
    "            mid = (left + right) // 2\n",
    "            count = countAndMergeSort(prefix, left, mid) + countAndMergeSort(prefix, mid + 1, right)\n",
    "\n",
    "            j = k = mid + 1\n",
    "            tmp = []\n",
    "\n",
    "            for i in range(left, mid + 1):\n",
    "                while k <= right and prefix[k] - prefix[i] < lower:\n",
    "                    k += 1\n",
    "                while j <= right and prefix[j] - prefix[i] <= upper:\n",
    "                    j += 1\n",
    "\n",
    "                count += (j - k)\n",
    "\n",
    "            temp = sorted(prefix[left:right + 1])\n",
    "            prefix[left:right + 1] = temp\n",
    "            return count\n",
    "\n",
    "        prefix = [0]\n",
    "        for num in nums:\n",
    "            prefix.append(prefix[-1] + num)\n",
    "\n",
    "        return countAndMergeSort(prefix, 0, len(prefix) - 1)\n",
    "        \n",
    "        "
   ]
  }
 ],
 "metadata": {
  "language_info": {
   "name": "python"
  }
 },
 "nbformat": 4,
 "nbformat_minor": 2
}
