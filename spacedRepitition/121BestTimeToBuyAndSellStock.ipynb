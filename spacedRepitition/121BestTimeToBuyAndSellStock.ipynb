{
 "cells": [
  {
   "cell_type": "markdown",
   "metadata": {},
   "source": [
    "### 121. Best Time to Buy and Sell Stock - 4/4/2024"
   ]
  },
  {
   "cell_type": "code",
   "execution_count": null,
   "metadata": {},
   "outputs": [],
   "source": [
    "############################### Improvement Table ###########################################\n",
    "\"\"\"\n",
    "Repitition # -  Time Taken   \n",
    "clock - 58 mins - 35 mins -> 1st Appraoch -> Time Exceed\n",
    "clock - 35 mins - 24 mins -> 2nd Appraoch -> Solution Accepted\n",
    "\n",
    "1st Repition - 36 mins\n",
    "\n",
    "\"\"\""
   ]
  },
  {
   "cell_type": "markdown",
   "metadata": {},
   "source": [
    "### Model Answer"
   ]
  },
  {
   "cell_type": "code",
   "execution_count": null,
   "metadata": {},
   "outputs": [],
   "source": [
    "class Solution:\n",
    "    def maxProfit(self, prices: List[int]) -> int:\n",
    "        res = 0\n",
    "\n",
    "        maxPrices = [0 for i in range(len(prices) + 1)]\n",
    "\n",
    "        for j in range(len(prices) - 1, -1, -1):\n",
    "            maxPrices[j] = max(prices[j], maxPrices[j + 1])\n",
    "\n",
    "\n",
    "        for k in range(len(prices)):\n",
    "            res = max(res, maxPrices[k] - prices[k])\n",
    "\n",
    "        return res"
   ]
  },
  {
   "cell_type": "markdown",
   "metadata": {},
   "source": [
    "### 1st Repitition"
   ]
  },
  {
   "cell_type": "code",
   "execution_count": null,
   "metadata": {},
   "outputs": [],
   "source": [
    "\"\"\"\n",
    "UMPIRE:\n",
    "given a array of stock prices, return the max profit if not, max profit return 0\n",
    "\n",
    "M: two 'for' loops\n",
    "running time - O(N^2)\n",
    "\n",
    "P:\n",
    "1. create a res variable to store the overall max profit\n",
    "2. traverse the array to choose a buy date\n",
    "    3. again traverse through the array this time looking for an sell\n",
    "    date also recording the max profit if we brought at a certain date\n",
    "3. return the maxProfit\n",
    "\n",
    "I:\n",
    "\"\"\"\n",
    "\n",
    "class Solution:\n",
    "    def maxProfit(self, prices: List[int]) -> int:\n",
    "\n",
    "        res = 0;\n",
    "\n",
    "        for i in range(len(prices)):\n",
    "            buy = prices[i]\n",
    "\n",
    "            for j in range(i + 1, len(prices)):\n",
    "                sell = prices[j]\n",
    "                res = max(res, buy - sell)\n",
    "\n",
    "        return res\n",
    "\n"
   ]
  },
  {
   "cell_type": "markdown",
   "metadata": {},
   "source": [
    "### 1st Repitittion - 2nd Try"
   ]
  },
  {
   "cell_type": "code",
   "execution_count": null,
   "metadata": {},
   "outputs": [],
   "source": [
    "\"\"\"\n",
    "NOTE: essentially from the end of the array, we are storing the max Prices at \n",
    "every position. \n",
    "    - i.e. if we were to buy on the last day, we call only sell of \n",
    "that day, so max prices at that position is itself\n",
    "    - last but one position, we have to compare prices of the last but one \n",
    "    position and the next position max prices \n",
    "    - and this way we create a hashmap\n",
    "\n",
    ") \n",
    "1. create a hashmap called maxProfit, which stores the maximum sell prices\n",
    "    at every position if we were to buy that day\n",
    "    maxProfit[i] = max(prices[i], maxProfit[i + 1]) -> Dynamic Programming\n",
    "2. traverse through the prices array and by using the hashmap return the \n",
    "max profit\n",
    "\n",
    "\"\"\"\n",
    "\n",
    "class Solution:\n",
    "    def maxProfit(self, prices: List[int]) -> int:\n",
    "        res = 0\n",
    "\n",
    "        maxPrices = [0 for i in range(len(prices) + 1)]\n",
    "\n",
    "        for j in range(len(prices) - 1, -1, -1):\n",
    "            maxPrices[j] = max(prices[j], maxPrices[j + 1])\n",
    "\n",
    "\n",
    "        for k in range(len(prices)):\n",
    "            res = max(res, maxPrices[k] - prices[k])\n",
    "\n",
    "        return res\n",
    "\n"
   ]
  }
 ],
 "metadata": {
  "language_info": {
   "name": "python"
  }
 },
 "nbformat": 4,
 "nbformat_minor": 2
}
