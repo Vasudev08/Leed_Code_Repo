{
 "cells": [
  {
   "cell_type": "markdown",
   "metadata": {},
   "source": [
    "### 338. Counting Bits - 7/20/2024"
   ]
  },
  {
   "cell_type": "code",
   "execution_count": null,
   "metadata": {},
   "outputs": [],
   "source": [
    "############################### Improvement Table ###########################################\n",
    "\"\"\"\n",
    "Repitition # -  Time Taken  \n",
    "1st Try -  \n",
    "\n",
    "clock - 7:20 PM\n",
    "\"\"\""
   ]
  },
  {
   "cell_type": "markdown",
   "metadata": {},
   "source": [
    "### Model Answer"
   ]
  },
  {
   "cell_type": "markdown",
   "metadata": {},
   "source": [
    "### 1st Repitition"
   ]
  },
  {
   "cell_type": "code",
   "execution_count": null,
   "metadata": {},
   "outputs": [],
   "source": [
    "\"\"\"\n",
    "UMPIRE:\n",
    "\n",
    "U: \n",
    "\"\"\"\n",
    "\n",
    "class TreeNode:\n",
    "    def __init__(self, val=0, left=None, right=None):\n",
    "        self.val = val\n",
    "        self.left = left\n",
    "        self.right = right\n",
    "\n",
    "class Solution:\n",
    "    def binaryTreePaths(self, root: Optional[TreeNode]) -> List[str]:\n",
    "        if not root:\n",
    "            return []\n",
    "        \n",
    "        res = []\n",
    "\n",
    "        def dfs(node, path):\n",
    "            if not node:\n",
    "                return \n",
    "            \n",
    "            path += str(node.val)\n",
    "\n",
    "            if not node.right and not node.left:\n",
    "                res.append(path)\n",
    "            else:\n",
    "                path += \"->\"\n",
    "                dfs(node.left, path)\n",
    "                dfs(node.right, path)\n",
    "\n",
    "\n",
    "        dfs(root, \"\")\n",
    "\n",
    "        return result\n"
   ]
  }
 ],
 "metadata": {
  "language_info": {
   "name": "python"
  }
 },
 "nbformat": 4,
 "nbformat_minor": 2
}
