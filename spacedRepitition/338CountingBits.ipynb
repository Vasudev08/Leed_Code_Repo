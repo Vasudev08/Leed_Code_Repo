{
 "cells": [
  {
   "cell_type": "markdown",
   "metadata": {},
   "source": [
    "### 338. Counting Bits - 7/20/2024"
   ]
  },
  {
   "cell_type": "code",
   "execution_count": null,
   "metadata": {},
   "outputs": [],
   "source": [
    "############################### Improvement Table ###########################################\n",
    "\"\"\"\n",
    "Repitition # -  Time Taken  \n",
    "1st Try -  \n",
    "\n",
    "clock - 7:20 PM\n",
    "\"\"\""
   ]
  },
  {
   "cell_type": "markdown",
   "metadata": {},
   "source": [
    "### Model Answer"
   ]
  },
  {
   "cell_type": "markdown",
   "metadata": {},
   "source": [
    "### 1st Repitition"
   ]
  },
  {
   "cell_type": "code",
   "execution_count": null,
   "metadata": {},
   "outputs": [],
   "source": [
    "\"\"\"\n",
    "UMPIRE:\n",
    "\n",
    "U: \n",
    "    Given - interger 'n'\n",
    "    Return - No. of 1's in the binary representation of numbers\n",
    "                from 0 to n\n",
    "\n",
    "    There is a pattern to this solution also remember an word 'offset'\n",
    "    Int ---------> Binary Representation\n",
    "    0 -> 0000\n",
    "    1 -> 0001 this is basically 1 + int(0), offset(1) -> 1 + dp[n - 1]\n",
    "    2 -> 0010 this is basically 1 + int(0), offset(2) -> 1 + dp[n - 2]\n",
    "    3 -> 0011 this is basically 1 + int(1), offset(2)\n",
    "    4 -> 0100 this is basically 1 + int(0), offset (4) -> 1 + dp[n - 4]\n",
    "    5 -> 0101 this is basiclaly 1 + int(1), offset (4)\n",
    "    6 -> 0110 this is basically 1 + int(2), offset (4)\n",
    "    7 -> 0111 this is basically 1 + int(3), offset (4)\n",
    "    8 -> 1000 this is basically 1 + int(0), offset (8) -> 1 + dp[n - 8]\n",
    "\n",
    "    Here we have a pattern of 'offset' which follows the\n",
    "    power of '2s'\n",
    "\n",
    "    So, whenever we encounter an power of '2s' we change our \n",
    "    offset and use memory of dp of solve this problem\n",
    "\n",
    "    M: dynamic Programming, Running time O(N) and space complexity O(n)\n",
    "\n",
    "    P:\n",
    "\n",
    "    E; \n",
    "\"\"\"\n",
    "\n",
    "class Solution:\n",
    "    def countBits(self, n: int) -> List[int]:\n",
    "        dp = [0] * (n + 1)\n",
    "        offset = 1\n",
    "\n",
    "        for i in range(1, n + 1):\n",
    "            if offset * 2 == i:\n",
    "                offset = i\n",
    "            dp[i] = 1 + dp[i - offset]\n",
    "\n",
    "        return dp\n"
   ]
  },
  {
   "cell_type": "code",
   "execution_count": null,
   "metadata": {},
   "outputs": [],
   "source": []
  }
 ],
 "metadata": {
  "language_info": {
   "name": "python"
  }
 },
 "nbformat": 4,
 "nbformat_minor": 2
}
