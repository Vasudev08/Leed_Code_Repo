{
 "cells": [
  {
   "cell_type": "markdown",
   "metadata": {},
   "source": [
    "### 257. Binary Tree Paths - 7/21/2024"
   ]
  },
  {
   "cell_type": "code",
   "execution_count": null,
   "metadata": {},
   "outputs": [],
   "source": [
    "############################### Improvement Table ###########################################\n",
    "\"\"\"\n",
    "Repitition # -  Time Taken   \n",
    "\n",
    "\n",
    "\"\"\""
   ]
  },
  {
   "cell_type": "markdown",
   "metadata": {},
   "source": [
    "### Model Answer"
   ]
  },
  {
   "cell_type": "markdown",
   "metadata": {},
   "source": [
    "### 1st Repitition"
   ]
  },
  {
   "cell_type": "code",
   "execution_count": null,
   "metadata": {},
   "outputs": [],
   "source": [
    "\"\"\"\n",
    "UMPIRE:\n",
    "\n",
    "U :- we are given a binary tree, our job is to return the all \n",
    "    nodes in teh binary tree as a list or in custom order\n",
    "\n",
    "\n",
    "M :- dfs traveral with path\n",
    "\n",
    "\"\"\"\n",
    "class TreeNode:\n",
    "    def __init__(self, val=0, left=None, right=None):\n",
    "        self.val = val\n",
    "        self.left = left\n",
    "        self.right = right\n",
    "\n",
    "class Solution:\n",
    "    def binaryTreePaths(self, root: Optional[TreeNode]) -> List[str]:\n",
    "        \n",
    "        if not root:\n",
    "            return []\n",
    "        \n",
    "        res = []\n",
    "\n",
    "        def dfs(node, path):\n",
    "            if not node:\n",
    "                return \n",
    "            \n",
    "            path += str(node.val)\n",
    "\n",
    "            if not node.left and not node.right:\n",
    "                res.append(path)\n",
    "            else:\n",
    "                path = \"->\"\n",
    "                dfs(node.left, path)\n",
    "                dfs(node.right, path)\n",
    "\n",
    "\n",
    "        \n",
    "        dfs(root, \"\")\n",
    "\n",
    "        return res\n"
   ]
  },
  {
   "cell_type": "markdown",
   "metadata": {},
   "source": [
    "### 2nd Repitition - 7/21/2024"
   ]
  },
  {
   "cell_type": "code",
   "execution_count": null,
   "metadata": {},
   "outputs": [],
   "source": [
    "\"\"\"\n",
    "UMPIRE:\n",
    "\n",
    "U: \n",
    "\"\"\"\n",
    "\n",
    "class TreeNode:\n",
    "    def __init__(self, val=0, left=None, right=None):\n",
    "        self.val = val\n",
    "        self.left = left\n",
    "        self.right = right\n",
    "\n",
    "class Solution:\n",
    "    def binaryTreePaths(self, root: Optional[TreeNode]) -> List[str]:\n",
    "        if not root:\n",
    "            return []\n",
    "        \n",
    "        res = []\n",
    "\n",
    "        def dfs(node, path):\n",
    "            if not node:\n",
    "                return \n",
    "            \n",
    "            path += str(node.val)\n",
    "\n",
    "            if not node.right and not node.left:\n",
    "                res.append(path)\n",
    "            else:\n",
    "                path += \"->\"\n",
    "                dfs(node.left, path)\n",
    "                dfs(node.right, path)\n",
    "\n",
    "\n",
    "        dfs(root, \"\")\n",
    "\n",
    "        return result\n"
   ]
  }
 ],
 "metadata": {
  "language_info": {
   "name": "python"
  }
 },
 "nbformat": 4,
 "nbformat_minor": 2
}
