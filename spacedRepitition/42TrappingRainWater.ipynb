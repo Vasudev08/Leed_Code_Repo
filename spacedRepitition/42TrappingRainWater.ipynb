{
 "cells": [
  {
   "cell_type": "markdown",
   "metadata": {},
   "source": [
    "### 42. Trapping Rain Water - 1/3/2025"
   ]
  },
  {
   "cell_type": "code",
   "execution_count": null,
   "metadata": {},
   "outputs": [],
   "source": [
    "############################### Improvement Table ###########################################\n",
    "\"\"\"\n",
    "Repitition # -  Time Taken   \n",
    "1st repetition - 1/3/2025\n",
    "\n",
    "\"\"\""
   ]
  },
  {
   "cell_type": "markdown",
   "metadata": {},
   "source": [
    "### Time Complexity\n",
    "- O(n)"
   ]
  },
  {
   "cell_type": "markdown",
   "metadata": {},
   "source": [
    "### Model Answer"
   ]
  },
  {
   "cell_type": "markdown",
   "metadata": {},
   "source": [
    "### 1st Repetition - 30 mins"
   ]
  },
  {
   "cell_type": "code",
   "execution_count": null,
   "metadata": {},
   "outputs": [],
   "source": [
    "class Solution:\n",
    "    def trap(self, height: List[int]) -> int:\n",
    "        if not height:\n",
    "            return 0\n",
    "\n",
    "        # to calculate the trapped water in the following scenrio\n",
    "        # we need for current cell\n",
    "            # height max of left cell\n",
    "            # height max of right cell\n",
    "\n",
    "        n = len(height)\n",
    "\n",
    "        # calculating the leftMax of each cell\n",
    "        leftMax = [0] * n\n",
    "        leftMax[0] = height[0]\n",
    "\n",
    "        for i in range(1, len(height)):\n",
    "            leftMax[i] = max(height[i], leftMax[i - 1])\n",
    "\n",
    "\n",
    "        # calculating the rightMax for each cell\n",
    "        rightMax = [0] * n\n",
    "        rightMax[-1] = height[-1]\n",
    "\n",
    "        for i in range(len(height) - 2, -1, -1):\n",
    "            rightMax[i] = max(height[i], rightMax[i + 1])\n",
    "\n",
    "        res = 0\n",
    "        for i in range(n):\n",
    "            res += max(0, min(leftMax[i], rightMax[i]) - height[i])\n",
    "\n",
    "        return res\n",
    "    "
   ]
  }
 ],
 "metadata": {
  "language_info": {
   "name": "python"
  }
 },
 "nbformat": 4,
 "nbformat_minor": 2
}
