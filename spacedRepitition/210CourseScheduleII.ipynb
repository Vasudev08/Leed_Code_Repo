{
 "cells": [
  {
   "cell_type": "markdown",
   "metadata": {},
   "source": [
    "### 210. Course Schedule II"
   ]
  },
  {
   "cell_type": "code",
   "execution_count": null,
   "metadata": {},
   "outputs": [],
   "source": [
    "############################### Improvement Table ###########################################\n",
    "\"\"\"\n",
    "Repitition # -  Time Taken   \n",
    "1st Repitition - 40 mins had the idea on point, but implementation sucked, with a lot of help\n",
    "\n",
    "\"\"\""
   ]
  },
  {
   "cell_type": "markdown",
   "metadata": {},
   "source": [
    "### Model Answer"
   ]
  },
  {
   "cell_type": "markdown",
   "metadata": {},
   "source": [
    "### 1st Repitition"
   ]
  },
  {
   "cell_type": "code",
   "execution_count": null,
   "metadata": {},
   "outputs": [],
   "source": [
    "\"\"\"\n",
    "UMPIRE\n",
    "\n",
    "U: we are given a list of list, which contains pairs [i, j]\n",
    "which tells us that to take course 'i' we have to take course 'j' \n",
    "our job is to return the list which tells the ordering of the courses to \n",
    "be taken \n",
    "\n",
    "M: Dynamic Programming + converting list of list into a course : pre dictionaryu\n",
    "\n",
    "running time - O( V + E )\n",
    "space time - O( V + E)\n",
    "\n",
    "P:\n",
    "1. create a dictionary representation of the list of pair\n",
    "2. traverse through the dictionary, if at any point an cycle is detected \n",
    "    return empty array '[]'\n",
    "    otherwise return the ordering of courses to be taken\n",
    "\n",
    "Q1. how to detect a cycle ?\n",
    "A1. we will have temperoray list, which contains courses which are being\n",
    "currently verfified if they can be taken. And if the current course is in\n",
    "the dictionary return []\n",
    "\"\"\"\n",
    "\n",
    "class Solution:\n",
    "    def findOrder(self, numCourses: int, prerequisites: List[List[int]]) -> List[int]:\n",
    "        graph = defaultdict(list)\n",
    "\n",
    "        for i, j in prerequisites:\n",
    "            graph[i].append(j)\n",
    "\n",
    "        result = []\n",
    "        # stores the odering of courses to be taken\n",
    "\n",
    "        courseState = [0] * numCourses\n",
    "        # 0 - univisited, 1 - visiting, 2 - visited\n",
    "        cycle = False\n",
    "\n",
    "        def dfs(course):\n",
    "            nonlocal cycle\n",
    "            if courseState[course] == 1:\n",
    "                # we detected a cycle\n",
    "                cycle = True\n",
    "                return\n",
    "            \n",
    "            if courseState[course] == 2:\n",
    "                # Already visisted course\n",
    "                return\n",
    "            \n",
    "            courseState[course] = 1\n",
    "\n",
    "            for i in graph[course]:\n",
    "                if not cycle:\n",
    "                    dfs(i)\n",
    "\n",
    "            courseState[course] = 2\n",
    "            result.append(course)\n",
    "\n",
    "        for course in range(numCourses):\n",
    "            if courseState[course] == 0:\n",
    "                dfs(course)\n",
    "            if cycle:\n",
    "                return []\n",
    "            \n",
    "        return result\n",
    "\n",
    "\n"
   ]
  }
 ],
 "metadata": {
  "language_info": {
   "name": "python"
  }
 },
 "nbformat": 4,
 "nbformat_minor": 2
}
