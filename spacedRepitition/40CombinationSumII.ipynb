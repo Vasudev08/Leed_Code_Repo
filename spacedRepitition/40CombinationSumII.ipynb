{
 "cells": [
  {
   "cell_type": "markdown",
   "metadata": {},
   "source": [
    "### 40. Combination Sum II - 10/26/2024"
   ]
  },
  {
   "cell_type": "code",
   "execution_count": null,
   "metadata": {},
   "outputs": [],
   "source": [
    "############################### Improvement Table ###########################################\n",
    "\"\"\"\n",
    "Repitition # -  Time Taken \n",
    "1st - 23 mins - with little bit of help  \n",
    "\n",
    "\n",
    "\"\"\""
   ]
  },
  {
   "cell_type": "markdown",
   "metadata": {},
   "source": [
    "### Model Answer"
   ]
  },
  {
   "cell_type": "markdown",
   "metadata": {},
   "source": [
    "### 1st Repitition"
   ]
  },
  {
   "cell_type": "code",
   "execution_count": null,
   "metadata": {},
   "outputs": [],
   "source": [
    "\"\"\"\n",
    "UMPIRE\n",
    "\n",
    "U: we are given list of nums using which we are to sum up to target \n",
    "    each number in candidates can only be used once\n",
    "\n",
    "M: backTracking + combinations I question\n",
    "\n",
    "P: is the below implementation\n",
    "\n",
    "Running Time : O(2^n)\n",
    "\"\"\"\n",
    "\n",
    "class Solution:\n",
    "    def combinationSum2(self, candidates: List[int], target: int) -> List[List[int]]:\n",
    "        res = set()\n",
    "        candidates = sorted(candidates)\n",
    "\n",
    "        def backTracking(index, curSum, curList):\n",
    "            \n",
    "\n",
    "            if curSum == target:\n",
    "                res.add(tuple(curList[:]))\n",
    "            \n",
    "            \n",
    "\n",
    "            if index >= len(candidates) or curSum > target:\n",
    "                return\n",
    "                \n",
    "\n",
    "            curElement = candidates[index]\n",
    "            curList.append(curElement)\n",
    "\n",
    "            \n",
    "\n",
    "            backTracking(index + 1, curSum + curElement, curList)\n",
    "\n",
    "            curList.pop()\n",
    "\n",
    "            next_index = index + 1\n",
    "            while (next_index) < len(candidates) and candidates[next_index] == candidates[index]:\n",
    "                next_index += 1\n",
    "\n",
    "            backTracking(next_index, curSum, curList)\n",
    "\n",
    "        backTracking(0, 0, [])\n",
    "\n",
    "        return list(res)\n",
    "        "
   ]
  },
  {
   "cell_type": "markdown",
   "metadata": {},
   "source": [
    "### 2nd Repitition - 12/12/2024"
   ]
  },
  {
   "cell_type": "code",
   "execution_count": null,
   "metadata": {},
   "outputs": [],
   "source": [
    "class Solution:\n",
    "    def combinationSum2(self, candidates: List[int], target: int) -> List[List[int]]:\n",
    "        # backTracking with a list which means using pop as list is a mutable object\n",
    "        # and share a single copy \n",
    "        # at every index we have a choice to wether inclue the current num or not\n",
    "        # So, running time : O(2^n)\n",
    "\n",
    "        def backTracking(index, total, curlist):\n",
    "            if total == target:\n",
    "                res.add(tuple(curlist[:])) # save a copy of curList as we pop it and it's mutable\n",
    "\n",
    "            if index >= len(candidates) or total > target:\n",
    "                return\n",
    "\n",
    "            for i in range(index, len(candidates)):\n",
    "                if i > index and candidates[i] == candidates[i - 1]:\n",
    "                    continue\n",
    "                ele = candidates[i]\n",
    "                curlist.append(ele)\n",
    "                    \n",
    "                backTracking(i + 1, total + ele, curlist )\n",
    "                curlist.pop()\n",
    "\n",
    "\n",
    "            \n",
    "\n",
    "        candidates = sorted(candidates)\n",
    "        res = set()\n",
    "        backTracking(0, 0, [])\n",
    "        return list(res)\n",
    "        "
   ]
  }
 ],
 "metadata": {
  "language_info": {
   "name": "python"
  }
 },
 "nbformat": 4,
 "nbformat_minor": 2
}
