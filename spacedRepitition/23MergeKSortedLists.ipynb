{
 "cells": [
  {
   "cell_type": "markdown",
   "metadata": {},
   "source": [
    "### 23. Merge K Sorted Lists - 4/15/2024"
   ]
  },
  {
   "cell_type": "code",
   "execution_count": null,
   "metadata": {},
   "outputs": [],
   "source": [
    "############################### Improvement Table ###########################################\n",
    "\"\"\"\n",
    "Repitition # -  Time Taken  \n",
    "\n",
    "clock - 21 mins - got the logic right but need help in implementation \n",
    "                    where I will look at the previous submission\n",
    "\n",
    "\n",
    "\"\"\""
   ]
  },
  {
   "cell_type": "markdown",
   "metadata": {},
   "source": [
    "### Model Answer"
   ]
  },
  {
   "cell_type": "markdown",
   "metadata": {},
   "source": [
    "### 1st Repitition"
   ]
  },
  {
   "cell_type": "code",
   "execution_count": null,
   "metadata": {},
   "outputs": [],
   "source": [
    "\"\"\"\n",
    "UMPIRE:\n",
    "\n",
    "U: given a array of 'k' linked list, return a single linked list\n",
    "in asceding order ( in a linked list format)\n",
    "\n",
    "NOTE: all linked list are sorted in asceding order\n",
    "\n",
    "M: two pointers + queue (pop and append) until len(que) == 1 using while loop\n",
    "\n",
    "we will merge two linked list using two pointers\n",
    "'f' and 's'\n",
    "as we don't know the length of the linked list there are going to be edge\n",
    "cases for sure\n",
    "our while loop condition \n",
    "1. while (f and s):\n",
    "\n",
    "once we are out of this while loop we know that we have either reached the end of \n",
    "'f' or 's' linked list\n",
    "\n",
    "2. while (s):\n",
    "    f.next = s\n",
    "\n",
    "3. while (f):\n",
    "    s.next = f\n",
    "\n",
    "\n",
    "P: \n",
    "\n",
    "1. we will merge two linked list using queue algo + two pointers\n",
    "\n",
    "2. pop the 1st and 2nd element until the length of the que == 1\n",
    "3. merge the 1st and 2nd popped linked list using two pointers\n",
    "    and take care of the edge cases\n",
    "\"\"\"\n",
    "\n",
    "class Solution:\n",
    "    def mergeKLists(self, lists: List[Optional[ListNode]]) -> Optional[ListNode]:\n",
    "        if len(lists) == 0:\n",
    "            return ListNode() # empty node\n",
    "        \n",
    "        while (len(lists) != 1):\n",
    "            f = lists.pop(0)\n",
    "            s = lists.pop(0)\n",
    "\n",
    "            while (f and s):\n",
    "                fnext = f.next\n",
    "                snext = s.next\n",
    "\n",
    "                if f.val >= s.val:\n",
    "                    s.next = fnext\n",
    "                    f.next = s\n",
    "                else:\n",
    "                    s.next = f\n",
    "\n",
    "\n",
    "                s = snext\n",
    "                f = fnext\n",
    "\n",
    "\n"
   ]
  }
 ],
 "metadata": {
  "language_info": {
   "name": "python"
  }
 },
 "nbformat": 4,
 "nbformat_minor": 2
}
