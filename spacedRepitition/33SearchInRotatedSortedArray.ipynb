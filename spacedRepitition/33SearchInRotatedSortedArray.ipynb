{
 "cells": [
  {
   "cell_type": "markdown",
   "metadata": {},
   "source": [
    "### 33. Search in Rotated Sorted Array - 4/12/2024"
   ]
  },
  {
   "cell_type": "code",
   "execution_count": null,
   "metadata": {},
   "outputs": [],
   "source": [
    "############################### Improvement Table ###########################################\n",
    "\"\"\"\n",
    "Repitition # -  Time Taken - remarks\n",
    "\n",
    "1st Repetition - 32 mins (with alots of help)\n",
    "2nd repetition - 18 mins (less than 1st repetition but got the logic right)\n",
    "\n",
    "\n",
    "clock - 59 mins \n",
    "\n",
    "\"\"\""
   ]
  },
  {
   "cell_type": "markdown",
   "metadata": {},
   "source": [
    "### Model Answer"
   ]
  },
  {
   "cell_type": "markdown",
   "metadata": {},
   "source": [
    "### 1st Repitition"
   ]
  },
  {
   "cell_type": "code",
   "execution_count": null,
   "metadata": {},
   "outputs": [],
   "source": [
    "\"\"\"\n",
    "UMPIRE:\n",
    "\n",
    "U: given an array sorted in ascending order and which also has been rotated\n",
    "    at pivot index. Our job is to return the index of the element we are seraching\n",
    "\n",
    "NOTE: the array in ordered in ascending order\n",
    "\n",
    "M: As the time complexity requirement is O(log n) time, we are going to use binary\n",
    "searh\n",
    "\n",
    "Looking at the nums we got have the one of the following forms:\n",
    "[1, 2, 3, 4, 5, 6, 7, 8] -> Increasing order last element > first element\n",
    "\n",
    "[4, 5, 6, 7, 8, 1, 2, 3] -> Mixed order last element < first element\n",
    "\n",
    "Increasing order and mixed order belong togther and can be checked\n",
    "\n",
    "[8, 7, 6, 5, 4, 3, 2, 1] -> decreasing order last & middle element < first element\n",
    "\n",
    "P:\n",
    "1. we are going to use the above pattern to our advantage\n",
    "    as in convert the string to one of above three forms\n",
    "2. this would be done by using 'mid' value and recursion function\n",
    "    where we are going to call 'search' function again and again\n",
    "    with the list containing the element as in the 'nums' list \n",
    "    would be modified \n",
    "\n",
    "While Planning weight- in different implementations approach \n",
    "and first implement the easiest one for you\n",
    "\n",
    "WRONG WRONG WRONG APPROACH ABOVE\n",
    "\n",
    "P:\n",
    "1. we aren't going to use recursion as recursion will make this problem\n",
    "difficult rather we are going to use 'while' loop to implement the solution\n",
    "along with pointers l and r which represents extreme left and extreme right\n",
    "of an array\n",
    "\"\"\"\n",
    "\n",
    "class Solution:\n",
    "    def search(self, nums: List[int], target: int) -> int:\n",
    "        mid = len(nums) / 2\n",
    "        l = 0\n",
    "        r = len(nums) - 1\n",
    "\n",
    "        if nums[r] > nums[l]:\n",
    "            # Increasing order\n",
    "            if nums[mid] == target:\n",
    "                return mid\n",
    "            \n",
    "            if target > nums[mid]:\n",
    "                self.search(nums[mid + 1:], target)\n",
    "            elif target < nums[mid]:\n",
    "                self.search(nums[:mid], target)\n",
    "\n",
    "        elif \n",
    "            \n"
   ]
  },
  {
   "cell_type": "markdown",
   "metadata": {},
   "source": [
    "### 1st Repetition 2nd Try"
   ]
  },
  {
   "cell_type": "code",
   "execution_count": null,
   "metadata": {},
   "outputs": [],
   "source": [
    "\"\"\"\n",
    "WRONG WRONG WRONG APPROACH ABOVE\n",
    "\n",
    "P:\n",
    "1. we aren't going to use recursion as recursion will make this problem\n",
    "difficult rather we are going to use 'while' loop to implement the solution\n",
    "along with pointers l and r which represents extreme left and extreme right\n",
    "of an array\n",
    "\n",
    "\n",
    "\"\"\"\n",
    "\n",
    "class Solution:\n",
    "    def search(self, nums: List[int], target: int) -> int:\n",
    "\n",
    "        l, r = 0, len(nums) - 1\n",
    "\n",
    "        while (l <=r):\n",
    "            mid = (l + r) // 2\n",
    "\n",
    "            if target == nums[mid]:\n",
    "                return mid\n",
    "            \n",
    "            if nums[l] <= nums[mid]:\n",
    "                # This means the left sub-section is in increaseing order\n",
    "                # and the right sub-section is in decreasing order\n",
    "                # OR\n",
    "                # the array in the increasing Order\n",
    "                # which means the following\n",
    "                # [4, 5, 6, 7, 8, 1, 2, 3]\n",
    "                if target > nums[mid] or target < nums[l]:\n",
    "                    l = mid + 1\n",
    "                    # this means the target belogn to the right sub section of\n",
    "                    # current array which is defined by pointers 'l' and 'r'\n",
    "                    # OR Statement catches for mixed order\n",
    "                else:\n",
    "                    r = mid - 1\n",
    "                    # this means the target belongs to the left sub-section of\n",
    "                    # current array which is defined by pointers 'l' and 'r'\n",
    "            else:\n",
    "                # Decreasing Order\n",
    "                # [8, 7, 6, 5, 4, 3, 2, 1]\n",
    "                if target < nums[mid] or target > nums[r]:\n",
    "                    # as the array is in decreasing order\n",
    "                    # above we are checking if belong to right sub-section\n",
    "                    # Or left sub-Section\n",
    "                    r = mid - 1\n",
    "                else:\n",
    "                    l = mid + 1\n",
    "\n",
    "        return - 1\n",
    "\n"
   ]
  },
  {
   "cell_type": "markdown",
   "metadata": {},
   "source": [
    "### 2nd Repetition - 4/15/2024"
   ]
  },
  {
   "cell_type": "code",
   "execution_count": 1,
   "metadata": {},
   "outputs": [
    {
     "data": {
      "text/plain": [
       "'\\nUMPIRE:\\nU:\\n'"
      ]
     },
     "execution_count": 1,
     "metadata": {},
     "output_type": "execute_result"
    }
   ],
   "source": [
    "\"\"\"\n",
    "UMPIRE:\n",
    "U:\n",
    "Given a array having rotated elements around a pivot, and our job is to find\n",
    "    an target and return the index of the target\n",
    "    NOTE: Reqiurement is to have O (log n) running time\n",
    "\n",
    "M: binary serach + two pointers (l, r) + while loop + mid\n",
    "\n",
    "Here we can say the following:\n",
    "\n",
    "if right > left -> increasing order\n",
    "\n",
    "if mid > left -> increasing order or mixed order\n",
    "else mid < left -> decreasing order\n",
    "\n",
    "keeping the above pattern in mind we can solve the problem\n",
    "as we would be able to tell on which sub-section that does element belong\n",
    "and we can move the pointers accordingly as well\n",
    "\n",
    "P.\n",
    "1. initilaze the pointers 'l' and 'r'\n",
    "2. using while loop, compute the mid value of the array\n",
    "    compare the target to mid and resp. left and maybe the 'r' pointer\n",
    "    to konw which sub-section to move-on to\n",
    "3. continue the process until you l < r in which case return mid\n",
    "\"\"\"\n",
    "\n",
    "class Solution:\n",
    "    def serach(self, nums: List[int], target: int) -> int:\n",
    "        l = 0\n",
    "        r = len(nums) - 1\n",
    "        res= -1\n",
    "\n",
    "        while (l < r):\n",
    "            mid = (r + l) // 2\n",
    "\n",
    "            if nums[mid] > nums[l]:\n",
    "                if target < nums[l] or target < nums[mid]:\n",
    "                    l = mid + 1\n",
    "                else:\n",
    "                    r = mid - 1\n",
    "            else:\n",
    "                # [7, 6, 5, 4, 3, 2, 1]\n",
    "                if target < nums[mid]:\n",
    "                    r = mid - 1\n",
    "                else:\n",
    "                    l =  mid + 1\n",
    "\n",
    "\n",
    "        return mid\n",
    "\n"
   ]
  }
 ],
 "metadata": {
  "kernelspec": {
   "display_name": "Python 3",
   "language": "python",
   "name": "python3"
  },
  "language_info": {
   "codemirror_mode": {
    "name": "ipython",
    "version": 3
   },
   "file_extension": ".py",
   "mimetype": "text/x-python",
   "name": "python",
   "nbconvert_exporter": "python",
   "pygments_lexer": "ipython3",
   "version": "3.11.9"
  }
 },
 "nbformat": 4,
 "nbformat_minor": 2
}
