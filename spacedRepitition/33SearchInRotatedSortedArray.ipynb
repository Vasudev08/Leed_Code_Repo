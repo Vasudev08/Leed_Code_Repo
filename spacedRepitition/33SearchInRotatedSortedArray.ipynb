{
 "cells": [
  {
   "cell_type": "markdown",
   "metadata": {},
   "source": [
    "### 33. Search in Rotated Sorted Array - 4/12/2024"
   ]
  },
  {
   "cell_type": "code",
   "execution_count": null,
   "metadata": {},
   "outputs": [],
   "source": [
    "############################### Improvement Table ###########################################\n",
    "\"\"\"\n",
    "Repitition # -  Time Taken \n",
    "\n",
    "1st Repetition - 32 mins (with alots of help)\n",
    "\n",
    "\n",
    "clock - 48 mins - 16 mins\n",
    "\n",
    "\"\"\""
   ]
  },
  {
   "cell_type": "markdown",
   "metadata": {},
   "source": [
    "### Model Answer"
   ]
  },
  {
   "cell_type": "markdown",
   "metadata": {},
   "source": [
    "### 1st Repitition"
   ]
  },
  {
   "cell_type": "code",
   "execution_count": null,
   "metadata": {},
   "outputs": [],
   "source": [
    "\"\"\"\n",
    "UMPIRE:\n",
    "\n",
    "U: given an array sorted in ascending order and which also has been rotated\n",
    "    at pivot index. Our job is to return the index of the element we are seraching\n",
    "\n",
    "NOTE: the array in ordered in ascending order\n",
    "\n",
    "M: As the time complexity requirement is O(log n) time, we are going to use binary\n",
    "searh\n",
    "\n",
    "Looking at the nums we got have the one of the following forms:\n",
    "[1, 2, 3, 4, 5, 6, 7, 8] -> Increasing order last element > first element\n",
    "\n",
    "[4, 5, 6, 7, 8, 1, 2, 3] -> Mixed order last element < first element\n",
    "\n",
    "Increasing order and mixed order belong togther and can be checked\n",
    "\n",
    "[8, 7, 6, 5, 4, 3, 2, 1] -> decreasing order last & middle element < first element\n",
    "\n",
    "P:\n",
    "1. we are going to use the above pattern to our advantage\n",
    "    as in convert the string to one of above three forms\n",
    "2. this would be done by using 'mid' value and recursion function\n",
    "    where we are going to call 'search' function again and again\n",
    "    with the list containing the element as in the 'nums' list \n",
    "    would be modified \n",
    "\n",
    "While Planning weight- in different implementations approach \n",
    "and first implement the easiest one for you\n",
    "\n",
    "WRONG WRONG WRONG APPROACH ABOVE\n",
    "\n",
    "P:\n",
    "1. we aren't going to use recursion as recursion will make this problem\n",
    "difficult rather we are going to use 'while' loop to implement the solution\n",
    "along with pointers l and r which represents extreme left and extreme right\n",
    "of an array\n",
    "\"\"\"\n",
    "\n",
    "class Solution:\n",
    "    def search(self, nums: List[int], target: int) -> int:\n",
    "        mid = len(nums) / 2\n",
    "        l = 0\n",
    "        r = len(nums) - 1\n",
    "\n",
    "        if nums[r] > nums[l]:\n",
    "            # Increasing order\n",
    "            if nums[mid] == target:\n",
    "                return mid\n",
    "            \n",
    "            if target > nums[mid]:\n",
    "                self.search(nums[mid + 1:], target)\n",
    "            elif target < nums[mid]:\n",
    "                self.search(nums[:mid], target)\n",
    "\n",
    "        elif \n",
    "            \n"
   ]
  },
  {
   "cell_type": "markdown",
   "metadata": {},
   "source": [
    "### 1st Repetition 2nd Try"
   ]
  },
  {
   "cell_type": "code",
   "execution_count": null,
   "metadata": {},
   "outputs": [],
   "source": [
    "\"\"\"\n",
    "WRONG WRONG WRONG APPROACH ABOVE\n",
    "\n",
    "P:\n",
    "1. we aren't going to use recursion as recursion will make this problem\n",
    "difficult rather we are going to use 'while' loop to implement the solution\n",
    "along with pointers l and r which represents extreme left and extreme right\n",
    "of an array\n",
    "\n",
    "\n",
    "\"\"\"\n",
    "\n",
    "class Solution:\n",
    "    def search(self, nums: List[int], target: int) -> int:\n",
    "\n",
    "        l, r = 0, len(nums) - 1\n",
    "\n",
    "        while (l <=r):\n",
    "            mid = (l + r) // 2\n",
    "\n",
    "            if target == nums[mid]:\n",
    "                return mid\n",
    "            \n",
    "            if nums[l] <= nums[mid]:\n",
    "                # This means the left sub-section is in increaseing order\n",
    "                # and the right sub-section is in decreasing order\n",
    "                # OR\n",
    "                # the array in the increasing Order\n",
    "                # which means the following\n",
    "                # [4, 5, 6, 7, 8, 1, 2, 3]\n",
    "                if target > nums[mid] or target < nums[l]:\n",
    "                    l = mid + 1\n",
    "                    # this means the target belogn to the right sub section of\n",
    "                    # current array which is defined by pointers 'l' and 'r'\n",
    "                    # OR Statement catches for mixed order\n",
    "                else:\n",
    "                    r = mid - 1\n",
    "                    # this means the target belongs to the left sub-section of\n",
    "                    # current array which is defined by pointers 'l' and 'r'\n",
    "            else:\n",
    "                # Decreasing Order\n",
    "                # [8, 7, 6, 5, 4, 3, 2, 1]\n",
    "                if target < nums[mid] or target > nums[r]:\n",
    "                    # as the array is in decreasing order\n",
    "                    # above we are checking if belong to right sub-section\n",
    "                    # Or left sub-Section\n",
    "                    r = mid - 1\n",
    "                else:\n",
    "                    l = mid + 1\n",
    "\n",
    "        return - 1\n",
    "\n"
   ]
  }
 ],
 "metadata": {
  "language_info": {
   "name": "python"
  }
 },
 "nbformat": 4,
 "nbformat_minor": 2
}
