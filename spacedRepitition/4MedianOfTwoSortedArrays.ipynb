{
 "cells": [
  {
   "cell_type": "markdown",
   "metadata": {},
   "source": [
    "### 4. Median of Two Sorted Arrays - 12/21/2025"
   ]
  },
  {
   "cell_type": "code",
   "execution_count": null,
   "metadata": {},
   "outputs": [],
   "source": [
    "############################### Improvement Table ###########################################\n",
    "\"\"\"\n",
    "Repitition # -  Time Taken   \n",
    "1st repetition - 60 mins +\n",
    "\n",
    "\"\"\""
   ]
  },
  {
   "cell_type": "markdown",
   "metadata": {},
   "source": [
    "### Time Complexity\n",
    "- log (min(m, n))"
   ]
  },
  {
   "cell_type": "markdown",
   "metadata": {},
   "source": [
    "### Model Answer"
   ]
  },
  {
   "cell_type": "markdown",
   "metadata": {},
   "source": [
    "### 1st Repetition"
   ]
  },
  {
   "cell_type": "code",
   "execution_count": null,
   "metadata": {},
   "outputs": [],
   "source": [
    "\"\"\"\n",
    "UMPIRE\n",
    "U: we are given two sorted arrays and we are to return median of the two sorted arrays\n",
    "    we can't use any sorting algo because running time of sorting algo is O(nlog n)\n",
    "    but we need to solve this question in O(log (m + n)) running time\n",
    "\n",
    "M: Having a O(log (m + n)) running time means we are to use binary search\n",
    "\n",
    "P:\n",
    "\n",
    "- rename both nums1 and nums2 array as 'A' and 'B'\n",
    "- make sure that array 'A' is smaller among 'A' and 'B'\n",
    "- we are going to implement binary serach on array 'A' to find the \n",
    "    half of the left section of the combined sorted array from 'A' and 'B'\n",
    "\n",
    "    which means if total nums  = 13\n",
    "    our left section will have 6 elements\n",
    "    and here we are trying to find 'x' elements from the array 'A'\n",
    "    first, and find the renaming in the array 'B'\n",
    "\n",
    "- watch neetcode videos to understand the problem better\n",
    "\n",
    "\n",
    "\"\"\"\n",
    "\n",
    "\n",
    "\n",
    "class Solution:\n",
    "    def findMedianSortedArrays(self, nums1: List[int], nums2: List[int]) -> float:\n",
    "        # renaming the sorted arrays\n",
    "        A, B = nums1, nums2\n",
    "\n",
    "        # Need it for median for odd and even number\n",
    "        total = len(nums1) + len(nums2)\n",
    "        half = total // 2 # interger division\n",
    "\n",
    "        if len(B) < len(A):\n",
    "            # Making sure that Array 'A' is smallest\n",
    "            A, B = B, A\n",
    "\n",
    "        # as we are going to perform binary serach the array 'A'\n",
    "\n",
    "        l, r = 0, len(A) - 1\n",
    "\n",
    "        while True:\n",
    "            i = (l + r) // 2 # Middle pointer for array 'A'\n",
    "            j = half - i - 2 # Middle pointe for array 'B'\n",
    "\n",
    "            Aleft = A[i] if i >= 0 else float(\"-infinity\")\n",
    "            Aright = A[i + 1] if (i + 1) < len(A) else float(\"infinity\")\n",
    "            Bleft = B[j] if j >= 0 else float(\"-infinity\")\n",
    "            Bright = B[j + 1] if (j + 1) < len(B) else float(\"infinity\")\n",
    "\n",
    "            # parition is correct\n",
    "            if Aleft <= Bright and Bleft <= Aright:\n",
    "                if total % 2:\n",
    "                    return min(Aright, Bright)\n",
    "                return (max(Aleft, Bleft) + min(Aright, Bright)) / 2\n",
    "            elif Aleft > Bright:\n",
    "                r = i - 1\n",
    "            else:\n",
    "                l = i + 1  \n",
    "\n",
    "        "
   ]
  }
 ],
 "metadata": {
  "language_info": {
   "name": "python"
  }
 },
 "nbformat": 4,
 "nbformat_minor": 2
}
