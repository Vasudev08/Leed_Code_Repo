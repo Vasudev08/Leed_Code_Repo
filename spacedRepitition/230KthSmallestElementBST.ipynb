{
 "cells": [
  {
   "cell_type": "markdown",
   "metadata": {},
   "source": [
    "### 230. Kth Smallest Element in a BST"
   ]
  },
  {
   "cell_type": "code",
   "execution_count": null,
   "metadata": {},
   "outputs": [],
   "source": [
    "############################### Improvement Table ###########################################\n",
    "\"\"\"\n",
    "Repitition # -  Time Taken   \n",
    "\n",
    "1st Repition - 13 mins - without help\n",
    "2nd reptition - 15 mins - without help, just the heapq library functions\n",
    "\"\"\""
   ]
  },
  {
   "cell_type": "markdown",
   "metadata": {},
   "source": [
    "### Model Answer"
   ]
  },
  {
   "cell_type": "markdown",
   "metadata": {},
   "source": [
    "### 1st Repitition"
   ]
  },
  {
   "cell_type": "code",
   "execution_count": null,
   "metadata": {},
   "outputs": [],
   "source": [
    "\"\"\"\n",
    "UMPIRE\n",
    "\n",
    "U: We are given a binary search tree, we are supposed to return the\n",
    "kth smallest element\n",
    "\n",
    "M: we can solve this problem using Heaps\n",
    "\n",
    "\n",
    "P:\n",
    "1. traverse through the binary search tree and create a minHeap\n",
    "2. using the k values pop the values and return the kth smallest element\n",
    "\n",
    "\"\"\"\n",
    "\n",
    "class TreeNode:\n",
    "    def __init__(self, val=0, left=None, right=None):\n",
    "        self.val = val\n",
    "        self.left = left\n",
    "        self.right = right\n",
    "\n",
    "class Solution:\n",
    "    def KthSmallest(self, root: Optional[TreeNode], k: int) -> int:\n",
    "        resHeap = []\n",
    "        heapq.heapify(resHeap)\n",
    "        res = 0\n",
    "\n",
    "        def dfs(node):\n",
    "            if not node:\n",
    "                return\n",
    "            \n",
    "            heapq.heappush(resHeap, node.val)\n",
    "\n",
    "            dfs(node.left)\n",
    "            dfs(node.right)\n",
    "\n",
    "\n",
    "        dfs(root)\n",
    "\n",
    "        for i in range(k-1):\n",
    "            heapq.heappop(resHeap)\n",
    "\n",
    "\n",
    "        return resHeap[0]\n",
    "\n",
    "\n"
   ]
  },
  {
   "cell_type": "markdown",
   "metadata": {},
   "source": [
    "### 2nd Repetition - 10/12/2024"
   ]
  },
  {
   "cell_type": "code",
   "execution_count": null,
   "metadata": {},
   "outputs": [],
   "source": [
    "\"\"\"UMPIRE\n",
    "\n",
    "U: given an BST, where we have to find the kth smallest element\n",
    "\n",
    "M: dfs + heap \n",
    "\n",
    "\n",
    "P:\n",
    "\n",
    "1. use dfs traversal to to store vertices into heap\n",
    "2. pop k-1 element from the heap\n",
    "3. return 0th index of the heap \n",
    "\"\"\"\n",
    "\n",
    "import heapq\n",
    "\n",
    "class TreeNode:\n",
    "    def __init__(self, val=0, left=None, right=None):\n",
    "        self.val = val\n",
    "        self.left = left\n",
    "        self.right = right\n",
    "\n",
    "class Solution:\n",
    "    def kthSmallest(self, root: Optional[TreeNode], k: int) -> int:\n",
    "        heap = []\n",
    "        heapq.heapify(heap)\n",
    "\n",
    "        def dfs(curNode):\n",
    "            if not curNode:\n",
    "                return\n",
    "            \n",
    "            heapq.heappush(curNode.val)\n",
    "\n",
    "            dfs(curNode.left)\n",
    "            dfs(curNode.right)\n",
    "\n",
    "        dfs(root)\n",
    "\n",
    "        for i in k:\n",
    "            heapq.heappop()\n",
    "\n",
    "        return heapq[0]\n"
   ]
  },
  {
   "cell_type": "code",
   "execution_count": null,
   "metadata": {},
   "outputs": [],
   "source": []
  }
 ],
 "metadata": {
  "language_info": {
   "name": "python"
  }
 },
 "nbformat": 4,
 "nbformat_minor": 2
}
