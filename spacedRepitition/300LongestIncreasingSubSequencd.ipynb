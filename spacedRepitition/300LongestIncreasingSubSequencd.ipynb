{
 "cells": [
  {
   "cell_type": "markdown",
   "metadata": {},
   "source": [
    "### 300. Longest Increasing Subsequence - 10/31/2024"
   ]
  },
  {
   "cell_type": "code",
   "execution_count": null,
   "metadata": {},
   "outputs": [],
   "source": [
    "############################### Improvement Table ###########################################\n",
    "\"\"\"\n",
    "Repitition # -  Time Taken  \n",
    "1st Reptition -  \n",
    "\n",
    "\n",
    "\"\"\""
   ]
  },
  {
   "cell_type": "markdown",
   "metadata": {},
   "source": [
    "### Model Answer"
   ]
  },
  {
   "cell_type": "markdown",
   "metadata": {},
   "source": [
    "### 1st Repitition - 1st Attempt"
   ]
  },
  {
   "cell_type": "code",
   "execution_count": 1,
   "metadata": {},
   "outputs": [
    {
     "ename": "NameError",
     "evalue": "name 'List' is not defined",
     "output_type": "error",
     "traceback": [
      "\u001b[1;31m---------------------------------------------------------------------------\u001b[0m",
      "\u001b[1;31mNameError\u001b[0m                                 Traceback (most recent call last)",
      "Cell \u001b[1;32mIn[1], line 1\u001b[0m\n\u001b[1;32m----> 1\u001b[0m \u001b[38;5;28;43;01mclass\u001b[39;49;00m\u001b[43m \u001b[49m\u001b[38;5;21;43;01mSolution\u001b[39;49;00m\u001b[43m:\u001b[49m\n\u001b[0;32m      2\u001b[0m \u001b[43m    \u001b[49m\u001b[38;5;28;43;01mdef\u001b[39;49;00m\u001b[43m \u001b[49m\u001b[38;5;21;43mlengthOfLIS\u001b[39;49m\u001b[43m(\u001b[49m\u001b[38;5;28;43mself\u001b[39;49m\u001b[43m,\u001b[49m\u001b[43m \u001b[49m\u001b[43mnums\u001b[49m\u001b[43m:\u001b[49m\u001b[43m \u001b[49m\u001b[43mList\u001b[49m\u001b[43m[\u001b[49m\u001b[38;5;28;43mint\u001b[39;49m\u001b[43m]\u001b[49m\u001b[43m)\u001b[49m\u001b[43m \u001b[49m\u001b[38;5;241;43m-\u001b[39;49m\u001b[38;5;241;43m>\u001b[39;49m\u001b[43m \u001b[49m\u001b[38;5;28;43mint\u001b[39;49m\u001b[43m:\u001b[49m\n\u001b[0;32m      3\u001b[0m \u001b[43m        \u001b[49m\u001b[43mdp\u001b[49m\u001b[43m \u001b[49m\u001b[38;5;241;43m=\u001b[39;49m\u001b[43m \u001b[49m\u001b[43m[\u001b[49m\u001b[38;5;241;43m0\u001b[39;49m\u001b[43m]\u001b[49m\u001b[43m \u001b[49m\u001b[38;5;241;43m*\u001b[39;49m\u001b[43m \u001b[49m\u001b[38;5;28;43mlen\u001b[39;49m\u001b[43m(\u001b[49m\u001b[43mnums\u001b[49m\u001b[43m)\u001b[49m\n",
      "Cell \u001b[1;32mIn[1], line 2\u001b[0m, in \u001b[0;36mSolution\u001b[1;34m()\u001b[0m\n\u001b[0;32m      1\u001b[0m \u001b[38;5;28;01mclass\u001b[39;00m \u001b[38;5;21;01mSolution\u001b[39;00m:\n\u001b[1;32m----> 2\u001b[0m     \u001b[38;5;28;01mdef\u001b[39;00m \u001b[38;5;21mlengthOfLIS\u001b[39m(\u001b[38;5;28mself\u001b[39m, nums: \u001b[43mList\u001b[49m[\u001b[38;5;28mint\u001b[39m]) \u001b[38;5;241m-\u001b[39m\u001b[38;5;241m>\u001b[39m \u001b[38;5;28mint\u001b[39m:\n\u001b[0;32m      3\u001b[0m         dp \u001b[38;5;241m=\u001b[39m [\u001b[38;5;241m0\u001b[39m] \u001b[38;5;241m*\u001b[39m \u001b[38;5;28mlen\u001b[39m(nums)\n\u001b[0;32m      5\u001b[0m         dp[\u001b[38;5;241m-\u001b[39m\u001b[38;5;241m1\u001b[39m] \u001b[38;5;241m=\u001b[39m \u001b[38;5;241m1\u001b[39m\n",
      "\u001b[1;31mNameError\u001b[0m: name 'List' is not defined"
     ]
    }
   ],
   "source": [
    "class Solution:\n",
    "    def lengthOfLIS(self, nums: List[int]) -> int:\n",
    "        dp = [0] * len(nums)\n",
    "\n",
    "        dp[-1] = 1\n",
    "\n",
    "        for i in range(len(nums) - 2, -1, -1):\n",
    "            if nums[i] < nums[i + 1]:\n",
    "                dp[i] = 1 + dp[i + 1]\n",
    "            else:\n",
    "                dp[i] = dp[i + 1]\n",
    "\n",
    "\n",
    "        return dp[0]\n",
    "    \n",
    "\"\"\"\n",
    "Here we encountered few issues\n",
    "Issues 1. we are only checking for max for i + 1 index, rather we should do it for all renaming indices\n",
    "which means we should have a second for loop, which checks and collect the max subsequence\n",
    "Below is the second attempt, which uses second for loop\n",
    "\"\"\"\n",
    "        "
   ]
  },
  {
   "cell_type": "markdown",
   "metadata": {},
   "source": [
    "### 1st Reptition - 2nd Attempt - 10/31/2024"
   ]
  },
  {
   "cell_type": "code",
   "execution_count": null,
   "metadata": {},
   "outputs": [],
   "source": [
    "class Solution:\n",
    "    def lengthOfLIS(self, nums: List[int]) -> int:\n",
    "        dp = [1] * len(nums)\n",
    "        res = 1\n",
    "\n",
    "        for i in range(len(nums) - 2, -1, -1):\n",
    "            for j in range(i + 1, len(nums)):\n",
    "                if nums[i] < nums[j]:\n",
    "                    dp[i] = max(dp[i], 1 + dp[j])\n",
    "                    res = max(res, dp[i])\n",
    "           \n",
    "\n",
    "        print(dp)\n",
    "        return res\n",
    "        "
   ]
  },
  {
   "cell_type": "markdown",
   "metadata": {},
   "source": [
    "### 2nd Repetiton - 11/30/2024"
   ]
  },
  {
   "cell_type": "code",
   "execution_count": null,
   "metadata": {},
   "outputs": [],
   "source": [
    "\"\"\"\n",
    "\n",
    "- Here we are using Dynamic Programming\n",
    "    to store the maximum of len increase sub-sequence at every index\n",
    "- But this time around we are traversing from the front\n",
    "    as we need to account for every previous element in the list\n",
    "- Running Time O(N^2)\n",
    " \n",
    "\"\"\"\n",
    "\n",
    "class Solution:\n",
    "    def lengthOfLIS(self, nums: List[int]) -> int:\n",
    "        dp= [1] * len(nums)\n",
    "\n",
    "        for i in range(1, len(nums)):\n",
    "            for j in range(i):\n",
    "                if nums[i] > nums[j]:\n",
    "                    dp[i] = max(dp[i], 1 + dp[j])\n",
    "\n",
    "        return max(dp)"
   ]
  },
  {
   "cell_type": "markdown",
   "metadata": {},
   "source": [
    "### 3rd Repetition - 12/19/2024"
   ]
  },
  {
   "cell_type": "code",
   "execution_count": null,
   "metadata": {},
   "outputs": [],
   "source": [
    "class Solution:\n",
    "    def lengthOfLIS(self, nums: List[int]) -> int:\n",
    "        \"\"\"\n",
    "        UMPIRE\n",
    "\n",
    "        U: To solve this problem in O(n log n), we need to use \n",
    "        Dynamic Programming + binary serach \n",
    "\n",
    "        binarySerach to find position to put our cur element into\n",
    "        which will help us in developing a list which will be longest\n",
    "        incrase subsequence (this is also help us in getting the next min element)\n",
    "\n",
    "\n",
    "        \"\"\"\n",
    "\n",
    "        def binarySerach(values, target):\n",
    "            l = 0\n",
    "            r = len(values) - 1\n",
    "\n",
    "            while (l <= r):\n",
    "                mid = (l + r) // 2\n",
    "                if values[mid] < target:\n",
    "                    l = mid + 1\n",
    "                else:\n",
    "                    r = mid - 1\n",
    "\n",
    "            return l\n",
    "\n",
    "        res = []\n",
    "        for n in nums:\n",
    "            pos = binarySerach(res, n)\n",
    "\n",
    "            if pos < len(res):\n",
    "                res[pos] = n\n",
    "            else:\n",
    "                res.append(n)\n",
    "\n",
    "        print(res)\n",
    "\n",
    "        return len(res)\n",
    "\n",
    "        "
   ]
  },
  {
   "cell_type": "markdown",
   "metadata": {},
   "source": [
    "### 4th Repetition - 12/22/2024"
   ]
  },
  {
   "cell_type": "code",
   "execution_count": null,
   "metadata": {},
   "outputs": [],
   "source": [
    "class Solution:\n",
    "    def lengthOfLIS(self, nums: List[int]) -> int:\n",
    "        # Binary Search + Dynamic Programming\n",
    "        # Basically we are create a new strictly increase subsequence\n",
    "        # using Binary Search\n",
    "        # we will be an empty array, we while travering nums check\n",
    "        # each respective 'n' position in that empty array\n",
    "        # if position > len(new array): append to the new array\n",
    "        # if position < len(new array): let it replace at exisiting pos index\n",
    "\n",
    "\n",
    "        def findIndex(array, target):\n",
    "            l = 0\n",
    "            r = len(array) - 1\n",
    "\n",
    "            while (l <= r):\n",
    "                # we will exit out of the loop when l == r\n",
    "                mid = (r + l) // 2 # floor division\n",
    "                if array[mid] < target:\n",
    "                    l = mid + 1\n",
    "                else:\n",
    "                    r = mid - 1\n",
    "\n",
    "            return l\n",
    "\n",
    "        res = []\n",
    "\n",
    "        for n in nums:\n",
    "            pos = findIndex(res, n)\n",
    "\n",
    "            if pos >= len(res):\n",
    "                res.append(n)\n",
    "            else:\n",
    "                print(\"pos: \", pos)\n",
    "                print(\"res len: \", len(res))\n",
    "                res[pos] = n\n",
    "\n",
    "        print(\"Res: \", res)\n",
    "\n",
    "        return len(res)\n",
    "\n",
    "\n",
    "        "
   ]
  }
 ],
 "metadata": {
  "kernelspec": {
   "display_name": "Python 3",
   "language": "python",
   "name": "python3"
  },
  "language_info": {
   "codemirror_mode": {
    "name": "ipython",
    "version": 3
   },
   "file_extension": ".py",
   "mimetype": "text/x-python",
   "name": "python",
   "nbconvert_exporter": "python",
   "pygments_lexer": "ipython3",
   "version": "3.11.9"
  }
 },
 "nbformat": 4,
 "nbformat_minor": 2
}
