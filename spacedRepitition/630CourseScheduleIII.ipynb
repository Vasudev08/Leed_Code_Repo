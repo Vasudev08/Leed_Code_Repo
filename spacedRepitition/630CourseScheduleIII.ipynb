{
 "cells": [
  {
   "cell_type": "markdown",
   "metadata": {},
   "source": [
    "### 630. Course Schedule III - 12/128/2024"
   ]
  },
  {
   "cell_type": "code",
   "execution_count": null,
   "metadata": {},
   "outputs": [],
   "source": [
    "############################### Improvement Table ###########################################\n",
    "\"\"\"\n",
    "Repitition # -  Time Taken   \n",
    "1st Reptition - 1 hr\n",
    "\n",
    "\"\"\""
   ]
  },
  {
   "cell_type": "markdown",
   "metadata": {},
   "source": [
    "### Time Complexity\n",
    "- O(n log n)\n",
    "    - it takes (log n) time to remove and add nodes into the minHeap\n",
    "    - And we have basically adding and removing 'n' no. of nodes"
   ]
  },
  {
   "cell_type": "code",
   "execution_count": null,
   "metadata": {},
   "outputs": [],
   "source": []
  },
  {
   "cell_type": "markdown",
   "metadata": {},
   "source": [
    "### Model Answer"
   ]
  },
  {
   "cell_type": "markdown",
   "metadata": {},
   "source": [
    "### 1st Repitition"
   ]
  },
  {
   "cell_type": "code",
   "execution_count": null,
   "metadata": {},
   "outputs": [],
   "source": [
    "class Solution:\n",
    "    def scheduleCourse(self, courses: List[List[int]]) -> int:\n",
    "        \"\"\"\n",
    "        1st Attempt: \n",
    "        - During my 1st attempt I used a minHeap sorted based on the lastDay\n",
    "            which in our problem sense means, our root node in the minHeap will be a course \n",
    "            whose last-day is earliset i.e. an urgrent course.\n",
    "                - I also stord the duration in the minHeap as well i.e. heapq.heappush(minHeap, (lastDay, duration))\n",
    "        - using this minHeap, I traversed every course to check if our currentDay + Duration is less than lastDay\n",
    "            -if so, we took the course \n",
    "            - if not, we didn't take the course\n",
    "            - recorded by our 'res' count\n",
    "        \n",
    "        1st Attempt Issue/Missing\n",
    "        - In our 1st attempt, we aren't making any choice, rather our algo is depended\n",
    "            on the ordering of the minHeap. which means our algo fails if the \n",
    "                course = [[5,5], [4,6], [2,6]] Expected = 2\n",
    "        - but our above algo will return '1' as we aren't making any choices\n",
    "        - to improve the algo, we need to implemnet a choice\n",
    "\n",
    "        2nd Attempt - Implementing a choice in our above algo\n",
    "        - as our 1st attempt didn't have any choice, we are going to maxHeap sorted based on duration to \n",
    "            implement a choice\n",
    "        - if our curDay > lastDay of a course, we will remove a course from the maxHeap\n",
    "            which in our problem sense means removing a course having longest-duration\n",
    "            which basically increases our odds of including more smaller courses in future\n",
    "            this is a greedy algorithm\n",
    "\n",
    "\n",
    "        Running time - O(n log n)\n",
    "            - it takes (log n) time to remove and add nodes into the minHeap\n",
    "            - And we have basically adding and removing 'n' no. of nodes\n",
    "            \n",
    "\n",
    "        \"\"\"\n",
    "\n",
    "        # use minHeap to store (lastDay, duration)\n",
    "        # using while loop, pop minLastDay and check if the course can be taken or not\n",
    "\n",
    "        minHeap = []\n",
    "        maxHeap = [] # to keep record of the max-duration coursese\n",
    "\n",
    "        for i, j in courses:\n",
    "            heapq.heappush(minHeap, (j, i))\n",
    "\n",
    "       \n",
    "        curDay = 0\n",
    "\n",
    "        while minHeap:\n",
    "            courseLastDay, courseDuration = heapq.heappop(minHeap)\n",
    "\n",
    "\n",
    "            heapq.heappush(maxHeap, -courseDuration)\n",
    "            curDay = curDay + courseDuration\n",
    "\n",
    "\n",
    "            if curDay > courseLastDay:\n",
    "                curDay += heapq.heappop(maxHeap) \n",
    "                # popping from the maxHeap will give us an negative number\n",
    "                # so we can use addition here.\n",
    "                # basically, here we are making our schedule a valid schedule\n",
    "\n",
    "        return len(maxHeap)\n",
    "        "
   ]
  }
 ],
 "metadata": {
  "language_info": {
   "name": "python"
  }
 },
 "nbformat": 4,
 "nbformat_minor": 2
}
