{
 "cells": [
  {
   "cell_type": "markdown",
   "metadata": {},
   "source": [
    "### 141. Linked List Cycle"
   ]
  },
  {
   "cell_type": "code",
   "execution_count": null,
   "metadata": {},
   "outputs": [],
   "source": [
    "############################### Improvement Table ###########################################\n",
    "\"\"\"\n",
    "Repitition # -  Time Taken   \n",
    "1st repetition - 20 mins with no help\n",
    "\n",
    "\"\"\""
   ]
  },
  {
   "cell_type": "markdown",
   "metadata": {},
   "source": [
    "### Model Answer"
   ]
  },
  {
   "cell_type": "markdown",
   "metadata": {},
   "source": [
    "### 1st Repitition"
   ]
  },
  {
   "cell_type": "code",
   "execution_count": null,
   "metadata": {},
   "outputs": [],
   "source": [
    "# Definition for singly-linked list.\n",
    "# class ListNode:\n",
    "#     def __init__(self, x):\n",
    "#         self.val = x\n",
    "#         self.next = None\n",
    "\n",
    "class Solution:\n",
    "    def hasCycle(self, head: Optional[ListNode]) -> bool:\n",
    "        # slow = head.next\n",
    "        # fast = head.next.next\n",
    "        # by default reture True\n",
    "        # use while loop to reach the end of linked list \n",
    "            # i.e. reach null pointer which proofs no cycle\n",
    "            # then return false\n",
    "        \n",
    "        if not head:\n",
    "            return False\n",
    "        slow = head\n",
    "        fast = head.next\n",
    "        \n",
    "\n",
    "        while (slow and fast):\n",
    "            if slow == fast:\n",
    "                return True\n",
    "            if slow.next:\n",
    "                slow = slow.next\n",
    "            else:\n",
    "                break\n",
    "\n",
    "            if fast.next and fast.next.next:\n",
    "                fast = fast.next.next\n",
    "            else: \n",
    "                break\n",
    "\n",
    "        \n",
    "        return False\n",
    "\n",
    "        "
   ]
  }
 ],
 "metadata": {
  "language_info": {
   "name": "python"
  }
 },
 "nbformat": 4,
 "nbformat_minor": 2
}
