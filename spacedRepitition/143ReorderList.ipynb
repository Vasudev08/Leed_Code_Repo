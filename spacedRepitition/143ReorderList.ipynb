{
 "cells": [
  {
   "cell_type": "markdown",
   "metadata": {},
   "source": [
    "### 143. Reorder List - 4/14/2024"
   ]
  },
  {
   "cell_type": "code",
   "execution_count": null,
   "metadata": {},
   "outputs": [],
   "source": [
    "############################### Improvement Table ###########################################\n",
    "\"\"\"\n",
    "Repitition # -  Time Taken   \n",
    "\n",
    "1st Repetition -> 37 mins\n",
    "2nd Repetition -> 15 mins -> little bit of help\n",
    "\n",
    "clock -> 30 mins\n",
    "\"\"\""
   ]
  },
  {
   "cell_type": "markdown",
   "metadata": {},
   "source": [
    "### Model Answer"
   ]
  },
  {
   "cell_type": "markdown",
   "metadata": {},
   "source": [
    "### 1st Repitition"
   ]
  },
  {
   "cell_type": "code",
   "execution_count": null,
   "metadata": {},
   "outputs": [],
   "source": [
    "\"\"\"\n",
    "UMPIRE:\n",
    "\n",
    "U:\n",
    "We are given head of a singly linked-list. And we are to reorder it using  pointers\n",
    "\n",
    "linked list means we can use the following techniques\n",
    "-> fast and slow pointers\n",
    "-> dumby Node\n",
    "-> pointers (or any number of pointers)\n",
    "\n",
    "M: fast and slow pointers + basic manipulation of pointers\n",
    "\n",
    "P:\n",
    "1. For us to reorder the linked list, we need to reverse the second half of the linked list\n",
    "    1.1 to reverse the second half of the linked list -> we need a pointer pointing to the beginning of the second half the linked list\n",
    "    1.2 which can be achieved by using slow and fast pointer\n",
    "2. Once reverse of linked list is accomplished, rearrange the linked list acc. to question requirement\n",
    "\n",
    "\n",
    "\n",
    "\"\"\"\n",
    "\n",
    "class Solution:\n",
    "    def reorderList(self, head: Optional[ListNode]) -> None:\n",
    "        slow, fast = head, head.next\n",
    "\n",
    "\n",
    "        while fast and fast.next:\n",
    "            slow = slow.next\n",
    "            fast = fast.next.next\n",
    "\n",
    "        # Here we have the slow pointers pointing to the beginning ot the second half of the linked list\n",
    "\n",
    "        secondSlow = slow.next\n",
    "        prev = slow.next = None\n",
    "\n",
    "        # Here we are preparing to reverse the second half of the linked list\n",
    "\n",
    "        while secondSlow:\n",
    "            #  Reversing the second half of the linked list\n",
    "            tmp = secondSlow.next\n",
    "            secondSlow.next = prev\n",
    "\n",
    "            prev = secondSlow\n",
    "            secondSlow = tmp\n",
    "\n",
    "        beg, end = head, prev\n",
    "\n",
    "        while (end):\n",
    "            begTmp = beg.next\n",
    "            endTmp = end.next\n",
    "\n",
    "            beg.next = end\n",
    "            end.next = begTmp\n",
    "\n",
    "            beg = begTmp\n",
    "            end = endTmp"
   ]
  },
  {
   "cell_type": "markdown",
   "metadata": {},
   "source": [
    "### 2nd Repetition - 22/4/2024"
   ]
  },
  {
   "cell_type": "code",
   "execution_count": null,
   "metadata": {},
   "outputs": [],
   "source": [
    "\"\"\"\n",
    "UMPIRE:\n",
    "\n",
    "U: given a singly linked list, return the linked-list in-place after reordering it\n",
    "\n",
    "M: pointers + slow and fast pointer + reversing linked list\n",
    "\n",
    "P:\n",
    "\n",
    "1. using fast and slower pointer get to the middle of the linked list\n",
    "2. reverse the second half of the linked list\n",
    "3. using the remaining pointer reorder the linked list\n",
    "\n",
    "I:\n",
    "\n",
    "E: O(n) it will be linear, O(1) space complexity\n",
    "\"\"\"\n",
    "\n",
    "class ListNode:\n",
    "    def __init__(self, val = 0, next = None):\n",
    "        self.val = val\n",
    "        self.next = next\n",
    "\n",
    "class Solution:\n",
    "    def reorderList(self, head: Optional[ListNode]) -> None:\n",
    "        slow, fast = head, head.next\n",
    "\n",
    "        while (fast and fast.next):\n",
    "            slow = slow.next\n",
    "            fast = fast.next.next\n",
    "\n",
    "        secondSlow = slow.next\n",
    "        prev = slow.next = None\n",
    "\n",
    "        while(secondSlow):\n",
    "            tmp = secondSlow.next\n",
    "            secondSlow.next = prev\n",
    "\n",
    "            prev = secondSlow\n",
    "            secondSlow = tmp\n",
    "\n",
    "        beg, end = head, prev\n",
    "\n",
    "        while(end):\n",
    "            begTmp = beg.next\n",
    "            endTmp = end.next\n",
    "\n",
    "            beg.next = end\n",
    "            end.next = begTmp\n",
    "\n",
    "            end = endTmp\n",
    "            beg = begTmp\n",
    "\n"
   ]
  }
 ],
 "metadata": {
  "language_info": {
   "name": "python"
  }
 },
 "nbformat": 4,
 "nbformat_minor": 2
}
