{
 "cells": [
  {
   "cell_type": "markdown",
   "metadata": {},
   "source": [
    "### 215. Kth Largest Element in an Array - 6/10/2024"
   ]
  },
  {
   "cell_type": "code",
   "execution_count": null,
   "metadata": {},
   "outputs": [],
   "source": [
    "############################### Improvement Table ###########################################\n",
    "\"\"\"\n",
    "Repitition # -  Time Taken   \n",
    "1st Repetition - 10 mins with help\n",
    "\n",
    "clock - 4:55 PM\n",
    "\n",
    "\"\"\""
   ]
  },
  {
   "cell_type": "markdown",
   "metadata": {},
   "source": [
    "### Model Answer"
   ]
  },
  {
   "cell_type": "markdown",
   "metadata": {},
   "source": [
    "### 1st Repitition"
   ]
  },
  {
   "cell_type": "code",
   "execution_count": null,
   "metadata": {},
   "outputs": [],
   "source": [
    "\"\"\"\n",
    "UMPIRE:\n",
    "\n",
    "U: we are given a list of number, and we are to return the kth largest element\n",
    "\n",
    "M: MaxHeap (in Python MinHeap is my deafult)\n",
    "\n",
    "P:\n",
    "0. before inserting into the heap we have to convert it to  \n",
    "    negative no. as python by deafult implement minHeap\n",
    "1. insert element into the heap\n",
    "2. remove max element from the heap k times\n",
    "    this way we get the kth largest element\n",
    "\"\"\"\n",
    "\n",
    "class Solution:\n",
    "    def findKthLargest(self, nums: list[int], k:int) -> int:\n",
    "\n",
    "        nums = [-i for i in nums]\n",
    "        heapq.heapify(nums)\n",
    "        for i in range(k - 1):\n",
    "            heapq.heappop(nums)\n",
    "\n",
    "        return -nums[0]"
   ]
  }
 ],
 "metadata": {
  "language_info": {
   "name": "python"
  }
 },
 "nbformat": 4,
 "nbformat_minor": 2
}
