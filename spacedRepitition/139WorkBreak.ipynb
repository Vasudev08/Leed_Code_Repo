{
 "cells": [
  {
   "cell_type": "markdown",
   "metadata": {},
   "source": [
    "### 139. Work Break - 9/1/2024"
   ]
  },
  {
   "cell_type": "code",
   "execution_count": null,
   "metadata": {},
   "outputs": [],
   "source": [
    "############################### Improvement Table ###########################################\n",
    "\"\"\"\n",
    "Repitition # -  Time Taken   \n",
    "1st Repeition - help taken finished in 1hr 30 mins\n",
    "\n",
    "\"\"\""
   ]
  },
  {
   "cell_type": "markdown",
   "metadata": {},
   "source": [
    "### Model Answer"
   ]
  },
  {
   "cell_type": "markdown",
   "metadata": {},
   "source": [
    "### 1st Repitition"
   ]
  },
  {
   "cell_type": "code",
   "execution_count": null,
   "metadata": {},
   "outputs": [],
   "source": [
    "\"\"\"\n",
    "UMPIRE:\n",
    "\n",
    "U:- we are given a string 's' and a list of words, our job is to \n",
    "    figure out whether, we can use the words in the wordDict list to \n",
    "    make string 's'. If so, return true otherwise return false\n",
    "\n",
    "   \n",
    "\n",
    "M:- dynamic Programming\n",
    "\n",
    "P:\n",
    "1. our goal is to reach the end of the string and we are going to create\n",
    "    a res list, whose last element value is 'true' which denotes we have reached\n",
    "    the end of the string 's'\n",
    "2. starting from the ending of the string 's' we check wether we can find \n",
    "    an match of a word from the current index to the work break index or last index\n",
    "    , if yes, we foudn a matching word, we mark the dp of that current index as true\n",
    "    denoting we can reach the end of the string from that index ( this is because\n",
    "    or last index is true, which denotes the end of the string)\n",
    "3. we check from each index whether or not we can reach the end of string\n",
    "\n",
    "    \n",
    "\"\"\"\n",
    "class Solution:\n",
    "    def wordBreak(self, s: str, wordDict: List[str]) -> bool:\n",
    "        # s = 'abc'\n",
    "        # len(s) = 3\n",
    "        # NOTE: In Python the index starts from zero, that it\n",
    "\n",
    "        dp = [False]  * (len(s) + 1)\n",
    "        dp[len(s)] = True\n",
    "\n",
    "        for i in range(len(s) - 1, -1, -1):\n",
    "            for w in wordDict:\n",
    "                if (i + len(w) <= len(s)) and s[i: i + len(w)] == w:\n",
    "                    dp[i] = dp[i + len(w)]\n",
    "                if dp[i]:\n",
    "                    break\n",
    "\n",
    "        return dp[0]"
   ]
  }
 ],
 "metadata": {
  "language_info": {
   "name": "python"
  }
 },
 "nbformat": 4,
 "nbformat_minor": 2
}
