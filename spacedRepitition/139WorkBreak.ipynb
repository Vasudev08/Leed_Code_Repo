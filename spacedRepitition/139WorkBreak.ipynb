{
 "cells": [
  {
   "cell_type": "markdown",
   "metadata": {},
   "source": [
    "### 139. Work Break - 9/1/2024"
   ]
  },
  {
   "cell_type": "code",
   "execution_count": null,
   "metadata": {},
   "outputs": [],
   "source": [
    "############################### Improvement Table ###########################################\n",
    "\"\"\"\n",
    "Repitition # -  Time Taken   \n",
    "1st Repeition - help taken finished in 1hr 30 mins\n",
    "2nd Repetition - 1hr with lot of help\n",
    "\n",
    "\"\"\""
   ]
  },
  {
   "cell_type": "markdown",
   "metadata": {},
   "source": [
    "### Model Answer"
   ]
  },
  {
   "cell_type": "markdown",
   "metadata": {},
   "source": [
    "### 1st Repitition"
   ]
  },
  {
   "cell_type": "code",
   "execution_count": null,
   "metadata": {},
   "outputs": [],
   "source": [
    "\"\"\"\n",
    "UMPIRE:\n",
    "\n",
    "U:- we are given a string 's' and a list of words, our job is to \n",
    "    figure out whether, we can use the words in the wordDict list to \n",
    "    make string 's'. If so, return true otherwise return false\n",
    "\n",
    "   \n",
    "\n",
    "M:- dynamic Programming\n",
    "\n",
    "P:\n",
    "1. our goal is to reach the end of the string and we are going to create\n",
    "    a res list, whose last element value is 'true' which denotes we have reached\n",
    "    the end of the string 's'\n",
    "2. starting from the ending of the string 's' we check wether we can find \n",
    "    an match of a word from the current index to the work break index or last index\n",
    "    , if yes, we foudn a matching word, we mark the dp of that current index as true\n",
    "    denoting we can reach the end of the string from that index ( this is because\n",
    "    or last index is true, which denotes the end of the string)\n",
    "3. we check from each index whether or not we can reach the end of string\n",
    "\n",
    "    \n",
    "\"\"\"\n",
    "class Solution:\n",
    "    def wordBreak(self, s: str, wordDict: List[str]) -> bool:\n",
    "        # s = 'abc'\n",
    "        # len(s) = 3\n",
    "        # NOTE: In Python the index starts from zero, that it\n",
    "\n",
    "        dp = [False]  * (len(s) + 1)\n",
    "        dp[len(s)] = True\n",
    "\n",
    "        for i in range(len(s) - 1, -1, -1):\n",
    "            for w in wordDict:\n",
    "                if (i + len(w) <= len(s)) and s[i: i + len(w)] == w:\n",
    "                    dp[i] = dp[i + len(w)]\n",
    "                if dp[i]:\n",
    "                    break\n",
    "\n",
    "        return dp[0]"
   ]
  },
  {
   "cell_type": "markdown",
   "metadata": {},
   "source": [
    "### 2nd Repititoin - 11/1/2024 - with lot of help"
   ]
  },
  {
   "cell_type": "code",
   "execution_count": null,
   "metadata": {},
   "outputs": [],
   "source": [
    "class Solution:\n",
    "    def wordBreak(self, s: str, wordDict: List[str]) -> bool:\n",
    "        # I like this problem now\n",
    "        # Here we use Dynamic Programming\n",
    "        \"\"\"\n",
    "        UMPIRE:\n",
    "\n",
    "        U:\n",
    "        Here our main to reach the end of the string 's'.\n",
    "        Where we are using words inside wordDict to reach the \n",
    "        end of the string, so basically our words inside the wordDict\n",
    "        are the potential steps we can take to reach the end of the \n",
    "        string 's'\n",
    "        We can do this by traversing from the end of the list\n",
    "        and going backwards until we find a potential match in \n",
    "        string 's' and we record the value from that step using dp\n",
    "\n",
    "        M: Dynamic Programming\n",
    "\n",
    "        P:\n",
    "        - create a dp for len(s) + 1, where last index will be true\n",
    "            which indicates we have successfully reached the \n",
    "            end of the string 's'\n",
    "        - traversing backwards, we check if a potential word could\n",
    "            whose curIndex + len(w) <= len(s) and we have a match\n",
    "\n",
    "\n",
    "\n",
    "        \"\"\"\n",
    "\n",
    "        dp = [False] * (len(s) + 1) # len = 4, len(dp) = 5\n",
    "        # dp index: 0, 1, 2, 3, 4\n",
    "        dp[-1] = True\n",
    "\n",
    "        for i in range(len(s) - 1, -1, -1):\n",
    "            for w in wordDict:\n",
    "                if (i + len(w) <= len(s)) and (s[i: i + len(w)] == w):\n",
    "                    dp[i] = dp[i + len(w)]\n",
    "                if dp[i]:\n",
    "                    break # cuz we found the potential word to climb the string s\n",
    "\n",
    "        return dp[0]\n",
    "\n",
    "\n",
    "        "
   ]
  },
  {
   "cell_type": "markdown",
   "metadata": {},
   "source": [
    "### 3rd Reptition - 11/2/2024"
   ]
  },
  {
   "cell_type": "code",
   "execution_count": null,
   "metadata": {},
   "outputs": [],
   "source": [
    "class Solution:\n",
    "    def wordBreak(self, s: str, wordDict: List[str]) -> bool:\n",
    "        \"\"\"\n",
    "        U: we are given a string 's' and a list of words \n",
    "        which we have to use to make the string 's', we don't have to \n",
    "        use all the word in words list but we do have to use word from words list\n",
    "        to make the string 's'\n",
    "\n",
    "        Here we can re-configure this questions into thinking of \n",
    "        's' as a staircase and word in words List as potential steps to \n",
    "        reach the end of the list\n",
    "\n",
    "        M: Dynamic Programming\n",
    "\n",
    "        P:\n",
    "        - create a dp with False\n",
    "        - last element True\n",
    "        - traverse backwards and check make each index \n",
    "            true or false based on the word(len)\n",
    "        - if dp[0] == true, we can reach the end of the string\n",
    "        otherwise it's false\n",
    "\n",
    "\n",
    "        \"\"\"\n",
    "        dp = [False] * (len(s) + 1)\n",
    "        dp[-1] = True\n",
    "        # len(s) = 8, len(dp) = 9 but index 0....8\n",
    "        # we have marked index == 8 == True\n",
    "        # so we have to start from index == 7\n",
    "\n",
    "        for i in range(len(s) - 1, -1, -1):\n",
    "            for w in wordDict:\n",
    "                if i + len(w) <= len(s) and s[i: i + len(w)] == w:\n",
    "                    dp[i] = dp[i + len(w)]\n",
    "                if dp[i]: # this indicates we have used this particular word and we gto to the end of the string from here\n",
    "                    break\n",
    "\n",
    "        return dp[0]\n"
   ]
  },
  {
   "cell_type": "markdown",
   "metadata": {},
   "source": [
    "### 4th Repetition - 12/19/2024 - got the implmentation in first try but needed bugs"
   ]
  },
  {
   "cell_type": "code",
   "execution_count": null,
   "metadata": {},
   "outputs": [],
   "source": [
    "class Solution:\n",
    "    def wordBreak(self, s: str, wordDict: List[str]) -> bool:\n",
    "        # Dynamic Programming - bottom up approach\n",
    "        # building the solution as we go in process\n",
    "        # words in wordDict are like steps which we can take to \n",
    "        # reach the end of the string 's'\n",
    "\n",
    "        # we will create a dp of len(s) + 1 where last index's value \n",
    "        # will be 1 which will indicate that we have reached the end of the 's'\n",
    "\n",
    "\n",
    "        dp = [False] * (len(s) + 1)\n",
    "        dp[len(s)] = True\n",
    "\n",
    "\n",
    "        for i in range(len(s) - 1, -1, -1):\n",
    "            for w in wordDict:\n",
    "                if i + len(w) <= len(s) and s[i: i+ len(w)] == w:\n",
    "                    print(\"dp value: \", dp[i + len(w)])\n",
    "                    dp[i] = dp[i + len(w)]\n",
    "\n",
    "                if dp[i]:\n",
    "                    break\n",
    "\n",
    "        return True if dp[0]  else False\n",
    "        "
   ]
  }
 ],
 "metadata": {
  "language_info": {
   "name": "python"
  }
 },
 "nbformat": 4,
 "nbformat_minor": 2
}
