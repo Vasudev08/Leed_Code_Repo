{
 "cells": [
  {
   "cell_type": "markdown",
   "metadata": {},
   "source": [
    "### 153. Find Minimum in Rotated Sorted Array - 4/7/2024"
   ]
  },
  {
   "cell_type": "code",
   "execution_count": null,
   "metadata": {},
   "outputs": [],
   "source": [
    "############################### Improvement Table ###########################################\n",
    "\"\"\"\n",
    "Repitition # -  Time Taken   \n",
    "\n",
    "clock 1 - 23 mins : 6 mins - 4/7/2024\n",
    "\n",
    "\n",
    "\"\"\""
   ]
  },
  {
   "cell_type": "markdown",
   "metadata": {},
   "source": [
    "### Model Answer"
   ]
  },
  {
   "cell_type": "markdown",
   "metadata": {},
   "source": [
    "### 1st Repitition"
   ]
  },
  {
   "cell_type": "code",
   "execution_count": null,
   "metadata": {},
   "outputs": [],
   "source": [
    "# I remmber that if the array is\n",
    "       # [ 1, 2, 3, 7, 6, 5, 4]\n",
    "       # we can use the logic of binary serach to solve this\n",
    "       # problem. still there are some part I get confused\n",
    "       # Three possible states\n",
    "       # [1, 2, 3, 4, 5, 6, 7] -> Increasing Order\n",
    "\n",
    "       # [7, 6, 5, 4, 3, 2, 1] -> Decreasing Order\n",
    "\n",
    "       # [1, 2, 3, 7, 6, 5, 4] -> Mixed Order\n",
    "\n",
    "       # Here we are tryign to get the mixed order string to \n",
    "       # either increasing order or decreasing order usinb binary serach\n",
    "       #NOTE: if last element is \n",
    "\n",
    "# if mid > right -> mixed Order\n",
    "# if mid < right -> increasing Order between mid and right\n",
    "# if mid < left -> decreasing Order"
   ]
  }
 ],
 "metadata": {
  "language_info": {
   "name": "python"
  }
 },
 "nbformat": 4,
 "nbformat_minor": 2
}
