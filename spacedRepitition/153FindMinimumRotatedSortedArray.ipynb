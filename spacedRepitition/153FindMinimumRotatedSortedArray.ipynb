{
 "cells": [
  {
   "cell_type": "markdown",
   "metadata": {},
   "source": [
    "### 153. Find Minimum in Rotated Sorted Array - 4/7/2024"
   ]
  },
  {
   "cell_type": "code",
   "execution_count": null,
   "metadata": {},
   "outputs": [],
   "source": [
    "############################### Improvement Table ###########################################\n",
    "\"\"\"\n",
    "Repitition # -  Time Taken   \n",
    "\n",
    "1st Repetition -> 47 mins -> looked at the help\n",
    "\n",
    "\"\"\""
   ]
  },
  {
   "cell_type": "markdown",
   "metadata": {},
   "source": [
    "### Model Answer"
   ]
  },
  {
   "cell_type": "markdown",
   "metadata": {},
   "source": [
    "### 1st Repitition"
   ]
  },
  {
   "cell_type": "code",
   "execution_count": null,
   "metadata": {},
   "outputs": [],
   "source": [
    "# I remmber that if the array is\n",
    "       # [ 1, 2, 3, 7, 6, 5, 4]\n",
    "       # we can use the logic of binary serach to solve this\n",
    "       # problem. still there are some part I get confused\n",
    "       # Three possible states\n",
    "       # [1, 2, 3, 4, 5, 6, 7] -> Increasing Order\n",
    "\n",
    "       # [7, 6, 5, 4, 3, 2, 1] -> Decreasing Order\n",
    "\n",
    "       # [1, 2, 3, 7, 6, 5, 4] -> Mixed Order\n",
    "\n",
    "       # Here we are tryign to get the mixed order string to \n",
    "       # either increasing order or decreasing order usinb binary serach\n",
    "       #NOTE: if last element is \n",
    "\n",
    "# if mid > left -> Increasing order OR mixed Order\n",
    "# if mid < left -> Decreasing\n",
    "\n",
    "\"\"\"\n",
    "UMPIRE\n",
    "\n",
    "U:\n",
    "- we are given a rotated sorted array, and we are return minimum along the\n",
    "array\n",
    "\n",
    "M: binary search, two pointers, while loop similar to Q33 in leetcode\n",
    "\n",
    "[4, 5, 6, 7, 0, 1, 2] -> when encountering mixed order\n",
    "we will move to a sub-section which has the min which is similar for\n",
    "all other cases as well\n",
    "\n",
    "\"\"\"\n",
    "\n",
    "class Solution:\n",
    "    def findMin(self, nums: List[int]) -> int:\n",
    "       # we can't use sort algo cuz it takes O(n log n) time\n",
    "       l = 0 \n",
    "       r = len(nums) - 1\n",
    "\n",
    "       while (l < r):\n",
    "           mid = (l + r) // 2\n",
    "\n",
    "           if nums[mid] > nums[l]:\n",
    "              l = mid + 1\n",
    "           elif nums[mid] < nums[l]:\n",
    "              r = mid - 1\n",
    "           else:\n",
    "              return nums[mid]\n",
    "\n",
    "# NOTE: Imroved version\n",
    "\n",
    "\n",
    "class Solution:\n",
    "    def findMin(self, nums: List[int]) -> int:\n",
    "\n",
    "        if len(nums) == 1:\n",
    "            return nums[0]\n",
    "\n",
    "        # we can't use sort algo cuz it takes O(n log n) time\n",
    "        l = 0 \n",
    "        r = len(nums) - 1\n",
    "        minRes = float(\"infinity\")\n",
    "\n",
    "        while (l < r):\n",
    "            mid = (l + r) // 2\n",
    "            minRes = min(nums[mid], nums[l], nums[r], minRes)\n",
    "\n",
    "            if nums[mid] >= nums[l]:\n",
    "                if nums[r] > nums[mid]:\n",
    "                    r = mid - 1\n",
    "                else:\n",
    "                    l = mid + 1\n",
    "            elif nums[mid] < nums[l]:\n",
    "                r = mid - 1\n",
    "            else:\n",
    "                return nums[mid]\n",
    "\n",
    "\n",
    "        return minRes\n",
    "\n",
    "       \n",
    "\n",
    "       \n",
    "\n",
    "        \n"
   ]
  }
 ],
 "metadata": {
  "language_info": {
   "name": "python"
  }
 },
 "nbformat": 4,
 "nbformat_minor": 2
}
