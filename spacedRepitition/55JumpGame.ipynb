{
 "cells": [
  {
   "cell_type": "markdown",
   "metadata": {},
   "source": [
    "### 55. Jump Game - 8/26/2024"
   ]
  },
  {
   "cell_type": "code",
   "execution_count": null,
   "metadata": {},
   "outputs": [],
   "source": [
    "############################### Improvement Table ###########################################\n",
    "\"\"\"\n",
    "Repitition # -  Time Taken   \n",
    "1st Repetition - 36 mins without any help\n",
    "\n",
    "\"\"\""
   ]
  },
  {
   "cell_type": "markdown",
   "metadata": {},
   "source": [
    "### Model Answer"
   ]
  },
  {
   "cell_type": "code",
   "execution_count": null,
   "metadata": {},
   "outputs": [],
   "source": [
    "class Solution:\n",
    "    def canJump(self, nums: List[int]) -> bool:\n",
    "        lastTrue = len(nums) - 1\n",
    "\n",
    "        for i in range(len(nums) - 2, -1, -1):\n",
    "            tmp = nums[i]\n",
    "\n",
    "            if i + tmp >= lastTrue:\n",
    "                lastTrue = i\n",
    "\n",
    "\n",
    "\n",
    "        if lastTrue == 0:\n",
    "            return True\n",
    "        \n",
    "        return False"
   ]
  },
  {
   "cell_type": "markdown",
   "metadata": {},
   "source": [
    "### 1st Repitition"
   ]
  },
  {
   "cell_type": "code",
   "execution_count": null,
   "metadata": {},
   "outputs": [],
   "source": [
    "\"\"\"\n",
    "UMPIRE:\n",
    "U: given an arrary nums where each element respresent the maximum jump length\n",
    "at that position:\n",
    "Return: true - if we can reach the last index\n",
    "        false - if we can't reach the last index\n",
    "\n",
    "NOTE: allowed to jump steps <= nums[i]\n",
    "\n",
    "M: Dynamic Programming, running time: O(N), space time: O(N)\n",
    "\n",
    "P:\n",
    "1. create an false filled res list having same length as the nums\n",
    "2. starting from the end of the list, check if we can reach the last index \n",
    "from the current index, if we can mark it as true otherwise it's an false\n",
    "\n",
    "3. after reverse traversing the res list, return the value of the first index\n",
    "\"\"\"\n",
    "\n",
    "class Solution:\n",
    "    def canJump(self, nums: List[int]) -> bool:\n",
    "        dp = ['false'] * len(nums)\n",
    "        dp[-1] = 'true'\n",
    "        lastTrue = len(nums) - 1\n",
    "\n",
    "        for i in range(len(nums) - 2, -1, -1):\n",
    "            tmp = nums[i]\n",
    "            if tmp != 0:\n",
    "                while tmp > 0:\n",
    "                    \n",
    "                    if i + tmp < len(nums) and dp[i + tmp] == 'true':\n",
    "                        print(\"True Hit\")\n",
    "                        dp[i] = 'true'\n",
    "                        break\n",
    "\n",
    "                    tmp -= 1\n",
    "\n",
    "        if dp[0] == 'true':\n",
    "            return True\n",
    "\n",
    "        return False\n",
    "    \n",
    "    # this is a good start, but getting time-exceed error because of the while loop\n",
    "    # in use, one solution is to keep record of the index from the we can\n",
    "    # reach the end, and check wether our current index steps + current index\n",
    "    # is equal to or more than the last true index\n",
    "        \n",
    "\n"
   ]
  },
  {
   "cell_type": "markdown",
   "metadata": {},
   "source": [
    "### 1st Repetition 2nd Try - 8/26/2024"
   ]
  },
  {
   "cell_type": "code",
   "execution_count": null,
   "metadata": {},
   "outputs": [],
   "source": [
    "\"\"\"\n",
    "started with an O(n^2) and O(n), and the above solution helped to get to this solution where I'm not using any memory\n",
    "here we are sotring the lastTrue index, and comapre it with the curent inces + max Jump len and if it's more than and equal to the lastTrue index\n",
    "we update the lastTrue index\n",
    "and after fully travering the array in reserver order\n",
    "we check if lastTrue == 0 if so, return true\n",
    "else return false\n",
    "\"\"\"\n",
    "\n",
    "class Solution:\n",
    "    def canJump(self, nums: List[int]) -> bool:\n",
    "        lastTrue = len(nums) - 1\n",
    "\n",
    "        for i in range(len(nums) - 2, -1, -1):\n",
    "            tmp = nums[i]\n",
    "\n",
    "            if i + tmp >= lastTrue:\n",
    "                lastTrue = i\n",
    "\n",
    "\n",
    "\n",
    "        if lastTrue == 0:\n",
    "            return True\n",
    "        \n",
    "        return False"
   ]
  },
  {
   "cell_type": "markdown",
   "metadata": {},
   "source": [
    "### 1st Repetition - correct answer"
   ]
  },
  {
   "cell_type": "code",
   "execution_count": null,
   "metadata": {},
   "outputs": [],
   "source": [
    "class Solution:\n",
    "    def canJump(self, nums: List[int]) -> bool:\n",
    "        lastTrue = len(nums) - 1\n",
    "\n",
    "        for i in range(len(nums) - 2, -1, -1):\n",
    "            tmp = nums[i]\n",
    "\n",
    "            if i + tmp >= lastTrue:\n",
    "                lastTrue = i\n",
    "\n",
    "\n",
    "\n",
    "        if lastTrue == 0:\n",
    "            return True\n",
    "        \n",
    "        return False"
   ]
  }
 ],
 "metadata": {
  "language_info": {
   "name": "python"
  }
 },
 "nbformat": 4,
 "nbformat_minor": 2
}
