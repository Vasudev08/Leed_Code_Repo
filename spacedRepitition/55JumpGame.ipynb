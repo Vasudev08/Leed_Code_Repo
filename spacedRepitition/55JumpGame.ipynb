{
 "cells": [
  {
   "cell_type": "markdown",
   "metadata": {},
   "source": [
    "### 55. Jump Game - 8/26/2024"
   ]
  },
  {
   "cell_type": "code",
   "execution_count": null,
   "metadata": {},
   "outputs": [],
   "source": [
    "############################### Improvement Table ###########################################\n",
    "\"\"\"\n",
    "Repitition # -  Time Taken   \n",
    "1st Repetition - 36 mins without any help\n",
    "\n",
    "\"\"\""
   ]
  },
  {
   "cell_type": "markdown",
   "metadata": {},
   "source": [
    "### Model Answer"
   ]
  },
  {
   "cell_type": "code",
   "execution_count": null,
   "metadata": {},
   "outputs": [],
   "source": [
    "class Solution:\n",
    "    def canJump(self, nums: List[int]) -> bool:\n",
    "        lastTrue = len(nums) - 1\n",
    "\n",
    "        for i in range(len(nums) - 2, -1, -1):\n",
    "            tmp = nums[i]\n",
    "\n",
    "            if i + tmp >= lastTrue:\n",
    "                lastTrue = i\n",
    "\n",
    "\n",
    "\n",
    "        if lastTrue == 0:\n",
    "            return True\n",
    "        \n",
    "        return False"
   ]
  },
  {
   "cell_type": "markdown",
   "metadata": {},
   "source": [
    "### 1st Repitition"
   ]
  },
  {
   "cell_type": "code",
   "execution_count": null,
   "metadata": {},
   "outputs": [],
   "source": [
    "\"\"\"\n",
    "UMPIRE:\n",
    "U: given an arrary nums where each element respresent the maximum jump length\n",
    "at that position:\n",
    "Return: true - if we can reach the last index\n",
    "        false - if we can't reach the last index\n",
    "\n",
    "NOTE: allowed to jump steps <= nums[i]\n",
    "\n",
    "M: Dynamic Programming, running time: O(N), space time: O(N)\n",
    "\n",
    "P:\n",
    "1. create an false filled res list having same length as the nums\n",
    "2. starting from the end of the list, check if we can reach the last index \n",
    "from the current index, if we can mark it as true otherwise it's an false\n",
    "\n",
    "3. after reverse traversing the res list, return the value of the first index\n",
    "\"\"\"\n",
    "\n",
    "class Solution:\n",
    "    def canJump(self, nums: List[int]) -> bool:\n",
    "        dp = ['false'] * len(nums)\n",
    "        dp[-1] = 'true'\n",
    "        lastTrue = len(nums) - 1\n",
    "\n",
    "        for i in range(len(nums) - 2, -1, -1):\n",
    "            tmp = nums[i]\n",
    "            if tmp != 0:\n",
    "                while tmp > 0:\n",
    "                    \n",
    "                    if i + tmp < len(nums) and dp[i + tmp] == 'true':\n",
    "                        print(\"True Hit\")\n",
    "                        dp[i] = 'true'\n",
    "                        break\n",
    "\n",
    "                    tmp -= 1\n",
    "\n",
    "        if dp[0] == 'true':\n",
    "            return True\n",
    "\n",
    "        return False\n",
    "    \n",
    "    # this is a good start, but getting time-exceed error because of the while loop\n",
    "    # in use, one solution is to keep record of the index from the we can\n",
    "    # reach the end, and check wether our current index steps + current index\n",
    "    # is equal to or more than the last true index\n",
    "        \n",
    "\n"
   ]
  },
  {
   "cell_type": "markdown",
   "metadata": {},
   "source": [
    "### 1st Repetition 2nd Try - 8/26/2024"
   ]
  },
  {
   "cell_type": "code",
   "execution_count": null,
   "metadata": {},
   "outputs": [],
   "source": [
    "\"\"\"\n",
    "started with an O(n^2) and O(n), and the above solution helped to get to this solution where I'm not using any memory\n",
    "here we are sotring the lastTrue index, and comapre it with the curent inces + max Jump len and if it's more than and equal to the lastTrue index\n",
    "we update the lastTrue index\n",
    "and after fully travering the array in reserver order\n",
    "we check if lastTrue == 0 if so, return true\n",
    "else return false\n",
    "\"\"\"\n",
    "\n",
    "class Solution:\n",
    "    def canJump(self, nums: List[int]) -> bool:\n",
    "        lastTrue = len(nums) - 1\n",
    "\n",
    "        for i in range(len(nums) - 2, -1, -1):\n",
    "            tmp = nums[i]\n",
    "\n",
    "            if i + tmp >= lastTrue:\n",
    "                lastTrue = i\n",
    "\n",
    "\n",
    "\n",
    "        if lastTrue == 0:\n",
    "            return True\n",
    "        \n",
    "        return False"
   ]
  },
  {
   "cell_type": "markdown",
   "metadata": {},
   "source": [
    "### 1st Repetition - correct answer"
   ]
  },
  {
   "cell_type": "code",
   "execution_count": null,
   "metadata": {},
   "outputs": [],
   "source": [
    "class Solution:\n",
    "    def canJump(self, nums: List[int]) -> bool:\n",
    "        lastTrue = len(nums) - 1\n",
    "\n",
    "        for i in range(len(nums) - 2, -1, -1):\n",
    "            tmp = nums[i]\n",
    "\n",
    "            if i + tmp >= lastTrue:\n",
    "                lastTrue = i\n",
    "\n",
    "\n",
    "\n",
    "        if lastTrue == 0:\n",
    "            return True\n",
    "        \n",
    "        return False"
   ]
  },
  {
   "cell_type": "markdown",
   "metadata": {},
   "source": [
    "### 2nd Repeition - 11/3/2024"
   ]
  },
  {
   "cell_type": "code",
   "execution_count": null,
   "metadata": {},
   "outputs": [],
   "source": [
    "\"\"\"\n",
    "NOTE: good approach but it's not efficient but it does show \n",
    "that I have understand the dynamic programming solution\n",
    "a better solution would be greedy solution\n",
    "where we keep track of the maxReach or the max index\n",
    "we can reach \n",
    "\"\"\"\n",
    "\n",
    "class Solution:\n",
    "    def canJump(self, nums: List[int]) -> bool:\n",
    "        \"\"\"\n",
    "        UMPIRE:\n",
    "        U: we are given a list of nums, where each num represent the max jump length\n",
    "        our job is to tell whether we can reach the end of the list nums:\n",
    "            return True if we can reach the end of the list\n",
    "            return false if we can't reach the end of the list\n",
    "\n",
    "        M: dynamic Programming\n",
    "\n",
    "        P:\n",
    "        1. Create a dp \n",
    "        1.1 we can always reach the end of the list from last eement unless it's '0'\n",
    "        2. traverse it backward, Here do make note that cur num is possible maximum steps we can take\n",
    "\n",
    "        that means we can take less steps as well\n",
    "        4. return dp[0]\n",
    "\n",
    "\n",
    "\n",
    "        \"\"\"\n",
    "        if nums[0] == 0 and len(nums) == 1:\n",
    "            return True\n",
    "        elif nums[0] == 0:\n",
    "            return False\n",
    "\n",
    "        dp = [False] * len(nums)\n",
    "        if nums[-1] != 0:\n",
    "            dp[-1] = True\n",
    "\n",
    "        for i in range(len(nums) - 2, -1, -1):\n",
    "            curNum = nums[i]\n",
    "            for j in range(1, curNum + 1):  # Allow up to curNum steps\n",
    "                if i + j < len(nums) and dp[i + j]:\n",
    "                    dp[i] = True\n",
    "                    break\n",
    "\n",
    "        print(dp)\n",
    "        return dp[0]        "
   ]
  },
  {
   "cell_type": "markdown",
   "metadata": {},
   "source": [
    "### 2nd Repetition - 2nd Attempt - 11/3/2024"
   ]
  },
  {
   "cell_type": "code",
   "execution_count": null,
   "metadata": {},
   "outputs": [],
   "source": [
    "class Solution:\n",
    "    def canJump(self, nums: List[int]) -> bool:\n",
    "        maxReach = 0\n",
    "\n",
    "        for i in range(len(nums)):\n",
    "            if i > maxReach:\n",
    "                return False\n",
    "\n",
    "            maxReach = max(maxReach, i + nums[i])\n",
    "\n",
    "        return True\n",
    "        "
   ]
  },
  {
   "cell_type": "markdown",
   "metadata": {},
   "source": [
    "### 3rd Repetition - 12/12/2024"
   ]
  },
  {
   "cell_type": "code",
   "execution_count": null,
   "metadata": {},
   "outputs": [],
   "source": [
    "class Solution:\n",
    "    def canJump(self, nums: List[int]) -> bool:\n",
    "        # usual dynamic programming way from lasting from the back\n",
    "        # our running time would be O(n^2)\n",
    "\n",
    "        # Finding a soluting whose running time is O(n)\n",
    "        # By default we have return True\n",
    "        # and write our algo to prove False\n",
    "        # So, we can reach our last index, if we don't have enough steps to reach here\n",
    "        # So, we need to take a measure of maxSteps we can take\n",
    "        # and if we reach a index in the list and we can't use the maxSteps to \n",
    "        # there, then we return false\n",
    "        # Here maxSteps can be record as i + nums[i] \n",
    "\n",
    "\n",
    "        maxReach = 0\n",
    "\n",
    "        for i in range(len(nums)):\n",
    "            if i > maxReach:\n",
    "                return False\n",
    "\n",
    "            maxReach = max(maxReach, i + nums[i])\n",
    "\n",
    "        return True\n",
    "        "
   ]
  }
 ],
 "metadata": {
  "language_info": {
   "name": "python"
  }
 },
 "nbformat": 4,
 "nbformat_minor": 2
}
