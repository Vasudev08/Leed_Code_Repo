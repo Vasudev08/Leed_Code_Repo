{
 "cells": [
  {
   "cell_type": "markdown",
   "metadata": {},
   "source": [
    "### 104. Maximum Depth of Binary Tree 6/16/2024"
   ]
  },
  {
   "cell_type": "code",
   "execution_count": null,
   "metadata": {},
   "outputs": [],
   "source": [
    "############################### Improvement Table ###########################################\n",
    "\"\"\"\n",
    "Repitition # -  Time Taken   \n",
    "1st Repetition - 8 mins - with no help\n",
    "\n",
    "clock - 1:50 PM : 1:58 PM\n",
    "\n",
    "\n",
    "\"\"\""
   ]
  },
  {
   "cell_type": "markdown",
   "metadata": {},
   "source": [
    "### Model Answer"
   ]
  },
  {
   "cell_type": "markdown",
   "metadata": {},
   "source": [
    "### 1st Repitition"
   ]
  },
  {
   "cell_type": "code",
   "execution_count": null,
   "metadata": {},
   "outputs": [],
   "source": [
    "\"\"\"\n",
    "UMPIRE:\n",
    "\n",
    "U: we are given a binary tree, return the maximum depth\n",
    "\n",
    "M: dfs Traversal\n",
    "\n",
    "P:\n",
    "running time - O(n)\n",
    "space time: constant\n",
    "\"\"\"\n",
    "\n",
    "class TreeNode:\n",
    "    def __init__(self, val=0, left=None, right=None):\n",
    "        self.val = val\n",
    "        self.left = left\n",
    "        self.right = right\n",
    "\n",
    "class Solution:\n",
    "    def maxDepth(self, root: Optional[TreeNode]) -> int:\n",
    "        if not root:\n",
    "            return 0\n",
    "        \n",
    "        res = [0]\n",
    "\n",
    "        def dfs(node, num):\n",
    "            if not node.left and not node.right:\n",
    "                res[0] = max(res[0], num)\n",
    "\n",
    "            if node.left:\n",
    "                dfs(node.left, num + 1)\n",
    "\n",
    "            if node.right:\n",
    "                dfs(node.right, num + 1)\n",
    "\n",
    "\n",
    "        dfs(root, 0)\n",
    "        return res[0]"
   ]
  }
 ],
 "metadata": {
  "language_info": {
   "name": "python"
  }
 },
 "nbformat": 4,
 "nbformat_minor": 2
}
