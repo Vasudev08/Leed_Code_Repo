{
 "cells": [
  {
   "cell_type": "markdown",
   "metadata": {},
   "source": [
    "### 240. Search a 2D Matrix II - 11/7/2024"
   ]
  },
  {
   "cell_type": "code",
   "execution_count": null,
   "metadata": {},
   "outputs": [],
   "source": [
    "############################### Improvement Table ###########################################\n",
    "\"\"\"\n",
    "Repitition # -  Time Taken   \n",
    "\n",
    "\n",
    "\"\"\""
   ]
  },
  {
   "cell_type": "markdown",
   "metadata": {},
   "source": [
    "### Model Answer"
   ]
  },
  {
   "cell_type": "markdown",
   "metadata": {},
   "source": [
    "### 1st Repitition"
   ]
  },
  {
   "cell_type": "code",
   "execution_count": null,
   "metadata": {},
   "outputs": [],
   "source": [
    "\"\"\"\n",
    "UMPIRE\n",
    "U:\n",
    "M: two pointers\n",
    "\n",
    "P:\n",
    "- we start from the top-right corner and use the sorting arragement to our advantage\n",
    "- as we know from left-right our numbers keep on increasing\n",
    "- and top-bottom our numbers keep on increasing\n",
    "\n",
    "and if our target > topRight:\n",
    "        - we move to to the bottom\n",
    "\n",
    "and if our target < topRight:\n",
    "        - we move to left\n",
    "\"\"\"\n",
    "\n",
    "class Solution:\n",
    "    def searchMatrix(self, matrix: List[List[int]], target: int) -> bool:\n",
    "        if not matrix or not matrix[0]:\n",
    "            return False\n",
    "\n",
    "        r = 0\n",
    "        c = len(matrix[0]) - 1\n",
    "\n",
    "        while r < len(matrix) and c >= 0:\n",
    "            if matrix[r][c] == target:\n",
    "                return True\n",
    "\n",
    "            if matrix[r][c] > target:\n",
    "                c -= 1\n",
    "            else:\n",
    "                r += 1\n",
    "\n",
    "        return False\n",
    "\n",
    "        \n",
    "                \n",
    "\n",
    "\n",
    "        \n"
   ]
  }
 ],
 "metadata": {
  "language_info": {
   "name": "python"
  }
 },
 "nbformat": 4,
 "nbformat_minor": 2
}
