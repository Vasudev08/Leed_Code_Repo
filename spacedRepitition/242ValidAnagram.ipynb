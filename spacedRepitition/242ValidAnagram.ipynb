{
 "cells": [
  {
   "cell_type": "markdown",
   "metadata": {},
   "source": [
    "### 242. Valid Anagram - 4/3/2024"
   ]
  },
  {
   "cell_type": "code",
   "execution_count": null,
   "metadata": {},
   "outputs": [],
   "source": [
    "############################### Improvement Table ###########################################\n",
    "\"\"\"\n",
    "Repitition # -  Time Taken   \n",
    " 1st - 11 mins\n",
    "\n",
    "\"\"\""
   ]
  },
  {
   "cell_type": "markdown",
   "metadata": {},
   "source": [
    "### Model Answer"
   ]
  },
  {
   "cell_type": "code",
   "execution_count": null,
   "metadata": {},
   "outputs": [],
   "source": [
    "class Solution:\n",
    "    def isAnagram(self, s: str, t: str) -> bool:\n",
    "        recMap = {}\n",
    "\n",
    "        for c in s:\n",
    "            recMap[c] += recMap.get(c, 0)\n",
    "\n",
    "        for c in t:\n",
    "            if c in recMap and recMap > 0:\n",
    "                recMap[c] -= 1\n",
    "            else:\n",
    "                return False\n",
    "            \n",
    "        return True"
   ]
  },
  {
   "cell_type": "markdown",
   "metadata": {},
   "source": [
    "### 1st Repitition"
   ]
  },
  {
   "cell_type": "code",
   "execution_count": null,
   "metadata": {},
   "outputs": [],
   "source": [
    "\"\"\"\n",
    "UMPIRE\n",
    "\n",
    "U: given two strings 's' and 't' return true if an anagram of 's'\n",
    "\n",
    "M: hashMap\n",
    "\n",
    "P:\n",
    "1. create a hashmap to record the occurence of each character in 's'\n",
    "2. traverse through t, if current character exists in hashmap and \n",
    "    hashmap[i] > 0, then continue else return false\n",
    "NOTE: make sure to reduce the occurence when an match is found\n",
    "\n",
    "\n",
    "\"\"\"\n",
    "\n",
    "class Solution:\n",
    "    def isAnagram(self, s: str, t: str) -> bool:\n",
    "        recMap = {}\n",
    "\n",
    "        for c in s:\n",
    "            recMap[c] += recMap.get(c, 0)\n",
    "\n",
    "        for c in t:\n",
    "            if c in recMap and recMap > 0:\n",
    "                recMap[c] -= 1\n",
    "            else:\n",
    "                return False\n",
    "            \n",
    "        return True"
   ]
  },
  {
   "cell_type": "markdown",
   "metadata": {},
   "source": [
    "### I Learned This"
   ]
  },
  {
   "cell_type": "code",
   "execution_count": null,
   "metadata": {},
   "outputs": [],
   "source": [
    "#0. defaultDict is used when keys aren't initalized 'c = deafultdict(), var = c.get(i, 0)\n",
    "#1. How to count the occruence of a character \n",
    "#2. Manipulating dictionary\n"
   ]
  }
 ],
 "metadata": {
  "language_info": {
   "name": "python"
  }
 },
 "nbformat": 4,
 "nbformat_minor": 2
}
