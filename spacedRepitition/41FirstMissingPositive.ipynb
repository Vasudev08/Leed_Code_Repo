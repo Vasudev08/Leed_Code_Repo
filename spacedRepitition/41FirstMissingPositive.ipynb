{
 "cells": [
  {
   "cell_type": "markdown",
   "metadata": {},
   "source": [
    "### 41. First Missing Positive - 1/16/2025"
   ]
  },
  {
   "cell_type": "code",
   "execution_count": null,
   "metadata": {},
   "outputs": [],
   "source": [
    "############################### Improvement Table ###########################################\n",
    "\"\"\"\n",
    "Repetition # -  Time Taken   \n",
    "1st repetition - \n",
    "\n",
    "\n",
    "\"\"\""
   ]
  },
  {
   "cell_type": "markdown",
   "metadata": {},
   "source": [
    "### Time Complexity"
   ]
  },
  {
   "cell_type": "markdown",
   "metadata": {},
   "source": [
    "### Model Answer"
   ]
  },
  {
   "cell_type": "markdown",
   "metadata": {},
   "source": [
    "### 1st Repetition"
   ]
  },
  {
   "cell_type": "code",
   "execution_count": null,
   "metadata": {},
   "outputs": [],
   "source": [
    "class Solution:\n",
    "    def firstMissingPositive(self, nums: List[int]) -> int:\n",
    "        n = len(nums)\n",
    "        contains_1 = False\n",
    "\n",
    "        for i in range(n):\n",
    "            if nums[i] == 1:\n",
    "                contains_1 = True\n",
    "\n",
    "            if nums[i] <= 0 or nums[i] > n:\n",
    "                nums[i] = 1\n",
    "\n",
    "        if not contains_1:\n",
    "            return 1\n",
    "\n",
    "\n",
    "        for i in range(n):\n",
    "            value = abs(nums[i])\n",
    "\n",
    "            if value == n:\n",
    "                nums[0] = -abs(nums[0])\n",
    "\n",
    "            else:\n",
    "                nums[value] = -abs(nums[value])\n",
    "\n",
    "\n",
    "        for i in range(1, n):\n",
    "            if nums[i] > 0:\n",
    "                return i\n",
    "\n",
    "        if nums[0] > 0:\n",
    "            return n\n",
    "\n",
    "        return n + 1\n",
    "\n"
   ]
  }
 ],
 "metadata": {
  "language_info": {
   "name": "python"
  }
 },
 "nbformat": 4,
 "nbformat_minor": 2
}
