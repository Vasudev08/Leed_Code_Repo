{
 "cells": [
  {
   "cell_type": "markdown",
   "metadata": {},
   "source": [
    "### 828. Count Unique Characters of all substrings of a given string - 11/16/2024"
   ]
  },
  {
   "cell_type": "code",
   "execution_count": null,
   "metadata": {},
   "outputs": [],
   "source": [
    "############################### Improvement Table ###########################################\n",
    "\"\"\"\n",
    "Repitition # -  Time Taken   \n",
    "\n",
    "\n",
    "\"\"\""
   ]
  },
  {
   "cell_type": "markdown",
   "metadata": {},
   "source": [
    "### Model Answer"
   ]
  },
  {
   "cell_type": "markdown",
   "metadata": {},
   "source": [
    "### 1st Repitition"
   ]
  },
  {
   "cell_type": "code",
   "execution_count": null,
   "metadata": {},
   "outputs": [],
   "source": [
    "\"\"\"\n",
    "very difficult problem to understand but we will give another try tomororw as well\n",
    "\"\"\"\n",
    "\n",
    "class Solution:\n",
    "    def uniqueLetterString(self, s: str) -> int:\n",
    "        # it's a difficult problem to understand \n",
    "\n",
    "        res = 0\n",
    "        res_temp = 0\n",
    "\n",
    "        dic = defaultdict(int)\n",
    "        dic_dc = defaultdict(int)\n",
    "\n",
    "        for i, ch in enumerate(s):\n",
    "            res_temp += (i + 1) - 2 * dic[ch] + dic_dc[ch]\n",
    "\n",
    "            dic_dc[ch], dic[ch] = dic[ch], (i + 1)\n",
    "\n",
    "            res += res_temp\n",
    "\n",
    "        return res\n",
    "        "
   ]
  }
 ],
 "metadata": {
  "language_info": {
   "name": "python"
  }
 },
 "nbformat": 4,
 "nbformat_minor": 2
}
