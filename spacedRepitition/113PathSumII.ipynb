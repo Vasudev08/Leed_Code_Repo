{
 "cells": [
  {
   "cell_type": "markdown",
   "metadata": {},
   "source": [
    "### 113. Path Sum II - 10/17/2024"
   ]
  },
  {
   "cell_type": "code",
   "execution_count": null,
   "metadata": {},
   "outputs": [],
   "source": [
    "############################### Improvement Table ###########################################\n",
    "\"\"\"\n",
    "Repitition # -  Time Taken  \n",
    "1st Repeitition - 30mins - with no help \n",
    "\n",
    "\n",
    "\"\"\""
   ]
  },
  {
   "cell_type": "markdown",
   "metadata": {},
   "source": [
    "### Model Answer"
   ]
  },
  {
   "cell_type": "markdown",
   "metadata": {},
   "source": [
    "### 1st Repeition - 1st Attempt"
   ]
  },
  {
   "cell_type": "code",
   "execution_count": null,
   "metadata": {},
   "outputs": [],
   "source": [
    "# Definition for a binary tree node.\n",
    "# class TreeNode:\n",
    "#     def __init__(self, val=0, left=None, right=None):\n",
    "#         self.val = val\n",
    "#         self.left = left\n",
    "#         self.right = right\n",
    "class Solution:\n",
    "    def pathSum(self, root: Optional[TreeNode], targetSum: int) -> List[List[int]]:\n",
    "        # UMPIRE\n",
    "        # U: we have a binary tree, return mutliple paths which is from root-to-leaf\n",
    "        # and also add up to the targetSum, return will be a list of list\n",
    "        # M: use dfs for now, maybe (memoization later if possible)\n",
    "        # P: we create a custom dfs function, having three parameters\n",
    "        #       - 1. curNode\n",
    "        #       - 2. curSum\n",
    "        #       - 3. curList\n",
    "\n",
    "        if not root:\n",
    "            return []\n",
    "\n",
    "        res = []\n",
    "\n",
    "        def dfs(curNode, curSum, curList):\n",
    "            # print(\"CurNode: \", curNode.val, \" curSum: \", curSum, \" curList: \", curList)\n",
    "            if not curNode:\n",
    "                return\n",
    "\n",
    "            # at leaf node - base case I\n",
    "            if not curNode.left and not curNode.right:\n",
    "                tempSum = curSum + curNode.val\n",
    "                tempList = curList + [curNode.val]\n",
    "                if tempSum == targetSum:\n",
    "                    print(\"Target Hit\")\n",
    "                    print(\"curSum: \", tempSum, \"tempList: \", tempList)\n",
    "                    res.append(tempList)\n",
    "\n",
    "            curList.append(curNode.val)\n",
    "            curSum += curNode.val\n",
    "\n",
    "            if curNode.left:\n",
    "                dfs(curNode.left, curSum, curList)\n",
    "\n",
    "            if curNode.right:\n",
    "                dfs(curNode.right, curSum, curList)\n",
    "\n",
    "            popVal = curList.pop()\n",
    "            curSum -= popVal\n",
    "            \n",
    "\n",
    "\n",
    "        dfs(root, 0, [])\n",
    "        return res\n",
    "\n",
    "\n",
    "        "
   ]
  },
  {
   "cell_type": "markdown",
   "metadata": {},
   "source": [
    "### 2nd Reptitition - 11/20/2024"
   ]
  },
  {
   "cell_type": "code",
   "execution_count": null,
   "metadata": {},
   "outputs": [],
   "source": [
    "# Definition for a binary tree node.\n",
    "# class TreeNode:\n",
    "#     def __init__(self, val=0, left=None, right=None):\n",
    "#         self.val = val\n",
    "#         self.left = left\n",
    "#         self.right = right\n",
    "class Solution:\n",
    "    def pathSum(self, root: Optional[TreeNode], targetSum: int) -> List[List[int]]:\n",
    "        \"\"\"\n",
    "            UMPIRE:\n",
    "            U: we need to return the node path values which result in the sum equal to targetSum our path has to be root-to-leaf\n",
    "\n",
    "            M: DFS - O(N), Maybe we can think of memoization later one \n",
    "\n",
    "            P:\n",
    "            1. create a dfs function that take the curNode and curList\n",
    "            base case: if leaf node check if curSum == targetSum\n",
    "                if so append it to the res list\n",
    "                if not, return \n",
    "            2. call the dfs function on the root node\n",
    "\n",
    "        \"\"\"\n",
    "        res = []\n",
    "\n",
    "        def dfs(curNode, curSum, curList):\n",
    "            if not curNode:\n",
    "                return\n",
    "\n",
    "            \n",
    "            \n",
    "            val = curNode.val\n",
    "            curSum += val\n",
    "            curList.append(val)\n",
    "\n",
    "            if not curNode.left and not curNode.right:\n",
    "                print(\"Leaf Node\")\n",
    "                print(\"CurSum: \", curSum)\n",
    "                if curSum == targetSum:\n",
    "                    res.append(curList[:])\n",
    "\n",
    "            dfs(curNode.left, curSum, curList)\n",
    "            dfs(curNode.right, curSum, curList)\n",
    "            curList.pop() # we are using pop or backTracking to explore\n",
    "            # All possible targetSums\n",
    "\n",
    "            \n",
    "\n",
    "        dfs(root, 0, [])\n",
    "\n",
    "        return res\n",
    "        "
   ]
  }
 ],
 "metadata": {
  "language_info": {
   "name": "python"
  }
 },
 "nbformat": 4,
 "nbformat_minor": 2
}
