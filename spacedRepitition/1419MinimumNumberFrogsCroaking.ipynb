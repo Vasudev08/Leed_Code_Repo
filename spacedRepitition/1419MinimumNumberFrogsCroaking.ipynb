{
 "cells": [
  {
   "cell_type": "markdown",
   "metadata": {},
   "source": [
    "### 1419. Minimum Number of Frogs Croaking - 10/21/2024"
   ]
  },
  {
   "cell_type": "code",
   "execution_count": null,
   "metadata": {},
   "outputs": [],
   "source": [
    "############################### Improvement Table ###########################################\n",
    "\"\"\"\n",
    "Repitition # -  Time Taken   \n",
    "1st Repeition - \n",
    "\n",
    "\n",
    "\"\"\""
   ]
  },
  {
   "cell_type": "markdown",
   "metadata": {},
   "source": [
    "### Model Answer"
   ]
  },
  {
   "cell_type": "markdown",
   "metadata": {},
   "source": [
    "### 1st Repitition"
   ]
  },
  {
   "cell_type": "code",
   "execution_count": null,
   "metadata": {},
   "outputs": [],
   "source": [
    "\"\"\"\n",
    "UMPIRE:\n",
    "\n",
    "U: Not a tricky question, We are given a string and return how many frogs croaked through the use of the string\n",
    "    basically, a frogs has too call 'c', 'r', 'o', 'a', 'k' sequentially which means there are a frog\n",
    "    our job is to return minimum no. of frogs which croaked\n",
    "\n",
    "M: string, Couting\n",
    "\n",
    "P:\n",
    "1. we are going to create a list which tracks the progression of every frog possible\n",
    "    - i.e. when we encouter 'c' we increase the no. of curFrogs\n",
    "    - after the increment we update minFrogs count by max(minFrogs, curFrog)\n",
    "        - this is neccesary because a single frog can complete 'croakcroak'\n",
    "2. next, our job is to see whether or not, this frog or other frogs are able to finish their croak ?\n",
    "3. if any frog isn't able to finish it's croaking we need to return -1\n",
    "4. otherwise we return the minCount of the frogs needed\n",
    "\"\"\"\n",
    "\n",
    "class Solution:\n",
    "    def minNumberOfFrogs(self, croakOfFrogs: str) -> int:\n",
    "        croakCount = [0] * 5\n",
    "        minFrogs = 0\n",
    "        curFrog = 0\n",
    "\n",
    "        for char in croakOfFrogs:\n",
    "            if char == 'c':\n",
    "                croakCount[0] += 1\n",
    "                curFrog += 1\n",
    "                minFrogs = max(minFrogs, curFrog)\n",
    "            elif char == 'r':\n",
    "                if croakCount[0] == 0:\n",
    "                    return -1\n",
    "                croakCount[1] += 1\n",
    "                croakCount[0] -= 1\n",
    "            elif char == 'o':\n",
    "                if croakCount[1] == 0:\n",
    "                    return -1\n",
    "                croakCount[2] += 1\n",
    "                croakCount[1] -= 1\n",
    "            elif char == 'a':\n",
    "                if croakCount[2] == 0:\n",
    "                    return -1\n",
    "                croakCount[3] += 1\n",
    "                croakCount[2] -= 1\n",
    "            elif char == 'k':\n",
    "                if croakCount[3] == 0:\n",
    "                    return -1\n",
    "                croakCount[4] += 1\n",
    "                croakCount[3] -= 1\n",
    "                curFrog -= 1\n",
    "            \n",
    "        if sum(croakCount[:4]) == 0:\n",
    "            return minFrogs\n",
    "        else:\n",
    "            return -1\n",
    "        "
   ]
  }
 ],
 "metadata": {
  "language_info": {
   "name": "python"
  }
 },
 "nbformat": 4,
 "nbformat_minor": 2
}
