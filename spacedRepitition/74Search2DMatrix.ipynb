{
 "cells": [
  {
   "cell_type": "markdown",
   "metadata": {},
   "source": [
    "### 74. Search a 2D Matrix - 11/6/2024"
   ]
  },
  {
   "cell_type": "code",
   "execution_count": null,
   "metadata": {},
   "outputs": [],
   "source": [
    "############################### Improvement Table ###########################################\n",
    "\"\"\"\n",
    "Repitition # -  Time Taken   \n",
    "\n",
    "\n",
    "\"\"\""
   ]
  },
  {
   "cell_type": "markdown",
   "metadata": {},
   "source": [
    "### Model Answer"
   ]
  },
  {
   "cell_type": "markdown",
   "metadata": {},
   "source": [
    "### 1st Repitition"
   ]
  },
  {
   "cell_type": "code",
   "execution_count": null,
   "metadata": {},
   "outputs": [],
   "source": [
    "class Solution:\n",
    "    def searchMatrix(self, matrix: List[List[int]], target: int) -> bool:\n",
    "        \"\"\"\n",
    "        UMPIRE\n",
    "\n",
    "        U: we are given a mxn matrix, our job is to return true or false\n",
    "        on whether a target exists or not\n",
    "\n",
    "        M: binary serach to select the row, then binary search to select the column/cell\n",
    "\n",
    "        P: \n",
    "        - first we use the binary serach to find on which rows it exists\n",
    "        using the first column values\n",
    "        - once we have the row we want to serach into, we again use binary serach to find the \n",
    "        target value\n",
    "        \n",
    "        \"\"\"\n",
    "        top = 0\n",
    "        bottom = len(matrix) - 1\n",
    "\n",
    "        \n",
    "        while (top <= bottom):\n",
    "            mid = (top + bottom) // 2\n",
    "\n",
    "            if target < matrix[mid][0]:\n",
    "                bottom = mid - 1\n",
    "            elif target > matrix[mid][-1]:\n",
    "                top = mid + 1\n",
    "            else:\n",
    "                break\n",
    "\n",
    "        if not (top <=bottom):\n",
    "            return False\n",
    "\n",
    "        selectRow = (top + bottom) // 2\n",
    "\n",
    "        l = 0\n",
    "        r = len(matrix[0]) - 1\n",
    "\n",
    "        while l <= r:\n",
    "            m = (l + r) // 2\n",
    "            if target > matrix[selectRow][m]:\n",
    "                l = m + 1\n",
    "            elif target < matrix[selectRow][m]:\n",
    "                r = m - 1\n",
    "            else:\n",
    "                return True\n",
    "\n",
    "        return False \n"
   ]
  },
  {
   "cell_type": "markdown",
   "metadata": {},
   "source": [
    "### 2nd Reptition - 11/17/2024"
   ]
  },
  {
   "cell_type": "code",
   "execution_count": null,
   "metadata": {},
   "outputs": [],
   "source": [
    "class Solution:\n",
    "    def searchMatrix(self, matrix: List[List[int]], target: int) -> bool:\n",
    "        \"\"\"\n",
    "        Perform binary serach on the matrix while thinking of it as a 1D array faltten\n",
    "        Running Time: O(log (m * n))\n",
    "        Space Complexity: O(1)\n",
    "\n",
    "        Only trick to know is \n",
    "        row = mid // n (n no. of column in the matrix)\n",
    "        col = mid % n\n",
    "        \"\"\"\n",
    "\n",
    "        if not matrix or not matrix[0]:\n",
    "            return False\n",
    "\n",
    "        m = len(matrix) # No. of rows\n",
    "        n = len(matrix[0]) # No. of cols\n",
    "\n",
    "        left = 0\n",
    "        right = m * n - 1\n",
    "\n",
    "        while left <= right:\n",
    "            mid = (left + right)//2\n",
    "            row = mid // n\n",
    "            col = mid % n\n",
    "\n",
    "            if matrix[row][col] == target:\n",
    "                return True\n",
    "            elif matrix[row][col] < target:\n",
    "                left = mid + 1\n",
    "            else:\n",
    "                right = mid - 1 \n",
    "\n",
    "        return False\n",
    "\n",
    "        \n",
    "\n",
    "\n",
    "\n",
    "        "
   ]
  },
  {
   "cell_type": "markdown",
   "metadata": {},
   "source": [
    "### 3rd Repetition - 2/2/2025"
   ]
  },
  {
   "cell_type": "code",
   "execution_count": null,
   "metadata": {},
   "outputs": [],
   "source": [
    "class Solution:\n",
    "    def searchMatrix(self, matrix: List[List[int]], target: int) -> bool:\n",
    "        \"\"\"\n",
    "        UMPIRE\n",
    "        U: we can image this given 2D matrix as an line of length (m * n)\n",
    "        our job is to return True if we are able to find the target \n",
    "        in our given matrix otherwise false\n",
    "\n",
    "        i.e. 1, 3, 5, 7, 10, 11, 16, 20, 23, 30, 34, 60\n",
    "\n",
    "        M: Given restriction is to have time complexity of O(log (m * n))\n",
    "            which means we are going to do binary Search\n",
    "\n",
    "        the difficulity here to have to figure the a cell's row and column\n",
    "        How to figure out the Row No: M // n (row == floor)\n",
    "        How to figure out the Col No: M % n (column == reminder)\n",
    "\n",
    "\n",
    "        P:\n",
    "        1. as we have talked about it, we can think of this\n",
    "        matrix as a array of number, and implement binary serach\n",
    "        which requies two pointers l and r\n",
    "        \n",
    "\n",
    "\n",
    "        \"\"\"\n",
    "\n",
    "        m = len(matrix) # no. of rows\n",
    "        n  = len(matrix[0]) # no. of cols\n",
    "\n",
    "        l = 0\n",
    "        r = m * n - 1\n",
    "\n",
    "        while l <= r:\n",
    "            mid = (l + r) // 2\n",
    "\n",
    "            row = mid // n\n",
    "            col = mid % n\n",
    "\n",
    "            if matrix[row][col] == target:\n",
    "                return True\n",
    "            elif matrix[row][col] < target:\n",
    "                l = mid + 1\n",
    "            else:\n",
    "                r = mid - 1\n",
    "\n",
    "        return False\n",
    "\n",
    "\n",
    "        "
   ]
  }
 ],
 "metadata": {
  "language_info": {
   "name": "python"
  }
 },
 "nbformat": 4,
 "nbformat_minor": 2
}
