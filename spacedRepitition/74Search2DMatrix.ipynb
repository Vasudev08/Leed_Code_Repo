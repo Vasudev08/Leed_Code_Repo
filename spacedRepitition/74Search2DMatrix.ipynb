{
 "cells": [
  {
   "cell_type": "markdown",
   "metadata": {},
   "source": [
    "### 74. Search a 2D Matrix - 11/6/2024"
   ]
  },
  {
   "cell_type": "code",
   "execution_count": null,
   "metadata": {},
   "outputs": [],
   "source": [
    "############################### Improvement Table ###########################################\n",
    "\"\"\"\n",
    "Repitition # -  Time Taken   \n",
    "\n",
    "\n",
    "\"\"\""
   ]
  },
  {
   "cell_type": "markdown",
   "metadata": {},
   "source": [
    "### Model Answer"
   ]
  },
  {
   "cell_type": "markdown",
   "metadata": {},
   "source": [
    "### 1st Repitition"
   ]
  },
  {
   "cell_type": "code",
   "execution_count": null,
   "metadata": {},
   "outputs": [],
   "source": [
    "class Solution:\n",
    "    def searchMatrix(self, matrix: List[List[int]], target: int) -> bool:\n",
    "        \"\"\"\n",
    "        UMPIRE\n",
    "\n",
    "        U: we are given a mxn matrix, our job is to return true or false\n",
    "        on whether a target exists or not\n",
    "\n",
    "        M: binary serach to select the row, then binary search to select the column/cell\n",
    "\n",
    "        P: \n",
    "        - first we use the binary serach to find on which rows it exists\n",
    "        using the first column values\n",
    "        - once we have the row we want to serach into, we again use binary serach to find the \n",
    "        target value\n",
    "        \n",
    "        \"\"\"\n",
    "        top = 0\n",
    "        bottom = len(matrix) - 1\n",
    "\n",
    "        \n",
    "        while (top <= bottom):\n",
    "            mid = (top + bottom) // 2\n",
    "\n",
    "            if target < matrix[mid][0]:\n",
    "                bottom = mid - 1\n",
    "            elif target > matrix[mid][-1]:\n",
    "                top = mid + 1\n",
    "            else:\n",
    "                break\n",
    "\n",
    "        if not (top <=bottom):\n",
    "            return False\n",
    "\n",
    "        selectRow = (top + bottom) // 2\n",
    "\n",
    "        l = 0\n",
    "        r = len(matrix[0]) - 1\n",
    "\n",
    "        while l <= r:\n",
    "            m = (l + r) // 2\n",
    "            if target > matrix[selectRow][m]:\n",
    "                l = m + 1\n",
    "            elif target < matrix[selectRow][m]:\n",
    "                r = m - 1\n",
    "            else:\n",
    "                return True\n",
    "\n",
    "        return False \n"
   ]
  }
 ],
 "metadata": {
  "language_info": {
   "name": "python"
  }
 },
 "nbformat": 4,
 "nbformat_minor": 2
}
