{
 "cells": [
  {
   "cell_type": "markdown",
   "metadata": {},
   "source": [
    "### 658. Find K closest Elements - 11/7/2024"
   ]
  },
  {
   "cell_type": "code",
   "execution_count": null,
   "metadata": {},
   "outputs": [],
   "source": [
    "############################### Improvement Table ###########################################\n",
    "\"\"\"\n",
    "Repitition # -  Time Taken   \n",
    "\n",
    "\n",
    "\"\"\""
   ]
  },
  {
   "cell_type": "markdown",
   "metadata": {},
   "source": [
    "### Model Answer"
   ]
  },
  {
   "cell_type": "markdown",
   "metadata": {},
   "source": [
    "### 1st Repitition"
   ]
  },
  {
   "cell_type": "code",
   "execution_count": null,
   "metadata": {},
   "outputs": [],
   "source": [
    "class Solution:\n",
    "    def findClosestElements(self, arr: List[int], k: int, x: int) -> List[int]:\n",
    "        l = 0\n",
    "        r = len(arr) - 1\n",
    "        \n",
    "        \n",
    "\n",
    "        while (r - l + 1 > k):\n",
    "            if abs(arr[l] - x) > abs(arr[r] - x):\n",
    "                l += 1\n",
    "            else:\n",
    "                r -= 1\n",
    "\n",
    "        return arr[l: r + 1]\n",
    "\n",
    "        "
   ]
  },
  {
   "cell_type": "markdown",
   "metadata": {},
   "source": [
    "### 2nd Repeition"
   ]
  },
  {
   "cell_type": "code",
   "execution_count": null,
   "metadata": {},
   "outputs": [],
   "source": [
    "class Solution:\n",
    "    def findClosestElements(self, arr: List[int], k: int, x: int) -> List[int]:\n",
    "        \"\"\"\n",
    "        UMPIRE\n",
    "\n",
    "        U: we are given a array 'arr' and k = 4 which tell us how many elements we want and \n",
    "        we want to find the k closest element to x = 3\n",
    "\n",
    "        M: two pointers\n",
    "\n",
    "        P:\n",
    "        - we use two pointers, first pointer points to beginning of the array while\n",
    "        the second pointer points to last element\n",
    "\n",
    "        - using while loop, keep on decreasing the window between the two pointers\n",
    "            until we have k elements\n",
    "\n",
    "        - our condition is do that is given in the question as:\n",
    "            abs(a - x) < abs(b - x)\n",
    "\n",
    "        \n",
    "        \"\"\"\n",
    "\n",
    "        l = 0\n",
    "        r = len(arr) - 1\n",
    "\n",
    "        while (r - l + 1) > k:\n",
    "            if abs(arr[l] - x) > abs(arr[r] - x):\n",
    "                l += 1\n",
    "            else:\n",
    "                r -= 1\n",
    "\n",
    "        return arr[l:r+1]"
   ]
  }
 ],
 "metadata": {
  "language_info": {
   "name": "python"
  }
 },
 "nbformat": 4,
 "nbformat_minor": 2
}
