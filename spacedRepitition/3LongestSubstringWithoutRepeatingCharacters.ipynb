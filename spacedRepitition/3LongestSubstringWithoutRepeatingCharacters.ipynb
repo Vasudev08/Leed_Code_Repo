{
 "cells": [
  {
   "cell_type": "markdown",
   "metadata": {},
   "source": [
    "### 3. Longest Substring Without Repeating Characters"
   ]
  },
  {
   "cell_type": "code",
   "execution_count": null,
   "metadata": {},
   "outputs": [],
   "source": [
    "############################### Improvement Table ###########################################\n",
    "\"\"\"\n",
    "Repitition # -  Time Taken   \n",
    "\n",
    "\n",
    "\"\"\""
   ]
  },
  {
   "cell_type": "markdown",
   "metadata": {},
   "source": [
    "### Time Complexity"
   ]
  },
  {
   "cell_type": "markdown",
   "metadata": {},
   "source": [
    "### Model Answer"
   ]
  },
  {
   "cell_type": "markdown",
   "metadata": {},
   "source": [
    "### 1st Repitition"
   ]
  },
  {
   "cell_type": "code",
   "execution_count": null,
   "metadata": {},
   "outputs": [
    {
     "data": {
      "text/plain": [
       "'\\nUMPIRE\\n\\nU: so, basically we have longest substring in the question hence we are oing to use \\nsliding wndow techinque to solve this problem\\n\\n\\n'"
      ]
     },
     "execution_count": 1,
     "metadata": {},
     "output_type": "execute_result"
    }
   ],
   "source": [
    "\"\"\"\n",
    "UMPIRE\n",
    "\n",
    "U: so, basically we have longest substring in the question hence we are oing to use \n",
    "sliding wndow techinque. given a string return a count\n",
    "\n",
    "M: sliding window -> here wer are going to utilize two pointers\n",
    "\n",
    "P: \n",
    "1. we are going to have left and right pointers\n",
    "2. a set to manage the current substring and this helps in verifying\n",
    "whether a charater is already present in our window string or not and\n",
    "it's checking time is O(1)\n",
    "3. using while loop to traverse through the string 's'\n",
    "\n",
    "\n",
    "\n",
    "\n",
    "\"\"\"\n",
    "\n",
    "class Solution(object):\n",
    "    def lengthOfLongestSubstring(self, s):\n",
    "        \"\"\"\n",
    "        :type s: str\n",
    "        :rtype: int\n",
    "        \"\"\"\n",
    "\n",
    "        left = 0\n",
    "        right = 0\n",
    "\n",
    "        windowStr = ()\n",
    "        resCount = 0\n",
    "\n",
    "        while right < len(s):\n",
    "            cur = s[right]\n",
    "\n",
    "            if cur in windowStr:\n",
    "                resCount = max(resCount, len(windowStr))\n",
    "                windowStr = ()\n",
    "                left = right\n",
    "\n",
    "            windowStr.add(cur)\n",
    "\n",
    "            right += 1\n",
    "\n",
    "        return resCount\n"
   ]
  },
  {
   "cell_type": "markdown",
   "metadata": {},
   "source": [
    "### Improved V1"
   ]
  },
  {
   "cell_type": "code",
   "execution_count": null,
   "metadata": {},
   "outputs": [],
   "source": [
    "class Solution(object):\n",
    "    def lengthOfLongestSubstring(self, s):\n",
    "        \"\"\"\n",
    "        :type s: str\n",
    "        :rtype: int\n",
    "        \"\"\"\n",
    "\n",
    "        if len(s) == 1:\n",
    "            return 1\n",
    "        left = 0\n",
    "        right = 0\n",
    "\n",
    "        windowStr = \"\"\n",
    "        resCount = 0\n",
    "\n",
    "        while right < len(s):\n",
    "            print(\"right\", right)\n",
    "            cur = s[right]\n",
    "\n",
    "            if cur in windowStr:\n",
    "                resCount = max(resCount, len(windowStr))\n",
    "                windowStr = \"\"\n",
    "                left += 1\n",
    "\n",
    "            windowStr += cur\n",
    "\n",
    "            right += 1\n",
    "\n",
    "        if right == len(s):\n",
    "            resCount = max(resCount, len(windowStr))\n",
    "\n",
    "        return resCount\n",
    "        "
   ]
  },
  {
   "cell_type": "markdown",
   "metadata": {},
   "source": [
    "### Improved 2"
   ]
  },
  {
   "cell_type": "code",
   "execution_count": null,
   "metadata": {},
   "outputs": [],
   "source": [
    "class Solutions(object):\n",
    "    def lengthOfLongestSubstring(self, s):\n",
    "        \"\"\"\n",
    "        :type s: str\n",
    "        :rtype: int\n",
    "        \"\"\"\n",
    "        l = 0\n",
    "        resCount = 0\n",
    "\n",
    "        while l < len(s):\n",
    "            visited = set()\n",
    "            r = l \n",
    "            while r < len(s):\n",
    "                cur = s[r]\n",
    "\n",
    "                if cur in visited:\n",
    "                    resCount = max(resCount, len(visited))\n",
    "                    break\n",
    "                \n",
    "                visited.add(cur)\n",
    "            \n",
    "            l += 1\n",
    "\n",
    "        return resCount\n",
    "\n",
    "\n",
    "    "
   ]
  },
  {
   "cell_type": "markdown",
   "metadata": {},
   "source": [
    "I have learned the following:\n",
    "- if I have use the above two solutions the running time is O(n^2)\n",
    "- a better option is to use sliding window appraoch to slve this question\n",
    "- which means use hashmap, where key = 'character' value = 'index of last occurent'\n",
    "- we can't use the que because whenever we want to remove or move to a new place where we dont have the repeated character we will have to use the while loop"
   ]
  },
  {
   "cell_type": "code",
   "execution_count": null,
   "metadata": {},
   "outputs": [],
   "source": [
    "class Solutions(object):\n",
    "    def lengthOfLongestSubstring(self, s):\n",
    "        \"\"\"\n",
    "        :type s: str\n",
    "        :rtype: int\n",
    "        \"\"\"\n",
    "\n",
    "        last = {}\n",
    "        l = 0\n",
    "        res = 0\n",
    "\n",
    "        for r, ch in enumerate(s):\n",
    "            if ch in last and last[ch] >= l: # if current ch present and it's index is within the window\n",
    "                l = last[ch] + 1\n",
    "            last[ch] = r\n",
    "            res = max(res, r - l + 1)\n",
    "\n",
    "        return res"
   ]
  },
  {
   "cell_type": "markdown",
   "metadata": {},
   "source": []
  }
 ],
 "metadata": {
  "kernelspec": {
   "display_name": ".venv",
   "language": "python",
   "name": "python3"
  },
  "language_info": {
   "codemirror_mode": {
    "name": "ipython",
    "version": 3
   },
   "file_extension": ".py",
   "mimetype": "text/x-python",
   "name": "python",
   "nbconvert_exporter": "python",
   "pygments_lexer": "ipython3",
   "version": "3.11.9"
  }
 },
 "nbformat": 4,
 "nbformat_minor": 2
}
