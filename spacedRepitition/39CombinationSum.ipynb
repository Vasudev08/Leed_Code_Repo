{
 "cells": [
  {
   "cell_type": "markdown",
   "metadata": {},
   "source": [
    "### 39. Combination Sum - 9/28/2024"
   ]
  },
  {
   "cell_type": "code",
   "execution_count": null,
   "metadata": {},
   "outputs": [],
   "source": [
    "############################### Improvement Table ###########################################\n",
    "\"\"\"\n",
    "Repitition # -  Time Taken \n",
    "1st Repeition -   30 mins -> with a little bit of help\n",
    "\n",
    "\n",
    "\"\"\""
   ]
  },
  {
   "cell_type": "markdown",
   "metadata": {},
   "source": [
    "### Model Answer"
   ]
  },
  {
   "cell_type": "markdown",
   "metadata": {},
   "source": [
    "### 1st Repitition"
   ]
  },
  {
   "cell_type": "code",
   "execution_count": null,
   "metadata": {},
   "outputs": [],
   "source": [
    "\"\"\"\n",
    "UMPIRE\n",
    "\n",
    "U: We are given a list of numbers and a target, our job is to return all the \n",
    "combinations which add up to the target, and a number can be used multiple times\n",
    "\n",
    "M: backTracking\n",
    "\n",
    "P:\n",
    "1. we will create a backTracking function which takes in\n",
    "    - index\n",
    "    - curSum\n",
    "    - curCom\n",
    "\n",
    "and when curSum == target we append that combination to res\n",
    "2. we will also call the backtracking function twice \n",
    "    - before popping\n",
    "    - after poppping\n",
    "\n",
    "this is because we can use a number multiople no. of times\n",
    "here we will not encounter any repition as we're moving\n",
    "forward in the list\n",
    "\n",
    "\"\"\"\n",
    "\n",
    "class Solutions:\n",
    "    def combinationSum(self, candidates: List[int], target: int) -> List[List[int]]:\n",
    "        res = []\n",
    "\n",
    "\n",
    "        def backTracking(index, curSum, curCom):\n",
    "            if index >= len(candidates) or curSum > target:\n",
    "                return\n",
    "            \n",
    "            if curSum == target:\n",
    "                res.append(curCom.copy())\n",
    "                return\n",
    "\n",
    "            curCom.append(candidates[index])\n",
    "            backTracking(index, curSum + candidates[index], curCom)\n",
    "            \n",
    "\n",
    "\n",
    "            curCom.pop()\n",
    "            # curSum -= candidates[index]\n",
    "            backTracking(index + 1, curSum, curCom) # is previous implementation\n",
    "            # I had the above as wrong\n",
    "\n",
    "\n",
    "\n",
    "        backTracking(0, 0, [])\n",
    "\n",
    "        return res"
   ]
  },
  {
   "cell_type": "markdown",
   "metadata": {},
   "source": [
    "### 2nd Repetition - 10/25/2024"
   ]
  },
  {
   "cell_type": "code",
   "execution_count": null,
   "metadata": {},
   "outputs": [],
   "source": [
    "class Solution:\n",
    "    def combinationSum(self, candidates: List[int], target: int) -> List[List[int]]:\n",
    "        # Here, we can use permutations question to our advantage as well\n",
    "        res = set()\n",
    "\n",
    "        def backTracking(index, curSum, curList):\n",
    "            if curSum > target or index >= len(candidates):\n",
    "                return\n",
    "            \n",
    "            if curSum == target:\n",
    "                res.add(tuple(curList[:]))\n",
    "            \n",
    "            curNum = candidates[index]\n",
    "            curList.append(curNum)\n",
    "            \n",
    "            backTracking(index, curSum + curNum, curList)\n",
    "\n",
    "            curList.pop()\n",
    "            backTracking(index + 1, curSum, curList)\n",
    "\n",
    "        backTracking(0, 0, [])\n",
    "        return list(res)\n",
    "\n",
    "#Running time - "
   ]
  }
 ],
 "metadata": {
  "language_info": {
   "name": "python"
  }
 },
 "nbformat": 4,
 "nbformat_minor": 2
}
