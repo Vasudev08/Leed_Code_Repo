{
 "cells": [
  {
   "cell_type": "markdown",
   "metadata": {},
   "source": [
    "### 543. Diameter of Binary Tree - 6/24/2024"
   ]
  },
  {
   "cell_type": "code",
   "execution_count": null,
   "metadata": {},
   "outputs": [],
   "source": [
    "############################### Improvement Table ###########################################\n",
    "\"\"\"\n",
    "Repitition # -  Time Taken   \n",
    "1st Repetition - \n",
    "\n",
    "\n",
    "\n",
    "\"\"\""
   ]
  },
  {
   "cell_type": "markdown",
   "metadata": {},
   "source": [
    "### Model Answer"
   ]
  },
  {
   "cell_type": "markdown",
   "metadata": {},
   "source": [
    "### 1st Repitition"
   ]
  },
  {
   "cell_type": "code",
   "execution_count": null,
   "metadata": {},
   "outputs": [],
   "source": [
    "# Definition for a binary tree node.\n",
    "# class TreeNode:\n",
    "#     def __init__(self, val=0, left=None, right=None):\n",
    "#         self.val = val\n",
    "#         self.left = left\n",
    "#         self.right = right\n",
    "class Solution:\n",
    "    def diameterOfBinaryTree(self, root: Optional[TreeNode]) -> int:\n",
    "        res = [0]\n",
    "\n",
    "        def dfs(node):\n",
    "            if not node.left and not node.right:\n",
    "                return 1\n",
    "\n",
    "            left = 0\n",
    "            if node.left:\n",
    "                left = dfs(node.left)\n",
    "            \n",
    "            right = 0\n",
    "            if node.right:\n",
    "                right = dfs(node.right)\n",
    "\n",
    "            res[0] = max(res[0], 1 + left + right)\n",
    "\n",
    "\n",
    "            return max(left, right)\n",
    "\n",
    "        dfs(root)\n",
    "\n",
    "        return res[0]\n",
    "    \n",
    "    \"\"\"\n",
    "    very interesting problem, as we're calculating diameter of binary tree\n",
    "    here we every level we have to compare and update the max length by \n",
    "    adding left and right which means the current node is the connecting node\n",
    "\n",
    "    and we're going to return the max-depth that can be achieved from \n",
    "    that level\n",
    "    \n",
    "    \n",
    "    \"\"\"\n",
    "\n",
    "#2nd Try:\n",
    "\n",
    "class Solution2:\n",
    "    def diameterOfBinaryTree2(self, root: Optional[TreeNode]) -> int:\n",
    "        res = [0]\n",
    "\n",
    "        def dfs(node):\n",
    "            if not node:\n",
    "                return 0\n",
    "\n",
    "            left = dfs(node.left) if node.left else 0\n",
    "            right = dfs(node.right) if node.right else 0\n",
    "\n",
    "            res[0] = max(res[0], left + right)\n",
    "\n",
    "            return 1 + max(left, right)\n",
    "\n",
    "        dfs(root)\n",
    "\n",
    "        return res[0]"
   ]
  },
  {
   "cell_type": "code",
   "execution_count": null,
   "metadata": {},
   "outputs": [],
   "source": []
  }
 ],
 "metadata": {
  "language_info": {
   "name": "python"
  }
 },
 "nbformat": 4,
 "nbformat_minor": 2
}
