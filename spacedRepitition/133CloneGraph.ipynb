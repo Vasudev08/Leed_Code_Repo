{
 "cells": [
  {
   "cell_type": "markdown",
   "metadata": {},
   "source": [
    "### 133. Clone Graph - 4/23/2024"
   ]
  },
  {
   "cell_type": "code",
   "execution_count": null,
   "metadata": {},
   "outputs": [],
   "source": [
    "############################### Improvement Table ###########################################\n",
    "\"\"\"\n",
    "Repitition # -  Time Taken \n",
    "\n",
    "1st Repetetion - 20 mins -> with lots of help\n",
    "\n",
    "clock - 28 mins\n",
    "\"\"\""
   ]
  },
  {
   "cell_type": "markdown",
   "metadata": {},
   "source": [
    "### Model Answer"
   ]
  },
  {
   "cell_type": "markdown",
   "metadata": {},
   "source": [
    "### 1st Repitition"
   ]
  },
  {
   "cell_type": "code",
   "execution_count": null,
   "metadata": {},
   "outputs": [],
   "source": [
    "\"\"\"\n",
    "UMPIRE:\n",
    "\n",
    "U: We are given a graph, we are to return clone of the graph\n",
    "\n",
    "M: it's a graph we have to have a dfs traversal to go through \n",
    "    all nodes or vertex in the graph\n",
    "\n",
    "NOTE: we are given a Node class, which has two property\n",
    "    val and neighbors, val contains values and neihbors is\n",
    "    a list containing list of connected vertex\n",
    "\n",
    "\n",
    "P:\n",
    "1. Here we have to keep track of visited Vertex or nodes\n",
    "    which we will accomplish by using hashMap/ dictionary\n",
    "    named oldtonew = {} Here, key: oldNode value: newNode\n",
    "2. using a helper function we are going to traverse the graph\n",
    "    in a dfs manner and clone it at the same time\n",
    "\"\"\"\n",
    "\n",
    "class Node:\n",
    "    def __init__(self, val = 0, neighbors = None):\n",
    "        self.val = val\n",
    "        self.neighbors = neighbors if neighbors is not None else []\n",
    "\n",
    "\n",
    "from typing import Optional\n",
    "class Solution:\n",
    "    def cloneGraph(self, node: Optional['Node']) -> Optional['Node']:\n",
    "        oldtonew = {}\n",
    "\n",
    "        def dfs(node):\n",
    "            if node in oldtonew:\n",
    "                return oldtonew[node]\n",
    "            \n",
    "            new = Node(node.val)\n",
    "\n",
    "            oldtonew[node] = new\n",
    "\n",
    "            for nei in node.neighbors:\n",
    "                new.neighbors.append(dfs(nei))\n",
    "\n",
    "            return new\n",
    "        \n",
    "        return dfs(node) if node else None\n",
    "\n"
   ]
  }
 ],
 "metadata": {
  "language_info": {
   "name": "python"
  }
 },
 "nbformat": 4,
 "nbformat_minor": 2
}
