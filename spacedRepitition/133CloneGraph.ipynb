{
 "cells": [
  {
   "cell_type": "markdown",
   "metadata": {},
   "source": [
    "### 133. Clone Graph - 4/23/2024"
   ]
  },
  {
   "cell_type": "code",
   "execution_count": null,
   "metadata": {},
   "outputs": [],
   "source": [
    "############################### Improvement Table ###########################################\n",
    "\"\"\"\n",
    "Repitition # -  Time Taken \n",
    "\n",
    "1st Repetetion - 20 mins -> with lots of help\n",
    "2nd Repetition - 6 mins -> with little help\n",
    "3rd Repetition - 5 mins -> with little help\n",
    "\n",
    "\n",
    "\"\"\""
   ]
  },
  {
   "cell_type": "markdown",
   "metadata": {},
   "source": [
    "### Model Answer"
   ]
  },
  {
   "cell_type": "markdown",
   "metadata": {},
   "source": [
    "### 1st Repitition"
   ]
  },
  {
   "cell_type": "code",
   "execution_count": null,
   "metadata": {},
   "outputs": [],
   "source": [
    "\"\"\"\n",
    "UMPIRE:\n",
    "\n",
    "U: We are given a graph, we are to return clone of the graph\n",
    "\n",
    "M: it's a graph we have to have a dfs traversal to go through \n",
    "    all nodes or vertex in the graph\n",
    "\n",
    "NOTE: we are given a Node class, which has two property\n",
    "    val and neighbors, val contains values and neihbors is\n",
    "    a list containing list of connected vertex\n",
    "\n",
    "\n",
    "P:\n",
    "1. Here we have to keep track of visited Vertex or nodes\n",
    "    which we will accomplish by using hashMap/ dictionary\n",
    "    named oldtonew = {} Here, key: oldNode value: newNode\n",
    "2. using a helper function we are going to traverse the graph\n",
    "    in a dfs manner and clone it at the same time\n",
    "\"\"\"\n",
    "\n",
    "class Node:\n",
    "    def __init__(self, val = 0, neighbors = None):\n",
    "        self.val = val\n",
    "        self.neighbors = neighbors if neighbors is not None else []\n",
    "\n",
    "\n",
    "from typing import Optional\n",
    "class Solution:\n",
    "    def cloneGraph(self, node: Optional['Node']) -> Optional['Node']:\n",
    "        oldtonew = {}\n",
    "\n",
    "        def dfs(node):\n",
    "            if node in oldtonew:\n",
    "                return oldtonew[node]\n",
    "            \n",
    "            new = Node(node.val)\n",
    "\n",
    "            oldtonew[node] = new\n",
    "\n",
    "            for nei in node.neighbors:\n",
    "                new.neighbors.append(dfs(nei))\n",
    "\n",
    "            return new\n",
    "        \n",
    "        return dfs(node) if node else None\n",
    "\n"
   ]
  },
  {
   "cell_type": "markdown",
   "metadata": {},
   "source": [
    "### 2nd Repetition - 4/29/2024"
   ]
  },
  {
   "cell_type": "code",
   "execution_count": null,
   "metadata": {},
   "outputs": [],
   "source": [
    "\"\"\"UMPIRE\n",
    "\n",
    "U:\n",
    "    we are given an graph, we are to return a deep copy of it\n",
    "\n",
    "M: hashmap and dfs for traversal and cloning\n",
    "\n",
    "P:\n",
    "\n",
    "- Hashmap will be used for checking for visited graphes nodes\n",
    "- we will create a hashmap functiln\n",
    "\"\"\"\n",
    "\n",
    "\n",
    "# Definition for a Node.\n",
    "class Node:\n",
    "    def __init__(self, val = 0, neighbors = None):\n",
    "        self.val = val\n",
    "        self.neighbors = neighbors if neighbors is not None else []\n",
    "\n",
    "\n",
    "from typing import Optional\n",
    "class Solution:\n",
    "    def cloneGraph(self, node: Optional['Node']) -> Optional['Node']:\n",
    "        \n",
    "       \n",
    "        oldToNew = {}\n",
    "        def dfs(node):\n",
    "            if node in oldToNew:\n",
    "                return oldToNew[node]\n",
    "            \n",
    "            new = Node(node.val)\n",
    "            oldToNew[node] = new\n",
    "\n",
    "            for nei in node.neighbors:\n",
    "                new.neighbors.append(dfs(nei))\n",
    "\n",
    "            return new\n",
    "        \n",
    "        return dfs(node) if node else None\n",
    "\n"
   ]
  },
  {
   "cell_type": "markdown",
   "metadata": {},
   "source": [
    "### 3rd Repetition - 5/11/2024"
   ]
  },
  {
   "cell_type": "code",
   "execution_count": null,
   "metadata": {},
   "outputs": [],
   "source": [
    "\"\"\"\n",
    "UMPIRE:\n",
    "U: we are given a root of graph, we have to return a deep copy of the currentGraph\n",
    "\n",
    "M: dfs traversal + hashmap / visistedSet\n",
    "\n",
    "P:\n",
    "\n",
    "1. create a dfs traversal function, which creates new nodes and use dfs\n",
    "    goes through their neighbors as well\n",
    "\"\"\"\n",
    "\n",
    "# Definition for a Node.\n",
    "class Node:\n",
    "    def __init__(self, val = 0, neighbors = None):\n",
    "        self.val = val\n",
    "        self.neighbors = neighbors if neighbors is not None else []\n",
    "\n",
    "\n",
    "from typing import Optional\n",
    "class Solution:\n",
    "    def cloneGraph(self, node: Optional['Node']) -> Optional['Node']:\n",
    "        oldToNew = {}\n",
    "        \n",
    "\n",
    "        def dfs(node):\n",
    "            if node in oldToNew:\n",
    "                return oldToNew[node]\n",
    "            \n",
    "            new = Node(node.val)\n",
    "            oldToNew[node] = new\n",
    "\n",
    "            for nei in node.neighbors:\n",
    "                new.neighbors.append(dfs(nei))\n",
    "\n",
    "            return new\n",
    "        \n",
    "        return dfs(node) if node else None\n",
    "\n"
   ]
  }
 ],
 "metadata": {
  "language_info": {
   "name": "python"
  }
 },
 "nbformat": 4,
 "nbformat_minor": 2
}
