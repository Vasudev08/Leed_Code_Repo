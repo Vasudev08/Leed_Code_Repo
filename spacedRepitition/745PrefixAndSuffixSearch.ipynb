{
 "cells": [
  {
   "cell_type": "markdown",
   "metadata": {},
   "source": [
    "### 745. Prefix and Suffix Search - 1/8/2025"
   ]
  },
  {
   "cell_type": "code",
   "execution_count": null,
   "metadata": {},
   "outputs": [],
   "source": [
    "############################### Improvement Table ###########################################\n",
    "\"\"\"\n",
    "Repitition # -  Time Taken   \n",
    "1st Repetition - 45 mins + with lot of help\n",
    "\n",
    "\"\"\""
   ]
  },
  {
   "cell_type": "markdown",
   "metadata": {},
   "source": [
    "### Time Complexity"
   ]
  },
  {
   "cell_type": "code",
   "execution_count": null,
   "metadata": {},
   "outputs": [],
   "source": [
    "\"\"\"\n",
    "O(n * m + q * (p + s + min(k, l))), where:\n",
    "n is the number of words,\n",
    "m is the average length of the words,\n",
    "q is the number of queries,\n",
    "p is the length of the prefix in each query,\n",
    "s is the length of the suffix in each query,\n",
    "k is the number of prefix matches, and\n",
    "l is the number of suffix matches.\n",
    "\"\"\""
   ]
  },
  {
   "cell_type": "markdown",
   "metadata": {},
   "source": [
    "### Model Answer"
   ]
  },
  {
   "cell_type": "markdown",
   "metadata": {},
   "source": [
    "### 1st Repitition"
   ]
  },
  {
   "cell_type": "code",
   "execution_count": null,
   "metadata": {},
   "outputs": [],
   "source": [
    "class TrieNode:\n",
    "    def __init__(self):\n",
    "        self.children = {}\n",
    "        self.indices = []\n",
    "\n",
    "    def addWord(self, word, index):\n",
    "        cur = self\n",
    "\n",
    "        for c in word:\n",
    "            if c not in cur.children:\n",
    "                cur.children[c] = TrieNode()\n",
    "\n",
    "\n",
    "            cur = cur.children[c]\n",
    "            cur.indices.append(index)\n",
    "\n",
    "\n",
    "    def searchWord(self, pref):\n",
    "        cur = self\n",
    "\n",
    "        for c in pref:\n",
    "            if c not in cur.children:\n",
    "                return []\n",
    "\n",
    "            cur = cur.children[c]\n",
    "        \n",
    "        return cur.indices\n",
    "            \n",
    "\n",
    "class WordFilter:\n",
    "\n",
    "    def __init__(self, words: List[str]):\n",
    "        self.prefixTrie = TrieNode()\n",
    "        self.suffixTrie = TrieNode()\n",
    "        self.cache = {}\n",
    "\n",
    "        for i,w in enumerate(words):\n",
    "            self.prefixTrie.addWord(w, i)\n",
    "            self.suffixTrie.addWord(reversed(w), i) \n",
    "        \n",
    "\n",
    "    def f(self, pref: str, suff: str) -> int:\n",
    "\n",
    "        if (pref, suff) in self.cache:\n",
    "            return self.cache[(pref, suff)]\n",
    "        prefixMatches = self.prefixTrie.searchWord(pref)\n",
    "        suffixMatches = self.suffixTrie.searchWord(reversed(suff))\n",
    "\n",
    "\n",
    "        matches = set(prefixMatches) & set(suffixMatches)\n",
    "\n",
    "        result = max(matches) if matches else -1\n",
    "        self.cache[(pref, suff)] = result\n",
    "        \n",
    "        return result\n",
    "\n",
    "\n",
    "        \n",
    "\n",
    "# what would be the length of string 'pref' and string 'suff'\n",
    "# Answer: regardless of the length of string 'pref' and 'suff'\n",
    "    # we have to make sure that every charater of pref and suffx matching with the word\n",
    "    # and last char of suff matches with last character of the word\n",
    "    # basically last char of suff should be last character of the word as well -> I'm assuming this to be true\n",
    "\n",
    "\n",
    "# Your WordFilter object will be instantiated and called as such:\n",
    "# obj = WordFilter(words)\n",
    "# param_1 = obj.f(pref,suff)"
   ]
  }
 ],
 "metadata": {
  "language_info": {
   "name": "python"
  }
 },
 "nbformat": 4,
 "nbformat_minor": 2
}
