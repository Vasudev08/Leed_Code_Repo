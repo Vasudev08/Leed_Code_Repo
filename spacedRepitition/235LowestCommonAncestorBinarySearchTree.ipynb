{
 "cells": [
  {
   "cell_type": "markdown",
   "metadata": {},
   "source": [
    "### 235. Lowest Common Ancestor of a Binary Search Tree - 10/15/2024"
   ]
  },
  {
   "cell_type": "code",
   "execution_count": null,
   "metadata": {},
   "outputs": [],
   "source": [
    "############################### Improvement Table ###########################################\n",
    "\"\"\"\n",
    "Repitition # -  Time Taken   \n",
    "1st Repetition - \n",
    "\n",
    "\n",
    "\"\"\""
   ]
  },
  {
   "cell_type": "markdown",
   "metadata": {},
   "source": [
    "### Model Answer"
   ]
  },
  {
   "cell_type": "markdown",
   "metadata": {},
   "source": [
    "### 1st Repitition"
   ]
  },
  {
   "cell_type": "code",
   "execution_count": null,
   "metadata": {},
   "outputs": [],
   "source": [
    "\"\"\"\n",
    "UMPIRE\n",
    "\n",
    "U: we are given a binary serach tree, our job is to return LCA\n",
    "\n",
    "M: dfs + set\n",
    "\n",
    "P.\n",
    "1. map child to its parent using dfs and hasmap\n",
    "2. using hashmap add 'p' parent nodes into a set\n",
    "3. if 'q' exists  in the 'p' return q\n",
    "\n",
    "\"\"\"\n",
    "\n",
    "# Definition for a binary tree node.\n",
    "# class TreeNode:\n",
    "#     def __init__(self, x):\n",
    "#         self.val = x\n",
    "#         self.left = None\n",
    "#         self.right = None\n",
    "\n",
    "class Solution:\n",
    "    def lowestCommonAncestor(self, root: 'TreeNode', p: 'TreeNode', q: 'TreeNode') -> 'TreeNode':\n",
    "        parentMap = defaultdict(TreeNode)\n",
    "        parentMap[root] = None\n",
    "        comParent = set()\n",
    "\n",
    "        def dfs(node):\n",
    "            if not node:\n",
    "                return\n",
    "\n",
    "            if node.left:\n",
    "                parentMap[node.left] = node\n",
    "                dfs(node.left)\n",
    "            if node.right:\n",
    "                parentMap[node.right] = node\n",
    "                dfs(node.right)\n",
    "\n",
    "        dfs(root)\n",
    "        \n",
    "        comParent.add(p)\n",
    "        while p:\n",
    "            comParent.add(parentMap[p])\n",
    "            p = parentMap[p]\n",
    "\n",
    "        while q:\n",
    "            if q in comParent:\n",
    "                return q\n",
    "            q = parentMap[q]\n",
    "\n",
    "        \n",
    "        return None"
   ]
  }
 ],
 "metadata": {
  "language_info": {
   "name": "python"
  }
 },
 "nbformat": 4,
 "nbformat_minor": 2
}
