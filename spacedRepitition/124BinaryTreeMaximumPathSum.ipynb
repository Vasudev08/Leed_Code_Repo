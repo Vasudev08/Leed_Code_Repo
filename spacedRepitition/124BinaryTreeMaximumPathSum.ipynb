{
 "cells": [
  {
   "cell_type": "markdown",
   "metadata": {},
   "source": [
    "### 124. Binary Tree Maximum Path Sum - 4/19/2024"
   ]
  },
  {
   "cell_type": "code",
   "execution_count": null,
   "metadata": {},
   "outputs": [],
   "source": [
    "############################### Improvement Table ###########################################\n",
    "\"\"\"\n",
    "Repitition # -  Time Taken   \n",
    "\n",
    "1st Repetition - 45 mins - with lots of help\n",
    "2nd Repeition - 14 mins - little bit of help, here and there\n",
    "\n",
    "clock - 57 mins\n",
    "\"\"\""
   ]
  },
  {
   "cell_type": "markdown",
   "metadata": {},
   "source": [
    "### Model Answer"
   ]
  },
  {
   "cell_type": "markdown",
   "metadata": {},
   "source": [
    "### 1st Repitition"
   ]
  },
  {
   "cell_type": "code",
   "execution_count": null,
   "metadata": {},
   "outputs": [],
   "source": [
    "\"\"\"\n",
    "UMPIRE:\n",
    "\n",
    "U: given a binary tree, we are to return the maximum of path sum\n",
    "\n",
    "\n",
    "\n",
    "M: inOrder Traversal + storig the maximum + start the recursion at every node\n",
    "\n",
    "P:\n",
    "1. create a variable to store the maximum of path sum\n",
    "    which will be updated throughout the iteration\n",
    "2. create a helper function to accomplish a in-order traversal\n",
    "    where we will this recursion function at every node\n",
    "    def helper(node, pathsum)\n",
    "\n",
    "\"\"\"\n",
    "\n",
    "class TreeNode:\n",
    "    def __init__(self, val=0, left=None, right=None):\n",
    "        self.val = val\n",
    "        self.left = left\n",
    "        self.right = right\n",
    "\n",
    "class Solution:\n",
    "    def maxPathSum(self, root: Optional[TreeNode]) -> int:\n",
    "        res = 0\n",
    "\n",
    "        def helper(node, pathsum = 0):\n",
    "            if not node:\n",
    "                return\n",
    "            \n",
    "            res = max(res, pathsum)\n",
    "\n",
    "            helper(node.left, pathsum + node.val)\n",
    "            helper(node.right, pathsum + node.val)\n",
    "            helper(node.left)\n",
    "            helper(node.right)\n",
    "\n",
    "\n",
    "        helper(root, root.val)\n",
    "\n",
    "        return res\n",
    "    "
   ]
  },
  {
   "cell_type": "markdown",
   "metadata": {},
   "source": [
    "### 1st Repetition - 2nd Try"
   ]
  },
  {
   "cell_type": "code",
   "execution_count": null,
   "metadata": {},
   "outputs": [],
   "source": [
    "\"\"\"\n",
    "1. Only once can we choose an parent's left and right node.\n",
    "    otherwise we have to make a choice of between values of left\n",
    "    and right nodes\n",
    "\n",
    "2. So throughout the iteration, we will keep the max of either\n",
    "    max(root.val + root.left.val or root.val + root.right.val)\n",
    "\n",
    "3. keeping the max of either left or right esseintally gives us \n",
    "    the choice to split at the current iternation of many internatio\n",
    "    better understood looking at the implementation\n",
    "\"\"\"\n",
    "\n",
    "class TreeNode:\n",
    "    def __init__(self, val=0, left=None, right=None):\n",
    "        self.val = val\n",
    "        self.left = left\n",
    "        self.right = right\n",
    "\n",
    "class Solution:\n",
    "    def maxPathSum(self, root: Optional[TreeNode]) -> int:\n",
    "        res = [root.val]\n",
    "\n",
    "\n",
    "        def dfs(node):\n",
    "            if not node:\n",
    "                return 0\n",
    "            \n",
    "            leftMax = dfs(node.left)\n",
    "            rightMax = dfs(node.right)\n",
    "\n",
    "            # Eliminate Negative values\n",
    "            leftMax = max(leftMax, 0) \n",
    "            rightMax = max(rightMax, 0)\n",
    "\n",
    "            res[0] = max(res[0], node.val + leftMax + rightMax)\n",
    "\n",
    "            return root.val + max(leftMax, rightMax)    \n",
    "\n",
    "        dfs(root)\n",
    "\n",
    "        return res[0]            "
   ]
  },
  {
   "cell_type": "markdown",
   "metadata": {},
   "source": [
    "### 2nd Repetition - 4/24/2024"
   ]
  },
  {
   "cell_type": "code",
   "execution_count": null,
   "metadata": {},
   "outputs": [],
   "source": [
    "\"\"\"\n",
    "UMPIRE\n",
    "\n",
    "U: we are given a binary tree, return the maximum path sum of a \n",
    "    binary tree\n",
    "\n",
    "M: dfs \n",
    "\n",
    "NOTE: at every depth we have to store the maximum of \n",
    "        either left and right because we are assuming\n",
    "        that at our current node we selecting both left and right\n",
    "        node\n",
    "NOTE: We can only choose both left and right node only once\n",
    "        (this is also known as split)\n",
    "\n",
    "P:\n",
    "1. at very dfs traversal return the maximum of both \n",
    "    left and right node\n",
    "2. during the dfs traveral/ iteration we are updating and comparing\n",
    "    the maximum Path Sum\n",
    "3. in this dfs traveral we are starting from the deepest node possible\n",
    "\n",
    "\"\"\"\n",
    "\n",
    "class TreeNode:\n",
    "    def __init__(self, val=0, left=None, right=None):\n",
    "        self.val = val\n",
    "        self.left = left\n",
    "        self.right = right\n",
    "\n",
    "class Solution:\n",
    "    def maxPathSum(self, root: Optional[TreeNode]) -> int:\n",
    "        res = 0\n",
    "\n",
    "        def dfs(node):\n",
    "            if not node:\n",
    "                return 0\n",
    "            \n",
    "            left = dfs(node.left)\n",
    "            right = dfs(node.right)\n",
    "\n",
    "            left = max(left, 0) # to remove negative numbers\n",
    "            right = max(right, 0)\n",
    "\n",
    "            res = max(res, node.val + left + right)\n",
    "\n",
    "            return node.val + max(left, right)\n",
    "        \n",
    "        dfs(root)\n",
    "        return res\n",
    "\n",
    "        "
   ]
  },
  {
   "cell_type": "code",
   "execution_count": null,
   "metadata": {},
   "outputs": [],
   "source": []
  }
 ],
 "metadata": {
  "language_info": {
   "name": "python"
  }
 },
 "nbformat": 4,
 "nbformat_minor": 2
}
