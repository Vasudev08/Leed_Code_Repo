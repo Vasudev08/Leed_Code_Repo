{
 "cells": [
  {
   "cell_type": "markdown",
   "metadata": {},
   "source": [
    "### 53. Maximum Subarray - 8/24/2024"
   ]
  },
  {
   "cell_type": "code",
   "execution_count": null,
   "metadata": {},
   "outputs": [],
   "source": [
    "############################### Improvement Table ###########################################\n",
    "\"\"\"\n",
    "Repitition # -  Time Taken   \n",
    "1st Reptition - 30 mins - without any help went from pointers to dp - very nice\n",
    "\n",
    "\"\"\""
   ]
  },
  {
   "cell_type": "markdown",
   "metadata": {},
   "source": [
    "### Model Answer"
   ]
  },
  {
   "cell_type": "code",
   "execution_count": null,
   "metadata": {},
   "outputs": [],
   "source": [
    "class Solution:\n",
    "    def maxSubArray(self, nums: List[int]) -> int:\n",
    "        if len(nums) == 1:\n",
    "            return nums[0]\n",
    "\n",
    "\n",
    "        dp = [-100000000] * len(nums)\n",
    "        dp[0] = nums[0]\n",
    "        res = nums[0]\n",
    "\n",
    "        for i in range(1, len(nums)):\n",
    "            dp[i] = max(nums[i], nums[i] + dp[i - 1])\n",
    "            print(\"dp\", dp[i])\n",
    "            res = max(res, dp[i])\n",
    "            print(\"res\",res)\n",
    "\n",
    "        return res\n",
    "        "
   ]
  },
  {
   "cell_type": "markdown",
   "metadata": {},
   "source": [
    "### 1st Repitition"
   ]
  },
  {
   "cell_type": "code",
   "execution_count": null,
   "metadata": {},
   "outputs": [],
   "source": [
    "\"\"\"\n",
    "UMPIRE:\n",
    "\n",
    "U: We are given an array, return an subarray which has the largest sum\n",
    "    Returning: Sum of the subarray\n",
    "\n",
    "Q1. if we are using two pointers, I don't know what should be the condition\n",
    "to shift the the pointer to second pointer to right and first pointer to right\n",
    "A1. we move the left pointer when we encounter a current max, to try to see if we\n",
    "find another maximum in that interval, if we can that's the new subarray\n",
    "else after finding the Cur Max and not finding an updated max within the\n",
    "subarray, we keep the original interval\n",
    "\n",
    "\n",
    "\n",
    "M: Dynamic Programming, \n",
    "\n",
    "P:\n",
    "- creating a empty res list, where we are going to store, max Sum\n",
    "we can reach at that current index\n",
    "- So, it becomes easier to find the maximum of the curent index + 1,\n",
    " by doing the following max(res[i - 1] + num[i], num[i])\n",
    "\n",
    "\n",
    "\"\"\"\n",
    "\n",
    "class Solution:\n",
    "    def maxSubArray(self, nums: List[int]) -> int:\n",
    "\n",
    "        dp = [float('-inf')] * len(nums)\n",
    "        res = float('-int')\n",
    "\n",
    "        for i in range(1, len(nums)):\n",
    "            dp[i] = max(nums[i], nums[i] + dp[i - 1])\n",
    "            res = max(res, dp[i])\n",
    "\n",
    "        return res\n"
   ]
  },
  {
   "cell_type": "markdown",
   "metadata": {},
   "source": [
    "### 2nd Repittion - 10/8/2024"
   ]
  },
  {
   "cell_type": "code",
   "execution_count": null,
   "metadata": {},
   "outputs": [],
   "source": [
    "class Solution:\n",
    "    def maxSubArray(self, nums: List[int]) -> int:\n",
    "        # Here, From the end of the list, we are going to \n",
    "        # keep the maximum of each index\n",
    "        # which can be calculated by max(nums[i], nums[i] + dp[i + 1])\n",
    "        # this works because the largest sum we can have at the last index\n",
    "        # is the last number itself' as it's the end of the list\n",
    "        # Maximum sum for n - 1 index, should be either itself or itself + maximum at next position\n",
    "        # Here, we we are not to return array, we are just returning maximum sum\n",
    "        # we can use dynamicc programming\n",
    "        if len(nums) == 1:\n",
    "            return nums[0]\n",
    "        dp = [0] * len(nums)\n",
    "        dp[-1] = nums[-1]\n",
    "        res = nums[-1]\n",
    "\n",
    "        for i in range(len(nums) - 2, -1, -1):\n",
    "\n",
    "            dp[i] = max(nums[i], nums[i] + dp[i + 1])\n",
    "            res = max(res, dp[i])\n",
    "        print(dp)\n",
    "\n",
    "        return res\n",
    "\n",
    "        return 0\n",
    "        "
   ]
  },
  {
   "cell_type": "markdown",
   "metadata": {},
   "source": [
    "### 3rd Repetition - 2/4/2025"
   ]
  },
  {
   "cell_type": "code",
   "execution_count": null,
   "metadata": {},
   "outputs": [],
   "source": [
    "class Solution:\n",
    "    def maxSubArray(self, nums: List[int]) -> int:\n",
    "        # Dynamic Programming\n",
    "        # O(N) => Running time\n",
    "\n",
    "        # at every index store the maximum by comparing itself and itself + next element\n",
    "        if len(nums) == 1:\n",
    "            return nums[0]\n",
    "        dp = nums\n",
    "        res = dp[-1]\n",
    "\n",
    "        for i in range(len(nums) -2, -1, -1):\n",
    "            dp[i] = max(nums[i], nums[i] + dp[i + 1])\n",
    "            res = max(res, dp[i])\n",
    "\n",
    "        return res\n",
    "\n",
    "        "
   ]
  }
 ],
 "metadata": {
  "language_info": {
   "name": "python"
  }
 },
 "nbformat": 4,
 "nbformat_minor": 2
}
