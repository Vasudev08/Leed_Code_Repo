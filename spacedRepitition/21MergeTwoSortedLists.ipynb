{
 "cells": [
  {
   "cell_type": "markdown",
   "metadata": {},
   "source": [
    "### 21. Merge Two Sorted Lists - 9/30/2024"
   ]
  },
  {
   "cell_type": "code",
   "execution_count": null,
   "metadata": {},
   "outputs": [],
   "source": [
    "############################### Improvement Table ###########################################\n",
    "\"\"\"\n",
    "Repitition # -  Time Taken  \n",
    "1st repetiton - 29 mins with help\n",
    "2md repeition - 5 mins with no help\n",
    "\n",
    "\n",
    "\"\"\""
   ]
  },
  {
   "cell_type": "markdown",
   "metadata": {},
   "source": [
    "### Model Answer"
   ]
  },
  {
   "cell_type": "markdown",
   "metadata": {},
   "source": [
    "### 1st Repitition"
   ]
  },
  {
   "cell_type": "code",
   "execution_count": null,
   "metadata": {},
   "outputs": [],
   "source": [
    "\"\"\"\n",
    "UMPIRE\n",
    "\n",
    "U: we are given to linked list, our job is to combine both of them \n",
    "and sort them together\n",
    "\n",
    "M: two pointers, one for each linked list\n",
    "\n",
    "P:\n",
    "- 1. starting from the left-hand side, we are using to compare  \n",
    "    the node which are pointed by pointers\n",
    "- 2. apprioately shift the pointers in the right place,\n",
    "    and move the two pointers apprioately\n",
    "\n",
    "NOTE: it's better approach to create a new linked, rather than doing in-place\n",
    "lesson learned: start with brute force or the simple solution, then add complexity\n",
    "\n",
    "\"\"\"\n",
    "\n",
    "from typing import Optional\n",
    "class ListNode:\n",
    "    def __init(self, val=0, next=None):\n",
    "        self.val = val\n",
    "        self.next = next\n",
    "\n",
    "\n",
    "\n",
    "class Solution:\n",
    "    def mergeTwoLists(self, list1: Optional[ListNode], list2: Optional[ListNode]) -> Optional[ListNode]:\n",
    "        dummyNode = ListNode()\n",
    "        new = dummyNode\n",
    "        l = list1\n",
    "        r = list2\n",
    "\n",
    "        while  (l and r):\n",
    "            if l.val > r.val:\n",
    "                new.next = r\n",
    "                r = r.next\n",
    "            else:\n",
    "                new.next = l\n",
    "                l = l.next\n",
    "\n",
    "            new = new.next\n",
    "\n",
    "\n",
    "        if l:\n",
    "            new.next = l\n",
    "        if r:\n",
    "            new.next = r\n",
    "\n",
    "        return dummyNode.next"
   ]
  },
  {
   "cell_type": "markdown",
   "metadata": {},
   "source": [
    "### 2nd repettion - 5mins"
   ]
  },
  {
   "cell_type": "code",
   "execution_count": null,
   "metadata": {},
   "outputs": [],
   "source": [
    "# Definition for singly-linked list.\n",
    "# class ListNode:\n",
    "#     def __init__(self, val=0, next=None):\n",
    "#         self.val = val\n",
    "#         self.next = next\n",
    "class Solution:\n",
    "    def mergeTwoLists(self, list1: Optional[ListNode], list2: Optional[ListNode]) -> Optional[ListNode]:\n",
    "        # assign two pointers to individual linked list\n",
    "        # create a new linked list and attach new nodes in a sorted manner\n",
    "\n",
    "        l = list1\n",
    "        r = list2\n",
    "\n",
    "        tempHead = ListNode()\n",
    "        curHead = tempHead\n",
    "\n",
    "        while (l and r):\n",
    "            if l.val < r.val:\n",
    "                curHead.next = l\n",
    "                l = l.next\n",
    "            else:\n",
    "                curHead.next = r\n",
    "                r = r.next\n",
    "\n",
    "            curHead = curHead.next\n",
    "\n",
    "        if (l):\n",
    "            curHead.next = l\n",
    "        elif (r):\n",
    "            curHead.next = r\n",
    "\n",
    "        return tempHead.next\n",
    "        "
   ]
  }
 ],
 "metadata": {
  "language_info": {
   "name": "python"
  }
 },
 "nbformat": 4,
 "nbformat_minor": 2
}
