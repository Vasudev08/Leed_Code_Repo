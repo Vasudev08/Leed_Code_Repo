{
 "cells": [
  {
   "cell_type": "markdown",
   "metadata": {},
   "source": [
    "### 239. Sliding Window Maximum - 11/8/2024"
   ]
  },
  {
   "cell_type": "code",
   "execution_count": null,
   "metadata": {},
   "outputs": [],
   "source": [
    "############################### Improvement Table ###########################################\n",
    "\"\"\"\n",
    "Repitition # -  Time Taken\n",
    "1st Repetition -    \n",
    "\n",
    "\n",
    "\"\"\""
   ]
  },
  {
   "cell_type": "markdown",
   "metadata": {},
   "source": [
    "### Model Answer"
   ]
  },
  {
   "cell_type": "markdown",
   "metadata": {},
   "source": [
    "### 1st Repitition"
   ]
  },
  {
   "cell_type": "code",
   "execution_count": null,
   "metadata": {},
   "outputs": [],
   "source": [
    "\"\"\"\n",
    "UMPIRE\n",
    "\n",
    "U: we are given a nums array and a sliding window of size 'k' our job is to return \n",
    "the max inside this sliding window which goes from left to right\n",
    "\n",
    "M: Deque + Sliding Window\n",
    "\n",
    "P:\n",
    "\n",
    "- Here Deque will act a storage for containing the maximum, 2nd maximum and so on\n",
    "    our Deque will be in decreasing order\n",
    "- we remove index from deque when the current index is out of bound\n",
    "- we remove index from deque when current index is bigger than rest of the index in deque\n",
    "    -- we do that because the removed smaller index will never be used \n",
    "    -- we don't remove from deque if current index is smaller than max\n",
    "        --- as it might happen that our max it's removed due to out-of-bounds\n",
    "            and we need the 2nd maximum in our window (our deque will be in decreasing order)\n",
    "\n",
    "\"\"\"\n",
    "from collections import deque\n",
    "\n",
    "class Solution:\n",
    "    def maxSlidingWindow(self, nums: List[int], k: int) -> List[int]:\n",
    "        if not nums:\n",
    "            return []\n",
    "        \n",
    "        deq = deque()\n",
    "        res = []\n",
    "\n",
    "        for i in range(len(nums)):\n",
    "            # removes index which is out of bounds\n",
    "            if deq and deq[0] < i - k + 1:\n",
    "                deq.popleft()\n",
    "\n",
    "            # remove elements from deque which are smaller than current element\n",
    "            while deq and nums[deq[-1]] < nums[i]:\n",
    "                deq.pop()\n",
    "            # if our current element is smaller than last index of deq, we keep it \n",
    "            # as a 2nd maximum in case our max gets popped due to out of bounds\n",
    "\n",
    "            deq.append(i)\n",
    "\n",
    "            if i >= k - 1:\n",
    "                res.append(nums[deq[0]])\n",
    "\n",
    "        \n",
    "        return res\n",
    "\n",
    "\n",
    "            \n",
    "\n",
    "        \n"
   ]
  },
  {
   "cell_type": "markdown",
   "metadata": {},
   "source": [
    "### 2nd Repetition - without much help"
   ]
  },
  {
   "cell_type": "code",
   "execution_count": null,
   "metadata": {},
   "outputs": [],
   "source": [
    "class Solution:\n",
    "    def maxSlidingWindow(self, nums: List[int], k: int) -> List[int]:\n",
    "        res = []\n",
    "        q = deque()\n",
    "\n",
    "        \"\"\"\n",
    "        Going to use the que to store the maximum and 2nd maxim and so on..\n",
    "        which means at every interation \n",
    "        - we remove all nums from the que which are smaller than current num\n",
    "        - if our current num is 2nd or 3rd we keep it in our que\n",
    "\n",
    "        now the question is how to use this fact to our advantage\n",
    "        use index in the que please\n",
    "         \n",
    "\n",
    "\n",
    "        \"\"\"\n",
    "        if not nums:\n",
    "            return []\n",
    "\n",
    "        for i in range(len(nums)):\n",
    "            # print(\"ith Iteration: \", i)\n",
    "\n",
    "            if q and q[0] < i - k + 1:\n",
    "                q.popleft()\n",
    "\n",
    "            while q and nums[i] > nums[q[-1]]:\n",
    "                # Here we are using pop because\n",
    "                # example q = [4, 2]\n",
    "                # current element = 3\n",
    "                # then using pop our q = [4, 3]\n",
    "                # but if we use popleft our q = [4, 2, 3]\n",
    "                q.pop()\n",
    "\n",
    "            q.append(i)\n",
    "\n",
    "            if i >= k - 1:\n",
    "                res.append(nums[q[0]])\n",
    "\n",
    "        # print(res)\n",
    "\n",
    "        return res\n",
    "        "
   ]
  },
  {
   "cell_type": "markdown",
   "metadata": {},
   "source": [
    "### 3rd Repeition - 11/12/2024"
   ]
  },
  {
   "cell_type": "code",
   "execution_count": null,
   "metadata": {},
   "outputs": [],
   "source": [
    "class Solution:\n",
    "    def maxSlidingWindow(self, nums: List[int], k: int) -> List[int]:\n",
    "        res = []\n",
    "\n",
    "        q = deque()\n",
    "\n",
    "        # In this question we are going to use sliding window\n",
    "        #our que is going to be in decreasing order \n",
    "        # which we remove numbers from our que which are \n",
    "        # lesser than current and we do it from the right hand side as well\n",
    "        # and lmixpt means we are going to keep 2nd smallest elements as well\n",
    "        # we are going to using index in our que\n",
    "\n",
    "\n",
    "        if not nums:\n",
    "            return []\n",
    "\n",
    "\n",
    "        for i in range(len(nums)):\n",
    "\n",
    "            if q and (q[0] < i - k + 1):\n",
    "                q.popleft()\n",
    "\n",
    "\n",
    "            while q and nums[i] > nums[q[-1]]:\n",
    "                q.pop()\n",
    "\n",
    "            q.append(i)\n",
    "\n",
    "            if i >= k - 1:\n",
    "                res.append(nums[q[0]])\n",
    "\n",
    "        return res\n",
    "        "
   ]
  }
 ],
 "metadata": {
  "language_info": {
   "name": "python"
  }
 },
 "nbformat": 4,
 "nbformat_minor": 2
}
