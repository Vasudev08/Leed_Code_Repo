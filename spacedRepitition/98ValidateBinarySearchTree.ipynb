{
 "cells": [
  {
   "cell_type": "markdown",
   "metadata": {},
   "source": [
    "### 98. Validate Binary Search Tree - 4/19/2024"
   ]
  },
  {
   "cell_type": "code",
   "execution_count": null,
   "metadata": {},
   "outputs": [],
   "source": [
    "############################### Improvement Table ###########################################\n",
    "\"\"\"\n",
    "Repitition # -  Time Taken   \n",
    "\n",
    "1st Repeition - 23 mins (got the logic but the implementation is not good)\n",
    "\n",
    "clock -> 55 mins\n",
    "\"\"\""
   ]
  },
  {
   "cell_type": "markdown",
   "metadata": {},
   "source": [
    "### Model Answer"
   ]
  },
  {
   "cell_type": "markdown",
   "metadata": {},
   "source": [
    "### 1st Repitition"
   ]
  },
  {
   "cell_type": "code",
   "execution_count": null,
   "metadata": {},
   "outputs": [],
   "source": [
    "\"\"\"\n",
    "UMPIRE:\n",
    "U:\n",
    "given a root of a binary tree, we are to validate this binary tree (BST)\n",
    "\n",
    "Q. How do I have know whether it's the left or right node\n",
    "\n",
    "M: dfs traversal speciall pre-order traversal\n",
    "\n",
    "in-order traversal L - Root - R\n",
    "pre-order traversal Root - L - R\n",
    "post-order traveral\n",
    "\n",
    "P:\n",
    "1. Create a helper function which does pre-order traversal, check's whether it's \n",
    "    - if going left: less than parent root and more than minVal (which we will define)\n",
    "    - if going right: more than right root and less than maxVal (whic we will define as well)\n",
    "\n",
    "    NOTE essentially these minVal and maxVal are values which ensure that \n",
    "        either left-sub tree or right sub-tree and respectively less than and \n",
    "        more than the parent node\n",
    "\n",
    "\n",
    "\n",
    "\"\"\"\n",
    "\n",
    "class TreeNode:\n",
    "    def __init__(self, val=0, left=None, right=None):\n",
    "        self.val = val\n",
    "        self.left = left\n",
    "        self.right = right\n",
    "\n",
    "class Solution:\n",
    "    def isValidBST(self, root: Optional[TreeNode]) -> bool:\n",
    "\n",
    "        def helper(node, leftVal = -float('infinity'), rightVal = float('infinity')):\n",
    "            if not node:\n",
    "                return True\n",
    "            \n",
    "            if not leftVal < node.val < rightVal:\n",
    "                return False\n",
    "            \n",
    "            return (helper(node.left, leftVal, node.val) and \n",
    "                    helper(node.right, node.val, rightVal))\n",
    "        \n",
    "        return helper(root)\n",
    "            \n",
    "\n",
    "\n"
   ]
  },
  {
   "cell_type": "code",
   "execution_count": null,
   "metadata": {},
   "outputs": [],
   "source": []
  }
 ],
 "metadata": {
  "language_info": {
   "name": "python"
  }
 },
 "nbformat": 4,
 "nbformat_minor": 2
}
