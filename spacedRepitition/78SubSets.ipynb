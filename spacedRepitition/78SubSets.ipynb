{
 "cells": [
  {
   "cell_type": "markdown",
   "metadata": {},
   "source": [
    "### 78. Subsets - 9/17/2024"
   ]
  },
  {
   "cell_type": "code",
   "execution_count": null,
   "metadata": {},
   "outputs": [],
   "source": [
    "############################### Improvement Table ###########################################\n",
    "\"\"\"\n",
    "Repitition # -  Time Taken  \n",
    "1st Repeition -  1hr with help as well\n",
    "2nds Repeition - 14 mins with no help\n",
    "\n",
    "\n",
    "\"\"\""
   ]
  },
  {
   "cell_type": "markdown",
   "metadata": {},
   "source": [
    "### Model Answer"
   ]
  },
  {
   "cell_type": "markdown",
   "metadata": {},
   "source": [
    "### 1st Repitition"
   ]
  },
  {
   "cell_type": "code",
   "execution_count": null,
   "metadata": {},
   "outputs": [],
   "source": [
    "\"\"\"\n",
    "UMPIRE\n",
    "U: we are given a list of nums, we have to return all unique subsets\n",
    "\n",
    "M: backtracing\n",
    "\n",
    "P:\n",
    "1. we can use backtracking to generate all possible subsets\n",
    "    and append it to our res list\n",
    "\n",
    "\n",
    "\"\"\"\n",
    "# 1st Attempt without any help, passed all cases, but on single case    \n",
    "# got time exceeded error\n",
    "class Solution:\n",
    "    def subsets(self, nums: List[int]) -> List[List[int]]:\n",
    "\n",
    "        res = set()\n",
    "\n",
    "        def backTracking(index, curSet):\n",
    "\n",
    "            if index == len(nums):\n",
    "                res.add(tuple(curSet.copy()))\n",
    "                return \n",
    "\n",
    "\n",
    "            for i in range(index, len(nums)):\n",
    "                curSet.append(nums[index])\n",
    "                res.add(tuple(curSet.copy()))\n",
    "                backTracking(index + 1, [])\n",
    "                backTracking(index + 1, curSet)\n",
    "                curSet.pop()\n",
    "                backTracking(index + 1, curSet)\n",
    "\n",
    "\n",
    "        backTracking(0, [])\n",
    "        return res\n",
    "\n",
    "\n",
    "\n",
    "\n",
    "        "
   ]
  },
  {
   "cell_type": "code",
   "execution_count": null,
   "metadata": {},
   "outputs": [],
   "source": [
    "\"\"\"\n",
    "NOTE: we will get an Time Limit Exceeded Error this is because of the \n",
    "'for' loop in the answer, we have find a way to eliminate the for loop\n",
    "- also we are using set to avoid duplicates subsets, which tells us that\n",
    "our can doing the same computation mutliple no. of times\n",
    "\n",
    "IMPROVED CODE Below\n",
    "- we will use the variable 'index' in a very unique way\n",
    "as 'index' keeps on increasing, we will never encounter an duplicate\n",
    "to understand the code better we can think of using the 'index' variable \n",
    "similar to 'for' loop mechasima\n",
    "\"\"\"\n",
    "\n",
    "class Solution:\n",
    "    def subsets(self, nums: List[int]) -> List[List[int]]:\n",
    "        res = []\n",
    "\n",
    "        def backTracking(index, curSet):\n",
    "            if index == len(nums):\n",
    "                res.append(curSet.copy())\n",
    "                return \n",
    "            \n",
    "            curSet.append(nums[index])\n",
    "            backTracking(index + 1, curSet)\n",
    "\n",
    "\n",
    "            curSet.pop()\n",
    "            backTracking(index + 1, curSet)\n",
    "\n",
    "\n",
    "\n",
    "        backTracking(0, [])\n",
    "        return res\n"
   ]
  },
  {
   "cell_type": "markdown",
   "metadata": {},
   "source": [
    "### 2nd Repetition - 10/3/2024"
   ]
  },
  {
   "cell_type": "code",
   "execution_count": null,
   "metadata": {},
   "outputs": [],
   "source": [
    "# Running time - O(n^2)\n",
    "\n",
    "class Solution:\n",
    "    def subsets(self, nums: List[int]) -> List[List[int]]:\n",
    "        # def backTracking(index, curSet)\n",
    "            # if condition - in bound check\n",
    "            # appending to our res list - curSet\n",
    "            # calling backTracking(index + 1,curSet)\n",
    "            #Popping from the res list\n",
    "            # again Calling backTracking(index + 1, [])\n",
    "        res = []\n",
    "        def backTracking(index, curSet):\n",
    "            if index >= len(nums):\n",
    "                return \n",
    "\n",
    "            curSet.append(nums[index])\n",
    "            res.append(curSet.copy())\n",
    "            backTracking(index + 1, curSet)\n",
    "\n",
    "            curSet.pop()\n",
    "            backTracking(index + 1, curSet)\n",
    "\n",
    "        res.append([])\n",
    "        backTracking(0, [])\n",
    "\n",
    "        return res\n",
    "        "
   ]
  },
  {
   "cell_type": "markdown",
   "metadata": {},
   "source": [
    "### 3rd Repitition - 10/9/2024"
   ]
  },
  {
   "cell_type": "code",
   "execution_count": null,
   "metadata": {},
   "outputs": [],
   "source": [
    "class Solution:\n",
    "    def subsets(self, nums: List[int]) -> List[List[int]]:\n",
    "        \n",
    "        res = []\n",
    "        def backTracking(index, curList):\n",
    "            if index >= len(nums):\n",
    "                return\n",
    "\n",
    "            curList.append(nums[index])\n",
    "            \n",
    "            res.append(curList.copy())\n",
    "\n",
    "            backTracking(index + 1, curList)\n",
    "\n",
    "            curList.pop()\n",
    "            backTracking(index + 1, curList)\n",
    "\n",
    "        res.append([])\n",
    "        backTracking(0, [])\n",
    "        return res\n",
    "\n",
    "        # time-complexity - (2 ^n)*(n for copying subsets)\n",
    "        "
   ]
  },
  {
   "cell_type": "code",
   "execution_count": null,
   "metadata": {},
   "outputs": [],
   "source": []
  }
 ],
 "metadata": {
  "language_info": {
   "name": "python"
  }
 },
 "nbformat": 4,
 "nbformat_minor": 2
}
