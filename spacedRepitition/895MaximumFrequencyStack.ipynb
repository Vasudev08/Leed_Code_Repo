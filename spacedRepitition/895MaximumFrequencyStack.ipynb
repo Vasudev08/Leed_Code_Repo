{
 "cells": [
  {
   "cell_type": "markdown",
   "metadata": {},
   "source": [
    "### 895. Maximum Frequency Stack - 12/28/2024"
   ]
  },
  {
   "cell_type": "code",
   "execution_count": null,
   "metadata": {},
   "outputs": [],
   "source": [
    "############################### Improvement Table ###########################################\n",
    "\"\"\"\n",
    "Repitition # -  Time Taken   \n",
    "\n",
    "\n",
    "\"\"\""
   ]
  },
  {
   "cell_type": "markdown",
   "metadata": {},
   "source": [
    "### Time Complexity\n",
    "- O (log n)"
   ]
  },
  {
   "cell_type": "markdown",
   "metadata": {},
   "source": [
    "### Model Answer"
   ]
  },
  {
   "cell_type": "markdown",
   "metadata": {},
   "source": [
    "### 1st Repitition"
   ]
  },
  {
   "cell_type": "code",
   "execution_count": null,
   "metadata": {},
   "outputs": [],
   "source": [
    "class FreqStack:\n",
    "    # important property of minHeap is while adding a tuple (x, y, z)\n",
    "    # if there's a tie on first element it's resloved based on the 'y' \n",
    "    # and if first elemnts y's are tie as well, it goes to z\n",
    "\n",
    "    def __init__(self):\n",
    "        self.countMap = defaultdict(int)\n",
    "        self.minHeap = []\n",
    "        self.timeStamp = 0\n",
    "        # Dictionary\n",
    "        # key: val, value: occurence\n",
    "\n",
    "        # minHeap\n",
    "        # sorted on -(occurence) but push(occurence, val)\n",
    "\n",
    "    def push(self, val: int) -> None:\n",
    "        # while pushing make sure\n",
    "        # increment count in dictionary\n",
    "        # add it to the minHeap with -(occurence)\n",
    "        self.countMap[val] += 1\n",
    "        heapq.heappush(self.minHeap, (-1 * self.countMap[val],-self.timeStamp, val))\n",
    "        self.timeStamp += 1\n",
    "        \n",
    "\n",
    "    def pop(self) -> int:\n",
    "        # and decrement the count from the dictionary\n",
    "        _, _, value = heapq.heappop(self.minHeap)\n",
    "        self.countMap[value] -= 1\n",
    "        return value\n",
    "        \n",
    "\n",
    "\n",
    "# Your FreqStack object will be instantiated and called as such:\n",
    "# obj = FreqStack()\n",
    "# obj.push(val)\n",
    "# param_2 = obj.pop()"
   ]
  }
 ],
 "metadata": {
  "language_info": {
   "name": "python"
  }
 },
 "nbformat": 4,
 "nbformat_minor": 2
}
