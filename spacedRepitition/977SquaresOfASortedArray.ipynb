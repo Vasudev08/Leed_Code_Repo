{
 "cells": [
  {
   "cell_type": "markdown",
   "metadata": {},
   "source": [
    "### 977. Squares of a sorted array"
   ]
  },
  {
   "cell_type": "code",
   "execution_count": null,
   "metadata": {},
   "outputs": [],
   "source": [
    "############################### Improvement Table ###########################################\n",
    "\"\"\"\n",
    "Repitition # -  Time Taken   \n",
    "1st Repeietion - 10 mins\n",
    "\n",
    "\"\"\""
   ]
  },
  {
   "cell_type": "markdown",
   "metadata": {},
   "source": [
    "### Model Answer"
   ]
  },
  {
   "cell_type": "markdown",
   "metadata": {},
   "source": [
    "### 1st Repitition - Used Sorted - RT: (n log n)"
   ]
  },
  {
   "cell_type": "code",
   "execution_count": null,
   "metadata": {},
   "outputs": [],
   "source": [
    "class Solution:\n",
    "    def sortedSquares(self, nums: List[int]) -> List[int]:\n",
    "        for i in range(len(nums)):\n",
    "            if nums[i] < 0:\n",
    "                nums[i] = -1 * nums[i]\n",
    "\n",
    "        nums = sorted(nums)\n",
    "        res = []\n",
    "        for i in range(len(nums)):\n",
    "            res.append(nums[i] * nums[i])\n",
    "\n",
    "        return res\n",
    "\n",
    "        "
   ]
  },
  {
   "cell_type": "markdown",
   "metadata": {},
   "source": [
    "### 2st Repetition - two pointers - O(n)"
   ]
  },
  {
   "cell_type": "code",
   "execution_count": null,
   "metadata": {},
   "outputs": [],
   "source": [
    "class Solution:\n",
    "    def sortedSquares(self, nums: List[int]) -> List[int]:\n",
    "        l = 0\n",
    "        r = len(nums) - 1\n",
    "\n",
    "        res = [0] * len(nums)\n",
    "        pos = len(nums) - 1\n",
    "\n",
    "        while (l <= r):\n",
    "            sql = nums[l] * nums[l]\n",
    "            sqr = nums[r] * nums[r]\n",
    "\n",
    "            if sql >= sqr:\n",
    "                res[pos] = sql\n",
    "                l += 1\n",
    "            else:\n",
    "                res[pos] = sqr\n",
    "                r -= 1\n",
    "\n",
    "            pos -= 1\n",
    "\n",
    "        return res\n",
    "\n",
    "        "
   ]
  }
 ],
 "metadata": {
  "language_info": {
   "name": "python"
  }
 },
 "nbformat": 4,
 "nbformat_minor": 2
}
