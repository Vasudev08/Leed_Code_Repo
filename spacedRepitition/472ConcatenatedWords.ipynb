{
 "cells": [
  {
   "cell_type": "markdown",
   "metadata": {},
   "source": [
    "### 472. Concatenated Words - 1/7/205"
   ]
  },
  {
   "cell_type": "code",
   "execution_count": null,
   "metadata": {},
   "outputs": [],
   "source": [
    "############################### Improvement Table ###########################################\n",
    "\"\"\"\n",
    "Repitition # -  Time Taken   \n",
    "1st repetition - 1hr ++\n",
    "\n",
    "\"\"\""
   ]
  },
  {
   "cell_type": "markdown",
   "metadata": {},
   "source": [
    "### Time Complexity - \n",
    "- Running time: O(N * $L^2$), n: no. of words, l: length of the word"
   ]
  },
  {
   "cell_type": "markdown",
   "metadata": {},
   "source": [
    "### Model Answer"
   ]
  },
  {
   "cell_type": "markdown",
   "metadata": {},
   "source": [
    "### 1st Repitition - Wrong Implementation - Try Dynamic Programming"
   ]
  },
  {
   "cell_type": "code",
   "execution_count": null,
   "metadata": {},
   "outputs": [],
   "source": [
    "class TrieNode:\n",
    "    def __init__(self):\n",
    "        self.children = {}\n",
    "        self.isWord = False\n",
    "\n",
    "\n",
    "    def addWord(self, word):\n",
    "        curTrie = self\n",
    "\n",
    "        for c in word:\n",
    "            if c not in curTrie.children:\n",
    "                curTrie.children[c] = TrieNode()\n",
    "\n",
    "            curTrie = curTrie.children[c]\n",
    "\n",
    "        curTrie.isWord = True\n",
    "\n",
    "    def isConcatenated(self, word, start, count):\n",
    "        curTrie = self\n",
    "\n",
    "        for i in range(start, len(word)):\n",
    "            char = word[i]\n",
    "\n",
    "            if char not in curTrie.children:\n",
    "                return False\n",
    "\n",
    "            curTrie = curTrie.children[char]\n",
    "            if curTrie.isWord:\n",
    "                if i == len(word) - 1:\n",
    "                    return count >= 1\n",
    "\n",
    "                if self.isConcatenated(word, i + 1, count + 1):\n",
    "                    return True\n",
    "\n",
    "\n",
    "        return False\n",
    "\n",
    "\n",
    "\n",
    "class Solution:\n",
    "    def findAllConcatenatedWordsInADict(self, words: List[str]) -> List[str]:\n",
    "        # 1. Build a TrieNode\n",
    "        #       and insert all the words into this TrieNode\n",
    "        # 2. traverse through every word in the 'words' list one-by-one\n",
    "        #       and if isWord count > 1 for the current word\n",
    "        #       append it to our res list\n",
    "\n",
    "        Trie = TrieNode()\n",
    "        for w in words:\n",
    "            Trie.addWord(w)\n",
    "\n",
    "        res = []\n",
    "        memo = {}\n",
    "        for word in words:\n",
    "            if Trie.isConcatenated(word, 0, 0):\n",
    "                res.append(word)\n",
    "        return res\n",
    "\n",
    "        "
   ]
  },
  {
   "cell_type": "markdown",
   "metadata": {},
   "source": [
    "### 2nd Repetition "
   ]
  },
  {
   "cell_type": "code",
   "execution_count": null,
   "metadata": {},
   "outputs": [],
   "source": [
    "# Running time : O(n) * L^2\n",
    "# Here we are using dynamic programming to solve this problem\n",
    "# where the words list counts as our hashmap, and we are using set to \n",
    "# have a time complexity of O(1) while accessing it \n",
    "# our main 'for' loop in going to run O(n), n: no. of words\n",
    "# for each word, we executve times two 'for' loop based on the length of the word\n",
    "\n",
    "class Solution:\n",
    "    def findAllConcatenatedWordsInADict(self, words: List[str]) -> List[str]:\n",
    "        wordSet = set(words)\n",
    "        res = []\n",
    "\n",
    "        def canForm(word):\n",
    "            n = len(word)\n",
    "            if n == 0:\n",
    "                return False\n",
    "\n",
    "            dp = [False] * (n + 1)\n",
    "            dp[n] = True\n",
    "\n",
    "            for i in range(n - 1, -1, -1):\n",
    "                for j in range(i + 1, n + 1):\n",
    "                    # print(f\"i value: {i}, j value: {j}\")\n",
    "                    if word[i:j] in wordSet and dp[j] and word[i:j] != word:\n",
    "                        dp[i] = True\n",
    "                        break\n",
    "\n",
    "            return dp[0]\n",
    "\n",
    "\n",
    "        for word in words:\n",
    "            if canForm(word):\n",
    "                res.append(word)\n",
    "\n",
    "        return res\n",
    "        "
   ]
  }
 ],
 "metadata": {
  "language_info": {
   "name": "python"
  }
 },
 "nbformat": 4,
 "nbformat_minor": 2
}
