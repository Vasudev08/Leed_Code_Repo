{
 "cells": [
  {
   "cell_type": "markdown",
   "metadata": {},
   "source": [
    "### 852. Peak Index in a Mountain Array"
   ]
  },
  {
   "cell_type": "code",
   "execution_count": null,
   "metadata": {},
   "outputs": [],
   "source": [
    "############################### Improvement Table ###########################################\n",
    "\"\"\"\n",
    "Repitition # -  Time Taken   \n",
    "1st Repetition - \n",
    "\n",
    "\"\"\""
   ]
  },
  {
   "cell_type": "markdown",
   "metadata": {},
   "source": [
    "### Model Answer"
   ]
  },
  {
   "cell_type": "markdown",
   "metadata": {},
   "source": [
    "### 1st Repitition"
   ]
  },
  {
   "cell_type": "code",
   "execution_count": null,
   "metadata": {},
   "outputs": [],
   "source": [
    "class Solution:\n",
    "    def peakIndexInMountainArray(self, arr: List[int]) -> int:\n",
    "        # Theory:\n",
    "        # have two pointers at the edge o the list\n",
    "        # have a mid pointers pointing to the middle of an array/sub-section\n",
    "        # our job to choose an increaseing \n",
    "        # [0 2 3 5 2]\n",
    "        # [3 5 2]\n",
    "        # New Theory:\n",
    "        # taking mid pointer, compare it with it's neighboring\n",
    "        # left and right element\n",
    "        # if (mid > left and mid > right) return mid\n",
    "        # if (mid < left and mid > right) choose left sub-section\n",
    "        # if (mid < right and mid > left) choose right sub-section\n",
    "\n",
    "        \n",
    "\n",
    "        temp = arr\n",
    "\n",
    "        while len(temp) >= 3:\n",
    "            mid = len(temp) // 2\n",
    "            left = mid - 1\n",
    "            right = mid + 1\n",
    "\n",
    "            if temp[mid] > temp[left] and temp[mid] > temp[right]:\n",
    "                return mid\n",
    "            elif temp[mid] < temp[left] and temp[mid] > temp[right]:\n",
    "                temp = temp[:mid]\n",
    "            elif temp[mid] > temp[left] and temp[mid] < temp[right]:\n",
    "                temp = temp[mid:]\n",
    "\n",
    "        print(\"Temp Left: \", temp)\n",
    "        if temp[1] > temp[0]:\n",
    "            return 1\n",
    "\n",
    "        return 0\n",
    "    \n",
    "    #NOTE: Issues with the above implementation, we are using the right logic\n",
    "    # we are in the right direction but here we are modifying the array\n",
    "    # which messing up with the index, and we are to return index of the \n",
    "    # original array, this problem can be solved with creating a new array\n",
    "    # by combining two appraoch. left and right pointer and mid, mid-1 and\n",
    "    # mid + 1 calculations\n",
    "        "
   ]
  },
  {
   "cell_type": "markdown",
   "metadata": {},
   "source": [
    "### 2nd Attempt - 10/9/2024"
   ]
  },
  {
   "cell_type": "code",
   "execution_count": null,
   "metadata": {},
   "outputs": [],
   "source": [
    "class Solution:\n",
    "    def peakIndexInMountainArray(self, arr: List[int]) -> int:\n",
    "        # we will use left and right pointer to control \n",
    "        # the interval/sub-section of arr, without modifying the array\n",
    "\n",
    "        # we will use mid pointer to determine, which sub-section \n",
    "        # to go\n",
    "\n",
    "        left = 0\n",
    "        right = len(arr) - 1\n",
    "\n",
    "        while left < right:\n",
    "            mid = (left + right) // 2\n",
    "\n",
    "            if arr[mid] > arr[mid + 1]: # decreasing sub-section\n",
    "                right = mid\n",
    "            elif arr[mid] < arr[mid + 1]: # increasing sub-section\n",
    "                left = mid + 1\n",
    "\n",
    "        return left\n",
    "        "
   ]
  },
  {
   "cell_type": "markdown",
   "metadata": {},
   "source": [
    "### 3rd Repetition - 2/5/2025"
   ]
  },
  {
   "cell_type": "code",
   "execution_count": null,
   "metadata": {},
   "outputs": [],
   "source": [
    "class Solution:\n",
    "    def peakIndexInMountainArray(self, arr: List[int]) -> int:\n",
    "        l = 0\n",
    "        r = len(arr) - 1\n",
    "\n",
    "        while (l < r):\n",
    "            mid = (l + r) // 2\n",
    "            if arr[mid] > arr[mid + 1]:\n",
    "                r = mid\n",
    "            else:\n",
    "                l = mid + 1\n",
    "\n",
    "        return l\n",
    "        "
   ]
  }
 ],
 "metadata": {
  "language_info": {
   "name": "python"
  }
 },
 "nbformat": 4,
 "nbformat_minor": 2
}
