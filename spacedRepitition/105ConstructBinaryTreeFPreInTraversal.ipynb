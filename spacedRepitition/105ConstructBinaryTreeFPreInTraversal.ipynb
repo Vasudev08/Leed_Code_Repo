{
 "cells": [
  {
   "cell_type": "markdown",
   "metadata": {},
   "source": [
    "### 105. Construct Binary Tree From Preorder and Inorder Traversal - 10/17/2024"
   ]
  },
  {
   "cell_type": "code",
   "execution_count": null,
   "metadata": {},
   "outputs": [],
   "source": [
    "############################### Improvement Table ###########################################\n",
    "\"\"\"\n",
    "Repitition # -  Time Taken   \n",
    "1st reptition - 30 mins + with lot of help\n",
    "\n",
    "\"\"\""
   ]
  },
  {
   "cell_type": "markdown",
   "metadata": {},
   "source": [
    "### Model Answer"
   ]
  },
  {
   "cell_type": "markdown",
   "metadata": {},
   "source": [
    "### 1st Repitition"
   ]
  },
  {
   "cell_type": "code",
   "execution_count": null,
   "metadata": {},
   "outputs": [],
   "source": [
    "# Definition for a binary tree node.\n",
    "# class TreeNode:\n",
    "#     def __init__(self, val=0, left=None, right=None):\n",
    "#         self.val = val\n",
    "#         self.left = left\n",
    "#         self.right = right\n",
    "class Solution:\n",
    "    def buildTree(self, preorder: List[int], inorder: List[int]) -> Optional[TreeNode]:\n",
    "        # In-order: L P R\n",
    "        # Pre-order: P L R -> get the root from here, first node\n",
    "            # once we get root node, we can get it's left and right using In-order\n",
    "            # for that, we need to get the index from inOrder and build the tree from it\n",
    "\n",
    "        if not preorder and not inorder:\n",
    "            return None\n",
    "\n",
    "        root = TreeNode(preorder[0])\n",
    "        rootIndex = inorder.index(preorder[0])\n",
    "\n",
    "        root.left = self.buildTree(preorder[1:rootIndex + 1], inorder[:rootIndex])\n",
    "        root.right = self.buildTree(preorder[rootIndex + 1:], inorder[rootIndex + 1:])\n",
    "\n",
    "        return root\n",
    "\n",
    "\n",
    "        "
   ]
  }
 ],
 "metadata": {
  "language_info": {
   "name": "python"
  }
 },
 "nbformat": 4,
 "nbformat_minor": 2
}
