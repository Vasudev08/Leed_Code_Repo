{
 "cells": [
  {
   "cell_type": "markdown",
   "metadata": {},
   "source": [
    "### Leet Code - Template <- Here goes the question no. and name"
   ]
  },
  {
   "cell_type": "code",
   "execution_count": null,
   "metadata": {},
   "outputs": [],
   "source": [
    "############################### Improvement Table ###########################################\n",
    "\"\"\"\n",
    "Repitition # -  Time Taken \n",
    "1st Repititon -   \n",
    "\n",
    "\n",
    "\"\"\""
   ]
  },
  {
   "cell_type": "markdown",
   "metadata": {},
   "source": [
    "### Model Answer"
   ]
  },
  {
   "cell_type": "markdown",
   "metadata": {},
   "source": [
    "### 1st Repitition"
   ]
  },
  {
   "cell_type": "code",
   "execution_count": null,
   "metadata": {},
   "outputs": [],
   "source": [
    "\"\"\"UMPIRE\n",
    "\n",
    "U: We are given a string 's' our job is to return the no. of palindromic substring in it\n",
    "M: for loop + palindromic checker function\n",
    "\n",
    "P: \n",
    "1. using for loop traverse the given string 's'\n",
    "2. call the palindromic checker fucntion which calculates all possible palindromic substring\n",
    "\n",
    "\n",
    "\"\"\"\n",
    "\n",
    "class Solution:\n",
    "    def countSubstrings(self, s: str) -> int:\n",
    "        res = [0]\n",
    "\n",
    "        def checkPalindromic(l, r):\n",
    "\n",
    "            while (l >= 0 and r < len(s) and s[l] == s[r]):\n",
    "                res[0] += 1\n",
    "\n",
    "                l -= 1\n",
    "                r += 1\n",
    "\n",
    "        for i in range(len(s)):\n",
    "            res[0] += 1\n",
    "            checkPalindromic(i, i + 1)\n",
    "            checkPalindromic(i- 1, i + 1)\n",
    "\n",
    "        return res[0]\n"
   ]
  }
 ],
 "metadata": {
  "language_info": {
   "name": "python"
  }
 },
 "nbformat": 4,
 "nbformat_minor": 2
}
