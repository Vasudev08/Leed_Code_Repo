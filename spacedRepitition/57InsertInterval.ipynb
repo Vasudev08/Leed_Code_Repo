{
 "cells": [
  {
   "cell_type": "markdown",
   "metadata": {},
   "source": [
    "### 57. Insert Interval - 6/3/2024"
   ]
  },
  {
   "cell_type": "code",
   "execution_count": null,
   "metadata": {},
   "outputs": [],
   "source": [
    "############################### Improvement Table ###########################################\n",
    "\"\"\"\n",
    "Repitition # -  Time Taken   \n",
    "1st Repetitio - \n",
    "\n",
    "clock - 37 mins -> 11 mins\n",
    "\n",
    "\n",
    "\"\"\""
   ]
  },
  {
   "cell_type": "markdown",
   "metadata": {},
   "source": [
    "### Model Answer"
   ]
  },
  {
   "cell_type": "markdown",
   "metadata": {},
   "source": [
    "### 1st Repitition"
   ]
  },
  {
   "cell_type": "code",
   "execution_count": null,
   "metadata": {},
   "outputs": [],
   "source": [
    "\"\"\"\n",
    "UMPIRE:\n",
    "\n",
    "U: This question will break my mind to pieces\n",
    "\n",
    "- Here we are going to create a new intervew list of list\n",
    "1. find an interval from the list of oldIntervals in which the newInterval\n",
    "fits-in (i mean the left-bound )\n",
    "2. choose the lowest of both left-hand side i.e. the left-bound\n",
    "3. now find an oldinterval in which the right-bound comes in-between and\n",
    "choose the highest-right bound\n",
    "\n",
    "let's start with the brute-force way and a simple approach\n",
    "\"\"\"\n",
    "\n",
    "class Solution:\n",
    "    def insert(self, intervals: List[List[int]], newInterval: List[int]) -> List[List[int]]:\n",
    "        leftBound = newInterval[0]\n",
    "        rightBound = newInterval[1]\n",
    "        res = []\n",
    "\n",
    "        for l, r in intervals:\n",
    "            temp = []\n",
    "            if leftBound >= l or leftBound <= r:\n",
    "                temp.append(min(leftBound, l))\n",
    "\n",
    "                for left, right in intervals:\n",
    "                    if rightBound >= l and rightBound <= r:\n",
    "                        temp.append(max(right, rightBound))\n",
    "\n",
    "                res.append(temp)\n",
    "            else:\n",
    "                res.append([l, r])\n",
    "\n",
    "        return res\n",
    "\n",
    "#NOTE: you have some right ideas but it's still lacking a lots of things\n",
    "# you have build a complex solution and simpler solution exists for this\n",
    "                \n",
    "\n",
    "\n",
    "\n"
   ]
  }
 ],
 "metadata": {
  "language_info": {
   "name": "python"
  }
 },
 "nbformat": 4,
 "nbformat_minor": 2
}
