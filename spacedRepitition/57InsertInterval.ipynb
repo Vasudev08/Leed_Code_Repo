{
 "cells": [
  {
   "cell_type": "markdown",
   "metadata": {},
   "source": [
    "### 57. Insert Interval - 6/3/2024"
   ]
  },
  {
   "cell_type": "code",
   "execution_count": null,
   "metadata": {},
   "outputs": [],
   "source": [
    "############################### Improvement Table ###########################################\n",
    "\"\"\"\n",
    "Repitition # -  Time Taken   \n",
    "1st Repetition - 1 hr 30 mins\n",
    "2nd Repetition - 8 mins\n",
    "\n",
    "\n",
    "\n",
    "\"\"\""
   ]
  },
  {
   "cell_type": "markdown",
   "metadata": {},
   "source": [
    "### Model Answer"
   ]
  },
  {
   "cell_type": "markdown",
   "metadata": {},
   "source": [
    "### 1st Repitition"
   ]
  },
  {
   "cell_type": "code",
   "execution_count": null,
   "metadata": {},
   "outputs": [],
   "source": [
    "\"\"\"\n",
    "UMPIRE:\n",
    "\n",
    "U: This question will break my mind to pieces\n",
    "\n",
    "- Here we are going to create a new intervew list of list\n",
    "1. find an interval from the list of oldIntervals in which the newInterval\n",
    "fits-in (i mean the left-bound )\n",
    "2. choose the lowest of both left-hand side i.e. the left-bound\n",
    "3. now find an oldinterval in which the right-bound comes in-between and\n",
    "choose the highest-right bound\n",
    "\n",
    "let's start with the brute-force way and a simple approach\n",
    "\"\"\"\n",
    "\n",
    "class Solution:\n",
    "    def insert(self, intervals: List[List[int]], newInterval: List[int]) -> List[List[int]]:\n",
    "        leftBound = newInterval[0]\n",
    "        rightBound = newInterval[1]\n",
    "        res = []\n",
    "\n",
    "        for l, r in intervals:\n",
    "            temp = []\n",
    "            if leftBound >= l or leftBound <= r:\n",
    "                temp.append(min(leftBound, l))\n",
    "\n",
    "                for left, right in intervals:\n",
    "                    if rightBound >= l and rightBound <= r:\n",
    "                        temp.append(max(right, rightBound))\n",
    "\n",
    "                res.append(temp)\n",
    "            else:\n",
    "                res.append([l, r])\n",
    "\n",
    "        return res\n",
    "\n",
    "#NOTE: you have some right ideas but it's still lacking a lots of things\n",
    "# you have build a complex solution and simpler solution exists for this\n",
    "# Where your left bound and right bound change based the three different cases you encounter"
   ]
  },
  {
   "cell_type": "code",
   "execution_count": null,
   "metadata": {},
   "outputs": [],
   "source": [
    "# Example: Intervals: [[1, 2], [3, 5], [6, 7], [8, 10], [12, 16]], newInterval = [4, 8]\n",
    "\n",
    "# Here we will be travesing the Intervals list and figuring whether it belong to left or right or inbetween\n",
    "# the newInterval\n",
    "# LEFTBOUND = 4, RIGHTBOUND = 8\n",
    "# i.e. interval [1, 2] belong before [4, 8] (on left of new Interval)\n",
    "# i.e. interval [12, 16] belongs after [4, 8] (on right of new Interval)\n",
    "\n",
    "#after few iteration\n",
    "# LEFTBOUND = 3, RIGHTBOUND = 8\n",
    "\n",
    "# LEFTBOUND =3, RIGHTBOUND = 10, Sorting takes O(n log n)\n",
    "\n",
    "class Solution:\n",
    "    def insert(self, intervals: List[List[int]], newInterval: List[int]) -> List[List[int]]:\n",
    "        res = []\n",
    "        leftBound = newInterval[0]\n",
    "        rightBound = newInterval[1]\n",
    "\n",
    "        for l, r in intervals:\n",
    "            if r < leftBound:\n",
    "                # Belongs on left-hand side of the newInterval\n",
    "                res.append([l, r])\n",
    "            elif l > rightBound:\n",
    "                # Belongs on right-hand side of the newInterval\n",
    "                res.append([l, r])\n",
    "            else:\n",
    "                # Belongs in-between in the newInterval\n",
    "                leftBound = min(l, leftBound)\n",
    "                rightBound = max(r, rightBound)\n",
    "\n",
    "        res.append([leftBound, rightBound])\n",
    "        res.sort(key = lambda x: x[0])\n",
    "        # we need to sort as we're appending the modified interval at the end\n",
    "        # which is wrong, as in many cases the modified interval might be placed\n",
    "        # in the middle\n",
    "\n",
    "        return res"
   ]
  },
  {
   "cell_type": "markdown",
   "metadata": {},
   "source": [
    "### 2nd Repeition - 6/13/2024"
   ]
  },
  {
   "cell_type": "code",
   "execution_count": null,
   "metadata": {},
   "outputs": [],
   "source": [
    "\"\"\"\n",
    "UMPIRE:\n",
    "\n",
    "U:\n",
    "\n",
    "\n",
    "M: traversal\n",
    "\n",
    "P:\n",
    "1. if curInterval in left-hand side of newInterval\n",
    "    add it to the res list\n",
    "2. if curInterval in right-hand side of newInterval\n",
    "    add it to the res list\n",
    "3. calculate the min lower bound and max right bound\n",
    "4. return the sorted list\n",
    "\n",
    "and at the end of for loop, append the overlapped min lower bound and \n",
    "max right bound\n",
    "\"\"\"\n",
    "\n",
    "class Solution:\n",
    "    def insert(self, intervals: List[List[int]], newInterval: List[int]) -> List[List[int]]:\n",
    "        res = []\n",
    "\n",
    "        lower = newInterval[0]\n",
    "        upper = newInterval[1]\n",
    "\n",
    "        for l, r in intervals:\n",
    "            if r < lower:\n",
    "                # left-hand side of the newInterval\n",
    "                res.append([l, r])\n",
    "            elif l > upper:\n",
    "                # right-and side of the newInterval\n",
    "                res.append([l, r])\n",
    "            else:\n",
    "                lower = min(lower, l)\n",
    "                upper = max(upper, r)\n",
    "\n",
    "        res.append([lower, upper])\n",
    "        res.sort()\n",
    "\n",
    "        # Running Time - O(n log n)\n",
    "        # space - O(n)\n",
    "\n",
    "        return res\n",
    "\n"
   ]
  }
 ],
 "metadata": {
  "language_info": {
   "name": "python"
  }
 },
 "nbformat": 4,
 "nbformat_minor": 2
}
