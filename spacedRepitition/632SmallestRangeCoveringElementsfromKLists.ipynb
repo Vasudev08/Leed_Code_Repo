{
 "cells": [
  {
   "cell_type": "markdown",
   "metadata": {},
   "source": [
    "### 632. Smallest Range Covering Elements from K lists - 12/25/2024"
   ]
  },
  {
   "cell_type": "code",
   "execution_count": null,
   "metadata": {},
   "outputs": [],
   "source": [
    "############################### Improvement Table ###########################################\n",
    "\"\"\"\n",
    "Repitition # -  Time Taken   \n",
    "1st Repetition - 30 mins - with lot of help\n",
    "\n",
    "\n",
    "\"\"\""
   ]
  },
  {
   "cell_type": "markdown",
   "metadata": {},
   "source": [
    "### Time Complexity\n",
    "- we know that time taken to add and pop elements from Heap is (log n)\n",
    "- looking at the implementation we have a while loop, which will esstinally add all the elements into the minHeap (in worst case)\n",
    "    - no. of elements = n * k; n: average len of all k lists; k: no. of list\n",
    "\n",
    "- Time Complexity - O (n * k * log n)\n",
    "\n"
   ]
  },
  {
   "cell_type": "markdown",
   "metadata": {},
   "source": [
    "### Model Answer"
   ]
  },
  {
   "cell_type": "markdown",
   "metadata": {},
   "source": [
    "### 1st Repitition"
   ]
  },
  {
   "cell_type": "markdown",
   "metadata": {},
   "source": [
    "To solve this problem, we will use\n",
    "minHeap to create a interval by popping and adding values\n",
    "1. we make sure we have elements from all k lists by creating a minHeap which stores \n",
    "    first value of all k lists\n",
    "2. at the same time, our minHeap we will store index of the element and index of that particular list in\n",
    "    our minHeap\n",
    "3. while adding values into the minHeap, we will also keep record of the maxValue we have encoutered    \n",
    "    which will help us to get the res range\n",
    "4. using while loop, remove minVale from the minHeap and build the range with curMax and compare it with res\n",
    "    interval.\n",
    "5. after removing from the minHeap, make sure to add the next element from that list into the minHeap\n",
    "    and if we have reached the end of list\n",
    "6. break out of the while loop, as we can't build a interval when we have finished traversing a interval"
   ]
  },
  {
   "cell_type": "code",
   "execution_count": null,
   "metadata": {},
   "outputs": [],
   "source": [
    "class Solution:\n",
    "    def smallestRange(self, nums: List[List[int]]) -> List[int]:\n",
    "        # we are going to store \n",
    "            # value, eleIndex, listIndex\n",
    "        minHeap = []\n",
    "        curMax = -float('inf')\n",
    "        resInterval = [-float('inf'), float('inf')]\n",
    "\n",
    "        # adding first index from all the list to the minHeap\n",
    "        for i in range(len(nums)):\n",
    "            heapq.heappush(minHeap, (nums[i][0], 0, i))\n",
    "            curMax = max(curMax, nums[i][0])\n",
    "            # question here on which property would the min-heap work \n",
    "                # whether on value or eleIndex or listIndex ?\n",
    "            # answer: min-heap works on the first index/value of the tuple\n",
    "                # which in our case is nums[i][0]\n",
    "\n",
    "        while minHeap:\n",
    "            curVal, eleIndex, listIndex = heapq.heappop(minHeap)\n",
    "            if curMax - curVal < (resInterval[1] - resInterval[0]):\n",
    "                resInterval = [curVal, curMax]\n",
    "\n",
    "            if eleIndex + 1 < len(nums[listIndex]):\n",
    "                heapq.heappush(minHeap, (nums[listIndex][eleIndex + 1], eleIndex + 1, listIndex))\n",
    "                curMax = max(curMax, nums[listIndex][eleIndex + 1])\n",
    "                # we never have to worry about popping as max value because of min-heap\n",
    "                # and we only have to check while adding new values\n",
    "\n",
    "            else:\n",
    "                break\n",
    "                # we have reached the end of one of list\n",
    "                # which means we can't no longer produce interval which contains\n",
    "                # elements from all k lists\n",
    "\n",
    "        return resInterval"
   ]
  }
 ],
 "metadata": {
  "language_info": {
   "name": "python"
  }
 },
 "nbformat": 4,
 "nbformat_minor": 2
}
