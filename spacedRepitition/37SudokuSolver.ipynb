{
 "cells": [
  {
   "cell_type": "markdown",
   "metadata": {},
   "source": [
    "### 37. Sudoku Solver - 1/9/2025"
   ]
  },
  {
   "cell_type": "code",
   "execution_count": null,
   "metadata": {},
   "outputs": [],
   "source": [
    "############################### Improvement Table ###########################################\n",
    "\"\"\"\n",
    "Repitition # -  Time Taken   \n",
    "1st - 1hr + --> with lot of help\n",
    "\n",
    "\n",
    "\"\"\""
   ]
  },
  {
   "cell_type": "markdown",
   "metadata": {},
   "source": [
    "### Time Complexity"
   ]
  },
  {
   "cell_type": "markdown",
   "metadata": {},
   "source": [
    "### Model Answer"
   ]
  },
  {
   "cell_type": "markdown",
   "metadata": {},
   "source": [
    "### 1st Repitition - UnSuccesful"
   ]
  },
  {
   "cell_type": "code",
   "execution_count": null,
   "metadata": {},
   "outputs": [],
   "source": [
    "class Solution:\n",
    "    def solveSudoku(self, board: List[List[str]]) -> None:\n",
    "        \"\"\"\n",
    "        Do not return anything, modify board in-place instead.\n",
    "        \"\"\"\n",
    "        n = 9\n",
    "        \n",
    "        def isValid(row, col, ch):\n",
    "            for i in range(n):\n",
    "                if board[i][col] == ch or board[row][i] == ch or board[3*(row//3) + i//3][3*(col//3) + i%3] == ch:\n",
    "                    return False\n",
    "            return True\n",
    "\n",
    "        def solve(row, col):\n",
    "            # Move to the next row if we've reached the end of the current column\n",
    "            if col == n:\n",
    "                return solve(row + 1, 0)\n",
    "            \n",
    "            # If row == n, the Sudoku is solved\n",
    "            if row == n:\n",
    "                return True\n",
    "\n",
    "            # Skip filled cells\n",
    "            if board[row][col] != \".\":\n",
    "                return solve(row, col + 1)\n",
    "\n",
    "            # Try all numbers from 1 to 9\n",
    "            for num in map(str, range(1, 10)):\n",
    "                if isValid(row, col, num):\n",
    "                    board[row][col] = num\n",
    "\n",
    "                    if solve(row, col + 1):\n",
    "                        return True\n",
    "                    \n",
    "                    # Backtrack\n",
    "                    board[row][col] = \".\"\n",
    "\n",
    "            return False\n",
    "\n",
    "        solve(0, 0)\n"
   ]
  },
  {
   "cell_type": "markdown",
   "metadata": {},
   "source": [
    "### 1st Repetition - 2nd Attempt "
   ]
  },
  {
   "cell_type": "code",
   "execution_count": null,
   "metadata": {},
   "outputs": [],
   "source": [
    "class Solution:\n",
    "    def solveSudoku(self, board: List[List[str]]) -> None:\n",
    "        \"\"\"\n",
    "        Do not return anything, modify board in-place instead.\n",
    "        \"\"\"\n",
    "        n = 9\n",
    "        \n",
    "        # Create sets to track numbers already used in rows, columns, and subgrids\n",
    "        rows = [set() for _ in range(n)]\n",
    "        cols = [set() for _ in range(n)]\n",
    "        subgrids = [set() for _ in range(n)]\n",
    "        \n",
    "        # Initialize the sets with current numbers on the board\n",
    "        for r in range(n):\n",
    "            for c in range(n):\n",
    "                if board[r][c] != \".\":\n",
    "                    num = board[r][c]\n",
    "                    rows[r].add(num)\n",
    "                    cols[c].add(num)\n",
    "                    subgrids[(r // 3) * 3 + (c // 3)].add(num)\n",
    "        \n",
    "        def isValid(row, col, num):\n",
    "            # We can now check if the number is valid by simply checking the sets\n",
    "            return num not in rows[row] and num not in cols[col] and num not in subgrids[(row // 3) * 3 + (col // 3)]\n",
    "        \n",
    "        def solve(row, col):\n",
    "            if row == n:\n",
    "                return True\n",
    "\n",
    "            if col == n:\n",
    "                return solve(row + 1, 0)\n",
    "\n",
    "            if board[row][col] == \".\":\n",
    "                for num in map(str, range(1, 10)):\n",
    "                    if isValid(row, col, num):\n",
    "                        # Place the number\n",
    "                        board[row][col] = num\n",
    "                        rows[row].add(num)\n",
    "                        cols[col].add(num)\n",
    "                        subgrids[(row // 3) * 3 + (col // 3)].add(num)\n",
    "\n",
    "                        # Recursively solve the next cell\n",
    "                        if solve(row, col + 1):\n",
    "                            return True\n",
    "                        \n",
    "                        # Backtrack\n",
    "                        board[row][col] = \".\"\n",
    "                        rows[row].remove(num)\n",
    "                        cols[col].remove(num)\n",
    "                        subgrids[(row // 3) * 3 + (col // 3)].remove(num)\n",
    "\n",
    "                return False\n",
    "            else:\n",
    "                return solve(row, col + 1)\n",
    "\n",
    "        solve(0, 0)\n"
   ]
  }
 ],
 "metadata": {
  "language_info": {
   "name": "python"
  }
 },
 "nbformat": 4,
 "nbformat_minor": 2
}
