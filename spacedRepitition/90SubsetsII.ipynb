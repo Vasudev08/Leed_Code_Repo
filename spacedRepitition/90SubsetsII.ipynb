{
 "cells": [
  {
   "cell_type": "markdown",
   "metadata": {},
   "source": [
    "### 90. Subsets II"
   ]
  },
  {
   "cell_type": "code",
   "execution_count": null,
   "metadata": {},
   "outputs": [],
   "source": [
    "############################### Improvement Table ###########################################\n",
    "\"\"\"\n",
    "Repitition # -  Time Taken   \n",
    "1st Repetition - 8 mins - without any help\n",
    "2nd Repetition - 20 mins - little help\n",
    "\n",
    "\n",
    "\"\"\""
   ]
  },
  {
   "cell_type": "markdown",
   "metadata": {},
   "source": [
    "### Model Answer"
   ]
  },
  {
   "cell_type": "markdown",
   "metadata": {},
   "source": [
    "### 1st Repitition"
   ]
  },
  {
   "cell_type": "code",
   "execution_count": null,
   "metadata": {},
   "outputs": [],
   "source": [
    "class Solution:\n",
    "    def subsetsWithDup(self, nums: List[int]) -> List[List[int]]:\n",
    "        nums = sorted(nums)\n",
    "        res = []\n",
    "        def backTracking(index, curSet):\n",
    "            if index >= len(nums):\n",
    "                return\n",
    "\n",
    "            curSet.append(nums[index])\n",
    "            if curSet not in res:\n",
    "                res.append(curSet.copy())\n",
    "\n",
    "            backTracking(index + 1, curSet)\n",
    "\n",
    "            curSet.pop()\n",
    "            backTracking(index + 1, curSet)\n",
    "\n",
    "        backTracking(0, [])\n",
    "        res.append([])\n",
    "        return res\n",
    "\n",
    "\n",
    "\n",
    "        "
   ]
  },
  {
   "cell_type": "markdown",
   "metadata": {},
   "source": [
    "### 2nd Repetition - 2/4/2025"
   ]
  },
  {
   "cell_type": "code",
   "execution_count": null,
   "metadata": {},
   "outputs": [],
   "source": [
    "class Solution:\n",
    "    def subsetsWithDup(self, nums: List[int]) -> List[List[int]]:\n",
    "        # Time Complexity O(2^n)\n",
    "        res = []\n",
    "        nums = sorted(nums)\n",
    "\n",
    "        def explore(index, curSubSet):\n",
    "            \n",
    "\n",
    "            if curSubSet[:] not in res:\n",
    "                res.append(curSubSet[:])\n",
    "                print(\"Res: \", res)\n",
    "\n",
    "            if index >= len(nums):\n",
    "                return\n",
    "\n",
    "            curSubSet.append(nums[index])\n",
    "            print(\"Appended nums: \", nums[index])\n",
    "\n",
    "            explore(index + 1, curSubSet)\n",
    "            curSubSet.pop()\n",
    "            explore(index + 1, curSubSet)\n",
    "\n",
    "        explore(0, [])\n",
    "        return res\n",
    "\n",
    "        \n",
    "        \n",
    "\n",
    "            \n",
    "        "
   ]
  }
 ],
 "metadata": {
  "language_info": {
   "name": "python"
  }
 },
 "nbformat": 4,
 "nbformat_minor": 2
}
