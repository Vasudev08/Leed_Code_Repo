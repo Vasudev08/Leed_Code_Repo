{
 "cells": [
  {
   "cell_type": "markdown",
   "metadata": {},
   "source": [
    "### 198. House Robber - 5/30/2024"
   ]
  },
  {
   "cell_type": "code",
   "execution_count": null,
   "metadata": {},
   "outputs": [],
   "source": [
    "############################### Improvement Table ###########################################\n",
    "\"\"\"\n",
    "Repitition # -  Time Taken   \n",
    "1st Repetition - 23 mins - with lot of help\n",
    "2nd repetition - 15 mins - little bit of help\n",
    "\n",
    "clock - 11:21 AM\n",
    "\n",
    "\n",
    "\"\"\""
   ]
  },
  {
   "cell_type": "markdown",
   "metadata": {},
   "source": [
    "### Model Answer"
   ]
  },
  {
   "cell_type": "code",
   "execution_count": null,
   "metadata": {},
   "outputs": [],
   "source": [
    "class Solution:\n",
    "    def rob(self, nums: List[int]) -> int:\n",
    "        dp = [0 for i in range(len(nums) + 1)]\n",
    "        # Here dp[0] = 0 because our algo requires i - 2 position\n",
    "        # and we only rob either 1st or 2nd house not both\n",
    "        # so to accomdate 2nd house in nums we need to dp[0] = 0\n",
    "        # as a dummy or buffer\n",
    "        dp[1] = nums[0]\n",
    "\n",
    "        for i in range(2, len(nums) + 1):\n",
    "            dp[i] = max(nums[i - 1] + dp[i - 2], dp[i - 1])\n",
    "\n",
    "\n",
    "        return dp[-1]"
   ]
  },
  {
   "cell_type": "markdown",
   "metadata": {},
   "source": [
    "### 1st Repitition"
   ]
  },
  {
   "cell_type": "code",
   "execution_count": null,
   "metadata": {},
   "outputs": [],
   "source": [
    "\"\"\"\n",
    "UMPIRE:\n",
    "\n",
    "U: We are given a list of money inside each house,\n",
    "    our job is to return the max we could rob from the list of house\n",
    "    the only restriction is we can't rob two adjacent houses\n",
    "\n",
    "\n",
    "M: Memo + storing max money that can be robbed at each starting from\n",
    "    the ending of the list\n",
    "\n",
    "P:\n",
    "\n",
    "1. create a memo list and update the max money that can be stolen at each \n",
    "    position\n",
    "\"\"\"\n",
    "\n",
    "# class Solution:\n",
    "#     def rob(self, nums: List[int]) -> int:\n",
    "#         memo = [0 for i in range(len(nums) + 1)]\n",
    "#         memo[-2] = nums[-1]\n",
    "\n",
    "#         for i in range(len(nums) -2, -1, -1):\n",
    "#             memo[i] = nums[i] + memo[i + 2]\n",
    "\n",
    "\n",
    "#         return max(memo[0], memo[1])\n",
    "    \n",
    "\n",
    "\"\"\"\n",
    "NOTE: the issue with the above problem is we can't assume that \n",
    "our i + 2 only contains the maximum money that can be stolen \n",
    "maybe i + 3 has more money to be stolen from i + 3 position \n",
    "compared to i + 2 position\n",
    "\n",
    "NOTE: In above appraoch I was implementing from the end of array\n",
    "in the below approach I will start from the starting of the array\n",
    "\"\"\" \n",
    "\n",
    "class Solution:\n",
    "    def rob(self, nums: List[int]) -> int:\n",
    "        dp = [0 for i in range(len(nums) + 1)]\n",
    "        # Here dp[0] = 0 because our algo requires i - 2 position\n",
    "        # and we only rob either 1st or 2nd house not both\n",
    "        # so to accomdate 2nd house in nums we need to dp[0] = 0\n",
    "        # as a dummy or buffer\n",
    "        dp[1] = nums[0]\n",
    "\n",
    "        for i in range(2, len(nums) + 1):\n",
    "            dp[i] = max(nums[i - 1] + dp[i - 2], dp[i - 1])\n",
    "\n",
    "\n",
    "        return dp[-1]\n",
    "    \n",
    "\"\"\"\n",
    "Running time: O(n) and space: O(n)\n",
    "\"\"\""
   ]
  },
  {
   "cell_type": "markdown",
   "metadata": {},
   "source": [
    "### 2nd Repetition - 6/6/2024"
   ]
  },
  {
   "cell_type": "code",
   "execution_count": null,
   "metadata": {},
   "outputs": [],
   "source": [
    "\"\"\"\n",
    "UMPIRE:\n",
    "\n",
    "U: We are given a list of money in each ith house, our job is to steal the maximum amount of money\n",
    "    from these houses without getting caught, the only condition is not to rob two consective houses\n",
    "    at the same time.\n",
    "\n",
    "M: Dynamic Programming with O(n) running time and O(n) space time\n",
    "\n",
    "P:\n",
    "- at every ith position we have a choose to either skip the current house or choose the second\n",
    "    previous house and the current house to rob\n",
    "- Here the subproblem is that we are going to store the maximum amount of money stolen\n",
    "    at every house\n",
    "\n",
    "\n",
    "\n",
    "\"\"\"\n",
    "\n",
    "class Solution:\n",
    "    def rob(self, nums: List[int]) -> int:\n",
    "        dp = [0] * (len(nums) + 1)\n",
    "        dp[1] = nums[0]\n",
    "\n",
    "        for i in range(2, len(nums) + 1):\n",
    "            dp[i] = max(nums[i - 1] + dp[i - 2], dp[i - 1])\n",
    "\n",
    "        return dp[-1]"
   ]
  }
 ],
 "metadata": {
  "language_info": {
   "name": "python"
  }
 },
 "nbformat": 4,
 "nbformat_minor": 2
}
