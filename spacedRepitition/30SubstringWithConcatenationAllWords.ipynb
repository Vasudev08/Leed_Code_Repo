{
 "cells": [
  {
   "cell_type": "markdown",
   "metadata": {},
   "source": [
    "### 30. Substring with Concatentation of All words - 11/15/2024"
   ]
  },
  {
   "cell_type": "code",
   "execution_count": null,
   "metadata": {},
   "outputs": [],
   "source": [
    "############################### Improvement Table ###########################################\n",
    "\"\"\"\n",
    "Repitition # -  Time Taken  \n",
    "1st Repitition -  \n",
    "\n",
    "\n",
    "\"\"\""
   ]
  },
  {
   "cell_type": "markdown",
   "metadata": {},
   "source": [
    "### Model Answer"
   ]
  },
  {
   "cell_type": "markdown",
   "metadata": {},
   "source": [
    "### 1st Repitition - Right Idea but Implementation Wrong - 11/15/2024"
   ]
  },
  {
   "cell_type": "code",
   "execution_count": null,
   "metadata": {},
   "outputs": [],
   "source": [
    "class Solution:\n",
    "    def findSubstring(self, s: str, words: List[str]) -> List[int]:\n",
    "        # Here the hint is \"of the same length\"\n",
    "        # So, our window size is always going to be len(words[0])\n",
    "        # we know that no. of words is len(words)\n",
    "\n",
    "        \"\"\"\n",
    "        so if current-window-length == len(words):\n",
    "        -> we know that our current-window-length contains is a permutation of the all word in words\n",
    "        continous means, they have to be back-back or connected together\n",
    "\n",
    "        two pointers\n",
    "        for loop controls the 'r' pointer\n",
    "        we control 'l' inside the while loop\n",
    "        each jump will be len(words[0])\n",
    "        \"\"\"\n",
    "\n",
    "        wdict = defaultdict(int)\n",
    "        \n",
    "\n",
    "        for word in words:\n",
    "            wdict[word] += 1\n",
    "\n",
    "        want = len(wdict)\n",
    "\n",
    "        have = 0\n",
    "\n",
    "        cdict = defaultdict(int)\n",
    "\n",
    "        k = len(words[0]) # our window length\n",
    "\n",
    "        res = []\n",
    "\n",
    "        r = k - 1\n",
    "        for l in range(0, len(s)):\n",
    "            curStr = s[l: r + 1]\n",
    "            # print(curStr)\n",
    "            while( curStr in wdict):\n",
    "                print(curStr)\n",
    "                cdict[curStr] += 1\n",
    "                if cdict[curStr] <= wdict[curStr]:\n",
    "                    have += 1\n",
    "\n",
    "                if want == have:\n",
    "                    res.append(l)\n",
    "\n",
    "                curStr = s[r + 1: r + k + 1] \n",
    "                print(\"expanding curStr:\", curStr)\n",
    "                r += k\n",
    "\n",
    "            cdict = defaultdict(int)\n",
    "            have = 0\n",
    "            r = k - 1\n",
    "\n",
    "        return res\n",
    "\n",
    "\n",
    "            \n",
    "\n",
    "        "
   ]
  },
  {
   "cell_type": "markdown",
   "metadata": {},
   "source": [
    "### 1st Repeition - 2nd Attempt - 11/15/2024"
   ]
  },
  {
   "cell_type": "code",
   "execution_count": null,
   "metadata": {},
   "outputs": [],
   "source": [
    "\"\"\"\n",
    "UMPIRE\n",
    "\n",
    "U: Here, our job is to find out where all word's in the words list\n",
    "belong in our substring if at all. if they do belong as a substring\n",
    "with different permutation we need to return the indicies of where\n",
    "it start at or which index does it start at ?\n",
    "\n",
    "M: sliding window + dictionary + while loop\n",
    "\n",
    "P:\n",
    "- through the use of dictionary we record the frequency of word in words\n",
    "- when our traversing substring dictionary also becomes equal to the word dictionary\n",
    "    we make note of the starting index\n",
    "\n",
    "\"\"\"\n",
    "\n",
    "class Solution:\n",
    "    def findSubstring(self, s: str, words: List[str]) -> List[int]:\n",
    "        if not s or not words:\n",
    "            return []\n",
    "\n",
    "        wordLen = len(words[0])\n",
    "        wordCount = len(words)\n",
    "\n",
    "        subStringLen = wordLen * wordCount\n",
    "\n",
    "        wordMap = defaultdict(int)\n",
    "        res = []\n",
    "\n",
    "        for i in words:\n",
    "            wordMap[i] += 1\n",
    "\n",
    "        for i in range(wordLen):\n",
    "            l = i\n",
    "            r = i\n",
    "            curMap = defaultdict(int)\n",
    "\n",
    "            while r + wordLen <= len(s):\n",
    "                word = s[r:r + wordLen]\n",
    "                r += wordLen\n",
    "\n",
    "\n",
    "                if word in wordMap:\n",
    "                    curMap[word] += 1\n",
    "\n",
    "                    while curMap[word] > wordMap[word]:\n",
    "                        leftWord = s[l:l + wordLen]\n",
    "                        curMap[leftWord] -= 1\n",
    "                        l += wordLen\n",
    "\n",
    "\n",
    "                    if r - l == subStringLen:\n",
    "                        res.append(l)\n",
    "                else:\n",
    "                    curMap.clear()\n",
    "                    l = r\n",
    "\n",
    "        return res\n"
   ]
  }
 ],
 "metadata": {
  "language_info": {
   "name": "python"
  }
 },
 "nbformat": 4,
 "nbformat_minor": 2
}
