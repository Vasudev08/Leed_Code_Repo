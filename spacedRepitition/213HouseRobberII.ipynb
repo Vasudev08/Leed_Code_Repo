{
 "cells": [
  {
   "cell_type": "markdown",
   "metadata": {},
   "source": [
    "### 213. House Robber II - 10/29/2024"
   ]
  },
  {
   "cell_type": "code",
   "execution_count": null,
   "metadata": {},
   "outputs": [],
   "source": [
    "############################### Improvement Table ###########################################\n",
    "\"\"\"\n",
    "Repitition # -  Time Taken \n",
    "1st Repitition - 30 mins - with little help but I was soo soo close  \n",
    "\n",
    "\n",
    "\"\"\""
   ]
  },
  {
   "cell_type": "markdown",
   "metadata": {},
   "source": [
    "### Model Answer"
   ]
  },
  {
   "cell_type": "markdown",
   "metadata": {},
   "source": [
    "### 1st Repitition"
   ]
  },
  {
   "cell_type": "code",
   "execution_count": null,
   "metadata": {},
   "outputs": [],
   "source": [
    "class Solution:\n",
    "    def rob(self, nums: List[int]) -> int:\n",
    "        \"\"\"\n",
    "        we can divide the problem into two separate eaiser problems\n",
    "\n",
    "        as we can't choose both first and last house together\n",
    "        we at the beginning make a consicous choose of doing it\n",
    "        and then the max\n",
    "        i.e., let's choose the we want to choose to rob the first house\n",
    "        so we can't rob the last house so our new nums = nums[:-1]\n",
    "\n",
    "        i.e., let's choose we want to rob the last house\n",
    "        so we can't the first house so our new nums = nums[1:]\n",
    "\n",
    "        and we return the max of the both\n",
    "\n",
    "        \"\"\"\n",
    "\n",
    "        if len(nums) == 1:\n",
    "            return nums[0]\n",
    "\n",
    "        def stealMaxMoney(nlist):\n",
    "            dp = [0] * (len(nlist) + 1)\n",
    "\n",
    "            dp[-2] = nlist[-1]\n",
    "\n",
    "            for i in range(len(nlist) - 2, -1, -1):\n",
    "                dp[i] = max(nlist[i] + dp[i + 2], dp[i + 1])\n",
    "\n",
    "\n",
    "            return dp[0]\n",
    "\n",
    "\n",
    "        one = stealMaxMoney(nums[:-1])\n",
    "        last = stealMaxMoney(nums[1:])\n",
    "\n",
    "        return max(one, last)"
   ]
  }
 ],
 "metadata": {
  "language_info": {
   "name": "python"
  }
 },
 "nbformat": 4,
 "nbformat_minor": 2
}
