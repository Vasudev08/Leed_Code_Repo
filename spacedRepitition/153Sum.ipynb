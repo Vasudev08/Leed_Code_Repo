{
 "cells": [
  {
   "cell_type": "markdown",
   "metadata": {},
   "source": [
    "### 15. 3SUM - 4/5/2024"
   ]
  },
  {
   "cell_type": "code",
   "execution_count": null,
   "metadata": {},
   "outputs": [],
   "source": [
    "############################### Improvement Table ###########################################\n",
    "\"\"\"\n",
    "Repitition # -  Time Taken   \n",
    "\n",
    "1st - 46 mins - Needed to see the solution\n",
    "\n",
    "clock - 4 mins\n",
    "\"\"\""
   ]
  },
  {
   "cell_type": "markdown",
   "metadata": {},
   "source": [
    "### Model Answer"
   ]
  },
  {
   "cell_type": "markdown",
   "metadata": {},
   "source": [
    "### 1st Repitition"
   ]
  },
  {
   "cell_type": "code",
   "execution_count": null,
   "metadata": {},
   "outputs": [],
   "source": [
    "\"\"\"\n",
    "UMPIRE:\n",
    "\n",
    "U: given a array of nums, return the indicies of three distinct no.\n",
    "which sum up to zero\n",
    "\n",
    "nums = [-1, 0, 1, 2, -1, -4]\n",
    "sortedNums = [-4, -1, -1, 0, 1, 2]\n",
    "\n",
    "M: three pointers\n",
    "\n",
    "P:\n",
    "\n",
    "- basically once we sort the nums array, we can think of it as a binary search\n",
    "- and here we are going to use 3 pointers, where each pointers points to \n",
    "- an element which when added together will result in 0\n",
    "- we will control one pointer by using 'for' loop and the other two using \n",
    "    'while' loop\n",
    "\"\"\"\n",
    "\n",
    "class Solution:\n",
    "    def threeSum(self, nums: List[int]) -> List[List[int]]:\n",
    "        nums = sorted(nums) # nlog n -> Running Time\n",
    "        res = []\n",
    "\n",
    "        for i, num in enumerate(nums):\n",
    "\n",
    "            #essentially avoiding the duplicate\n",
    "            if i > 0 and num == nums[i - 1]:\n",
    "                continue\n",
    "\n",
    "            l = i + 1\n",
    "            r = len(nums) - 1\n",
    "\n",
    "            while (l < r):\n",
    "                tsum = num + nums[l] + nums[r]\n",
    "\n",
    "                if tsum > 0:\n",
    "                    r -= 1\n",
    "                elif tsum < 0:\n",
    "                    l += 1\n",
    "                elif tsum == 0:\n",
    "                    res.append([num, nums[l], nums[r]])\n",
    "\n",
    "                    l += 1\n",
    "                    # Checking for duplicatation after increasing the pointer\n",
    "                    while l < r and nums[l] == nums[l - 1]:\n",
    "                        l += 1\n",
    "\n",
    "        return res\n",
    "\n",
    "                "
   ]
  }
 ],
 "metadata": {
  "language_info": {
   "name": "python"
  }
 },
 "nbformat": 4,
 "nbformat_minor": 2
}
