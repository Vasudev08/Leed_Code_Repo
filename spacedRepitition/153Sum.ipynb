{
 "cells": [
  {
   "cell_type": "markdown",
   "metadata": {},
   "source": [
    "### 15. 3SUM - 4/5/2024"
   ]
  },
  {
   "cell_type": "code",
   "execution_count": null,
   "metadata": {},
   "outputs": [],
   "source": [
    "############################### Improvement Table ###########################################\n",
    "\"\"\"\n",
    "Repitition # -  Time Taken   \n",
    "\n",
    "1st - 46 mins - Needed to see the solution\n",
    "2nd - 15 mins - few lines of code were missing\n",
    "\n",
    "\"\"\""
   ]
  },
  {
   "cell_type": "markdown",
   "metadata": {},
   "source": [
    "### Model Answer"
   ]
  },
  {
   "cell_type": "markdown",
   "metadata": {},
   "source": [
    "### 1st Repitition"
   ]
  },
  {
   "cell_type": "code",
   "execution_count": null,
   "metadata": {},
   "outputs": [],
   "source": [
    "\"\"\"\n",
    "UMPIRE:\n",
    "\n",
    "U: given a array of nums, return the indicies of three distinct no.\n",
    "which sum up to zero\n",
    "\n",
    "nums = [-1, 0, 1, 2, -1, -4]\n",
    "sortedNums = [-4, -1, -1, 0, 1, 2]\n",
    "\n",
    "M: three pointers\n",
    "\n",
    "P:\n",
    "\n",
    "- basically once we sort the nums array, we can think of it as a binary search\n",
    "- and here we are going to use 3 pointers, where each pointers points to \n",
    "- an element which when added together will result in 0\n",
    "- we will control one pointer by using 'for' loop and the other two using \n",
    "    'while' loop\n",
    "\"\"\"\n",
    "\n",
    "class Solution:\n",
    "    def threeSum(self, nums: List[int]) -> List[List[int]]:\n",
    "        nums = sorted(nums) # nlog n -> Running Time\n",
    "        res = []\n",
    "\n",
    "        for i, num in enumerate(nums):\n",
    "\n",
    "            #essentially avoiding the duplicate\n",
    "            if i > 0 and num == nums[i - 1]:\n",
    "                continue\n",
    "\n",
    "            l = i + 1\n",
    "            r = len(nums) - 1\n",
    "\n",
    "            while (l < r):\n",
    "                tsum = num + nums[l] + nums[r]\n",
    "\n",
    "                if tsum > 0:\n",
    "                    r -= 1\n",
    "                elif tsum < 0:\n",
    "                    l += 1\n",
    "                elif tsum == 0:\n",
    "                    res.append([num, nums[l], nums[r]])\n",
    "\n",
    "                    l += 1\n",
    "                    # Checking for duplicatation after increasing the pointer\n",
    "                    while l < r and nums[l] == nums[l - 1]:\n",
    "                        l += 1\n",
    "\n",
    "        return res\n",
    "\n",
    "                "
   ]
  },
  {
   "cell_type": "markdown",
   "metadata": {},
   "source": [
    "### 2nd Repetition"
   ]
  },
  {
   "cell_type": "code",
   "execution_count": null,
   "metadata": {},
   "outputs": [],
   "source": [
    "\"\"\"\n",
    "UMPIRE:\n",
    "\n",
    "U: we are given an array of nums, return the indices of three elements\n",
    "which results in the sum of zero\n",
    "\n",
    "M: three pointers + binary serach approach\n",
    "NOTE: be careful of duplicate elements and check for them\n",
    "\n",
    "P:\n",
    "\n",
    "1. Sort the given array which take O(nlog) time\n",
    "2. three pointers, i pointer pointing to current element\n",
    "    l = i + 1 i.e. left pointer and r = len(nums) - 1 i.e. right pointer\n",
    "    pointing to the end of the array\n",
    "\n",
    "3. using for loop traverse the nums using i pointer and using\n",
    "    while loop check if three pointers lead to sum of 0\n",
    "    if sum > 0, decrease the right pointer\n",
    "    if sum < 0, incrase the left pointer\n",
    "    if sum == 0, append the indicies into the res list\n",
    "\n",
    "    NOTE: make sure to check for duplicates\n",
    "\n",
    "\n",
    "\"\"\"\n",
    "\n",
    "class Solution:\n",
    "    def threeSum(self, nums: List[int]) -> List[List[int]]:\n",
    "        res = []\n",
    "\n",
    "        nums = sorted(nums)\n",
    "\n",
    "        for i in range(len(nums)):\n",
    "            if i != 0 and nums[i] == nums[i - 1]:\n",
    "                continue\n",
    "\n",
    "            l = i + 1\n",
    "            r = len(nums) - 1\n",
    "\n",
    "            while (l < r):\n",
    "\n",
    "                threeSum = nums[i] + nums[l] + nums[r]\n",
    "\n",
    "                if threeSum > 0:\n",
    "                    r -= 1\n",
    "                elif threeSum < 0:\n",
    "                    l += 1\n",
    "                elif threeSum == 0:\n",
    "                    res.append([nums[i], nums[l], nums[r]])\n",
    "\n",
    "                    l += 1\n",
    "\n",
    "                    while nums[l] == nums[l - 1] and l < r:\n",
    "                        l += 1\n",
    "\n",
    "\n",
    "        return res\n",
    "\n",
    "\n"
   ]
  }
 ],
 "metadata": {
  "language_info": {
   "name": "python"
  }
 },
 "nbformat": 4,
 "nbformat_minor": 2
}
