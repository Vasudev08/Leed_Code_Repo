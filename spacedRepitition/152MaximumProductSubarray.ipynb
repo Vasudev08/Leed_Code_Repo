{
 "cells": [
  {
   "cell_type": "markdown",
   "metadata": {},
   "source": [
    "### 152. Maximum Product Subarray - 10/30/2024"
   ]
  },
  {
   "cell_type": "code",
   "execution_count": null,
   "metadata": {},
   "outputs": [],
   "source": [
    "############################### Improvement Table ###########################################\n",
    "\"\"\"\n",
    "Repitition # -  Time Taken   \n",
    "1st Repitition - 15 mins - without any help\n",
    "\n",
    "\n",
    "\"\"\""
   ]
  },
  {
   "cell_type": "markdown",
   "metadata": {},
   "source": [
    "### Model Answer"
   ]
  },
  {
   "cell_type": "markdown",
   "metadata": {},
   "source": [
    "### 1st Repitition"
   ]
  },
  {
   "cell_type": "code",
   "execution_count": null,
   "metadata": {},
   "outputs": [],
   "source": [
    "class Solution:\n",
    "    def maxProduct(self, nums: List[int]) -> int:\n",
    "        # the tricky part for this question is carry both max positive and max negative (which is min)\n",
    "\n",
    "        # we will last from the end of the array\n",
    "\n",
    "        dpMax = [0] * len(nums)\n",
    "        dpMin = [nums[-1]] * len(nums)\n",
    "\n",
    "        dpMax[-1] = nums[-1]\n",
    "        dpMin[-1] = nums[-1]\n",
    "        res = nums[-1]\n",
    "\n",
    "        for i in range(len(nums) - 2, -1, -1):\n",
    "            dpMax[i] = max(nums[i], nums[i] * dpMax[i + 1], nums[i] * dpMin[i + 1])\n",
    "            dpMin[i] = min(nums[i], nums[i] * dpMax[i + 1], nums[i] * dpMin[i + 1])\n",
    "            print(dpMax[i], dpMin[i], res)\n",
    "            res = max(dpMax[i], dpMin[i], res)\n",
    "\n",
    "        return res\n",
    "        "
   ]
  },
  {
   "cell_type": "markdown",
   "metadata": {},
   "source": [
    "### 2nd Repitition - 11/23/2024"
   ]
  },
  {
   "cell_type": "code",
   "execution_count": null,
   "metadata": {},
   "outputs": [],
   "source": [
    "class Solution:\n",
    "    def maxProduct(self, nums: List[int]) -> int:\n",
    "        # Running Time  - O(n)\n",
    "        # Dynamic Programming\n",
    "        # Iterating from the back of the array\n",
    "        # we will have to dp list for negative max and positive max\n",
    "\n",
    "           # [2, 3, -2, 4]\n",
    "    # + max  [6, 3, -2, 4]\n",
    "    # - min  [-48, -24, -8, 4]  \n",
    "\n",
    "\n",
    "        maxdp = [0] * len(nums)\n",
    "        mindp = [0] * len(nums)      \n",
    "\n",
    "        maxdp[-1] = nums[-1]\n",
    "        mindp[-1] = nums[-1]\n",
    "        res = nums[-1]\n",
    "\n",
    "        for i in range(len(nums) -2, -1, -1):\n",
    "            maxdp[i] = max(nums[i], nums[i] * maxdp[i + 1] , nums[i] * mindp[i + 1])\n",
    "            mindp[i] = min(nums[i], nums[i] * mindp[i + 1], nums[i] * maxdp[i + 1] )\n",
    "            res = max(mindp[i], maxdp[i], res)\n",
    "\n",
    "        print(\"Max DP: \", maxdp)\n",
    "        print(\"Min DP: \", mindp)\n",
    "\n",
    "        return res\n",
    "\n"
   ]
  }
 ],
 "metadata": {
  "language_info": {
   "name": "python"
  }
 },
 "nbformat": 4,
 "nbformat_minor": 2
}
