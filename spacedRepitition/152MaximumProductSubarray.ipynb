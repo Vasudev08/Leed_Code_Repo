{
 "cells": [
  {
   "cell_type": "markdown",
   "metadata": {},
   "source": [
    "### 152. Maximum Product Subarray - 10/30/2024"
   ]
  },
  {
   "cell_type": "code",
   "execution_count": null,
   "metadata": {},
   "outputs": [],
   "source": [
    "############################### Improvement Table ###########################################\n",
    "\"\"\"\n",
    "Repitition # -  Time Taken   \n",
    "1st Repitition - 15 mins - without any help\n",
    "\n",
    "\n",
    "\"\"\""
   ]
  },
  {
   "cell_type": "markdown",
   "metadata": {},
   "source": [
    "### Model Answer"
   ]
  },
  {
   "cell_type": "markdown",
   "metadata": {},
   "source": [
    "### 1st Repitition"
   ]
  },
  {
   "cell_type": "code",
   "execution_count": null,
   "metadata": {},
   "outputs": [],
   "source": [
    "class Solution:\n",
    "    def maxProduct(self, nums: List[int]) -> int:\n",
    "        # the tricky part for this question is carry both max positive and max negative (which is min)\n",
    "\n",
    "        # we will last from the end of the array\n",
    "\n",
    "        dpMax = [0] * len(nums)\n",
    "        dpMin = [nums[-1]] * len(nums)\n",
    "\n",
    "        dpMax[-1] = nums[-1]\n",
    "        dpMin[-1] = nums[-1]\n",
    "        res = nums[-1]\n",
    "\n",
    "        for i in range(len(nums) - 2, -1, -1):\n",
    "            dpMax[i] = max(nums[i], nums[i] * dpMax[i + 1], nums[i] * dpMin[i + 1])\n",
    "            dpMin[i] = min(nums[i], nums[i] * dpMax[i + 1], nums[i] * dpMin[i + 1])\n",
    "            print(dpMax[i], dpMin[i], res)\n",
    "            res = max(dpMax[i], dpMin[i], res)\n",
    "\n",
    "        return res\n",
    "        "
   ]
  }
 ],
 "metadata": {
  "language_info": {
   "name": "python"
  }
 },
 "nbformat": 4,
 "nbformat_minor": 2
}
