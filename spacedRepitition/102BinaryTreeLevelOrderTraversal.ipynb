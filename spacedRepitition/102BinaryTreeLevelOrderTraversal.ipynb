{
 "cells": [
  {
   "cell_type": "markdown",
   "metadata": {},
   "source": [
    "### 102. Binary Tree Level Order Traversal"
   ]
  },
  {
   "cell_type": "code",
   "execution_count": null,
   "metadata": {},
   "outputs": [],
   "source": [
    "# Definition for a binary tree node.\n",
    "# class TreeNode:\n",
    "#     def __init__(self, val=0, left=None, right=None):\n",
    "#         self.val = val\n",
    "#         self.left = left\n",
    "#         self.right = right\n",
    "class Solution:\n",
    "    def levelOrder(self, root: Optional[TreeNode]) -> List[List[int]]:\n",
    "        # BFS + Que\n",
    "\n",
    "        if not root:\n",
    "            return []\n",
    "\n",
    "        que = deque()\n",
    "        que.append(root)\n",
    "        res = []\n",
    "        while que:\n",
    "            numNodes = len(que)\n",
    "            levelNodes = []\n",
    "\n",
    "            for _ in range(numNodes):\n",
    "                curNode = que.popleft()\n",
    "                levelNodes.append(curNode.val)\n",
    "                if curNode.left:\n",
    "                    que.append(curNode.left)\n",
    "\n",
    "                if curNode.right:\n",
    "                    que.append(curNode.right)\n",
    "\n",
    "            res.append(levelNodes)\n",
    "\n",
    "        return res\n",
    "\n",
    "\n",
    "            \n",
    "        "
   ]
  },
  {
   "cell_type": "markdown",
   "metadata": {},
   "source": [
    "### 2nd Repitition - 12/21/2024"
   ]
  },
  {
   "cell_type": "code",
   "execution_count": null,
   "metadata": {},
   "outputs": [],
   "source": [
    "# Definition for a binary tree node.\n",
    "# class TreeNode:\n",
    "#     def __init__(self, val=0, left=None, right=None):\n",
    "#         self.val = val\n",
    "#         self.left = left\n",
    "#         self.right = right\n",
    "class Solution:\n",
    "    def buildTree(self, preorder: List[int], inorder: List[int]) -> Optional[TreeNode]:\n",
    "        \"\"\"\n",
    "        UMPIRE:\n",
    "\n",
    "        U: develop a binary based on preorder and inorder traversal list\n",
    "\n",
    "        preorder: Root -> left -> Right\n",
    "        inOrder: left -> Root -> Right\n",
    "\n",
    "\n",
    "        \"\"\"\n",
    "\n",
    "        if not preorder and not inorder:\n",
    "            return None\n",
    "\n",
    "        rootNode = TreeNode(preorder[0])\n",
    "\n",
    "        rootIndex = inorder.index(preorder[0])\n",
    "\n",
    "        rootNode.left = self.buildTree(preorder[1: rootIndex + 1], inorder[:rootIndex])\n",
    "        rootNode.right = self.buildTree(preorder[rootIndex + 1:], inorder[rootIndex + 1:])\n",
    "\n",
    "        return rootNode\n",
    "\n",
    "\n",
    "        "
   ]
  }
 ],
 "metadata": {
  "language_info": {
   "name": "python"
  }
 },
 "nbformat": 4,
 "nbformat_minor": 2
}
