{
 "cells": [
  {
   "cell_type": "markdown",
   "metadata": {},
   "source": [
    "### 746. Min Cost Climbing Stairs - 4/29/2024"
   ]
  },
  {
   "cell_type": "code",
   "execution_count": null,
   "metadata": {},
   "outputs": [],
   "source": [
    "############################### Improvement Table ###########################################\n",
    "\"\"\"\n",
    "Repitition # -  Time Taken  \n",
    "\n",
    "1st Repetition - 20 mins - litte bit of help\n",
    "2nd Repetition - 11 mins - less than the 1st Repetition\n",
    "3rd Repetition  - 13 mins - with less help and coming back after 20 days\n",
    "\n",
    "clock - 40 mins\n",
    "\"\"\""
   ]
  },
  {
   "cell_type": "markdown",
   "metadata": {},
   "source": [
    "### Model Answer"
   ]
  },
  {
   "cell_type": "markdown",
   "metadata": {},
   "source": [
    "### 1st Repitition"
   ]
  },
  {
   "cell_type": "code",
   "execution_count": null,
   "metadata": {},
   "outputs": [],
   "source": [
    "\"\"\"\n",
    "UMPIRE\n",
    "\n",
    "U: we are given an array of cost[i] which represents the cost\n",
    "    that you have to pay to jump that particular staircase\n",
    "    Our job is to return the min. cost required to reach the top of the \n",
    "    staircase \n",
    "\n",
    "M: Memoization, will begin from the last of the list\n",
    "\n",
    "\n",
    "P:\n",
    "\n",
    "- starting from the end of the array, we will keep the min cost\n",
    "    required to reach the top of the staircase from that particular\n",
    "    step\n",
    "    SO,\n",
    "    memo[i] = cost[i] + min(memo[i], memo[i + 1])\n",
    "    cost = [1, 100, 1, 1, 1, 100, 1, 1, 100 ,1]\n",
    "    memo = [7,105,5,4,3,102,2,1,101,0]\n",
    "\n",
    "    return min(memo[0], memo[1])\n",
    "\"\"\"\n",
    "\n",
    "class Solution:\n",
    "    def minCostClimbingStairs(self, cost: List[int]) -> int:\n",
    "        if len(cost) == 1:\n",
    "            return cost[0]\n",
    "        \n",
    "        memo = [0 for i in range(len(cost) + 1)]\n",
    "        memo[-2] = cost[-1]\n",
    "\n",
    "        for i in range(len(cost) - 2, 0, -1):\n",
    "            memo[i] = cost[i] + min(memo[i + 1], memo[i + 2])\n",
    "\n",
    "        return min(memo[0], memo[1])"
   ]
  },
  {
   "cell_type": "markdown",
   "metadata": {},
   "source": [
    "### 2nd Repetition - 5/11/2024"
   ]
  },
  {
   "cell_type": "code",
   "execution_count": null,
   "metadata": {},
   "outputs": [],
   "source": [
    "\"\"\"\n",
    "UMPIRE:\n",
    "\n",
    "we are given a array of cost of climibing a stair, our job is to find the \n",
    "    min-cost to reach the top of the stair-case (i.e. last element or end of the list)\n",
    "    Here, from current step we can either jump one or two steps\n",
    "\n",
    "M: dynamic programming, DP, hashmap, starting from the end of the list\n",
    "\n",
    "P:\n",
    "1. create a array having all '0' of length cost + 1\n",
    "2. at every ith position starting from the end of the list\n",
    "    we can choose min of +1 or +2 index that is:\n",
    "    array[i] = cost[i] + min(array[i + 1], array[i + 2])\n",
    "\n",
    "3. the above can be done using 'for' loop and after which \n",
    "we return the max of arary[0] and array[1]\n",
    "\n",
    "\n",
    "\n",
    "\n",
    "\"\"\"\n",
    "\n",
    "class Solution:\n",
    "    def minCostClimbingStairs(self, cost: List[int]) -> int:\n",
    "        resMap = [0 for _ in range(len(cost))]\n",
    "        resMap[-1] = cost[-1]\n",
    "\n",
    "        for i in range(len(cost) - 1, -1, -1):\n",
    "            resMap[i] = cost[i] + min(resMap[i + 1], resMap[i + 2])\n",
    "\n",
    "\n",
    "        return max(resMap[0], resMap[1])"
   ]
  },
  {
   "cell_type": "markdown",
   "metadata": {},
   "source": [
    "### 3rd Repetition"
   ]
  },
  {
   "cell_type": "code",
   "execution_count": null,
   "metadata": {},
   "outputs": [],
   "source": [
    "\"\"\"\n",
    "UMPIRE\n",
    "U: we are given the cost of climibing each individual staircase\n",
    "    our job is to find min cost to reach the top step\n",
    "    We can either jump 1 stair or 2 stair\n",
    "\n",
    "M: Dynamic Programming and starting from the end of list of memo list\n",
    "\n",
    "P:\n",
    "1. We are going to create a memo list, which stores the minCost\n",
    "    to reach the top-step from the current position\n",
    "\n",
    "\"\"\"\n",
    "\n",
    "class Solution:\n",
    "    def minCostClimbingStairs(self, cost: List[int]) -> int:\n",
    "        # len = 3 memo = [0, 0, 4]\n",
    "        memo = [0 for _ in range(len(cost) + 1)]\n",
    "        # memo[-1] = float(\"infinity\")\n",
    "        # the last element value should be zero, \n",
    "        # as we can either jump 1 step or 2 step\n",
    "\n",
    "        memo[-2] = cost[-1]\n",
    "\n",
    "        for i in range(len(cost) - 2, -1, -1):\n",
    "            memo[i] = cost[i] + min(memo[i + 1], memo[i + 2])\n",
    "\n",
    "        return max(memo[0], memo[1])\n",
    "\n",
    "\n",
    "\n",
    "\n",
    "\n",
    "\n"
   ]
  }
 ],
 "metadata": {
  "language_info": {
   "name": "python"
  }
 },
 "nbformat": 4,
 "nbformat_minor": 2
}
