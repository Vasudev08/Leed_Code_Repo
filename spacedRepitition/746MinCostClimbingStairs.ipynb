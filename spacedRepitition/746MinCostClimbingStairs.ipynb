{
 "cells": [
  {
   "cell_type": "markdown",
   "metadata": {},
   "source": [
    "### 746. Min Cost Climbing Stairs - 4/29/2024"
   ]
  },
  {
   "cell_type": "code",
   "execution_count": null,
   "metadata": {},
   "outputs": [],
   "source": [
    "############################### Improvement Table ###########################################\n",
    "\"\"\"\n",
    "Repitition # -  Time Taken  \n",
    "\n",
    "1st Repetition - 20 mins - litte bit of help\n",
    "\n",
    "\"\"\""
   ]
  },
  {
   "cell_type": "markdown",
   "metadata": {},
   "source": [
    "### Model Answer"
   ]
  },
  {
   "cell_type": "markdown",
   "metadata": {},
   "source": [
    "### 1st Repitition"
   ]
  },
  {
   "cell_type": "code",
   "execution_count": null,
   "metadata": {},
   "outputs": [],
   "source": [
    "\"\"\"\n",
    "UMPIRE\n",
    "\n",
    "U: we are given an array of cost[i] which represents the cost\n",
    "    that you have to pay to jump that particular staircase\n",
    "    Our job is to return the min. cost required to reach the top of the \n",
    "    staircase \n",
    "\n",
    "M: Memoization, will begin from the last of the list\n",
    "\n",
    "\n",
    "P:\n",
    "\n",
    "- starting from the end of the array, we will keep the min cost\n",
    "    required to reach the top of the staircase from that particular\n",
    "    step\n",
    "    SO,\n",
    "    memo[i] = cost[i] + min(memo[i], memo[i + 1])\n",
    "    cost = [1, 100, 1, 1, 1, 100, 1, 1, 100 ,1]\n",
    "    memo = [7,105,5,4,3,102,2,1,101,0]\n",
    "\n",
    "    return min(memo[0], memo[1])\n",
    "\"\"\"\n",
    "\n",
    "class Solution:\n",
    "    def minCostClimbingStairs(self, cost: List[int]) -> int:\n",
    "        if len(cost) == 1:\n",
    "            return cost[0]\n",
    "        \n",
    "        memo = [0 for i in range(len(cost) + 1)]\n",
    "        memo[-2] = cost[-1]\n",
    "\n",
    "        for i in range(len(cost) - 2, 0, -1):\n",
    "            memo[i] = cost[i] + min(memo[i + 1], memo[i + 2])\n",
    "\n",
    "        return min(memo[0], memo[1])"
   ]
  }
 ],
 "metadata": {
  "language_info": {
   "name": "python"
  }
 },
 "nbformat": 4,
 "nbformat_minor": 2
}
