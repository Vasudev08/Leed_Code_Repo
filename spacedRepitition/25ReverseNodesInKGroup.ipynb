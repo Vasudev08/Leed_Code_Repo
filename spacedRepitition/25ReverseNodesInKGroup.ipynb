{
 "cells": [
  {
   "cell_type": "markdown",
   "metadata": {},
   "source": [
    "### 25. Reverse Nodes in K-Group"
   ]
  },
  {
   "cell_type": "code",
   "execution_count": null,
   "metadata": {},
   "outputs": [],
   "source": [
    "############################### Improvement Table ###########################################\n",
    "\"\"\"\n",
    "Repetition # -  Time Taken   \n",
    "1st repetition - \n",
    "\n",
    "\"\"\""
   ]
  },
  {
   "cell_type": "markdown",
   "metadata": {},
   "source": [
    "### Time Complexity\n",
    "- O(N): Traversing linked list"
   ]
  },
  {
   "cell_type": "markdown",
   "metadata": {},
   "source": [
    "### Model Answer\n",
    "- https://leetcode.com/problems/reverse-nodes-in-k-group/solutions/5623515/explained-with-illustrations-beats-100/"
   ]
  },
  {
   "cell_type": "markdown",
   "metadata": {},
   "source": [
    "### 1st Repitition"
   ]
  },
  {
   "cell_type": "code",
   "execution_count": null,
   "metadata": {},
   "outputs": [],
   "source": [
    "# Definition for singly-linked list.\n",
    "# class ListNode:\n",
    "#     def __init__(self, val=0, next=None):\n",
    "#         self.val = val\n",
    "#         self.next = next\n",
    "class Solution:\n",
    "    def reverseList(self, head, k):\n",
    "            prev = None\n",
    "            curr  = head\n",
    "\n",
    "            for _ in range(k):\n",
    "                next_node = curr.next\n",
    "                curr.next = prev\n",
    "\n",
    "                prev = curr\n",
    "                curr = next_node\n",
    "\n",
    "            return prev, curr  \n",
    "\n",
    "    def reverseKGroup(self, head: Optional[ListNode], k: int) -> Optional[ListNode]:\n",
    "        # majority of this solution is mainpulation of pointers among the linked list\n",
    "        # best way to solve this problem is to create a visulazation as you move along\n",
    "        # the linked list\n",
    "\n",
    "        dummy = ListNode(0)\n",
    "        dummy.next = head\n",
    "        ptr = dummy\n",
    "\n",
    "        while ptr is not None:\n",
    "            tracker = ptr\n",
    "\n",
    "            # Check if there are k nodes to reverse\n",
    "            for _ in range(k):\n",
    "                tracker = tracker.next\n",
    "                if tracker is None:\n",
    "                    return dummy.next\n",
    "\n",
    "            prev, curr = self.reverseList(ptr.next, k)\n",
    "\n",
    "            last_node_of_reversed_group = ptr.next\n",
    "            last_node_of_reversed_group.next = curr\n",
    "            ptr.next = prev\n",
    "\n",
    "            ptr = last_node_of_reversed_group\n",
    "\n",
    "        return dummy.next\n",
    "\n",
    "              \n",
    "        "
   ]
  }
 ],
 "metadata": {
  "language_info": {
   "name": "python"
  }
 },
 "nbformat": 4,
 "nbformat_minor": 2
}
