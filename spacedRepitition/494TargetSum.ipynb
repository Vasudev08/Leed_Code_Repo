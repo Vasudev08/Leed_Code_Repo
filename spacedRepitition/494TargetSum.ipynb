{
 "cells": [
  {
   "cell_type": "markdown",
   "metadata": {},
   "source": [
    "### 494. Target Sum - 9/30/2024"
   ]
  },
  {
   "cell_type": "code",
   "execution_count": null,
   "metadata": {},
   "outputs": [],
   "source": [
    "############################### Improvement Table ###########################################\n",
    "\"\"\"\n",
    "Repitition # -  Time Taken   \n",
    "1st Repeition - \n",
    "\n",
    "\n",
    "Running Time - 2^n\n",
    "\"\"\""
   ]
  },
  {
   "cell_type": "markdown",
   "metadata": {},
   "source": [
    "### Model Answer"
   ]
  },
  {
   "cell_type": "markdown",
   "metadata": {},
   "source": [
    "### 1st Repitition"
   ]
  },
  {
   "cell_type": "code",
   "execution_count": null,
   "metadata": {},
   "outputs": [],
   "source": [
    "\"\"\"\n",
    "UMPIRE\n",
    "\n",
    "U: we are given a list of nums, we have to count how many ways we can get \n",
    "the target. Here we can use '+' and '-'\n",
    "\n",
    "M: DFS\n",
    "\"\"\"\n",
    "\n",
    "class Solution:\n",
    "    def findTargetSumWays(self, nums: List[int], target: int) -> int:\n",
    "        res = 0\n",
    "        def dfs(index, curSum):\n",
    "            if curSum == target:\n",
    "                res += 1\n",
    "\n",
    "\n",
    "            if index == len(nums) - 1:\n",
    "                return\n",
    "\n",
    "            dfs(index + 1, curSum - nums[index])\n",
    "            dfs(index + 1, curSum + nums[index])\n",
    "\n",
    "        \n",
    "        dfs(0, nums[0])\n",
    "        dfs(0, -nums[0])\n",
    "\n",
    "        return res\n",
    "\n"
   ]
  }
 ],
 "metadata": {
  "language_info": {
   "name": "python"
  }
 },
 "nbformat": 4,
 "nbformat_minor": 2
}
