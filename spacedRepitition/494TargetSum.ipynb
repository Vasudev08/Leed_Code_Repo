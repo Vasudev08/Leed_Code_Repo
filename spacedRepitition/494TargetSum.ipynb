{
 "cells": [
  {
   "cell_type": "markdown",
   "metadata": {},
   "source": [
    "### 494. Target Sum - 9/30/2024"
   ]
  },
  {
   "cell_type": "code",
   "execution_count": null,
   "metadata": {},
   "outputs": [],
   "source": [
    "############################### Improvement Table ###########################################\n",
    "\"\"\"\n",
    "Repitition # -  Time Taken   \n",
    "1st Repeition - \n",
    "\n",
    "\n",
    "Running Time - 2^n\n",
    "\"\"\""
   ]
  },
  {
   "cell_type": "markdown",
   "metadata": {},
   "source": [
    "### Model Answer"
   ]
  },
  {
   "cell_type": "markdown",
   "metadata": {},
   "source": [
    "### 1st Repitition"
   ]
  },
  {
   "cell_type": "code",
   "execution_count": null,
   "metadata": {},
   "outputs": [],
   "source": [
    "\"\"\"\n",
    "UMPIRE\n",
    "\n",
    "U: we are given a list of nums, we have to count how many ways we can get \n",
    "the target. Here we can use '+' and '-'\n",
    "\n",
    "M: DFS\n",
    "\"\"\"\n",
    "\n",
    "from typing import List\n",
    "\n",
    "\n",
    "class Solution:\n",
    "    def findTargetSumWays(self, nums: List[int], target: int) -> int:\n",
    "        # DFS(index, curSum)\n",
    "        # if curSum == target: res += 1\n",
    "        # two dfs call\n",
    "            #1. One with positive number\n",
    "            #2. One with negative number\n",
    "        \n",
    "        if len(nums) == 1:\n",
    "            if target == nums[0] or target == -nums[0]:\n",
    "                return 1\n",
    "            else:\n",
    "                return 0\n",
    "        \n",
    "        res = [0]\n",
    "        def dfs(index, curSum):\n",
    "            if curSum == target and index == len(nums):\n",
    "                res[0] += 1\n",
    "\n",
    "\n",
    "            if index >= len(nums):\n",
    "                return\n",
    "\n",
    "            dfs(index + 1, curSum - nums[index])\n",
    "            dfs(index + 1, curSum + nums[index])\n",
    "\n",
    "        \n",
    "        dfs(0, 0)\n",
    "\n",
    "        return res[0]\n",
    "    \n",
    "\"\"\"\n",
    "The above code is the correct approach, but I get the time-exceed error\n",
    "the running time is 2^n, so we will use memoization to store the computation\n",
    "to save us time or save us the repeated calculation time\n",
    "\n",
    "- the way we stores is unique, we will use dictionary\n",
    "key: (index, curSum)\n",
    "value: no. of way we can each the targetSum\n",
    "\"\"\"    \n",
    "\n"
   ]
  },
  {
   "cell_type": "code",
   "execution_count": null,
   "metadata": {},
   "outputs": [],
   "source": [
    "class Solution:\n",
    "    def findTargetSumWays(self, nums: List[int], target: int) -> int:\n",
    "        memo = {}\n",
    "\n",
    "        def dfs(index, curSum):\n",
    "            if index == len(nums):\n",
    "                if curSum == target:\n",
    "                    return 1\n",
    "                else:\n",
    "                    return 0\n",
    "                \n",
    "            \n",
    "            if (index, curSum) in memo:\n",
    "                return memo[(index, curSum)]\n",
    "            \n",
    "            add = dfs(index + 1, curSum + nums[index])\n",
    "            sub = dfs(index + 1, curSum - nums[index])\n",
    "\n",
    "            memo[(index, curSum)] = add + sub\n",
    "\n",
    "            return memo[((index, curSum))]\n",
    "        \n",
    "\n",
    "        return dfs(0, 0)\n"
   ]
  }
 ],
 "metadata": {
  "language_info": {
   "name": "python"
  }
 },
 "nbformat": 4,
 "nbformat_minor": 2
}
