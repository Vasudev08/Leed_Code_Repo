{
 "cells": [
  {
   "cell_type": "markdown",
   "metadata": {},
   "source": [
    "### 98. Validate Binary Search Tree - 2/19/2024"
   ]
  },
  {
   "cell_type": "code",
   "execution_count": null,
   "metadata": {},
   "outputs": [],
   "source": [
    "\"\"\"\n",
    "2nd Try\n",
    "1st Try fails because of the edge case: [5,4,6,null,null,3,7]\n",
    "for us to solve this edge case we need an history of min and max \n",
    "which could be accomplished by the use recursion\n",
    "\"\"\"\n",
    "\n",
    "class Solution:\n",
    "    def isValidBST(self, root: Optional[TreeNode]) -> bool:\n",
    "        def helper(node, minVal = float('-inf'), maxVal = float('inf')):\n",
    "            if not node:\n",
    "                return True\n",
    "            \n",
    "            if not minVal < node.val < maxVal:\n",
    "                return False\n",
    "            \n",
    "            return (helper(node.left, minVal, node.val) and \n",
    "                    helper(node.right, node.val, maxVal))\n",
    "        \n",
    "        return helper(root)"
   ]
  },
  {
   "cell_type": "code",
   "execution_count": null,
   "metadata": {},
   "outputs": [],
   "source": [
    "\"\"\"\n",
    "UMPIRE:\n",
    "\n",
    "U: given a binary search tree, return whether it's valid binary serach tree or not\n",
    "M: bfs + while + que + for loop\n",
    "P:\n",
    "1. create a queue having root node\n",
    "2. traverse the que until it becomes empty\n",
    "3. while traversing it's level node, check if the curNode is bigger than curNode.left\n",
    "    and smaller than curNode.right,\n",
    "    if so, append those nodes into the que\n",
    "    if not, return False, as the default return will be true\n",
    "\n",
    "Running time - O(n)\n",
    "\"\"\"\n",
    "\n",
    "# Definition for a binary tree node.\n",
    "# class TreeNode:\n",
    "#     def __init__(self, val=0, left=None, right=None):\n",
    "#         self.val = val\n",
    "#         self.left = left\n",
    "#         self.right = right\n",
    "class Solution:\n",
    "    def isValidBST(self, root: Optional[TreeNode]) -> bool:\n",
    "        if not root:\n",
    "            return True\n",
    "        # I don't know what is the edge case result for this\n",
    "\n",
    "        que = [root]\n",
    "\n",
    "        while (que):\n",
    "            queLen = len(que)\n",
    "            for i in range(queLen):\n",
    "                curNode = que.pop(0)\n",
    "                if (curNode.left and curNode.right):\n",
    "                    if (curNode.val > curNode.left.val and curNode.val < curNode.right.val):\n",
    "                        print(\"Both left and right exists and BST\")\n",
    "                        que.append(curNode.left)\n",
    "                        que.append(curNode.right)\n",
    "                    else:\n",
    "                        return False\n",
    "                elif (curNode.left and not curNode.right and curNode.left.val < curNode.val):\n",
    "\n",
    "                    que.append(curNode.left)\n",
    "                elif (curNode.right and not curNode.left and curNode.val < curNode.right.val):\n",
    "                    que.append(curNode.right)\n",
    "                elif (not curNode.left and not curNode.right):\n",
    "                    continue\n",
    "                else:\n",
    "                    print(\"Here\")\n",
    "                    return False\n",
    "\n",
    "\n",
    "\n",
    "        return True\n",
    "        "
   ]
  },
  {
   "cell_type": "markdown",
   "metadata": {},
   "source": []
  }
 ],
 "metadata": {
  "language_info": {
   "name": "python"
  }
 },
 "nbformat": 4,
 "nbformat_minor": 2
}
