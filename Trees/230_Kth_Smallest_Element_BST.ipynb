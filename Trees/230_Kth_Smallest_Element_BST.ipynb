{
 "cells": [
  {
   "cell_type": "markdown",
   "metadata": {},
   "source": [
    "### Kth Smallest Element in a BST - 2/19/2023"
   ]
  },
  {
   "cell_type": "code",
   "execution_count": null,
   "metadata": {},
   "outputs": [],
   "source": [
    "# Definition for a binary tree node.\n",
    "# class TreeNode:\n",
    "#     def __init__(self, val=0, left=None, right=None):\n",
    "#         self.val = val\n",
    "#         self.left = left\n",
    "#         self.right = right\n",
    "class Solution:\n",
    "    def kthSmallest(self, root: Optional[TreeNode], k: int) -> int:\n",
    "        # using minHeap, \n",
    "        # create minHeap using bfs or dfs algo\n",
    "        # using for loop pop k element and return when k = 0\n",
    "        heap = []\n",
    "        #heapq.heapify(heap)\n",
    "\n",
    "        def dfsTraversal(node):\n",
    "            if not node:\n",
    "                return \n",
    "\n",
    "            heapq.heappush(heap, node.val)\n",
    "\n",
    "            dfsTraversal(node.left)\n",
    "            dfsTraversal(node.right)\n",
    "\n",
    "        dfsTraversal(root)\n",
    "\n",
    "        for _ in range(k - 1):\n",
    "            heapq.heappop(heap)\n",
    "\n",
    "        return heap[0]\n",
    "\n",
    "        "
   ]
  }
 ],
 "metadata": {
  "language_info": {
   "name": "python"
  }
 },
 "nbformat": 4,
 "nbformat_minor": 2
}
