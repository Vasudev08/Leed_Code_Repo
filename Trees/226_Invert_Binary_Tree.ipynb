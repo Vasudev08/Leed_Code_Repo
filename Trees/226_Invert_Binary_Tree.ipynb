{
 "cells": [
  {
   "cell_type": "markdown",
   "metadata": {},
   "source": [
    "### 226. Invert Binary Tree - 2/17/2024"
   ]
  },
  {
   "cell_type": "code",
   "execution_count": null,
   "metadata": {},
   "outputs": [],
   "source": [
    "\"\"\"\n",
    "LOL I Improved my first correct submission \n",
    "UMPIRE:\n",
    "U - given a binary tree, return an invereted version of it\n",
    "M - We will in an Post-Order and changing the node links\n",
    "\n",
    "1. BFS and DFS\n",
    "2. Pre-Order, In-Order and Post-Order\n",
    "\n",
    "P:\n",
    "1. traverse to the leftmost or until you encounter null (in this case just return)\n",
    "2. after return the leaf node, we will be at a parent node having a child node (this is the leaf node from which we returned)\n",
    "3. at the parent node interchange the links between the left and right nodes, by storing one of them into a tmp variable.\n",
    "4. continue doing it until you reach the head of the tree or root we call it\n",
    "\"\"\"\n",
    "\n",
    "\n",
    "class Solution:\n",
    "    def invertTree(self, root: Optional[TreeNode]) -> Optional[TreeNode]:\n",
    "\n",
    "        def postOrderTraversal(node):\n",
    "            if not node:\n",
    "                return\n",
    "            \n",
    "            postOrderTraversal(node.left)\n",
    "\n",
    "            postOrderTraversal(node.right)\n",
    "\n",
    "            tmp = node.left\n",
    "            node.left = node.right\n",
    "            node.right = tmp\n",
    "\n",
    "        postOrderTraversal(root)\n",
    "\n",
    "        return root\n"
   ]
  }
 ],
 "metadata": {
  "language_info": {
   "name": "python"
  }
 },
 "nbformat": 4,
 "nbformat_minor": 2
}
