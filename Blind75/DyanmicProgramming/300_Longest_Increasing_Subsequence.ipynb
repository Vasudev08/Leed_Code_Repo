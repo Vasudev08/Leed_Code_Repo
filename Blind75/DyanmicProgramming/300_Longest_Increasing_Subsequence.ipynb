{
 "cells": [
  {
   "cell_type": "markdown",
   "metadata": {},
   "source": [
    "### 300. Longest Increasing Subsequence - 3/16/2024"
   ]
  },
  {
   "cell_type": "code",
   "execution_count": null,
   "metadata": {},
   "outputs": [],
   "source": [
    "\"\"\"\n",
    "UMPIRE:\n",
    "U: given a array 'nums' return the length \n",
    "    of the longest stricly increasing subsequence\n",
    "M: Dyanmic Programming\n",
    "\n",
    "P:\n",
    "starting from the end of the string, record at in hashmap \n",
    "for every ith position the max increasing subsequence\n",
    "\n",
    "we will have two max variables and dp hashmap\n",
    "- the last element in the dp is going to be one\n",
    "- starting from the second last element \n",
    "    see if the proceeding elements in bigger if, so record the \n",
    "    max of those instances\n",
    "    [7, 101, 18] -> here both 101 and 18 are bigger than 7 so\n",
    "    we should max count of 101 and 18\n",
    "\n",
    "\"\"\"\n",
    "\n",
    "class Solution:\n",
    "    def lengthOfLIS(self, nums: List[int]) -> int:\n",
    "\n",
    "        dp = [1] * (len(nums))\n",
    "\n",
    "        for i in range(len(nums) -1, -1, -1):\n",
    "            for j in range(i + 1, len(nums)):\n",
    "                if num[i] < num[j]:\n",
    "                    dp[i] = max(dp[i], 1 + dp[j])\n",
    "\n",
    "        return max(dp)\n"
   ]
  }
 ],
 "metadata": {
  "language_info": {
   "name": "python"
  }
 },
 "nbformat": 4,
 "nbformat_minor": 2
}
