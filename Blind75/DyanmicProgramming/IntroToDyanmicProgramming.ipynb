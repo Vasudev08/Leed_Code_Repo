{
 "cells": [
  {
   "cell_type": "markdown",
   "metadata": {},
   "source": [
    "### Intro to Dynamic Programming \n"
   ]
  },
  {
   "cell_type": "markdown",
   "metadata": {},
   "source": [
    "### Resources"
   ]
  },
  {
   "cell_type": "markdown",
   "metadata": {},
   "source": [
    "- [Dynamic Programming for Beginners - Andrey Grehov\n",
    "](https://www.youtube.com/watch?v=jTjRGe0wRvI&list=PLVrpF4r7WIhTT1hJqZmjP10nxsmrbRvlf&index=1)\n",
    "    - Video Playlist where Andrey Grehov explains and solve DP Question - (good Question)\n",
    "- [5 Simple Steps for Solving Dynamic Programming Problems - Reducible](https://www.youtube.com/watch?v=aPQY__2H3tE)\n",
    "    - Video to build a good intution for Dynamic Programming"
   ]
  }
 ],
 "metadata": {
  "language_info": {
   "name": "python"
  }
 },
 "nbformat": 4,
 "nbformat_minor": 2
}
