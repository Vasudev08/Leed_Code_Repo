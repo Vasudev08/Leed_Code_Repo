{
 "cells": [
  {
   "cell_type": "markdown",
   "metadata": {},
   "source": [
    "### Optimal Stock Market Strategy - 3/6/2024"
   ]
  },
  {
   "cell_type": "code",
   "execution_count": null,
   "metadata": {},
   "outputs": [],
   "source": [
    "\"\"\"\n",
    "UMPIRE: \n",
    "U: given a list of share prices on the ith days, return the maximum profits \n",
    "which can be made\n",
    "Example 1:\n",
    "[2, 5, 1] -> best strategy would be to buy on the first day and \n",
    "            sell it on the second day with a profit = 3\n",
    "\n",
    "[2, 5, 1, 3] -> best stratgey would be buy on the first day and \n",
    "                sell it on the second day wiht a profit = 3 \n",
    "                + again buy on the third day and sell it on the fourth day\n",
    "                with a profit = 2. And with a overall profit of 5\n",
    "\"\"\"\n",
    "\n",
    "def max_profit(daily_price):\n",
    "    def get_best_profit(day, have_stock):\n",
    "        \"\"\"\n",
    "        Returns the best profit that can be obtained by the end of the day.\n",
    "        At the end of the day:\n",
    "        * if have_stock is True, the trader must own the stock\n",
    "        * if have_stock is False, the trader must not own the stock\n",
    "        \"\"\"\n",
    "        # TODO ...\n",
    "\n",
    "        # Final State: end of last day, no shares owned\n",
    "    last_day = len(daily_price) - 1\n",
    "    no_stock = False\n",
    "    return get_best_profit(last_day, no_stock)"
   ]
  }
 ],
 "metadata": {
  "language_info": {
   "name": "python"
  }
 },
 "nbformat": 4,
 "nbformat_minor": 2
}
