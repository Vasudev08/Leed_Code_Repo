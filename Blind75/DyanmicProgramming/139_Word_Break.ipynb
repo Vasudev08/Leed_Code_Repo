{
 "cells": [
  {
   "cell_type": "markdown",
   "metadata": {},
   "source": [
    "### 139. Word Break - 3/16/2024"
   ]
  },
  {
   "cell_type": "code",
   "execution_count": null,
   "metadata": {},
   "outputs": [],
   "source": [
    "\"\"\"\n",
    "2nd Try Using dynamic Programming\n",
    "Here this question is similar to staircase problem\n",
    "1. our goal in-directly is to reach the end of the string\n",
    "using the words in the wordDict\n",
    "2. So we check at every ith position every we can use word from \n",
    "wordDict to reach that end point, if so we record True in the dp\n",
    "or else we record false in the dp for that position\n",
    "3. our main goal is to return the dp[0] whic essentially tells\n",
    "whether we can to the end of the string\n",
    "\"\"\"\n",
    "class Solution:\n",
    "    def wordBreak(self, s: str, wordDict: List[str]) -> bool:\n",
    "        dp = [False] * (len(s) + 1)\n",
    "        dp[-1] = True\n",
    "\n",
    "        for i in range(len(s), -1, -1):\n",
    "            for w in wordDict:\n",
    "                if (i + len(w) <=len(s)) and s[i: i+len(w)] == w:\n",
    "                    dp[i] = dp[i + len(w)]\n",
    "\n",
    "                if dp[i]:\n",
    "                    break\n",
    "\n",
    "        return dp[0]"
   ]
  },
  {
   "cell_type": "code",
   "execution_count": null,
   "metadata": {},
   "outputs": [],
   "source": [
    "\"\"\"\n",
    "UMPIRE:\n",
    "U: given a string s and a dictionary wordDict,\n",
    "    return true if 's' can be segmented into a space-separated\n",
    "\n",
    "Idea 1: (i.e. Brute Force )\n",
    "we can traverse string 's' and check if it's false ever\n",
    "i.e. we have a two pointers 'l' and 'r' which traverse the string 's'\n",
    "once a word in found in the wordDict.\n",
    "pointers 'l' and 'r' are reset back to starting of the next character\n",
    "\n",
    "\n",
    "we will return false either 'l' or 'r' reaches the end of the string\n",
    "and the word (s[l:r]) wasn't present in the wordDict\n",
    "\n",
    "I don't know how we would use dynamic programming in the question\n",
    "\n",
    "M: D\n",
    "\"\"\"\n",
    "class Solution:\n",
    "    def wordBreak(self, s: str, wordDict: List[str]) -> bool:\n",
    "        l, r = 0, 0\n",
    "\n",
    "        while (l < len(s) and r < len(s)):\n",
    "            if r == len(s) - 1:\n",
    "                if s[l:r + 1] not in wordDict:\n",
    "                    return False\n",
    "            \n",
    "\n",
    "                \n",
    "            if s[l:r + 1] in wordDict:\n",
    "                l = r\n",
    "                r = r - 1\n",
    "\n",
    "            r += 1\n",
    "                \n",
    "\n",
    "        return True\n",
    "    \n",
    "# The above implementation fails for s = \"aaaaaaa\" wordDict = ['aaaa','aaa']\n"
   ]
  },
  {
   "cell_type": "code",
   "execution_count": null,
   "metadata": {},
   "outputs": [],
   "source": []
  }
 ],
 "metadata": {
  "language_info": {
   "name": "python"
  }
 },
 "nbformat": 4,
 "nbformat_minor": 2
}
