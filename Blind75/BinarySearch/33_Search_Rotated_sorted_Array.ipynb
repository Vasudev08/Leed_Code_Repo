{
 "cells": [
  {
   "cell_type": "markdown",
   "metadata": {},
   "source": [
    "### 33. Search in Rotated Sorted Array - 2/14/2024"
   ]
  },
  {
   "cell_type": "code",
   "execution_count": null,
   "metadata": {},
   "outputs": [],
   "source": [
    "\"\"\"\n",
    "\n",
    "VERY VERY Similar to find minimum in rotated sorted array\n",
    "UMPIRE:\n",
    "U - given rotated sorted array, return the index of the target\n",
    "M - Binary Search\n",
    "P - \n",
    "1. two pointers + middle index + binary serach\n",
    "2. create pointers l starting at the beginning and r starting at the end of the array\n",
    "3. calculate the middle of the array,\n",
    "4. check wether any of pointers are pointing to the target is so, return that pointer\n",
    "5. if not, check whether it belong in the left sorted sub-interval or right sorted sub-interval\n",
    "6. resp. move the l and r pointers until l <= r\n",
    "\n",
    "Running Time: O(log n)\n",
    "\n",
    "\n",
    "\"\"\"\n",
    "\n",
    "class Solution:\n",
    "    def search(self, nums: List[int], target: int) -> int:\n",
    "\n",
    "\n",
    "        if not nums:\n",
    "            return - 1\n",
    "        \n",
    "        l, r = 0, len(nums) - 1\n",
    "\n",
    "        while (l <= r):\n",
    "            if nums[r] == target:\n",
    "                return r\n",
    "            \n",
    "            if nums[l] == target:\n",
    "                return l\n",
    "            \n",
    "            m = l + r //2\n",
    "\n",
    "            if nums[m] == target:\n",
    "                return m\n",
    "            \n",
    "\n",
    "            if nums[r] > nums[l]:\n",
    "                \n",
    "                if target > nums[m]:\n",
    "                    l = m + 1\n",
    "                else:\n",
    "                    r = m - 1\n",
    "\n",
    "            if target < nums[m] and target > nums[l]:\n",
    "                r = m - 1\n",
    "            else:\n",
    "                l = m + 1\n",
    "\n",
    "\n",
    "\n",
    "        return -1\n",
    "\n",
    "            "
   ]
  },
  {
   "cell_type": "markdown",
   "metadata": {},
   "source": []
  }
 ],
 "metadata": {
  "language_info": {
   "name": "python"
  }
 },
 "nbformat": 4,
 "nbformat_minor": 2
}
