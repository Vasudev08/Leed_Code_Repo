{
 "cells": [
  {
   "cell_type": "markdown",
   "metadata": {},
   "source": [
    "### 11. Container With Most Water - 2/9/2024"
   ]
  },
  {
   "cell_type": "code",
   "execution_count": null,
   "metadata": {},
   "outputs": [],
   "source": [
    "\"\"\"\n",
    "UMPIRE:\n",
    "U: given a list of heights, return the maximum volume that a container can have\n",
    "M: two pointers, l and r\n",
    "P:\n",
    "- l pointers starts at the beginning \n",
    "- r pointesr starts at the end\n",
    "\n",
    "we move the pointes which has the minimum height when we compare both the heights\n",
    "we also have local Height or temp Height and max Height and keep record of \n",
    "max height after every iteration\n",
    "\n",
    "1. using while loop with condition l < r start the traveral of an array\n",
    "2. to get the volume of the current l and r elements we choose the mini\n",
    "    among them and mutlipy it with (r - l)\n",
    "\"\"\"\n",
    "\n",
    "class Solution:\n",
    "    def maxArea(self, height: List[int]) -> int:\n",
    "        l, r = 0, len(height) - 1\n",
    "\n",
    "        max_height = 0\n",
    "\n",
    "        while (l < r):\n",
    "            temp_height = min(height[l], height[r]) * (r - l)\n",
    "            if height[l] >= height[r]:\n",
    "                r -= 1\n",
    "            else:\n",
    "                l += 1\n",
    "            max_height = max(max_height, temp_height)\n",
    "\n",
    "        return max_height\n"
   ]
  },
  {
   "cell_type": "code",
   "execution_count": null,
   "metadata": {},
   "outputs": [],
   "source": []
  }
 ],
 "metadata": {
  "language_info": {
   "name": "python"
  }
 },
 "nbformat": 4,
 "nbformat_minor": 2
}
