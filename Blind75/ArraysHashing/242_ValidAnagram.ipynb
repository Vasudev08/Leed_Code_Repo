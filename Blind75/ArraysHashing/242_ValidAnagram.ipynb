{
 "cells": [
  {
   "cell_type": "markdown",
   "metadata": {},
   "source": [
    "### 242. Valid Anagram - 2/4/2024\n"
   ]
  },
  {
   "cell_type": "markdown",
   "metadata": {},
   "source": [
    "# defaultdict()\n",
    "- using defaultdict we can avoid getting key error by using declaring defaultdict or using .get(i, 0). perfer defaultdict\n",
    "- dictionary \n",
    "-- acessing is O(1)\n",
    "-- assinging is O(1)\n",
    "-- contains (in) is O(1)"
   ]
  },
  {
   "cell_type": "code",
   "execution_count": null,
   "metadata": {},
   "outputs": [],
   "source": [
    "\"\"\"\n",
    "UMPIRE:\n",
    "U: we are given two string 's' and 't' and return true if t is an anagram of s and false otherwise\n",
    "M: Using hashmap, key: 'alphabets' value: 'No. of occurence'\n",
    "P: traverse through the s string and count the occurence of every alphabet, \n",
    " - traverse through 't' string and check if alphabet is in the hashmap, if so return true otherwise false\n",
    "\n",
    "\"\"\"\n",
    "\n",
    "class Solution:\n",
    "    def isAnagram(self, s: str, t : str) -> bool:\n",
    "        res = defaultdict()\n",
    "        for i in s:\n",
    "            res[s] = 1 + res.get(i, 0)\n",
    "\n",
    "        for i in t:\n",
    "            if i not in res.keys():\n",
    "                return False\n",
    "            else:\n",
    "                res[i] -= 1\n",
    "        \n",
    "        for key, value in res.items():\n",
    "            if value != 0:\n",
    "                return False\n",
    "            \n",
    "        return True\n",
    "    \n",
    "\n"
   ]
  },
  {
   "cell_type": "markdown",
   "metadata": {},
   "source": []
  },
  {
   "cell_type": "code",
   "execution_count": null,
   "metadata": {},
   "outputs": [],
   "source": []
  }
 ],
 "metadata": {
  "language_info": {
   "name": "python"
  }
 },
 "nbformat": 4,
 "nbformat_minor": 2
}
