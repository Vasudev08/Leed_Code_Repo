{
 "cells": [
  {
   "cell_type": "markdown",
   "metadata": {},
   "source": [
    "### 238. Product of Array Except self - 2/6/2024"
   ]
  },
  {
   "cell_type": "code",
   "execution_count": null,
   "metadata": {},
   "outputs": [],
   "source": [
    "\"\"\"\n",
    "UMPIRE: we are given a list of nums, \n",
    "return the product of all except self from that position\n",
    "\n",
    "M: we are going to use prefix and postfix - hashing in a way\n",
    "\n",
    "P:\n",
    "- create a prefix list, having prefix of every element, \n",
    "edge case: prefix of first index is 1\n",
    "\n",
    "- create a postfix list, have postfix of every element,\n",
    "edge case: postfix of the last index is 1\n",
    "\n",
    "- create a res list having mutiple of both prefix and postfix\n",
    "\n",
    "\n",
    "\n",
    "\"\"\"\n",
    "\n",
    "class Solution:\n",
    "    def productExceptSelf(self, nums: List[int]) -> List[int]:\n",
    "        pre = []\n",
    "        prefix = 1\n",
    "\n",
    "        for n in nums:\n",
    "            pre.append(prefix)\n",
    "            prefix = prefix*n\n",
    "\n",
    "        post = []\n",
    "        postfix = 1\n",
    "\n",
    "        for i in range(len(nums) - 1, -1, -1):\n",
    "            post.insert(0, postfix)\n",
    "            postfix = postfix*nums[i]\n",
    "\n",
    "\n",
    "        res = []\n",
    "\n",
    "        for i in range(len(nums)):\n",
    "            res.append(post[i] * pre[i])\n",
    "\n",
    "        return res\n",
    "\n",
    "            "
   ]
  },
  {
   "cell_type": "markdown",
   "metadata": {},
   "source": [
    "### Improvement from the above code"
   ]
  },
  {
   "cell_type": "code",
   "execution_count": null,
   "metadata": {},
   "outputs": [],
   "source": [
    "# Here we will have one list called res.\n",
    "\"\"\"\n",
    "- Here we have one list, where we storing our prefix\n",
    "- and the same time using it during post fix time\n",
    "- this algo is much faster\n",
    "\"\"\"\n",
    "class Solution:\n",
    "    def productExceptSelf(self, nums: List[int]) -> List[int]:\n",
    "        res = []\n",
    "\n",
    "        prefix = 1\n",
    "        for n in nums:\n",
    "            res.append(prefix)\n",
    "            prefix *= n\n",
    "\n",
    "        postfix = 1\n",
    "        for i in range(len(nums) -1, -1, -1):\n",
    "            res[i] = res[i] * postfix\n",
    "            postfix *= nums[i]\n",
    "\n",
    "        return res"
   ]
  }
 ],
 "metadata": {
  "language_info": {
   "name": "python"
  }
 },
 "nbformat": 4,
 "nbformat_minor": 2
}
