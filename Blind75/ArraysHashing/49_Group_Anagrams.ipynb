{
 "cells": [
  {
   "cell_type": "markdown",
   "metadata": {},
   "source": [
    "### 49. Group Anagrams - 2/5/2024\n"
   ]
  },
  {
   "cell_type": "markdown",
   "metadata": {},
   "source": [
    "# Sorted(i) -> sorts element i alphabetically in O(nlogn) time complexity"
   ]
  },
  {
   "cell_type": "code",
   "execution_count": null,
   "metadata": {},
   "outputs": [],
   "source": [
    "\"\"\"\n",
    "UMPIRE: \n",
    "U: We are given a list of string and we have to return similar anagarms in 2D array\n",
    "M: Using hashmap, key: stored_anagrams value: list of anagrams\n",
    "P:\n",
    "- create a hashamp called res\n",
    "- traverse through the list and store the current element\n",
    "- check if it's in the res.keys() --> o(1) operation\n",
    "- if so, append the current element in the hashmap\n",
    "- else, craete a new entry with key: current element and value: [unsorted_current_element]\n",
    "\n",
    "Next\n",
    "- traverse through the res.values() and append the lists into a new list which will be returend\n",
    "\n",
    "\"\"\"\n",
    "class Solution:\n",
    "    def groupAnagrams(self, strs: List[str]) -> List[List[str]]:\n",
    "        sort_res = {}\n",
    "\n",
    "        # Hashing similar anagrams together\n",
    "        for s in strs:\n",
    "            sort_anagram =  sorted(s)\n",
    "            sort_anagram = \"\".join(sort_anagram)\n",
    "\n",
    "            if sort_anagram in sort_res:\n",
    "                sort_res[sort_anagram].append(s)\n",
    "            else:\n",
    "                sort_res[sort_anagram] = [s]\n",
    "            \n",
    "        res = []\n",
    "        for keys, values in sort_res.items():\n",
    "            res.append(values)\n",
    "\n",
    "        return res\n"
   ]
  }
 ],
 "metadata": {
  "language_info": {
   "name": "python"
  }
 },
 "nbformat": 4,
 "nbformat_minor": 2
}
