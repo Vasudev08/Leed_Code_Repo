{
 "cells": [
  {
   "cell_type": "markdown",
   "metadata": {},
   "source": [
    "### 435. Non-Overlapping Intervals - 3/21/2024`"
   ]
  },
  {
   "cell_type": "code",
   "execution_count": null,
   "metadata": {},
   "outputs": [],
   "source": [
    "\"\"\"\n",
    "UMPIRE\n",
    "\n",
    "basically we have the remove the overlapping intervals\n",
    "and to detect overlapping intervals we compare the starting of curInterval\n",
    "with upperbound of previous interval\n",
    "- if overlappng doesn't eixts: update our prevEnd pointer\n",
    "- if overlapping exists: update our resRemove count and update the pointer\n",
    "    to the minimum of to ends (we are doing minimum so as to avoid overlapping \n",
    "    with upcomming intervals)\n",
    "\"\"\"\n",
    "class Solution:\n",
    "    def eraseOverlapIntervals(self, intervals: List[List[int]]) -> int:\n",
    "        intervals.sort()\n",
    "        res = 0\n",
    "        prevEnd = intervals[0][1]\n",
    "\n",
    "        for i, j in intervals[1:]:\n",
    "            if i >= prevEnd:\n",
    "                prevEnd = j\n",
    "            else:\n",
    "                res += 1\n",
    "                prevEnd = min(prevEnd, j)\n",
    "\n",
    "        return res"
   ]
  }
 ],
 "metadata": {
  "language_info": {
   "name": "python"
  }
 },
 "nbformat": 4,
 "nbformat_minor": 2
}
