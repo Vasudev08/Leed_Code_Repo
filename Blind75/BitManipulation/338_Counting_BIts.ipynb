{
 "cells": [
  {
   "cell_type": "markdown",
   "metadata": {},
   "source": [
    "### 338. Counting Bits - 3/27/2024"
   ]
  },
  {
   "cell_type": "code",
   "execution_count": null,
   "metadata": {},
   "outputs": [],
   "source": [
    "\"\"\"\n",
    "UMPIRE\n",
    "\n",
    "\"\"\"\n",
    "\n",
    "class Solution:\n",
    "    def countBits(self, n: int) -> List[int]:\n",
    "        res = []\n",
    "\n",
    "        for i in range(n + 1):\n",
    "            tmpCount = 0\n",
    "            while (i):\n",
    "                tmpCount += i % 2\n",
    "                i = i >> 1\n",
    "\n",
    "            res.append(tmpCount)\n",
    "\n",
    "        return res\n",
    "        "
   ]
  }
 ],
 "metadata": {
  "language_info": {
   "name": "python"
  }
 },
 "nbformat": 4,
 "nbformat_minor": 2
}
