{
 "cells": [
  {
   "cell_type": "markdown",
   "metadata": {},
   "source": [
    "### 104. Maximum Depth of Binary Tree - 2/17/2024"
   ]
  },
  {
   "cell_type": "code",
   "execution_count": null,
   "metadata": {},
   "outputs": [],
   "source": [
    "\"\"\"\n",
    "LOL I have improved from the previous latest submission\n",
    "UMPIRE\n",
    "U: given a binary tree, return it's maximum depth\n",
    "M: DFS - i.e. queue\n",
    "P:\n",
    "- create a queue storing all the current depth's nodes\n",
    "- create a maxDepth variable storing the depth of the Binary tree\n",
    "- using 'while' loop traverse the depth of the binary tree meanwhile keeping track of the maxDepth variable\n",
    "- maxDepth variable will be counted after traversing through every element in the queue\n",
    "\n",
    "Q1. When to increment the maxDepth variable\n",
    "A1. After traversing through all the element in the queue using 'for' loop,\n",
    "    for condition would len(queue) which will be used in an different variable\n",
    "    as it's dynmically changing\n",
    "    And after the for loop increase the count of the maxDepth\n",
    "\n",
    "Running time - O(n) -> I think\n",
    "\"\"\"\n",
    "\n",
    "class Solution:\n",
    "    def maxDepth(self, root: Optional[TreeNode]) -> int:\n",
    "        que = [root]\n",
    "        maxDepth = 1\n",
    "\n",
    "        while (que):\n",
    "            queLen = len(que)\n",
    "            for i in range(queLen):\n",
    "                tmp = que.pop(0)\n",
    "                if tmp.left:\n",
    "                    que.append(tmp.left)\n",
    "                if tmp.right:\n",
    "                    que.append(tmp.right)\n",
    "\n",
    "            maxDepth += 1\n",
    "\n",
    "        return maxDepth"
   ]
  }
 ],
 "metadata": {
  "language_info": {
   "name": "python"
  }
 },
 "nbformat": 4,
 "nbformat_minor": 2
}
