{
 "cells": [
  {
   "cell_type": "markdown",
   "metadata": {},
   "source": [
    "### 100. Same Tree - 2/17/2024 "
   ]
  },
  {
   "cell_type": "code",
   "execution_count": null,
   "metadata": {},
   "outputs": [],
   "source": [
    "\"\"\"\n",
    "UMPIRE\n",
    "U: given two tree p and q, return true if they're same or false if they're different\n",
    "M: dfs - preOrder\n",
    "P:\n",
    "- create a helper function traversing in a pre-Order manner\n",
    "- check if the values of the each node from p and q are the same\n",
    "- return false if they're not\n",
    "- default return of function is True, we will check if it's false\n",
    "\"\"\"\n",
    "\n",
    "class Solution:\n",
    "    def isSameTree(self, p: Optional[TreeNode], q: Optional[TreeNode]) -> bool:\n",
    "\n",
    "        def preOrder(p, q):\n",
    "            if not p and not q:\n",
    "                return \n",
    "             \n",
    "            if not p and q:\n",
    "                return False\n",
    "            \n",
    "            if not q and p:\n",
    "                return False\n",
    "            \n",
    "\n",
    "            if p.val != q.val:\n",
    "                return False\n",
    "            else:\n",
    "            \n",
    "                return (preOrder(p.left, q.left) and preOrder(p.right, q.right) )\n",
    "            \n",
    "            \n",
    "                \n",
    "                \n",
    "\n",
    "\n",
    "\n",
    "\n",
    "        if not p and not q:\n",
    "                return False  \n",
    "\n",
    "        return preOrder(p, q)  \n",
    "\n",
    "            "
   ]
  }
 ],
 "metadata": {
  "language_info": {
   "name": "python"
  }
 },
 "nbformat": 4,
 "nbformat_minor": 2
}
