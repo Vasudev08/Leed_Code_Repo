{
 "cells": [
  {
   "cell_type": "markdown",
   "metadata": {},
   "source": [
    "### 102. Binary Tree Level Order Traversal - 2/19/2024"
   ]
  },
  {
   "cell_type": "code",
   "execution_count": null,
   "metadata": {},
   "outputs": [],
   "source": [
    "\"\"\"\n",
    "DID Better than the last submission for sure\n",
    "\n",
    "UMPIRE\n",
    "U: given a binary tree, given a level Order traversal of its nodes' values\n",
    "M: dfs + while + que\n",
    "P: \n",
    "- Start using the while loop and traverse the binary tree\n",
    "- we will have a que and use for loop to traverse through the nodes that are on that level\n",
    "- also at the same time append the node.values into the que as well\n",
    "\"\"\"\n",
    "\n",
    "class Solution:\n",
    "    def levelOrder(self, root: Optional[TreeNode]) -> List[List[int]]:\n",
    "        if not root:\n",
    "            return []\n",
    "        \n",
    "        que = [root]\n",
    "        res = []\n",
    "\n",
    "        while que:\n",
    "            queLen = len(que)\n",
    "            tmpRes = []\n",
    "\n",
    "            for i in range(queLen):\n",
    "                tmpNode = que.pop(0)\n",
    "                tmpRes.append(tmpNode.val)\n",
    "\n",
    "                if tmpNode.left:\n",
    "                    que.append(tmpNode.left)\n",
    "\n",
    "                if tmpNode.right:\n",
    "                    que.append(tmpNode.right)\n",
    "\n",
    "            res.append(tmpRes)\n",
    "\n",
    "        return res\n"
   ]
  }
 ],
 "metadata": {
  "language_info": {
   "name": "python"
  }
 },
 "nbformat": 4,
 "nbformat_minor": 2
}
