{
 "cells": [
  {
   "cell_type": "markdown",
   "metadata": {},
   "source": [
    "### 105. Construct Binary Tree from Preorder and Inorder Traversal - 2/20/2024"
   ]
  },
  {
   "cell_type": "code",
   "execution_count": null,
   "metadata": {},
   "outputs": [],
   "source": [
    "\"\"\"\n",
    "UMPIRE\n",
    "\n",
    "U: We are given two array: Preorder and Inorder\n",
    "M: recursion and use preorder and inorder traversal\n",
    "P: \n",
    "- 0th index of the preorder is the root of the tree\n",
    "- now, looking at the inorder list and findind the root in the inorder list\n",
    "- we observe that, element in the left-hand side of the root \n",
    "-    belong to the left sub-tree\n",
    "-   similarly the elements in the right-hand side of the root\n",
    "-   belong to the right sub-tree\n",
    "\n",
    "the pattern goes on forever\n",
    "\"\"\"\n",
    "\n",
    "class SOlution:\n",
    "    def buildTree(self, preorder: List[int], inorder: List[int]) -> Optional[TreeNode]:\n",
    "        if not preorder and not inorder:\n",
    "            return None\n",
    "        \n",
    "        root = preorder[0]\n",
    "        rootIndex = inorder.index(preorder[0])\n",
    "\n",
    "        root.left = self.buildTree(preorder[1: rootIndex + 1], inorder[: rootIndex])\n",
    "        root.right = self.buildTree(preorder[rootIndex + 1:], inorder[rootIndex + 1:])\n",
    "        return root\n"
   ]
  }
 ],
 "metadata": {
  "language_info": {
   "name": "python"
  }
 },
 "nbformat": 4,
 "nbformat_minor": 2
}
