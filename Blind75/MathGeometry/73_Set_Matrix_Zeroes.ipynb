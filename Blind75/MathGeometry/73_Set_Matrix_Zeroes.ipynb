{
 "cells": [
  {
   "cell_type": "markdown",
   "metadata": {},
   "source": [
    "### 73. Set Matrix Zeroes - 3/27/2024"
   ]
  },
  {
   "cell_type": "code",
   "execution_count": null,
   "metadata": {},
   "outputs": [],
   "source": [
    "\"\"\"\n",
    "UMPIRE\n",
    "\n",
    "U: given a matrix, return an matrix where if an element is zero, \n",
    "    set it's entire row and column to 0\n",
    "\n",
    "Q1. How can I make an entire row/ columns to be zero, as I think of a way\n",
    "to in all directions but to set an entire row/ columns to be zero I need to \n",
    "have some kind of restrictions \n",
    "\n",
    "A1. Here, I was thinking of using recursion to make the row/columns zero\n",
    "but once we encouter an zero, we take note of row and column\n",
    "and make those rows and columns zero (i.e. we can build a helper function have\n",
    "two for loops, one for making the entire row zero and the other making the \n",
    "entire column zero. Also adding them into visisted Set)\n",
    "\n",
    "M: double for loops, have visisted_set, node in visisted_set can't be count\n",
    "as nodes have initial zero value, helper function and visitedSet = ()\n",
    "\n",
    "running time - O(n^2)\n",
    "space - O(n) in the worst case\n",
    "\n",
    "\"\"\"\n",
    "\n",
    "class Solution:\n",
    "    def setZeroes(self, matrix: List[List[int]]) -> None:\n",
    "        rows = len(matrix)\n",
    "        cols =len(matrix[0])\n",
    "\n",
    "\n",
    "        def helper(r, c):\n",
    "            for i in range(cols):\n",
    "                matrix[r][i] = 0\n",
    "\n",
    "            for j in range(rows):\n",
    "                matrix[j][c] = 0\n",
    "\n",
    "        zeros = []\n",
    "        for r in range(rows):\n",
    "            for c in range(columns):\n",
    "                # Or Store all the initial zeros in a list\n",
    "                if matrix[r][c] == 0:\n",
    "                    zeros.append([r, c])\n",
    "\n",
    "        for r, c in zeros:\n",
    "            helper(r, c)\n",
    "\n",
    "\n"
   ]
  }
 ],
 "metadata": {
  "language_info": {
   "name": "python"
  }
 },
 "nbformat": 4,
 "nbformat_minor": 2
}
