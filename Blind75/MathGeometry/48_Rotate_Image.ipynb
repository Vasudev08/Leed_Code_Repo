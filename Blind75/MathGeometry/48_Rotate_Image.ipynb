{
 "cells": [
  {
   "cell_type": "markdown",
   "metadata": {},
   "source": [
    "### 48. Rotate Image - 3/22/2024"
   ]
  },
  {
   "cell_type": "code",
   "execution_count": null,
   "metadata": {},
   "outputs": [],
   "source": [
    "\"\"\"\n",
    "UMPIRE\n",
    "\n",
    "U: we are given an 2D array, we to rotate the image 90 degrees and in-place\n",
    "M: for loop + Anti-clocwise rotation\n",
    "\n",
    "Idea 1:\n",
    "- we are going to save a into a tmp variable and shit it's position \n",
    "    anticlock-wise and move towards the inner circle\n",
    "\n",
    "Q1. I don't know how to traverse the 2D array in a such a manner\n",
    "    where I will be able to change the values in-place\n",
    "\n",
    "A1. We will have four pointers left, right, top and bottom\n",
    "\n",
    "P.\n",
    "1. With the use of pointers we just have to shift places\n",
    "    we start shifting for the outer-most square and then move-in\n",
    "    to inner squares via the use of 'l' and 'r' which set\n",
    "    the left and right boundary of the matrix\n",
    "2. we will use the tmp variable to aid- in our shifting of places\n",
    "3. everytime we will have 4 shifts or 4 shits per position approx \n",
    "\n",
    "\"\"\"\n",
    "\n",
    "class Solution:\n",
    "    def rotate(self, matrix: List[List[int]]) -> None:\n",
    "        l, r =0, len(matrix) - 1\n",
    "\n",
    "        while (l < r):\n",
    "            for i in range(r - l):\n",
    "                top, bottom = l, r # as the matrix is a square matrix\n",
    "                tmp = matrix[top][l + i]\n",
    "\n",
    "                matrix[top][l + i] = matrix[bottom - i][l]\n",
    "\n",
    "                matrix[bottom - i][l] = matrix[bottom][r - i]\n",
    "\n",
    "                matrix[bottom][r - i] = matrix[top + i][r]\n",
    "\n",
    "                matrix[top + i][r] = tmp\n",
    "\n",
    "            l +=1\n",
    "            r -= 1\n",
    "\n",
    "        \n",
    "\n"
   ]
  }
 ],
 "metadata": {
  "language_info": {
   "name": "python"
  }
 },
 "nbformat": 4,
 "nbformat_minor": 2
}
