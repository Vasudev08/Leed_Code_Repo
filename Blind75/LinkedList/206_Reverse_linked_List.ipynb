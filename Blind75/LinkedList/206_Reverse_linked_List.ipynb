{
 "cells": [
  {
   "cell_type": "markdown",
   "metadata": {},
   "source": [
    "### 206. Reverse Linked List - 2/14/2024"
   ]
  },
  {
   "cell_type": "code",
   "execution_count": null,
   "metadata": {},
   "outputs": [],
   "source": [
    "\"\"\"\n",
    "UMPIRE\n",
    "U: given a linked list, reverse it\n",
    "M: DummyNode with two pointers\n",
    "P:\n",
    "1. save the cur to a temp variable\n",
    "2. create an prev = null\n",
    "3. cur = cur.next\n",
    "4. temp.next = prev\n",
    "5. prev = temp\n",
    "\n",
    "\n",
    "\"\"\"\n",
    "\n",
    "# Definition for singly-linked list.\n",
    "# class ListNode:\n",
    "#     def __init__(self, val=0, next=None):\n",
    "#         self.val = val\n",
    "#         self.next = next\n",
    "class Solution:\n",
    "    def reverseList(self, head: Optional[ListNode]) -> Optional[ListNode]:\n",
    "        prev = None\n",
    "        cur = head\n",
    "\n",
    "        while (cur):\n",
    "            temp = cur\n",
    "            cur = cur.next\n",
    "\n",
    "            temp.next = prev\n",
    "            prev = temp\n",
    "\n",
    "        return prev\n",
    "        "
   ]
  },
  {
   "cell_type": "code",
   "execution_count": null,
   "metadata": {},
   "outputs": [],
   "source": []
  }
 ],
 "metadata": {
  "language_info": {
   "name": "python"
  }
 },
 "nbformat": 4,
 "nbformat_minor": 2
}
