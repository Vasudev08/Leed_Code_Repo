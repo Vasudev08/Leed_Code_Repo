{
 "cells": [
  {
   "cell_type": "markdown",
   "metadata": {},
   "source": [
    "### Reorder List - 2/15/2024"
   ]
  },
  {
   "cell_type": "code",
   "execution_count": null,
   "metadata": {},
   "outputs": [],
   "source": [
    "\"\"\"\n",
    "UMPIRE:\n",
    "U - given a linked list, reorder it in a certain way\n",
    "M - Fast and slow Pointer\n",
    "P -\n",
    "1. get to the middle and end of the linked list using fast and slow pointer\n",
    "2. using the middle - slower pointer reverse the second half of the linked list\n",
    "3. At the end of revering the linked list we will have and end pointer and head\n",
    "4. do a given situations according to the situation\n",
    "\n",
    "\n",
    "\"\"\"\n",
    "\n",
    "class Solution:\n",
    "    def reorderList(self, head: Optional[ListNode]) -> None:\n",
    "        # Getting to the middle and end of the linked list\n",
    "        #Example Linked List\n",
    "        # 1 -> 2 -> 3 -> 4 -> 5\n",
    "        # f\n",
    "        # s\n",
    "        fast, slow = head.next, head\n",
    "\n",
    "        while (fast and fast.next):\n",
    "            slow = slow.next\n",
    "            fast = fast.next.next\n",
    "\n",
    "        #Example Linked List\n",
    "        # 1 -> 2 -> 3 -> 4 -> 5\n",
    "        #                     f\n",
    "        #           s\n",
    "            \n",
    "        # Reversing the second half of the linked list\n",
    "        prev = None\n",
    "        sec = slow.next\n",
    "        while (sec):\n",
    "            \n",
    "            temp = sec.next\n",
    "            sec.next = prev\n",
    "            prev = slow\n",
    "            sec = temp\n",
    "\n",
    "        #Example Linked List\n",
    "        # 1 -> 2 -> 3 -> 4 <- 5\n",
    "        #                     f\n",
    "        #           s\n",
    "        #                       se\n",
    "        #                     p  \n",
    "            \n",
    "\n",
    "\n",
    "\n",
    "            \n",
    "        # Merging two half's\n",
    "            #Example Linked List\n",
    "        # 1 -> 2 -> 3 -> 4 <- 5\n",
    "        #                     sec\n",
    "        # fir    \n",
    "        \n",
    "        first, second = head, prev  # Correct variable names should be `first` and `second`\n",
    "        while second:  # Should iterate until `second` is not None\n",
    "            temp1, temp2 = first.next, second.next  # Swap `fir` with `first` and `se` with `second`\n",
    "            first.next = second  # Connect `first` to `second`\n",
    "            second.next = temp1  # Connect `second` to the rest of the list\n",
    "            first, second = temp1, temp2  # Update pointers\n",
    "\n"
   ]
  },
  {
   "cell_type": "code",
   "execution_count": null,
   "metadata": {},
   "outputs": [],
   "source": []
  }
 ],
 "metadata": {
  "language_info": {
   "name": "python"
  }
 },
 "nbformat": 4,
 "nbformat_minor": 2
}
