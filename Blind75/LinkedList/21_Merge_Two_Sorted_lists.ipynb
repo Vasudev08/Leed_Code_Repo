{
 "cells": [
  {
   "cell_type": "markdown",
   "metadata": {},
   "source": [
    "### 21. Merge Two Sorted Lists - 2/15/2024"
   ]
  },
  {
   "cell_type": "code",
   "execution_count": 2,
   "metadata": {},
   "outputs": [
    {
     "data": {
      "text/plain": [
       "\"\\nUMPIRE:\\nU: given two sorted lists, merge them together\\nM: pointers and dummyHead\\nP:\\n- Create a dummyNode have value: Null and it's next being the head of list1\\n- have two pointers, one pointing to list1 and the other pointing to list2\\n- return when both the pointers reach the end of the linked list\\n\\nRunning time: O(n + m) -> cuz we are traversing both list1 and list2\\nSpace Complexity: O(1) -> we sorted inplace\\n\""
      ]
     },
     "execution_count": 2,
     "metadata": {},
     "output_type": "execute_result"
    }
   ],
   "source": [
    "\"\"\"\n",
    "UMPIRE:\n",
    "U: given two sorted lists, merge them together\n",
    "M: pointers and dummyHead\n",
    "P:\n",
    "- Create a dummyNode have value: Null and it's next being the head of list1\n",
    "- have two pointers, one pointing to list1 and the other pointing to list2\n",
    "- return when both the pointers reach the end of the linked list\n",
    "\n",
    "Running time: O(n + m) -> cuz we are traversing both list1 and list2\n",
    "Space Complexity: O(1) -> we sorted inplace\n",
    "\"\"\"\n",
    "\n",
    "class Solution:\n",
    "    def mergeTwoLists(self, list1: Optional[ListNode], list2: Optional[ListNode]) -> Optional[ListNode]:\n",
    "        # dummy = ListNode(None, list1)\n",
    "\n",
    "        p1 = list1\n",
    "        p2 = list2\n",
    "        dummy = ListNode();\n",
    "        tail = dummy\n",
    "\n",
    "        while (p1 and p2):\n",
    "            if p1.val < p2.val:\n",
    "                tail.next = p1\n",
    "                p1 = p1.next\n",
    "            else:\n",
    "                tail.next = p2\n",
    "                p2 = p2.next\n",
    "\n",
    "            tail = tail.next\n",
    "\n",
    "            if p1:\n",
    "                tail.next = p1\n",
    "            elif p2:\n",
    "                tail.next = p2\n",
    "\n",
    "        return dummy.next\n",
    "        \n",
    "\n",
    "\n",
    "\"\"\"\n",
    "1 -> 2 -> 4\n",
    "          p1\n",
    "\n",
    "1 -> 3 -> 4\n",
    "          p2\n",
    "\n",
    "Dummy/Tail -> 1 -> 1 -> 2-> 3 -> 4 -> 4\n",
    "\n",
    "Here we are not creating any extra node other than the dummy/tail node,\n",
    "after which we just change the link between the nodes, which in the end will require\n",
    "less space\n",
    "\"\"\"\n",
    "           \n"
   ]
  },
  {
   "cell_type": "code",
   "execution_count": null,
   "metadata": {},
   "outputs": [],
   "source": []
  },
  {
   "cell_type": "code",
   "execution_count": null,
   "metadata": {},
   "outputs": [],
   "source": []
  }
 ],
 "metadata": {
  "kernelspec": {
   "display_name": "Python 3",
   "language": "python",
   "name": "python3"
  },
  "language_info": {
   "codemirror_mode": {
    "name": "ipython",
    "version": 3
   },
   "file_extension": ".py",
   "mimetype": "text/x-python",
   "name": "python",
   "nbconvert_exporter": "python",
   "pygments_lexer": "ipython3",
   "version": "3.11.8"
  }
 },
 "nbformat": 4,
 "nbformat_minor": 2
}
