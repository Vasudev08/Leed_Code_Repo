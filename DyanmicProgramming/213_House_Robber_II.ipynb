{
 "cells": [
  {
   "cell_type": "markdown",
   "metadata": {},
   "source": [
    "### 213. House Robber II - 3/11/2024"
   ]
  },
  {
   "cell_type": "code",
   "execution_count": 2,
   "metadata": {},
   "outputs": [
    {
     "data": {
      "text/plain": [
       "'\\n2nd Attempt:\\n'"
      ]
     },
     "execution_count": 2,
     "metadata": {},
     "output_type": "execute_result"
    }
   ],
   "source": [
    "\"\"\"\n",
    "2nd Attempt: implementation and idea were quite right but missed on few things\n",
    "1. this time created a new helper function, to avoid confusion while implementating\n",
    "    - as in the 1st try we were trying to implement the same functaionliaty\n",
    "    same but with different notation but creating a funtion makes it easier\n",
    "2. dp[0] = 0, if we have zero houses, the maximum we can rob is 0\n",
    "\n",
    "\n",
    "\n",
    "\n",
    "\n",
    "\"\"\"\n",
    "\n",
    "class Solution:\n",
    "    def rob(self, nums: List[int]) -> int:\n",
    "        if len(nums) == 0:\n",
    "            return 0\n",
    "        elif len(nums) == 1:\n",
    "            return nums[0]\n",
    "        else:\n",
    "            return max(self.helper(nums[1:]), self.helper(nums[:-1]))\n",
    "\n",
    "\n",
    "    def helper(self, robList):\n",
    "        dp = [0] * (len(robList) + 1)\n",
    "        \n",
    "        dp[1] = robList[0]\n",
    "\n",
    "        for i in range(2, len(robList) + 1):\n",
    "            dp[i] = max(dp[i - 2] + robList[i - 1], dp[i - 1])\n",
    "\n",
    "\n",
    "        return dp[-1]\n"
   ]
  },
  {
   "cell_type": "code",
   "execution_count": 1,
   "metadata": {},
   "outputs": [
    {
     "data": {
      "text/plain": [
       "'\\nThe difference between house robber and climbing stairs problem in the \\ndyanmic programming folder is that in climbing stairs problem we restrict\\nourself to 1 step or 2 step jump\\n\\nwhereas in the house robber, we can choose the 2+ step houses \\nwhich makes alll the difference\\n'"
      ]
     },
     "execution_count": 1,
     "metadata": {},
     "output_type": "execute_result"
    }
   ],
   "source": [
    "\"\"\"\n",
    "The difference between house robber and climbing stairs problem in the \n",
    "dyanmic programming folder is that in climbing stairs problem we restrict\n",
    "ourself to 1 step or 2 step jump\n",
    "\n",
    "whereas in the house robber, we can choose the 2+ step houses \n",
    "which makes alll the difference but in house robber II problem\n",
    "we are assuming that all the houses are connected in a circle\n",
    "so \n",
    "-  we can't rob the last house if we rob the first house\n",
    " - we can't rob the first house if we rbo the last house\n",
    "\n",
    "we implemented the house robber I problem by getting the maximum between\n",
    "no. of coins at the current place + mooney at current place - 2 \n",
    "or money at current place - 1 house\n",
    "\n",
    "\n",
    "\n",
    "\"\"\"\n",
    "\n",
    "# def rob(nums):\n",
    "#     dp = [0] * (len(nums) + 1)\n",
    "#     dp[0] = 0\n",
    "#     dp[1] = nums[1]\n",
    "\n",
    "#     for i in range(2, len(nums) + 1):\n",
    "#         dp[i] = max(dp[i - 2] + nums[i - 1], dp[i - 1])\n",
    "\n",
    "\n",
    "#     return dp[-1]\n",
    "\n",
    "\n",
    "\"\"\"UMPIRE\n",
    "U: given nums which represents the coints at each place\n",
    "    return the maximum that can be roobbed, but having follow constraits\n",
    "    - two adajadcent houses can't be robbed\n",
    "    - the houses form a circle\n",
    "        - so, can't both rob the first and the last place\n",
    "\n",
    "M: Do House Robber implementation twice\n",
    "    - 1st implementation: remove the first element from nums\n",
    "    - 2nd implementation: remove the last element from nums\n",
    "\n",
    "and return the maximum of both\n",
    "\n",
    "\"\"\"\n",
    "\n",
    "class Solution:\n",
    "    def rob(self, nums: List[int]) -> int:\n",
    "        dp1 = [0] * (len(nums)) # removed the first element\n",
    "        dp2 = [0] * (len(nums)) # removed the last element\n",
    "\n",
    "        num1 = nums[1:]\n",
    "        dp1[0] = num1[0]\n",
    "        dp1[1] = num1[1]\n",
    "\n",
    "        num2 = nums[:-1]\n",
    "        dp2[0] = num2[0]\n",
    "        dp2[1] = num1[1]\n",
    "\n",
    "        for i in range(len(nums) + 1):\n",
    "            dp1[i]= max(num1[i - 1] + dp1[i - 2], dp1[i - 1])\n",
    "            dp2[i] = max(num2[i - 1] + dp2[i - 2], dp2[i - 1])\n",
    "\n",
    "\n",
    "        return max(dp1[-1], dp2[-1])"
   ]
  },
  {
   "cell_type": "code",
   "execution_count": null,
   "metadata": {},
   "outputs": [],
   "source": []
  }
 ],
 "metadata": {
  "kernelspec": {
   "display_name": "Python 3",
   "language": "python",
   "name": "python3"
  },
  "language_info": {
   "codemirror_mode": {
    "name": "ipython",
    "version": 3
   },
   "file_extension": ".py",
   "mimetype": "text/x-python",
   "name": "python",
   "nbconvert_exporter": "python",
   "pygments_lexer": "ipython3",
   "version": "3.11.8"
  }
 },
 "nbformat": 4,
 "nbformat_minor": 2
}
