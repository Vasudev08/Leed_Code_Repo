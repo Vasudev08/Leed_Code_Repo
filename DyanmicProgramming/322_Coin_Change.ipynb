{
 "cells": [
  {
   "cell_type": "markdown",
   "metadata": {},
   "source": [
    "### 322. Coin Change - 3/14/2024"
   ]
  },
  {
   "cell_type": "code",
   "execution_count": null,
   "metadata": {},
   "outputs": [],
   "source": [
    "\"\"\"\n",
    "UMPIRE\n",
    "\n",
    "U: given a list of coints, return the minimum no. of coins required to \n",
    "reach the amount which is given to us\n",
    "\n",
    "M: dfs + Memo(I don't know how to use memoizatoin tho)\n",
    "P:\n",
    "1. define a dfs function where when amount equal to curSum \n",
    "    then we save the minimum coin by comparing curCount with res\n",
    "\n",
    "2. curretly I have problem with how to call the dfs function again\n",
    "as our answer might be 5 + 5 + 1 where coins = [1, 2, 5]\n",
    "and amount = 11\n",
    "\n",
    "NOTE: the above is good for understanding the problem that is through\n",
    "recursion tree, but this problem can be solved by using bottom-up \n",
    "approach by counting the minimum coins required to get an sum of\n",
    "1, 2, 3, 4, 5, 6, 7 till amount + 1 and storing it an hashmap known as\n",
    "dp\n",
    "\n",
    "NOTE: Here 1 + dp[a - c], the '1' essentially represents the \n",
    "current coin we are using and then checking if the remindar is in \n",
    "our hashmap and finally storing the minimum coin value in the hashap\n",
    "\n",
    "NOTE: while creating the hashmap we are using amount + 1 as the values\n",
    "for the all the elements because we need to find the minimum\n",
    "\"\"\"\n",
    "\n",
    "class Solution:\n",
    "    def coinChange(self, coins: List[int], amount: int) -> int:\n",
    "        dp = [amount + 1] * (amount + 1)\n",
    "        dp[0] = 0\n",
    "\n",
    "        for a in range(1, amount + 1):\n",
    "            for c in coins:\n",
    "                if a - c >= 0:\n",
    "                    dp[a] = min(dp[a], 1 + dp[a - c])\n",
    "\n",
    "        return dp[amount] if dp[amount] != amount + 1 else - 1"
   ]
  }
 ],
 "metadata": {
  "language_info": {
   "name": "python"
  }
 },
 "nbformat": 4,
 "nbformat_minor": 2
}
