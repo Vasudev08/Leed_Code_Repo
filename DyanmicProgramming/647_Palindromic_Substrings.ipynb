{
 "cells": [
  {
   "cell_type": "markdown",
   "metadata": {},
   "source": [
    "### 647. Palindromic Substrings - 3/13/2024"
   ]
  },
  {
   "cell_type": "code",
   "execution_count": null,
   "metadata": {},
   "outputs": [],
   "source": [
    "\"\"\"\n",
    "UMPIRE:\n",
    "NOTE This problem is very similar to the longest palindromic substring\n",
    "U: given a string and return the no. of palindromic substrings in it\n",
    "\n",
    "M: two pointers, check palindromic from the middle not from the ends\n",
    "    - for and while loop as well\n",
    "\n",
    "P:\n",
    "- we are using two pointers to check for palindromic substring at\n",
    "    each character. which can be accmplished by using for loop\n",
    "- we have to take care of odd and even length palindrome and\n",
    "    record the no. of palindrome\n",
    "\n",
    "\n",
    "\"\"\"\n",
    "\n",
    "class Solution:\n",
    "    def countSubstrings(self, s: str) -> int:\n",
    "        res = 0\n",
    "        for i in range(len(s)):\n",
    "            l, r = i, i\n",
    "\n",
    "            while (l >= 0 and r < len(s) and s[l] == s[r]):\n",
    "                res += 1\n",
    "                l -= 1\n",
    "                r += 1\n",
    "\n",
    "            l, r = i, i + 1\n",
    "\n",
    "            while (l >= 0 and r < len(s) and s[l] == s[r]):\n",
    "                res += 1\n",
    "                l -= 1\n",
    "                r += 1\n",
    "\n",
    "        return res\n",
    "\n",
    "\n"
   ]
  }
 ],
 "metadata": {
  "language_info": {
   "name": "python"
  }
 },
 "nbformat": 4,
 "nbformat_minor": 2
}
