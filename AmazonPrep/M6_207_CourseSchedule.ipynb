{
 "cells": [
  {
   "cell_type": "markdown",
   "id": "cb8e017f",
   "metadata": {},
   "source": [
    "### Mock Interview"
   ]
  },
  {
   "cell_type": "code",
   "execution_count": null,
   "metadata": {},
   "outputs": [],
   "source": [
    "\"\"\"\n",
    "UMPIRE\n",
    "\n",
    "U: our main job is to retun true or false, True when all the courese can be taken and no cycle in present in the prerequisities\n",
    "    False when we can't take all the classes\n",
    "\n",
    "M: Dctionary, outgoing edge count, while loop or for loop\n",
    "\n",
    "P:\n",
    "\n",
    "- Create a adjacentyList for outgoinging edges [1, 0] (1 --> 0) \n",
    "- creat a outgoing edge count for each course\n",
    "- using que, append all the courese with zero outgoing edges\n",
    "- using que, update outgoing edge count and use adjanceytlist here\n",
    "- also at the same time, maintain a processCoures count \n",
    "- And if processedCount == numCourses\n",
    "- Return True\n",
    "\n",
    "I: BELOW\n",
    "\n",
    "R: Running O(M + N) and Space O(M + N), \n",
    "\n",
    "\n",
    "\n",
    "\n",
    "\"\"\"\n",
    "\n",
    "class Solution:\n",
    "    def canFinish(self, numCourses: int, prerequisites: List[List[int]]) -> bool:\n",
    "        # AdajcyList\n",
    "        adj = defaultdict([])\n",
    "        # outEdgesCount = defaultdict(int)\n",
    "        in_degree = [0] * numCourses\n",
    "\n",
    "        for crs, pre in prerequisites:\n",
    "            adj[pre].append(crs) # edge: prereq -> course\n",
    "            in_degree[crs] += 1\n",
    "            # outEdgesCount[crs] += 1\n",
    "\n",
    "        # Que having course with no outoing edge\n",
    "        que = deque([])\n",
    "        for i in range(numCourses):\n",
    "            if in_degree[i] == 0:\n",
    "                que.append(i)\n",
    "\n",
    "        proCourses = 0\n",
    "        while que:\n",
    "            curCourse = que.popleft()\n",
    "            proCourses += 1\n",
    "\n",
    "\n",
    "            for nei in adj[curCourse]:\n",
    "                in_degree[nei] -= 1\n",
    "\n",
    "                if in_degree[nei] == 0:\n",
    "                    que.append(nei)\n",
    "\n",
    "        if proCourses == numCourses:\n",
    "            return True\n",
    "\n",
    "        return False\n",
    "\n",
    "                \n",
    "\n",
    "        \n",
    "\n"
   ]
  },
  {
   "cell_type": "markdown",
   "id": "95c5e1ec",
   "metadata": {},
   "source": [
    "### Practice "
   ]
  }
 ],
 "metadata": {
  "kernelspec": {
   "display_name": "Python 3",
   "language": "python",
   "name": "python3"
  },
  "language_info": {
   "name": "python",
   "version": "3.11.9"
  }
 },
 "nbformat": 4,
 "nbformat_minor": 5
}
