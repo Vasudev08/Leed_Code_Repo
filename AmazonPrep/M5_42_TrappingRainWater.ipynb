{
 "cells": [
  {
   "cell_type": "markdown",
   "id": "cb8e017f",
   "metadata": {},
   "source": [
    "### Mock Interview"
   ]
  },
  {
   "cell_type": "code",
   "execution_count": null,
   "id": "b2ddf2ee",
   "metadata": {},
   "outputs": [],
   "source": [
    "# Was able to get to the fact "
   ]
  },
  {
   "cell_type": "markdown",
   "id": "95c5e1ec",
   "metadata": {},
   "source": [
    "### Practice "
   ]
  },
  {
   "cell_type": "markdown",
   "id": "29f95be9",
   "metadata": {},
   "source": [
    "### Few this remember\n",
    "- when comparing left and right, only move the smaller height\n",
    "    - WHY THO\n",
    "        - Cuz, the smaller height dictates whether or not we can store water\n",
    "- Update the leftMax and update the trap water\n",
    "    - there will be only an update in the trap water, when leftMax > curHeight\n",
    "    "
   ]
  },
  {
   "cell_type": "code",
   "execution_count": null,
   "id": "e02c5dd4",
   "metadata": {},
   "outputs": [],
   "source": [
    "class Solution:\n",
    "    def trap(self, height: List[int]) -> int:\n",
    "        \n",
    "        res = 0\n",
    "        l = 0\n",
    "        r = len(height) - 1\n",
    "\n",
    "        maxLeft = height[0]\n",
    "        maxRight = height[-1]\n",
    "\n",
    "\n",
    "        while (l < r):\n",
    "            if maxLeft < maxRight:\n",
    "                l += 1\n",
    "                maxLeft =max(maxLeft, height[l])\n",
    "                res += maxLeft - height[l]\n",
    "\n",
    "            else:\n",
    "                r -= 1\n",
    "                maxRight = max(maxRight, height[r])\n",
    "                res += maxRight - height[r]\n",
    "\n",
    "        return res\n",
    "\n"
   ]
  }
 ],
 "metadata": {
  "language_info": {
   "name": "python"
  }
 },
 "nbformat": 4,
 "nbformat_minor": 5
}
