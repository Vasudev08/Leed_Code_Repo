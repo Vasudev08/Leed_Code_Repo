{
 "cells": [
  {
   "cell_type": "markdown",
   "id": "cb8e017f",
   "metadata": {},
   "source": [
    "### Mock Interview"
   ]
  },
  {
   "cell_type": "code",
   "execution_count": null,
   "id": "60c755fe",
   "metadata": {},
   "outputs": [],
   "source": [
    "# UMPIRE\n",
    "\n",
    "\"\"\"\n",
    "U: We are given k linked_list called \"lists\", where each linked-list is sorted in ascending order\n",
    "our job is to return a single linked list which is sorted\n",
    "\n",
    "M: we will use MinHeap to solve this problem\n",
    "\n",
    "P:\n",
    "- 1. traverse all the linked list and add elements into a minHeap\n",
    "- 2. using the minHeap, pop elements from it and construct a new linkedList\n",
    "\n",
    "Assumping: no negative numbers\n",
    "\n",
    "Learn: the time complexty of minHeap and how to implement minHeap syntax\n",
    "Running time of pushing and popping into the heap is\n",
    "O(n log n)\n",
    "\"\"\"\n",
    "\n",
    "# Definition for singly-linked list.\n",
    "class ListNode:\n",
    "    def __init__(self, val=0, next=None):\n",
    "        self.val = val\n",
    "        self.next = next\n",
    "\n",
    "class Solution:\n",
    "    def mergeKLists(self, lists: List[Optional[ListNode]]) -> Optional[ListNode]:\n",
    "\n",
    "        heap = []\n",
    "        elemCount = 0\n",
    "        \n",
    "        res = ListNode()\n",
    "        resHead = res\n",
    "\n",
    "        for head in lists:\n",
    "            cur = head\n",
    "            while cur:\n",
    "                heapq.heappush(heap, cur.val)\n",
    "                cur = cur.next\n",
    "                elemCount += 1\n",
    "\n",
    "        while heap:\n",
    "            val = heaq.heappop(heap)\n",
    "            res.next = ListNode(val)\n",
    "            res = res.next\n",
    "\n",
    "\n",
    "        return resHead.next\n",
    "\n",
    "\n",
    "\n",
    "        \n",
    "\n",
    "        \n",
    "\n",
    "\n",
    "\n"
   ]
  },
  {
   "cell_type": "markdown",
   "id": "95c5e1ec",
   "metadata": {},
   "source": [
    "### Practice "
   ]
  }
 ],
 "metadata": {
  "language_info": {
   "name": "python"
  }
 },
 "nbformat": 4,
 "nbformat_minor": 5
}
