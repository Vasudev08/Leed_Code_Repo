{
 "cells": [
  {
   "cell_type": "markdown",
   "id": "cb8e017f",
   "metadata": {},
   "source": [
    "### Mock Interview"
   ]
  },
  {
   "cell_type": "code",
   "execution_count": null,
   "id": "9b5ce494",
   "metadata": {},
   "outputs": [
    {
     "ename": "NameError",
     "evalue": "name 'List' is not defined",
     "output_type": "error",
     "traceback": [
      "\u001b[1;31m---------------------------------------------------------------------------\u001b[0m",
      "\u001b[1;31mNameError\u001b[0m                                 Traceback (most recent call last)",
      "Cell \u001b[1;32mIn[1], line 25\u001b[0m\n\u001b[0;32m      1\u001b[0m \u001b[38;5;124;03m\"\"\"\u001b[39;00m\n\u001b[0;32m      2\u001b[0m \u001b[38;5;124;03mUMPIRE\u001b[39;00m\n\u001b[0;32m      3\u001b[0m \n\u001b[1;32m   (...)\u001b[0m\n\u001b[0;32m     22\u001b[0m \n\u001b[0;32m     23\u001b[0m \u001b[38;5;124;03m\"\"\"\u001b[39;00m\n\u001b[1;32m---> 25\u001b[0m \u001b[38;5;28;43;01mclass\u001b[39;49;00m\u001b[43m \u001b[49m\u001b[38;5;21;43;01mSolution\u001b[39;49;00m\u001b[43m:\u001b[49m\n\u001b[0;32m     26\u001b[0m \u001b[43m    \u001b[49m\u001b[38;5;28;43;01mdef\u001b[39;49;00m\u001b[43m \u001b[49m\u001b[38;5;21;43mfindOrder\u001b[39;49m\u001b[43m(\u001b[49m\u001b[38;5;28;43mself\u001b[39;49m\u001b[43m,\u001b[49m\u001b[43m \u001b[49m\u001b[43mnumCourses\u001b[49m\u001b[43m:\u001b[49m\u001b[43m \u001b[49m\u001b[38;5;28;43mint\u001b[39;49m\u001b[43m,\u001b[49m\u001b[43m \u001b[49m\u001b[43mprerequisites\u001b[49m\u001b[43m:\u001b[49m\u001b[43m \u001b[49m\u001b[43mList\u001b[49m\u001b[43m[\u001b[49m\u001b[43mList\u001b[49m\u001b[43m[\u001b[49m\u001b[38;5;28;43mint\u001b[39;49m\u001b[43m]\u001b[49m\u001b[43m]\u001b[49m\u001b[43m)\u001b[49m\u001b[43m \u001b[49m\u001b[38;5;241;43m-\u001b[39;49m\u001b[38;5;241;43m>\u001b[39;49m\u001b[43m \u001b[49m\u001b[43mList\u001b[49m\u001b[43m[\u001b[49m\u001b[38;5;28;43mint\u001b[39;49m\u001b[43m]\u001b[49m\u001b[43m:\u001b[49m\n\u001b[0;32m     27\u001b[0m \u001b[43m        \u001b[49m\u001b[43madajList\u001b[49m\u001b[43m \u001b[49m\u001b[38;5;241;43m=\u001b[39;49m\u001b[43m \u001b[49m\u001b[43mdefaultdict\u001b[49m\u001b[43m(\u001b[49m\u001b[43m[\u001b[49m\u001b[43m]\u001b[49m\u001b[43m)\u001b[49m\n",
      "Cell \u001b[1;32mIn[1], line 26\u001b[0m, in \u001b[0;36mSolution\u001b[1;34m()\u001b[0m\n\u001b[0;32m     25\u001b[0m \u001b[38;5;28;01mclass\u001b[39;00m \u001b[38;5;21;01mSolution\u001b[39;00m:\n\u001b[1;32m---> 26\u001b[0m     \u001b[38;5;28;01mdef\u001b[39;00m \u001b[38;5;21mfindOrder\u001b[39m(\u001b[38;5;28mself\u001b[39m, numCourses: \u001b[38;5;28mint\u001b[39m, prerequisites: \u001b[43mList\u001b[49m[List[\u001b[38;5;28mint\u001b[39m]]) \u001b[38;5;241m-\u001b[39m\u001b[38;5;241m>\u001b[39m List[\u001b[38;5;28mint\u001b[39m]:\n\u001b[0;32m     27\u001b[0m         adajList \u001b[38;5;241m=\u001b[39m defaultdict([])\n\u001b[0;32m     28\u001b[0m         inDegree \u001b[38;5;241m=\u001b[39m [\u001b[38;5;241m0\u001b[39m] \u001b[38;5;241m*\u001b[39m numCourses\n",
      "\u001b[1;31mNameError\u001b[0m: name 'List' is not defined"
     ]
    }
   ],
   "source": [
    "\"\"\"\n",
    "UMPIRE\n",
    "\n",
    "U: \n",
    "- we have numCourses, and a list given to us called \"prerequisites\" where crs <- pre and indegree\n",
    "- there can be a example where an cycle might be present\n",
    "\n",
    "M: \n",
    "- Time Complexity => BFS O(edges + no. course ) => O(M + N)\n",
    "- Space Complexity => O (M + N)\n",
    "\n",
    "P:\n",
    "1. create a adancyList using defaultdict\n",
    "2. create a in-degree list, counting no. of incoming edges\n",
    "3. make a que, of courses with zero incoming edges\n",
    "4. using que, process all the courses and while popping make note of the order \n",
    "5. also record the no. of coursee poppped\n",
    "6. if courses popped == numCourses then return the order of popping those courses\n",
    "7. else return False\n",
    "\n",
    "I:\n",
    "\n",
    "\n",
    "\n",
    "\"\"\"\n",
    "\n",
    "class Solution:\n",
    "    def findOrder(self, numCourses: int, prerequisites: List[List[int]]) -> List[int]:\n",
    "        adajList = defaultdict([])\n",
    "        inDegree = [0] * numCourses\n",
    "\n",
    "        for crs, pre in prerequisites:\n",
    "            adajList[pre].append(crs)\n",
    "            inDegree[crs] += 1\n",
    "\n",
    "        que = deque([])\n",
    "        for i in numCourses:\n",
    "            if inDegree[i] == 0:\n",
    "                que.append(i)\n",
    "\n",
    "        resOrder = []\n",
    "        poppedCrs = 0\n",
    "        \n",
    "        while que:\n",
    "            curCrs = que.popleft()\n",
    "            resOrder.append(curCrs)\n",
    "            poppedCrs += 1\n",
    "\n",
    "            for nei in adajList[curCrs]:\n",
    "                inDegree[nei] -= 1\n",
    "\n",
    "                if inDegree[nei] == 0:\n",
    "                    que.append(nei)\n",
    "\n",
    "        if numCourses == poppedCrs:\n",
    "            return resOrder\n",
    "\n",
    "        return \"\"\n",
    "\n",
    "\n"
   ]
  },
  {
   "cell_type": "markdown",
   "id": "95c5e1ec",
   "metadata": {},
   "source": [
    "### Practice "
   ]
  }
 ],
 "metadata": {
  "kernelspec": {
   "display_name": "Python 3",
   "language": "python",
   "name": "python3"
  },
  "language_info": {
   "codemirror_mode": {
    "name": "ipython",
    "version": 3
   },
   "file_extension": ".py",
   "mimetype": "text/x-python",
   "name": "python",
   "nbconvert_exporter": "python",
   "pygments_lexer": "ipython3",
   "version": "3.11.9"
  }
 },
 "nbformat": 4,
 "nbformat_minor": 5
}
