{
 "cells": [
  {
   "cell_type": "markdown",
   "id": "cb8e017f",
   "metadata": {},
   "source": [
    "### Mock Interview"
   ]
  },
  {
   "cell_type": "code",
   "execution_count": null,
   "id": "e8d1d385",
   "metadata": {},
   "outputs": [],
   "source": [
    "# UMPIRE\n",
    "\n",
    "# U\n",
    "# 200. Number of Islands\n",
    "# We are given a grid of 1's and 0's representing land and water respectively\n",
    "# our job is to return no. of islands in the grid\n",
    "\n",
    "# M:\n",
    "#  DFS time-complexity O(m * n), space-complexit - O(1) \n",
    "\n",
    "# P:\n",
    "# 1. Have a main for loop, which calls the dfs helper funciton\n",
    "# 2. In the dfs helper function, we have are to going to take\n",
    "    #- cells which has '1' and use dfs traversal to completey traverse \n",
    "    # the island and at the same time marking them as visted by replace it by '0'\n",
    "\n",
    "class Solution:\n",
    "    def numIslands(self, grid: List[List[str]]) -> int:\n",
    "\n",
    "        rows = len(grid)\n",
    "        cols = len(grid[0])\n",
    "\n",
    "        def dfs(row, col):\n",
    "            if row < 0 or row >= rows or col < 0 or col >= cols or grid[row][col] == \"0\":\n",
    "                return\n",
    "            \n",
    "            grid[row][col] = \"0\"\n",
    "\n",
    "            dfs(row + 1, col)\n",
    "            dfs(row - 1, col)\n",
    "            dfs(row, col + 1)\n",
    "            dfs(row, col - 1)\n",
    "\n",
    "\n",
    "        islandCount = 0\n",
    "\n",
    "        for r in range(rows):\n",
    "            for c in range(cols):\n",
    "                if grid[r][c] == \"1\":\n",
    "                    dfs(r, c)\n",
    "                    islandCount += 1\n",
    "\n",
    "        return islandCount"
   ]
  },
  {
   "cell_type": "markdown",
   "id": "95c5e1ec",
   "metadata": {},
   "source": [
    "### Practice "
   ]
  }
 ],
 "metadata": {
  "language_info": {
   "name": "python"
  }
 },
 "nbformat": 4,
 "nbformat_minor": 5
}
