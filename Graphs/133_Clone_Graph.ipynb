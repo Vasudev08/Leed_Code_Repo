{
 "cells": [
  {
   "cell_type": "markdown",
   "metadata": {},
   "source": [
    "### 133. Clone Graph - 3/1/2024"
   ]
  },
  {
   "cell_type": "code",
   "execution_count": null,
   "metadata": {},
   "outputs": [],
   "source": [
    "\"\"\"\n",
    "UMPIRE\n",
    "U: We are to clone a given graph\n",
    "M: dfs + hashMap\n",
    "I don't get this question at all\n",
    "I don't know why\n",
    "\n",
    "\"\"\"\n",
    "\n",
    "class Solution:\n",
    "    def cloneGraph(self, node: Optional['Node']) -> Optional['Node']:\n",
    "        oldToNew = {}\n",
    "\n",
    "        def dfs(node):\n",
    "            if node in oldToNew:\n",
    "                return oldToNew[node]\n",
    "            \n",
    "            copy = Node(node.val)\n",
    "            oldToNew[node] = copy\n",
    "            for nei in node.neighbors:\n",
    "                copy.neighbors.append(dfs(nei))\n",
    "            return copy\n",
    "        \n",
    "        return dfs(node) if node else None\n"
   ]
  },
  {
   "cell_type": "markdown",
   "metadata": {},
   "source": [
    "### 2nd Try"
   ]
  },
  {
   "cell_type": "markdown",
   "metadata": {},
   "source": [
    "## hello"
   ]
  }
 ],
 "metadata": {
  "language_info": {
   "name": "python"
  }
 },
 "nbformat": 4,
 "nbformat_minor": 2
}
