{
 "cells": [
  {
   "cell_type": "markdown",
   "metadata": {},
   "source": [
    "### 178. Graph Valid Tree - 3/5/2024"
   ]
  },
  {
   "cell_type": "code",
   "execution_count": null,
   "metadata": {},
   "outputs": [],
   "source": [
    "\"\"\"\n",
    "UMPIRE\n",
    "\n",
    "U: we are given n: no. of nodes\n",
    "edges : a list of edges between nodes\n",
    "Ouput: if it's an valid graph or not\n",
    "NOTE:\n",
    "    A Valid graph has the following properties:\n",
    "    - No loop/cycle\n",
    "        as in there no cycle in the graph, we can't return to the same node \n",
    "    - no. of visited node in the graph is equal to n\n",
    "        which tells us that we visited every node and no node is disconnected \n",
    "        from the tree\n",
    "\n",
    "M: dfs + adjacency List (i.e. HashMap)\n",
    "P: \n",
    "- Create a adacecy List and as the graph is undirected we need to \n",
    "    update both nodes's adacnecy list\n",
    "- create a dfs function to traverse the graph\n",
    "    - we check a loop/cycle by checking if the curNode is in visit set or not\n",
    "        Here the edge case ignore a curNode's parent by using prev \n",
    "        and if we encounter curNode.neighbor to be prev we continue traverseing\n",
    "        through the graph\n",
    "    - we check for all connected nodes by comparing visit set and 'n'\n",
    "\"\"\"\n",
    "\n",
    "\n",
    "class Solution:\n",
    "    def validTree(self, n: int, edges: List[List[int]]):\n",
    "        if not n:\n",
    "            return True\n",
    "        adj = {i : [] for i in range(n)}\n",
    "\n",
    "        visit = set()\n",
    "\n",
    "        for n1, n2 in edges:\n",
    "            adj[n1].append(n2)\n",
    "            adj[n2].append(n1)\n",
    "\n",
    "        def dfs(i, prev):\n",
    "            if i in visit:\n",
    "                return False\n",
    "            \n",
    "            visit.add(i)\n",
    "            for j in adj[i]:\n",
    "                if j == prev:\n",
    "                    continue\n",
    "                if not dfs(j, i):\n",
    "                    return False\n",
    "                \n",
    "            return True\n",
    "        \n",
    "        return dfs(0, -1) and len(visit) == n"
   ]
  },
  {
   "cell_type": "code",
   "execution_count": null,
   "metadata": {},
   "outputs": [],
   "source": []
  }
 ],
 "metadata": {
  "language_info": {
   "name": "python"
  }
 },
 "nbformat": 4,
 "nbformat_minor": 2
}
