{
 "cells": [
  {
   "cell_type": "markdown",
   "metadata": {},
   "source": [
    "### 200. Number of Islands - 3/1/2024"
   ]
  },
  {
   "cell_type": "code",
   "execution_count": null,
   "metadata": {},
   "outputs": [],
   "source": [
    "\"\"\"\n",
    "In the below implementatoin visited set is missing \n",
    "which leads to infinte recursion depth as every cells will have 4 dfs calls\n",
    "and without a visited_set the algo will keep going-on\n",
    "so add a visisted_set\n",
    "\"\"\"\n",
    "\n",
    "class Solution:\n",
    "    def numIslands(self, grid: List[List[str]]) -> int:\n",
    "        res = 0\n",
    "        visited = set()\n",
    "\n",
    "        def dfs(r, c):\n",
    "            if r < 0 or c < 0 or r >= rows or c >= cols or grid[r][c] == \"0\" or ((r, c) in visited):\n",
    "                return\n",
    "\n",
    "            visited.add((r, c))\n",
    "            \n",
    "            grid[r][c] = 0\n",
    "            dfs(r + 1, c)\n",
    "            dfs(r - 1, c)\n",
    "            dfs(r, c + 1)\n",
    "            dfs(r, c - 1)\n",
    "\n",
    "\n",
    "        rows = len(grid)\n",
    "        cols = len(grid[0])\n",
    "\n",
    "        for i in range(rows):\n",
    "            for j in range(cols):\n",
    "                if grid[i][j] == \"1\":\n",
    "                    res += 1\n",
    "                    dfs(i, j)\n",
    "\n",
    "        return res\n",
    "\n",
    "        "
   ]
  },
  {
   "cell_type": "code",
   "execution_count": null,
   "metadata": {},
   "outputs": [],
   "source": [
    "\"\"\"\n",
    "UMPIRE\n",
    "U: given a 2D binary grid, return the number of island in that binary grid\n",
    "    - 1: represents a land\n",
    "    - 0: represents water\n",
    "M: dfs + two for loops + visisted_set -> by converting 1's to 0's\n",
    "P:\n",
    "    - create a global variable numIland\n",
    "    - Find the first instance of 1 (also increment the count of numIland and call a dfs function which \n",
    "        goes through the 2D binary grid, and convert the connected 1's to 0's\n",
    "        marking them as visited in a way.\n",
    "        - dfs function will take i , j\n",
    "            - if 0, return \n",
    "            - if 1, call dfs in 4 another direction and replace 1 with 0\n",
    "    - repeat the above process and return the global variable\n",
    "\"\"\"\n",
    "\n",
    "class Solution:\n",
    "    def numIslands(self, grid: List[List[str]]) -> int:\n",
    "        res = 0\n",
    "\n",
    "        def dfs(r, c):\n",
    "            if r < 0 or c < 0 or r >= rows or c >= cols or grid[r][c] == \"0\":\n",
    "                return\n",
    "            \n",
    "            grid[r][c] = 0\n",
    "            dfs(r + 1, c)\n",
    "            dfs(r - 1, c)\n",
    "            dfs(r, c + 1)\n",
    "            dfs(r, c - 1)\n",
    "\n",
    "\n",
    "        rows = len(grid)\n",
    "        cols = len(grid[0])\n",
    "\n",
    "        for i in range(rows):\n",
    "            for j in range(cols):\n",
    "                if grid[i][j] == \"1\":\n",
    "                    res += 1\n",
    "                    dfs(i, j)"
   ]
  },
  {
   "cell_type": "code",
   "execution_count": null,
   "metadata": {},
   "outputs": [],
   "source": []
  }
 ],
 "metadata": {
  "language_info": {
   "name": "python"
  }
 },
 "nbformat": 4,
 "nbformat_minor": 2
}
