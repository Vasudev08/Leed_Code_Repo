{
 "cells": [
  {
   "cell_type": "markdown",
   "metadata": {},
   "source": [
    "### 57. Insert Interval - 3/20/2024"
   ]
  },
  {
   "cell_type": "code",
   "execution_count": null,
   "metadata": {},
   "outputs": [],
   "source": [
    "\"\"\"\n",
    "UMPIRE: \n",
    "U: we are given intervals and new intervals, \n",
    "we are to insert new interval into a interval and return the \n",
    "combined interval\n",
    "\n",
    "M: I don't have an idea on how to do this problem as all.\n",
    "\n",
    "NOTE newInterval = [i, j], length is going always going to be 2\n",
    "1st step: find the apprioate interval to insert the new interval \n",
    "2nd step: check if the newInterval j element is bigger than or smaller \n",
    "        than the approate interval upperbound\n",
    "        - if lower then keep the original interval as it is\n",
    "        - if higher then check if it's less than the nextelmenet i element\n",
    "            if so create a new resInterval\n",
    "            basically we are finding an upper bound for our current interval/\n",
    "            the apprioate interval\n",
    "\n",
    "\n",
    "I'm thinking for using 'for' where we traverse the interval\n",
    "- at every interval we check if newInterval-i element becomes in that interval\n",
    "    - if so, we add a resInterval with lower bound from the 'for' loop\n",
    "    - now the task becomes to find upper bound for our resInterval\n",
    "        - we check if curInterval upper bound is more than newInterval upper bound\n",
    "            if so, curInterval upper bound is the upper bound of resInterval\n",
    "            if not, found the apprioate upper bound\n",
    "\n",
    "\"\"\"\n",
    "# NOTE it's smarter to edit the newInterval bounds and use it as a tmp hold\n",
    "# NOTE: as the intervals are increasing and if newInterval upperbound is lower than\n",
    "# the curElement lowerbound then, there's no use in checking for the rest of the array\n",
    "class Solution:\n",
    "    def insert(self, intervals: List[List[int]], newInterval: List[int]) -> List[List[int]]:\n",
    "        res = []\n",
    "\n",
    "\n",
    "        for i in range(len(intervals)):\n",
    "            # Check if the newInterval comes before current interval\n",
    "            if newInterval[1] < intervals[i][0]:\n",
    "                res.append(newInterval)\n",
    "                return res + intervals[i:]\n",
    "            # Check if the newInterval comes after current interval\n",
    "            elif newInterval[0] > intervals[i][1]:\n",
    "                res.append(intervals[i])\n",
    "            # There is an Overlap\n",
    "            else:\n",
    "                newInterval = [min(newInterval[0], intervals[i][0]),\n",
    "                               max(newInterval[1], intervals[i][1])]\n",
    "            \n",
    "        res.append(newInterval)\n",
    "        return res\n",
    "            \n"
   ]
  }
 ],
 "metadata": {
  "language_info": {
   "name": "python"
  }
 },
 "nbformat": 4,
 "nbformat_minor": 2
}
