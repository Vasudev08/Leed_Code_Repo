{
 "cells": [
  {
   "cell_type": "markdown",
   "metadata": {},
   "source": [
    "### 56. Merge Intervals - 3/21/2024"
   ]
  },
  {
   "cell_type": "code",
   "execution_count": null,
   "metadata": {},
   "outputs": [],
   "source": [
    "\"\"\"\n",
    "2nd Try\n",
    "\"\"\"\n",
    "\n",
    "class Solution:\n",
    "    def merge(self, intervals: List[List[int]]) -> List[List[int]]:\n",
    "        intervals = sorted(intervals, key=lambda x: x[0])\n",
    "\n",
    "        res = [intervals[0]]\n",
    "\n",
    "        for i, j in intervals[1:]:\n",
    "            resEnd = res[-1][1]\n",
    "\n",
    "            if i <= resEnd: #Overlap exists\n",
    "                res[-1][1] = max(resEnd, j)\n",
    "            else:\n",
    "                res.append([i, j])\n",
    "\n",
    "        return res\n",
    "\n"
   ]
  },
  {
   "cell_type": "code",
   "execution_count": null,
   "metadata": {},
   "outputs": [],
   "source": [
    "\"\"\"\n",
    "UMPIRE\n",
    "\n",
    "U: given a list of intervals, return an array of the non-overlapping intervals\n",
    "M: for loops\n",
    "\n",
    "NOTE Doesn't say sorted or not\n",
    "\n",
    "NOTE this question is very similar to 57. Insert Interval\n",
    "    in Insert Interval questions we were given a seperate newInterval to be inserted\n",
    "    and in the implementation we modified the newInterval\n",
    "Changes in this questions: multiple intervals can overlap with each other\n",
    "and I was thinking of taking the first interval as our newInterval and inserting it\n",
    "\n",
    "P. \n",
    "0. Sort the array according to the lowerbound\n",
    "1. consider the first element be an newInterval which has to be inserted into \n",
    "the intervals array\n",
    "2. to insert an interval into an array we have to check for three points\n",
    "    - check if the newInterval comes before the currentInterval\n",
    "    - check if the newInterval comes after the currentInterval\n",
    "    - There is an overlapp, in which case for lower bound we take the \n",
    "        min of currentInterval and newInterval lowerbound and \n",
    "        take max of currentInterval and newInterval upperbound\n",
    "        add the modifiedInterval into the res array\n",
    "\n",
    "3. don't forget to add the last remining modifiedInterval \n",
    "    this might happen because we might have reached the last element\n",
    "    in the for loop, and if we modified an interval we need to append it\n",
    "    into res array as we're not going into the for loop, where the append \n",
    "    statements exists\n",
    "\n",
    "4. return res\n",
    "\"\"\"\n",
    "\n",
    "class Solution:\n",
    "    def merge(self, intervals: List[List[int]]) -> List[List[int]]:\n",
    "        newInterval = intervals[0]\n",
    "        res = []\n",
    "\n",
    "        for i in range(1, len(intervals)):\n",
    "            if newInterval[1] < intervals[i][0]:\n",
    "                res.append(newInterval)\n",
    "                return res + intervals[i:]\n",
    "            elif newInterval[0] > intervals[i][1]:\n",
    "                res.append(intervals[i])\n",
    "            else: # Overlap exits\n",
    "               newInterval = [min(newInterval[0], intervals[i][0]),\n",
    "                            max(newInterval[1], intervals[i][1])]\n",
    "                \n",
    "        res.append(newInterval)\n",
    "\n",
    "        return res"
   ]
  }
 ],
 "metadata": {
  "language_info": {
   "name": "python"
  }
 },
 "nbformat": 4,
 "nbformat_minor": 2
}
