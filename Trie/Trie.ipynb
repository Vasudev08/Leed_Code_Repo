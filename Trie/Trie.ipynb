{
 "cells": [
  {
   "cell_type": "code",
   "execution_count": null,
   "metadata": {},
   "outputs": [],
   "source": [
    "\"\"\"\n",
    "it's an tree\n",
    "\n",
    "Node {\n",
    "    map<character, Node> childrens\n",
    "    boolean isWord\n",
    "}\n",
    "it's an dictionary inside dictionary, \n",
    "where the 'key' is the character\n",
    "and 'value' is list of children Nodes\n",
    "Where each children Nodes has it's own dictionary\n",
    "it's like dictionary inside dictionary \n",
    "\n",
    "[car, ]\n",
    "\n",
    "root -> c   \n",
    "\n",
    "        c - > a\n",
    "                a -> r\n",
    "\"\"\""
   ]
  }
 ],
 "metadata": {
  "language_info": {
   "name": "python"
  }
 },
 "nbformat": 4,
 "nbformat_minor": 2
}
