{
 "cells": [
  {
   "cell_type": "markdown",
   "metadata": {},
   "source": [
    "### 208. Implement Trie (Prefix Tree) - 2/22/2024"
   ]
  },
  {
   "cell_type": "code",
   "execution_count": null,
   "metadata": {},
   "outputs": [],
   "source": [
    "\"\"\"\n",
    "UMPIRE: We making a Trie\n",
    "\n",
    "\"\"\"\n",
    "\n",
    "class TrieNode:\n",
    "    def __init__(self) -> None:\n",
    "        self.children = {}\n",
    "        self.endOfWord = False\n",
    "\n",
    "class Trie:\n",
    "\n",
    "    def __init__(self):\n",
    "        self.root = TrieNode()\n",
    "        \n",
    "\n",
    "    def insert(self, word: str) -> None:\n",
    "        cur = self.root\n",
    "\n",
    "        for c in word:\n",
    "            if c not in cur.children:\n",
    "                cur.children[c] = TrieNode()\n",
    "\n",
    "            cur = cur.children[c]\n",
    "\n",
    "        cur.endOfWord = True\n",
    "        \n",
    "\n",
    "    def search(self, word: str) -> bool:\n",
    "        cur = self.root\n",
    "        for c in word:\n",
    "            if c not in cur.children:\n",
    "                return False\n",
    "            \n",
    "            cur = cur.children[c]\n",
    "\n",
    "        if cur.endOfWord:\n",
    "            return True\n",
    "        \n",
    "        return False\n",
    "        \n",
    "\n",
    "    def startsWith(self, prefix: str) -> bool:\n",
    "        cur = self.root\n",
    "\n",
    "        for c in prefix:\n",
    "            if c not in cur.children:\n",
    "                return False\n",
    "            \n",
    "            cur = cur.children[c]\n",
    "\n",
    "        return True\n",
    "        \n",
    "\n",
    "\n",
    "# Your Trie object will be instantiated and called as such:\n",
    "# obj = Trie()\n",
    "# obj.insert(word)\n",
    "# param_2 = obj.search(word)\n",
    "# param_3 = obj.startsWith(prefix)"
   ]
  }
 ],
 "metadata": {
  "language_info": {
   "name": "python"
  }
 },
 "nbformat": 4,
 "nbformat_minor": 2
}
