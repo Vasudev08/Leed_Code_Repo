{
 "cells": [
  {
   "cell_type": "markdown",
   "metadata": {},
   "source": [
    "### 217. Contains Duplicate\n"
   ]
  },
  {
   "cell_type": "markdown",
   "metadata": {},
   "source": [
    "# Set()\n",
    "- O(1) run-time for add - set().add(n)\n",
    "- O(1) serach-time for add - for n in nums\n"
   ]
  },
  {
   "cell_type": "code",
   "execution_count": null,
   "metadata": {},
   "outputs": [],
   "source": [
    "# 2/4/2024 ---------------- TRY 1-----------------------------------------------------------\n",
    "# UMIPRE\n",
    "\n",
    "# U: we are given an array, return the weather it contains an duplicate element or not\n",
    "# M: Hashmap, or use set\n",
    "# P: Using set we can store the elements which we encountered during the travserval \n",
    "# and if it's inside the set() then return False else return true\n",
    "\n",
    "\"\"\"\n",
    "We are using Set() because insert and checking if an element is inside the array is O(1) running time\n",
    "\"\"\"\n",
    "\n",
    "class Solution:\n",
    "    def containsDuplicate(self, nums: List[int]) -> bool:\n",
    "        res = set()\n",
    "\n",
    "        for n in nums:\n",
    "            if n in res:\n",
    "                return False\n",
    "            res.add(n)\n",
    "\n",
    "        return True\n",
    "\n"
   ]
  }
 ],
 "metadata": {
  "language_info": {
   "name": "python"
  }
 },
 "nbformat": 4,
 "nbformat_minor": 2
}
