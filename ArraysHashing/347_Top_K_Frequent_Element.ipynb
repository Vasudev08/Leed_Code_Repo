{
 "cells": [
  {
   "cell_type": "markdown",
   "metadata": {},
   "source": [
    "### Top K Frequent Elements - 2/5/2024"
   ]
  },
  {
   "cell_type": "code",
   "execution_count": null,
   "metadata": {},
   "outputs": [],
   "source": [
    "\"\"\"\n",
    "UMPIRE:\n",
    "U: given a list of nums and return k top frequent elements\n",
    "M: hashing,sorting \n",
    "P: \n",
    "1. Count the occurence of each n in nums and hash it\n",
    "2. sort the hash on the values of the dictionary\n",
    "3. and extract the k most frequent elements from the dictionary\n",
    "\n",
    "the above plan doesnt' work at all\n",
    "\n",
    "2nd PLAN\n",
    "1. Record the occurence of each value in the nums list; keys: num, values: occruence\n",
    "\n",
    "2. Create a new dictionary and reverse the order of the keys and values\n",
    "3. at the same time store the no. occurence in a list\n",
    "4. sort the no. occurence list\n",
    "4. using element from the above list, create a res list having origin nums \n",
    "- and we get the original number by using hashmap\n",
    "\n",
    "NOTE: an occurence might have one or more nums\n",
    "i.e 3 : [8, 9] --> both num 8 and num 9 occured 3 times.\n",
    "\"\"\"\n",
    "\n",
    "class Solution:\n",
    "    def topKFrequent(self, nums: List[int], k: int) -> List[int]:\n",
    "        res = {}\n",
    "\n",
    "        for i in range(len(nums)):\n",
    "            if nums[i] in res:\n",
    "                nums[i] += 1\n",
    "            \n",
    "            res[nums[i]] = 1\n",
    "\n",
    "        \n",
    "\n",
    "\n",
    "\n"
   ]
  }
 ],
 "metadata": {
  "language_info": {
   "name": "python"
  }
 },
 "nbformat": 4,
 "nbformat_minor": 2
}
