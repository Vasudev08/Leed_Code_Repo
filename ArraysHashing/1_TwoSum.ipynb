{
 "cells": [
  {
   "cell_type": "markdown",
   "metadata": {},
   "source": [
    "### 1. Two Sum"
   ]
  },
  {
   "cell_type": "markdown",
   "metadata": {},
   "source": [
    "# In this solution we are creating the hashmap before we check for the reminder in the hashmap\n"
   ]
  },
  {
   "cell_type": "code",
   "execution_count": null,
   "metadata": {},
   "outputs": [],
   "source": [
    "\"\"\"\n",
    "UMPIRE\n",
    "U: given a int: num and int: target, return the indices of two numbers that add up to the target\n",
    "\n",
    "M: store the values and their indicies in a hashmap,\n",
    "- using for loop choose the first number and look if the reminder is in hashmap.keys()\n",
    "- if so, append both the indices or just return it\n",
    "- otherwise continue with the for loop\n",
    "\"\"\"\n",
    "\n",
    "class Solution:\n",
    "    def twoSum(self, nums: List[int], target: int) -> List[int]:\n",
    "        res = {}\n",
    "\n",
    "        # Hashing values and indices\n",
    "        for i in range(len(nums)):\n",
    "            res[nums[i]] = i\n",
    "\n",
    "\n",
    "        for i in range(len(nums)):\n",
    "            remin = target - nums[i]\n",
    "            if remin in res.keys():\n",
    "                if i != res[remin]:\n",
    "                    return [i, res[remin]]\n",
    "\n",
    "        "
   ]
  },
  {
   "cell_type": "code",
   "execution_count": null,
   "metadata": {},
   "outputs": [],
   "source": [
    "\"\"\"we can create and check at the same time\n",
    " for example target = 7, nums = [2, 3, 5]\n",
    " res = [2, 5]\n",
    " Here we will encouner 2 first and as the hashmap is empty we will add to hashmap,\n",
    " and when we come across 5 at the end, we will remin = 2 in the hashmap and its index\n",
    "\n",
    " this is another way of implementating the above problem, much more nicer and more concise and readable\"\"\""
   ]
  }
 ],
 "metadata": {
  "language_info": {
   "name": "python"
  }
 },
 "nbformat": 4,
 "nbformat_minor": 2
}
